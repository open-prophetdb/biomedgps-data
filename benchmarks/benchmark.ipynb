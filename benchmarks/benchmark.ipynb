{
 "cells": [
  {
   "cell_type": "markdown",
   "id": "87f9189f-bbf3-413e-9920-d9a9413be836",
   "metadata": {},
   "source": [
    "# Benchmarking for different dataset and methods"
   ]
  },
  {
   "cell_type": "markdown",
   "id": "9801580e-6198-4b1a-a9b7-beb122f269dd",
   "metadata": {},
   "source": [
    "### Benchmark dataset description\n",
    "**Full-DTIs-LC-Benchmark**\n",
    "A benchmark dataset containing Drug-Target Interation (DTI) data of Lung Cancer (LC). This dataset avoided information that is only generated automatically, through text mining, and focused on most trustworthy sources, namely DrugBank, KEGG, DGIdb and TTD data. The union of DrugBank, KEGG, DGIdb and TTD provided 44,169 positive drug-gene interactions in total, with 1931 of those related on one side (drug) or the other (gene) to Lung Cancer (LC). As for the negative drug-gene pairs, there are 627,971 pairs, for which no interaction is reported in any of the above databases.\n",
    "\n",
    "- [Paper](https://bmcbioinformatics.biomedcentral.com/articles/10.1186/s12859-023-05373-2)\n",
    "- [Code](https://github.com/fotais/drug-gene-interactions/tree/main)\n",
    "- [Data](https://github.com/fotais/drug-gene-interactions/blob/main/Full-DTIs-LC-Benchmark.csv)\n",
    "\n",
    "*Disease: Lung cancer MESH:D008175*\n"
   ]
  },
  {
   "cell_type": "code",
   "execution_count": 1,
   "id": "0ea2fd09-a986-4da7-a97d-2da353afc0f6",
   "metadata": {},
   "outputs": [],
   "source": [
    "from benchmark import benchmark\n",
    "lc = benchmark()\n",
    "lc.add_dataset(\n",
    "    disease='D008175', \n",
    "    dataset='Full-DTIs-LC-Benchmark.csv',\n",
    "    activity_col=4,\n",
    "    header=True\n",
    ")"
   ]
  },
  {
   "cell_type": "code",
   "execution_count": 2,
   "id": "080b2c63-647a-483c-812b-8908a8b06f26",
   "metadata": {},
   "outputs": [
    {
     "data": {
      "text/plain": [
       "9687"
      ]
     },
     "execution_count": 2,
     "metadata": {},
     "output_type": "execute_result"
    }
   ],
   "source": [
    "lc.n_neg_relation"
   ]
  },
  {
   "cell_type": "code",
   "execution_count": 3,
   "id": "6ee7badf-cc03-4bc3-8dee-7a889cccfa87",
   "metadata": {},
   "outputs": [
    {
     "data": {
      "text/plain": [
       "{'MRR': {'func': <function benchmark_metrics.MRR(predicts: dict, positives: dict, negatives: dict)>,\n",
       "  'kwargs': {}},\n",
       " 'MRR1': {'func': <function benchmark_metrics.MRR(predicts: dict, positives: dict, negatives: dict)>,\n",
       "  'kwargs': {}}}"
      ]
     },
     "execution_count": 3,
     "metadata": {},
     "output_type": "execute_result"
    }
   ],
   "source": [
    "from benchmark_metrics import MRR\n",
    "lc.add_metric('MRR1', MRR)\n",
    "lc.metrics"
   ]
  },
  {
   "cell_type": "code",
   "execution_count": 4,
   "id": "1f2e4e13-ea31-4f01-b083-65f9c31d420c",
   "metadata": {},
   "outputs": [
    {
     "data": {
      "text/plain": [
       "{'MRR': None, 'MRR1': None}"
      ]
     },
     "execution_count": 4,
     "metadata": {},
     "output_type": "execute_result"
    }
   ],
   "source": [
    "lc.evaluate({})"
   ]
  },
  {
   "cell_type": "code",
   "execution_count": null,
   "id": "0f40cc3b-16fe-430e-b1f1-452499714012",
   "metadata": {},
   "outputs": [],
   "source": []
  }
 ],
 "metadata": {
  "kernelspec": {
   "display_name": "Python 3 (ipykernel)",
   "language": "python",
   "name": "python3"
  },
  "language_info": {
   "codemirror_mode": {
    "name": "ipython",
    "version": 3
   },
   "file_extension": ".py",
   "mimetype": "text/x-python",
   "name": "python",
   "nbconvert_exporter": "python",
   "pygments_lexer": "ipython3",
   "version": "3.11.5"
  }
 },
 "nbformat": 4,
 "nbformat_minor": 5
}
