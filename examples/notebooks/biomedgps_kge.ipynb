{
 "cells": [
  {
   "cell_type": "markdown",
   "metadata": {},
   "source": [
    "# BioMedGPS - Knowledge Graph Embedding"
   ]
  },
  {
   "cell_type": "markdown",
   "metadata": {},
   "source": [
    "## Install dependencies"
   ]
  },
  {
   "cell_type": "code",
   "execution_count": null,
   "metadata": {
    "vscode": {
     "languageId": "shellscript"
    }
   },
   "outputs": [],
   "source": [
    "%%bash\n",
    "# We assume you are using a conda environment\n",
    "# torchvision==0.14.0 & torch==1.13 only work with CUDA==1.16 or CUDA==1.17 and python==3.10\n",
    "mamba create -n biomedgps python==3.10"
   ]
  },
  {
   "cell_type": "code",
   "execution_count": null,
   "metadata": {
    "vscode": {
     "languageId": "shellscript"
    }
   },
   "outputs": [],
   "source": [
    "%%bash\n",
    "# If you have installed CUDA==1.16 or CUDA==1.17, you can use the following command to install torch==1.13\n",
    "# dglke is compatible with dgl==0.9.0 and dgl==0.9.0 only works with torch==1.13\n",
    "pip3 install torch==1.13 torchvision==0.14.0"
   ]
  },
  {
   "cell_type": "code",
   "execution_count": null,
   "metadata": {
    "vscode": {
     "languageId": "shellscript"
    }
   },
   "outputs": [],
   "source": [
    "%%bash\n",
    "pip install git+https://github.com/awslabs/dgl-ke.git#subdirectory=python && pip install ogb dgl==0.9.0"
   ]
  },
  {
   "cell_type": "markdown",
   "metadata": {},
   "source": [
    "## Prepare Data"
   ]
  },
  {
   "cell_type": "code",
   "execution_count": 1,
   "metadata": {},
   "outputs": [],
   "source": [
    "import pandas as pd\n",
    "import os\n",
    "\n",
    "rootdir = os.path.dirname(os.getcwd())\n",
    "relations = pd.read_csv(os.path.join(rootdir, 'graph_data/relations.tsv'), sep='\\t')"
   ]
  },
  {
   "cell_type": "code",
   "execution_count": 2,
   "metadata": {},
   "outputs": [
    {
     "data": {
      "text/html": [
       "<div>\n",
       "<style scoped>\n",
       "    .dataframe tbody tr th:only-of-type {\n",
       "        vertical-align: middle;\n",
       "    }\n",
       "\n",
       "    .dataframe tbody tr th {\n",
       "        vertical-align: top;\n",
       "    }\n",
       "\n",
       "    .dataframe thead th {\n",
       "        text-align: right;\n",
       "    }\n",
       "</style>\n",
       "<table border=\"1\" class=\"dataframe\">\n",
       "  <thead>\n",
       "    <tr style=\"text-align: right;\">\n",
       "      <th></th>\n",
       "      <th>raw_source_id</th>\n",
       "      <th>raw_target_id</th>\n",
       "      <th>raw_source_type</th>\n",
       "      <th>raw_target_type</th>\n",
       "      <th>relation_type</th>\n",
       "      <th>resource</th>\n",
       "      <th>pmids</th>\n",
       "      <th>key_sentence</th>\n",
       "      <th>source_id</th>\n",
       "      <th>source_type</th>\n",
       "      <th>target_id</th>\n",
       "      <th>target_type</th>\n",
       "      <th>source_target</th>\n",
       "    </tr>\n",
       "  </thead>\n",
       "  <tbody>\n",
       "    <tr>\n",
       "      <th>0</th>\n",
       "      <td>ENTREZ:2159</td>\n",
       "      <td>CHEMBL:CHEMBL1201414</td>\n",
       "      <td>Gene</td>\n",
       "      <td>Compound</td>\n",
       "      <td>DGIDB::OTHER::Gene:Compound</td>\n",
       "      <td>DGIDB</td>\n",
       "      <td>NaN</td>\n",
       "      <td>NaN</td>\n",
       "      <td>ENTREZ:2159</td>\n",
       "      <td>Gene</td>\n",
       "      <td>DrugBank:DB06822</td>\n",
       "      <td>Compound</td>\n",
       "      <td>Gene:Compound</td>\n",
       "    </tr>\n",
       "    <tr>\n",
       "      <th>1</th>\n",
       "      <td>ENTREZ:462</td>\n",
       "      <td>CHEMBL:CHEMBL1201414</td>\n",
       "      <td>Gene</td>\n",
       "      <td>Compound</td>\n",
       "      <td>DGIDB::ACTIVATOR::Gene:Compound</td>\n",
       "      <td>DGIDB</td>\n",
       "      <td>NaN</td>\n",
       "      <td>NaN</td>\n",
       "      <td>ENTREZ:462</td>\n",
       "      <td>Gene</td>\n",
       "      <td>DrugBank:DB06822</td>\n",
       "      <td>Compound</td>\n",
       "      <td>Gene:Compound</td>\n",
       "    </tr>\n",
       "    <tr>\n",
       "      <th>2</th>\n",
       "      <td>ENTREZ:462</td>\n",
       "      <td>CHEMBL:CHEMBL1201414</td>\n",
       "      <td>Gene</td>\n",
       "      <td>Compound</td>\n",
       "      <td>DGIDB::OTHER::Gene:Compound</td>\n",
       "      <td>DGIDB</td>\n",
       "      <td>NaN</td>\n",
       "      <td>NaN</td>\n",
       "      <td>ENTREZ:462</td>\n",
       "      <td>Gene</td>\n",
       "      <td>DrugBank:DB06822</td>\n",
       "      <td>Compound</td>\n",
       "      <td>Gene:Compound</td>\n",
       "    </tr>\n",
       "    <tr>\n",
       "      <th>3</th>\n",
       "      <td>ENTREZ:2147</td>\n",
       "      <td>CHEMBL:CHEMBL1201662</td>\n",
       "      <td>Gene</td>\n",
       "      <td>Compound</td>\n",
       "      <td>DGIDB::INHIBITOR::Gene:Compound</td>\n",
       "      <td>DGIDB</td>\n",
       "      <td>NaN</td>\n",
       "      <td>NaN</td>\n",
       "      <td>ENTREZ:2147</td>\n",
       "      <td>Gene</td>\n",
       "      <td>DrugBank:DB11095</td>\n",
       "      <td>Compound</td>\n",
       "      <td>Gene:Compound</td>\n",
       "    </tr>\n",
       "    <tr>\n",
       "      <th>4</th>\n",
       "      <td>ENTREZ:5733</td>\n",
       "      <td>CHEMBL:CHEMBL1207745</td>\n",
       "      <td>Gene</td>\n",
       "      <td>Compound</td>\n",
       "      <td>DGIDB::AGONIST::Gene:Compound</td>\n",
       "      <td>DGIDB</td>\n",
       "      <td>NaN</td>\n",
       "      <td>NaN</td>\n",
       "      <td>ENTREZ:5733</td>\n",
       "      <td>Gene</td>\n",
       "      <td>DrugBank:DB05229</td>\n",
       "      <td>Compound</td>\n",
       "      <td>Gene:Compound</td>\n",
       "    </tr>\n",
       "  </tbody>\n",
       "</table>\n",
       "</div>"
      ],
      "text/plain": [
       "  raw_source_id         raw_target_id raw_source_type raw_target_type  \\\n",
       "0   ENTREZ:2159  CHEMBL:CHEMBL1201414            Gene        Compound   \n",
       "1    ENTREZ:462  CHEMBL:CHEMBL1201414            Gene        Compound   \n",
       "2    ENTREZ:462  CHEMBL:CHEMBL1201414            Gene        Compound   \n",
       "3   ENTREZ:2147  CHEMBL:CHEMBL1201662            Gene        Compound   \n",
       "4   ENTREZ:5733  CHEMBL:CHEMBL1207745            Gene        Compound   \n",
       "\n",
       "                     relation_type resource  pmids  key_sentence    source_id  \\\n",
       "0      DGIDB::OTHER::Gene:Compound    DGIDB    NaN           NaN  ENTREZ:2159   \n",
       "1  DGIDB::ACTIVATOR::Gene:Compound    DGIDB    NaN           NaN   ENTREZ:462   \n",
       "2      DGIDB::OTHER::Gene:Compound    DGIDB    NaN           NaN   ENTREZ:462   \n",
       "3  DGIDB::INHIBITOR::Gene:Compound    DGIDB    NaN           NaN  ENTREZ:2147   \n",
       "4    DGIDB::AGONIST::Gene:Compound    DGIDB    NaN           NaN  ENTREZ:5733   \n",
       "\n",
       "  source_type         target_id target_type  source_target  \n",
       "0        Gene  DrugBank:DB06822    Compound  Gene:Compound  \n",
       "1        Gene  DrugBank:DB06822    Compound  Gene:Compound  \n",
       "2        Gene  DrugBank:DB06822    Compound  Gene:Compound  \n",
       "3        Gene  DrugBank:DB11095    Compound  Gene:Compound  \n",
       "4        Gene  DrugBank:DB05229    Compound  Gene:Compound  "
      ]
     },
     "execution_count": 2,
     "metadata": {},
     "output_type": "execute_result"
    }
   ],
   "source": [
    "relations.head()"
   ]
  },
  {
   "cell_type": "code",
   "execution_count": 3,
   "metadata": {},
   "outputs": [
    {
     "data": {
      "text/plain": [
       "(array(['Compound', 'Disease', 'Gene', 'BiologicalProcess',\n",
       "        'MolecularFunction', 'CellularComponent', 'Symptom', 'SideEffect',\n",
       "        'Pathway'], dtype=object),\n",
       " array(['Gene', 'Compound', 'Disease', 'PharmacologicClass',\n",
       "        'BiologicalProcess', 'CellularComponent', 'Pathway',\n",
       "        'MolecularFunction'], dtype=object))"
      ]
     },
     "execution_count": 3,
     "metadata": {},
     "output_type": "execute_result"
    }
   ],
   "source": [
    "relations[\"target_type\"].unique(), relations[\"source_type\"].unique()"
   ]
  },
  {
   "cell_type": "code",
   "execution_count": 5,
   "metadata": {},
   "outputs": [],
   "source": [
    "os.makedirs(os.path.join(os.getcwd(), \"biomedgps/data\"), exist_ok=True)\n",
    "\n",
    "df = pd.DataFrame()\n",
    "# Merge the source_type and source_id columns\n",
    "df['source_id'] = relations['source_type'] + '::' + relations['source_id'].astype(str)\n",
    "\n",
    "# Merge the target_type and target_id columns\n",
    "df['target_id'] = relations['target_type'] + '::' + relations['target_id'].astype(str)\n",
    "\n",
    "df['relation_type'] = relations['relation_type']\n",
    "\n",
    "# Reorder the columns\n",
    "df = df[['source_id', 'relation_type', 'target_id']]\n",
    "\n",
    "# Remove the header\n",
    "df.to_csv(os.path.join(os.getcwd(), 'biomedgps/data/relations_hrt.tsv'), sep='\\t', index=False, header=False)"
   ]
  },
  {
   "cell_type": "code",
   "execution_count": 6,
   "metadata": {},
   "outputs": [
    {
     "data": {
      "text/html": [
       "<div>\n",
       "<style scoped>\n",
       "    .dataframe tbody tr th:only-of-type {\n",
       "        vertical-align: middle;\n",
       "    }\n",
       "\n",
       "    .dataframe tbody tr th {\n",
       "        vertical-align: top;\n",
       "    }\n",
       "\n",
       "    .dataframe thead th {\n",
       "        text-align: right;\n",
       "    }\n",
       "</style>\n",
       "<table border=\"1\" class=\"dataframe\">\n",
       "  <thead>\n",
       "    <tr style=\"text-align: right;\">\n",
       "      <th></th>\n",
       "      <th>0</th>\n",
       "      <th>1</th>\n",
       "      <th>2</th>\n",
       "    </tr>\n",
       "  </thead>\n",
       "  <tbody>\n",
       "    <tr>\n",
       "      <th>0</th>\n",
       "      <td>Gene::ENTREZ:2159</td>\n",
       "      <td>DGIDB::OTHER::Gene:Compound</td>\n",
       "      <td>Compound::DrugBank:DB06822</td>\n",
       "    </tr>\n",
       "    <tr>\n",
       "      <th>1</th>\n",
       "      <td>Gene::ENTREZ:462</td>\n",
       "      <td>DGIDB::ACTIVATOR::Gene:Compound</td>\n",
       "      <td>Compound::DrugBank:DB06822</td>\n",
       "    </tr>\n",
       "    <tr>\n",
       "      <th>2</th>\n",
       "      <td>Gene::ENTREZ:462</td>\n",
       "      <td>DGIDB::OTHER::Gene:Compound</td>\n",
       "      <td>Compound::DrugBank:DB06822</td>\n",
       "    </tr>\n",
       "    <tr>\n",
       "      <th>3</th>\n",
       "      <td>Gene::ENTREZ:2147</td>\n",
       "      <td>DGIDB::INHIBITOR::Gene:Compound</td>\n",
       "      <td>Compound::DrugBank:DB11095</td>\n",
       "    </tr>\n",
       "    <tr>\n",
       "      <th>4</th>\n",
       "      <td>Gene::ENTREZ:5733</td>\n",
       "      <td>DGIDB::AGONIST::Gene:Compound</td>\n",
       "      <td>Compound::DrugBank:DB05229</td>\n",
       "    </tr>\n",
       "  </tbody>\n",
       "</table>\n",
       "</div>"
      ],
      "text/plain": [
       "                   0                                1  \\\n",
       "0  Gene::ENTREZ:2159      DGIDB::OTHER::Gene:Compound   \n",
       "1   Gene::ENTREZ:462  DGIDB::ACTIVATOR::Gene:Compound   \n",
       "2   Gene::ENTREZ:462      DGIDB::OTHER::Gene:Compound   \n",
       "3  Gene::ENTREZ:2147  DGIDB::INHIBITOR::Gene:Compound   \n",
       "4  Gene::ENTREZ:5733    DGIDB::AGONIST::Gene:Compound   \n",
       "\n",
       "                            2  \n",
       "0  Compound::DrugBank:DB06822  \n",
       "1  Compound::DrugBank:DB06822  \n",
       "2  Compound::DrugBank:DB06822  \n",
       "3  Compound::DrugBank:DB11095  \n",
       "4  Compound::DrugBank:DB05229  "
      ]
     },
     "execution_count": 6,
     "metadata": {},
     "output_type": "execute_result"
    }
   ],
   "source": [
    "df = pd.read_csv(os.path.join(os.getcwd(), 'biomedgps/data/relations_hrt.tsv'), sep='\\t', header=None)\n",
    "triples = df.values.tolist()\n",
    "df.head()"
   ]
  },
  {
   "cell_type": "code",
   "execution_count": 7,
   "metadata": {},
   "outputs": [
    {
     "data": {
      "text/plain": [
       "4592639"
      ]
     },
     "execution_count": 7,
     "metadata": {},
     "output_type": "execute_result"
    }
   ],
   "source": [
    "num_triples = len(triples)\n",
    "num_triples"
   ]
  },
  {
   "cell_type": "code",
   "execution_count": 8,
   "metadata": {},
   "outputs": [
    {
     "name": "stdout",
     "output_type": "stream",
     "text": [
      "4133375 229631 229633\n"
     ]
    }
   ],
   "source": [
    "import os \n",
    "import numpy as np\n",
    "\n",
    "# Please make sure the output directory exist.\n",
    "seed = np.arange(num_triples)\n",
    "np.random.shuffle(seed)\n",
    "\n",
    "train_cnt = int(num_triples * 0.9)\n",
    "valid_cnt = int(num_triples * 0.05)\n",
    "train_set = seed[:train_cnt]\n",
    "train_set = train_set.tolist()\n",
    "valid_set = seed[train_cnt:train_cnt+valid_cnt].tolist()\n",
    "test_set = seed[train_cnt+valid_cnt:].tolist()\n",
    "\n",
    "os.makedirs(\"biomedgps/data/train\", exist_ok=True)\n",
    "\n",
    "with open(\"biomedgps/data/train/biomedgps_train.tsv\", 'w+') as f:\n",
    "    for idx in train_set:\n",
    "        f.writelines(\"{}\\t{}\\t{}\\n\".format(triples[idx][0], triples[idx][1], triples[idx][2]))\n",
    "        \n",
    "with open(\"biomedgps/data/train/biomedgps_valid.tsv\", 'w+') as f:\n",
    "    for idx in valid_set:\n",
    "        f.writelines(\"{}\\t{}\\t{}\\n\".format(triples[idx][0], triples[idx][1], triples[idx][2]))\n",
    "\n",
    "with open(\"biomedgps/data/train/biomedgps_test.tsv\", 'w+') as f:\n",
    "    for idx in test_set:\n",
    "        f.writelines(\"{}\\t{}\\t{}\\n\".format(triples[idx][0], triples[idx][1], triples[idx][2]))\n",
    "\n",
    "print(len(train_set), len(valid_set), len(test_set))"
   ]
  },
  {
   "cell_type": "markdown",
   "metadata": {},
   "source": [
    "## Train models with different hyperparameters"
   ]
  },
  {
   "cell_type": "code",
   "execution_count": null,
   "metadata": {},
   "outputs": [],
   "source": [
    "%%bash\n",
    "DGLBACKEND=pytorch dglke_train --dataset biomedgps --model_name TransE_l2 --batch_size 1024 --neg_sample_size 256 --hidden_dim 400 --gamma 12 --lr 0.1 --max_step 100000 --log_interval 100 --batch_size_eval 16 --neg_sample_size_eval 10000 -adv --regularization_coef 1.00E-09 --data_path ./biomedgps/data/train --data_files biomedgps_train.tsv biomedgps_valid.tsv biomedgps_test.tsv --format raw_udd_hrt --save_path ./biomedgps/models --gpu 0 --valid --num_proc 10 --num_thread 1 --mix_cpu_gpu"
   ]
  }
 ],
 "metadata": {
  "kernelspec": {
   "display_name": "Python 3 (ipykernel)",
   "language": "python",
   "name": "python3"
  },
  "language_info": {
   "codemirror_mode": {
    "name": "ipython",
    "version": 3
   },
   "file_extension": ".py",
   "mimetype": "text/x-python",
   "name": "python",
   "nbconvert_exporter": "python",
   "pygments_lexer": "ipython3",
   "version": "3.10.12"
  },
  "orig_nbformat": 4
 },
 "nbformat": 4,
 "nbformat_minor": 2
}
