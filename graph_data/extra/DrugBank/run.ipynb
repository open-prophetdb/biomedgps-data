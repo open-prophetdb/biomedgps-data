{
 "cells": [
  {
   "cell_type": "markdown",
   "metadata": {},
   "source": [
    "### Get the status of all drug"
   ]
  },
  {
   "cell_type": "code",
   "execution_count": 4,
   "metadata": {},
   "outputs": [
    {
     "name": "stdout",
     "output_type": "stream",
     "text": [
      "Found 17285 matching drugs\n",
      "[{'drugbank_id': 'DB00001', 'status': {'approved', 'withdrawn'}, 'valid': True}, {'drugbank_id': 'DB00002', 'status': {'approved'}, 'valid': True}, {'drugbank_id': 'DB00003', 'status': {'approved'}, 'valid': True}, {'drugbank_id': 'DB00004', 'status': {'approved', 'investigational'}, 'valid': True}, {'drugbank_id': 'DB00005', 'status': {'approved', 'investigational'}, 'valid': True}, {'drugbank_id': 'DB00006', 'status': {'approved', 'investigational'}, 'valid': True}, {'drugbank_id': 'DB00007', 'status': {'approved', 'investigational'}, 'valid': True}, {'drugbank_id': 'DB00008', 'status': {'approved', 'investigational'}, 'valid': True}, {'drugbank_id': 'DB00009', 'status': {'approved', 'investigational'}, 'valid': True}, {'drugbank_id': 'DB00010', 'status': {'approved', 'withdrawn'}, 'valid': True}]\n"
     ]
    }
   ],
   "source": [
    "import xml.etree.ElementTree as ET\n",
    "\n",
    "# 加载 XML 文件\n",
    "tree = ET.parse(\"full_database.xml\")  # 替换为你的文件路径\n",
    "root = tree.getroot()\n",
    "\n",
    "# DrugBank XML 使用的命名空间（根据你的文件可能略有不同）\n",
    "ns = {'db': 'http://www.drugbank.ca'}\n",
    "\n",
    "# 状态集合\n",
    "desired_statuses = {\"approved\", \"investigational\", \"experimental\", \"withdrawn\"}\n",
    "\n",
    "# 存储符合条件的 drugbank-id\n",
    "matching_drug_ids = []\n",
    "\n",
    "# 遍历每个 drug\n",
    "for drug in root.findall(\"db:drug\", ns):\n",
    "    # 获取 drugbank-id（第一个 id 是主要 ID）\n",
    "    drugbank_id = drug.find(\"db:drugbank-id\", ns).text\n",
    "\n",
    "    # 获取 drug 的所有状态\n",
    "    groups = drug.find(\"db:groups\", ns)\n",
    "    if groups is not None:\n",
    "        drug_statuses = {g.text.lower() for g in groups.findall(\"db:group\", ns)}\n",
    "        if drug_statuses & desired_statuses:\n",
    "            matching_drug_ids.append({\n",
    "                \"drugbank_id\": drugbank_id,\n",
    "                \"status\": drug_statuses,\n",
    "                \"valid\": True\n",
    "            })\n",
    "\n",
    "# 输出结果\n",
    "print(f\"Found {len(matching_drug_ids)} matching drugs\")\n",
    "print(matching_drug_ids[:10])  # 只看前10个\n"
   ]
  },
  {
   "cell_type": "code",
   "execution_count": 5,
   "metadata": {},
   "outputs": [],
   "source": [
    "import pandas as pd\n",
    "\n",
    "df = pd.DataFrame(matching_drug_ids)\n",
    "df.to_csv(\"drugbank_status.tsv\", index=False, sep=\"\\t\")"
   ]
  },
  {
   "cell_type": "markdown",
   "metadata": {},
   "source": [
    "### Get the approved drugs after 2022"
   ]
  },
  {
   "cell_type": "code",
   "execution_count": null,
   "metadata": {},
   "outputs": [],
   "source": [
    "import pandas as pd\n",
    "\n",
    "# 下载地址（可提前手动下载）：https://www.accessdata.fda.gov/cder/ndc/drug-products.csv\n",
    "fda_csv_path = \"drug-products.csv\"  # 替换为你的本地路径\n",
    "\n",
    "# 加载 FDA 批准药物数据\n",
    "df = pd.read_csv(fda_csv_path)\n",
    "\n",
    "# 示例列名包括：PRODUCTID, PROPRIETARYNAME, NONPROPRIETARYNAME, APPLICATIONNUMBER, STARTMARKETINGDATE 等\n",
    "# FDA 的日期是字符串格式 'YYYYMMDD'，我们转换成 datetime 类型\n",
    "df[\"STARTMARKETINGDATE\"] = pd.to_datetime(df[\"STARTMARKETINGDATE\"], format=\"%Y%m%d\", errors=\"coerce\")\n",
    "\n",
    "# 筛选出 2022 年及以后的批准药物\n",
    "approved_after_2022 = df[df[\"STARTMARKETINGDATE\"] >= \"2022-01-01\"].copy()\n",
    "\n",
    "# 显示关键信息\n",
    "approved_subset = approved_after_2022[[\n",
    "    \"PRODUCTID\",\n",
    "    \"PROPRIETARYNAME\",         # 商品名\n",
    "    \"NONPROPRIETARYNAME\",      # 活性成分\n",
    "    \"APPLICATIONNUMBER\",\n",
    "    \"STARTMARKETINGDATE\",\n",
    "]]\n",
    "\n",
    "# 显示前几行\n",
    "print(approved_subset.head())\n",
    "\n",
    "# 可保存为 CSV\n",
    "approved_subset.to_csv(\"approved_drugs_after_2022.csv\", index=False)\n"
   ]
  }
 ],
 "metadata": {
  "kernelspec": {
   "display_name": "biomedgps-data",
   "language": "python",
   "name": "python3"
  },
  "language_info": {
   "codemirror_mode": {
    "name": "ipython",
    "version": 3
   },
   "file_extension": ".py",
   "mimetype": "text/x-python",
   "name": "python",
   "nbconvert_exporter": "python",
   "pygments_lexer": "ipython3",
   "version": "3.10.13"
  }
 },
 "nbformat": 4,
 "nbformat_minor": 2
}
