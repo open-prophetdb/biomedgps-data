{
 "cells": [
  {
   "cell_type": "code",
   "execution_count": null,
   "metadata": {},
   "outputs": [],
   "source": [
    "# 使用pip命令直接在当前的Jupyter Notebook环境中安装Pandas\n",
    "!pip3 install pandas"
   ]
  },
  {
   "cell_type": "code",
   "execution_count": 1,
   "metadata": {},
   "outputs": [
    {
     "name": "stderr",
     "output_type": "stream",
     "text": [
      "/var/folders/pk/m50zt49j0kg0_fw330yvvrph0000gn/T/ipykernel_78001/1042078963.py:4: DtypeWarning: Columns (0,2,4,5,6,7,8,9,10) have mixed types. Specify dtype option on import or set low_memory=False.\n",
      "  df = pd.read_csv('OFFSIDES.csv')\n"
     ]
    },
    {
     "name": "stdout",
     "output_type": "stream",
     "text": [
      "新表格已经生成并保存为 'transformed_data.csv'\n"
     ]
    }
   ],
   "source": [
    "import pandas as pd\n",
    "\n",
    "# 步骤 1: 读取数据\n",
    "df = pd.read_csv('OFFSIDES.csv')\n",
    "\n",
    "# 步骤 2: 转换数据\n",
    "# 生成新的列\n",
    "df['source_id'] = 'RxNorm:' + df['drug_rxnorn_id'].astype(str)\n",
    "df['source_name'] = df['drug_concept_name']\n",
    "df['source_type'] = 'Compound'\n",
    "df['target_id'] = 'Meddra:' + df['condition_meddra_id'].astype(str)\n",
    "df['target_name'] = df['condition_concept_name']\n",
    "df['target_type'] = 'Symptom'\n",
    "df['relation_type'] = 'DRUGBANK::target::Compound:Symptom'\n",
    "df['resource'] = 'nSides'\n",
    "\n",
    "# 步骤 3: 创建新的 DataFrame\n",
    "new_df = df[['drug_rxnorn_id', 'source_id', 'source_name', 'source_type',\n",
    "             'condition_meddra_id', 'target_id', 'target_name', 'target_type',\n",
    "             'relation_type', 'resource']]\n",
    "\n",
    "# 步骤 4: 导出新表格\n",
    "new_df.to_csv('OFFSIDES_extracted.csv', index=False)\n",
    "\n",
    "print(\"新表格已经生成并保存为 'transformed_data.csv'\")\n"
   ]
  }
 ],
 "metadata": {
  "kernelspec": {
   "display_name": "Python 3",
   "language": "python",
   "name": "python3"
  },
  "language_info": {
   "codemirror_mode": {
    "name": "ipython",
    "version": 3
   },
   "file_extension": ".py",
   "mimetype": "text/x-python",
   "name": "python",
   "nbconvert_exporter": "python",
   "pygments_lexer": "ipython3",
   "version": "3.9.6"
  }
 },
 "nbformat": 4,
 "nbformat_minor": 2
}
