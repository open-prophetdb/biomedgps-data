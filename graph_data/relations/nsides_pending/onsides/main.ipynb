{
 "cells": [
  {
   "cell_type": "code",
   "execution_count": null,
   "metadata": {},
   "outputs": [],
   "source": [
    "# 使用pip命令直接在当前的Jupyter Notebook环境中安装Pandas\n",
    "!pip3 install pandas"
   ]
  },
  {
   "cell_type": "code",
   "execution_count": 1,
   "metadata": {},
   "outputs": [
    {
     "name": "stdout",
     "output_type": "stream",
     "text": [
      "数据转换完成，已保存为 transformed_data.csv\n"
     ]
    }
   ],
   "source": [
    "import pandas as pd\n",
    "\n",
    "# 步骤 1: 读取数据\n",
    "# 假设原始数据文件名为 'original_data.csv'，请根据实际情况修改文件名\n",
    "df = pd.read_csv('adverse_reactions_active_labels.csv')\n",
    "\n",
    "# 步骤 2: 转换数据\n",
    "# 创建新的列并填充数据\n",
    "df['onsides_drug_id'] = df['ingredients_rxcuis']\n",
    "df['source_id'] = 'RxNorm:' + df['ingredients_rxcuis'].astype(str)\n",
    "df['source_name'] = df['ingredients_names']\n",
    "df['source_type'] = 'Compound'\n",
    "df['onsides_adverse_reaction_id'] = df['pt_meddra_id']\n",
    "df['target_id'] = 'Meddra:' + df['pt_meddra_id'].astype(str)\n",
    "df['target_name'] = df['pt_meddra_term']\n",
    "df['target_type'] = 'Symptom'\n",
    "df['relation_type'] = 'DRUGBANK::target::Compound:Symptom'\n",
    "df['resource'] = 'nSides'\n",
    "\n",
    "# 选择新创建的列作为最终的 DataFrame\n",
    "final_df = df[['onsides_drug_id', 'source_id', 'source_name', 'source_type', \n",
    "               'onsides_adverse_reaction_id', 'target_id', 'target_name', \n",
    "               'target_type', 'relation_type', 'resource']]\n",
    "\n",
    "# 步骤 3: 输出新表格为 CSV 文件\n",
    "# 输出文件名为 'transformed_data.csv'，请根据需要修改文件名\n",
    "final_df.to_csv('adverse_reactions_active_labels_extracted.csv', index=False)\n",
    "\n",
    "print(\"数据转换完成，已保存为 transformed_data.csv\")\n"
   ]
  }
 ],
 "metadata": {
  "kernelspec": {
   "display_name": "Python 3",
   "language": "python",
   "name": "python3"
  },
  "language_info": {
   "codemirror_mode": {
    "name": "ipython",
    "version": 3
   },
   "file_extension": ".py",
   "mimetype": "text/x-python",
   "name": "python",
   "nbconvert_exporter": "python",
   "pygments_lexer": "ipython3",
   "version": "3.9.6"
  }
 },
 "nbformat": 4,
 "nbformat_minor": 2
}
