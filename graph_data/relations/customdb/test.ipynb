{
 "cells": [
  {
   "cell_type": "code",
   "execution_count": 8,
   "metadata": {},
   "outputs": [],
   "source": [
    "valid_entity_types = [\n",
    "    \"Compound\",\n",
    "    \"Disease\",\n",
    "    \"Gene\",\n",
    "    \"Metabolite\",\n",
    "    \"Pathway\",\n",
    "    \"Anatomy\",\n",
    "    \"Symptom\",\n",
    "    \"PharmacologicClass\",\n",
    "    \"BiologicalProcess\",\n",
    "    \"CellularComponent\",\n",
    "    \"MolecularFunction\",\n",
    "]"
   ]
  },
  {
   "cell_type": "code",
   "execution_count": 9,
   "metadata": {},
   "outputs": [
    {
     "name": "stdout",
     "output_type": "stream",
     "text": [
      "Valid relations: 989\n",
      "Invalid relations: 186\n",
      "Invalid relations after fixing: 186\n"
     ]
    }
   ],
   "source": [
    "import pandas as pd\n",
    "\n",
    "df = pd.read_csv(\"./customdb-v20240329.csv\", sep=\",\")\n",
    "# Filter all the rows with Unknown:Unknown values in the target_id or source_id columns\n",
    "df = df[~df[\"target_id\"].str.contains(\"Unknown:Unknown\")]\n",
    "df = df[~df[\"source_id\"].str.contains(\"Unknown:Unknown\")]\n",
    "df[\"idx\"] = df.index\n",
    "\n",
    "# Join the source_type, target_type and relation_type columns\n",
    "valid_relations = df[\n",
    "    df[\"relation_type\"].str.contains(\".*:+[a-zA-Z]+:[a-zA-Z]+$\", regex=True)\n",
    "    & (\n",
    "        df[\"source_type\"].apply(lambda x: x in valid_entity_types)\n",
    "        & df[\"target_type\"].apply(lambda x: x in valid_entity_types)\n",
    "    )\n",
    "]\n",
    "print(f\"Valid relations: {valid_relations.shape[0]}\")\n",
    "invalid_relations = df[df[\"idx\"].apply(lambda x: x not in valid_relations.index)]\n",
    "print(f\"Invalid relations: {invalid_relations.shape[0]}\")\n",
    "\n",
    "invalid_relations = invalid_relations.copy()\n",
    "# Replace 'Protein' with 'Gene' in 'source_type' and 'target_type' columns\n",
    "invalid_relations[\"source_type\"] = invalid_relations[\"source_type\"].replace(\n",
    "    \"Protein\", \"Gene\"\n",
    ")\n",
    "invalid_relations[\"target_type\"] = invalid_relations[\"target_type\"].replace(\n",
    "    \"Protein\", \"Gene\"\n",
    ")\n",
    "\n",
    "# Remove all rows which have a invalid source_type or target_type\n",
    "invalid_relations = invalid_relations[\n",
    "    (invalid_relations[\"source_type\"].apply(lambda x: x in valid_entity_types))\n",
    "    & (invalid_relations[\"target_type\"].apply(lambda x: x in valid_entity_types))\n",
    "].copy()\n",
    "\n",
    "print(f\"Invalid relations after fixing: {invalid_relations.shape[0]}\")\n",
    "\n",
    "invalid_relations[\"relation_type\"] = invalid_relations.apply(\n",
    "    lambda x: x[\"relation_type\"] + \"::\" + x[\"source_type\"] + \":\" + x[\"target_type\"],\n",
    "    axis=1,\n",
    ")"
   ]
  },
  {
   "cell_type": "code",
   "execution_count": 10,
   "metadata": {},
   "outputs": [
    {
     "name": "stdout",
     "output_type": "stream",
     "text": [
      "['increased_by::BiologicalProcess:Disease'\n",
      " 'associated_with::Pathway:Disease'\n",
      " 'reduced_by::BiologicalProcess:Disease' 'reduced_by::Gene:Disease'\n",
      " 'associated_with::Compound:Disease' 'associated_with::Symptom:Disease'\n",
      " 'associated_with::Metabolite:Disease'\n",
      " 'associated_with::BiologicalProcess:Disease'\n",
      " 'biomarker::Compound:Disease' 'biomarker::Metabolite:Disease'\n",
      " 'inhibited_by::BiologicalProcess:Disease'\n",
      " 'associated_with::Anatomy:Disease' 'biomarker::Gene:Disease'\n",
      " 'biomarker::BiologicalProcess:Disease'\n",
      " 'biomarker::CellularComponent:Disease'\n",
      " 'biomarker::Disease:BiologicalProcess'\n",
      " 'associated_with::CellularComponent:Disease' 'treats::Compound:Disease'\n",
      " 'treats::Metabolite:Disease' 'associated_with::Disease:Compound'\n",
      " 'biomarker::Pathway:Disease' 'associated_with::Disease:BiologicalProcess'\n",
      " 'reduced_by::Metabolite:Disease' 'induced_by::BiologicalProcess:Disease'\n",
      " 'increased_by::Symptom:Disease' 'biomarker::Anatomy:Disease'\n",
      " 'reduced_by::Pathway:Disease' 'increased_by::Metabolite:Disease'\n",
      " 'downregulated_in::Metabolite:Disease' 'increased_by::Anatomy:Disease'\n",
      " 'reduced_by::Compound:Disease']\n"
     ]
    }
   ],
   "source": [
    "print(invalid_relations[\"relation_type\"].unique())"
   ]
  },
  {
   "cell_type": "code",
   "execution_count": 7,
   "metadata": {},
   "outputs": [
    {
     "name": "stdout",
     "output_type": "stream",
     "text": [
      "                      relation_type source_name source_type    source_id  \\\n",
      "1308  associated_with::Gene:Anatomy       IFN-γ        Gene  ENTREZ:3458   \n",
      "1329  associated_with::Gene:Anatomy         TNF        Gene  ENTREZ:7124   \n",
      "1330  associated_with::Gene:Anatomy       IL-1β        Gene  ENTREZ:3553   \n",
      "1333  associated_with::Gene:Anatomy       IL-1β        Gene  ENTREZ:3553   \n",
      "1334  associated_with::Gene:Anatomy         TNF        Gene  ENTREZ:7124   \n",
      "1335  associated_with::Gene:Anatomy       IFN-γ        Gene  ENTREZ:3458   \n",
      "\n",
      "                target_name target_type       target_id  \\\n",
      "1308  alveolar regeneration     Anatomy  UBERON:0002169   \n",
      "1329  alveolar regeneration     Anatomy  UBERON:0002169   \n",
      "1330     pulmonary function     Anatomy    MESH:D008168   \n",
      "1333  alveolar regeneration     Anatomy  UBERON:0002169   \n",
      "1334     pulmonary function     Anatomy    MESH:D008168   \n",
      "1335     pulmonary function     Anatomy    MESH:D008168   \n",
      "\n",
      "                                           key_sentence      pmid   idx  \n",
      "1308  Notably, therapeutic neutralization of IFN-γ a...  37745354  1308  \n",
      "1329  Notably, therapeutic neutralization of IFN-γ a...  37745354  1329  \n",
      "1330  Notably, therapeutic neutralization of IFN-γ a...  37745354  1330  \n",
      "1333  Notably, therapeutic neutralization of IFN-γ a...  37745354  1333  \n",
      "1334  Notably, therapeutic neutralization of IFN-γ a...  37745354  1334  \n",
      "1335  Notably, therapeutic neutralization of IFN-γ a...  37745354  1335  \n"
     ]
    }
   ],
   "source": [
    "print(\n",
    "    invalid_relations[\n",
    "        invalid_relations[\"relation_type\"] == \"associated_with::Gene:Anatomy\"\n",
    "    ]\n",
    ")"
   ]
  }
 ],
 "metadata": {
  "kernelspec": {
   "display_name": "biomedgps-data",
   "language": "python",
   "name": "python3"
  },
  "language_info": {
   "codemirror_mode": {
    "name": "ipython",
    "version": 3
   },
   "file_extension": ".py",
   "mimetype": "text/x-python",
   "name": "python",
   "nbconvert_exporter": "python",
   "pygments_lexer": "ipython3",
   "version": "3.10.13"
  }
 },
 "nbformat": 4,
 "nbformat_minor": 2
}
