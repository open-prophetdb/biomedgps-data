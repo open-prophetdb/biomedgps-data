{
 "cells": [
  {
   "cell_type": "code",
   "execution_count": null,
   "metadata": {},
   "outputs": [],
   "source": [
    "!pip3 install pandas"
   ]
  },
  {
   "cell_type": "code",
   "execution_count": 2,
   "metadata": {},
   "outputs": [
    {
     "name": "stdout",
     "output_type": "stream",
     "text": [
      "--2024-04-16 12:10:41--  https://db.idrblab.net/ttd/sites/default/files/ttd_database/P1-08-Biomarker_disease.txt\n",
      "Resolving db.idrblab.net (db.idrblab.net)... 47.88.56.212\n",
      "Connecting to db.idrblab.net (db.idrblab.net)|47.88.56.212|:443... connected.\n",
      "HTTP request sent, awaiting response... 200 OK\n",
      "Length: 228662 (223K) [text/plain]\n",
      "Saving to: ‘P1-08-Biomarker_disease.txt’\n",
      "\n",
      "P1-08-Biomarker_dis 100%[===================>] 223.30K   752KB/s    in 0.3s    \n",
      "\n",
      "2024-04-16 12:10:42 (752 KB/s) - ‘P1-08-Biomarker_disease.txt’ saved [228662/228662]\n",
      "\n"
     ]
    }
   ],
   "source": [
    "!wget https://db.idrblab.net/ttd/sites/default/files/ttd_database/P1-08-Biomarker_disease.txt -O P1-08-Biomarker_disease.txt"
   ]
  },
  {
   "cell_type": "code",
   "execution_count": 8,
   "metadata": {},
   "outputs": [
    {
     "name": "stdout",
     "output_type": "stream",
     "text": [
      "CSV file has been generated successfully!\n"
     ]
    }
   ],
   "source": [
    "import pandas as pd\n",
    "\n",
    "input_file_path = 'P1-08-Biomarker_disease.txt'\n",
    "output_file_path = 'P1-08-Biomarker_disease_extracted.tsv'\n",
    "\n",
    "try:\n",
    "    comment_rows = range(0, 15)\n",
    "    data = pd.read_csv(input_file_path, sep=\"\\t\", skiprows=comment_rows)\n",
    "\n",
    "    data['ICD11'] = data['ICD11'].str.replace(': ', ':')\n",
    "\n",
    "    new_data = pd.DataFrame({\n",
    "        'source_id': data['BiomarkerID'],\n",
    "        'source_type': 'Gene',\n",
    "        'target_id': data['ICD11'],\n",
    "        'target_type': 'Disease',\n",
    "        'source_name': data['Biomarker_Name'],\n",
    "        'target_name': data['Diseasename'],\n",
    "        'relation_type': 'GNBR::Md::Gene:Disease',\n",
    "        'resource': 'TTD',\n",
    "        'ttd_disease_id': data['ICD11'],\n",
    "        'ttd_biomarker_id': data['BiomarkerID']\n",
    "    })\n",
    "\n",
    "    new_data.to_csv(output_file_path, index=False, sep='\\t')\n",
    "\n",
    "    print('CSV file has been generated successfully!')\n",
    "except Exception as e:\n",
    "    print(\"Something went wrong: \", e)"
   ]
  },
  {
   "cell_type": "code",
   "execution_count": 13,
   "metadata": {},
   "outputs": [],
   "source": [
    "biomarkers = pd.read_csv(\"../idmapping/ttd_biomarker_id.tsv\", sep='\\t')\n",
    "biomarkers.rename(columns={\"UniProt ID\": \"uniprot_id\", \"Biomarker ID\": \"biomarker_id\"}, inplace=True)\n",
    "filtered_biomarkers = biomarkers[biomarkers['uniprot_id'].notnull()]\n",
    "\n",
    "data = pd.read_csv(output_file_path, sep='\\t')\n",
    "data = data.merge(\n",
    "    filtered_biomarkers[['biomarker_id', 'uniprot_id']],\n",
    "    left_on=\"source_id\", right_on=\"biomarker_id\", how=\"inner\"\n",
    ")\n",
    "\n",
    "data[\"source_id\"] = \"UNIPROT:\" + data[\"uniprot_id\"]\n",
    "data = data.drop(columns=[\"biomarker_id\", \"uniprot_id\"])\n",
    "\n",
    "data.to_csv(\"formatted_ttd_biomarker_disease.tsv\", index=False, sep='\\t')"
   ]
  }
 ],
 "metadata": {
  "kernelspec": {
   "display_name": "Python 3",
   "language": "python",
   "name": "python3"
  },
  "language_info": {
   "codemirror_mode": {
    "name": "ipython",
    "version": 3
   },
   "file_extension": ".py",
   "mimetype": "text/x-python",
   "name": "python",
   "nbconvert_exporter": "python",
   "pygments_lexer": "ipython3",
   "version": "3.10.13"
  }
 },
 "nbformat": 4,
 "nbformat_minor": 2
}
