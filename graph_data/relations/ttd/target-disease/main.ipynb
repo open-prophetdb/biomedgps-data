{
 "cells": [
  {
   "cell_type": "code",
   "execution_count": 1,
   "metadata": {},
   "outputs": [
    {
     "name": "stdout",
     "output_type": "stream",
     "text": [
      "Requirement already satisfied: pandas in /Users/jy006/miniconda3/envs/biomedgps-data/lib/python3.10/site-packages (2.0.3)\n",
      "Requirement already satisfied: python-dateutil>=2.8.2 in /Users/jy006/miniconda3/envs/biomedgps-data/lib/python3.10/site-packages (from pandas) (2.8.2)\n",
      "Requirement already satisfied: pytz>=2020.1 in /Users/jy006/miniconda3/envs/biomedgps-data/lib/python3.10/site-packages (from pandas) (2023.3)\n",
      "Requirement already satisfied: tzdata>=2022.1 in /Users/jy006/miniconda3/envs/biomedgps-data/lib/python3.10/site-packages (from pandas) (2023.3)\n",
      "Requirement already satisfied: numpy>=1.21.0 in /Users/jy006/miniconda3/envs/biomedgps-data/lib/python3.10/site-packages (from pandas) (1.25.1)\n",
      "Requirement already satisfied: six>=1.5 in /Users/jy006/miniconda3/envs/biomedgps-data/lib/python3.10/site-packages (from python-dateutil>=2.8.2->pandas) (1.16.0)\n"
     ]
    }
   ],
   "source": [
    "!pip3 install pandas"
   ]
  },
  {
   "cell_type": "code",
   "execution_count": 3,
   "metadata": {},
   "outputs": [
    {
     "name": "stdout",
     "output_type": "stream",
     "text": [
      "--2024-04-16 12:18:12--  https://db.idrblab.net/ttd/sites/default/files/ttd_database/P1-06-Target_disease.txt\n",
      "Resolving db.idrblab.net (db.idrblab.net)... 47.88.56.212\n",
      "Connecting to db.idrblab.net (db.idrblab.net)|47.88.56.212|:443... connected.\n",
      "HTTP request sent, awaiting response... 200 OK\n",
      "Length: 891227 (870K) [text/plain]\n",
      "Saving to: ‘P1-06-Target_disease.txt’\n",
      "\n",
      "P1-06-Target_diseas 100%[===================>] 870.34K  2.04MB/s    in 0.4s    \n",
      "\n",
      "2024-04-16 12:18:13 (2.04 MB/s) - ‘P1-06-Target_disease.txt’ saved [891227/891227]\n",
      "\n"
     ]
    }
   ],
   "source": [
    "!wget https://db.idrblab.net/ttd/sites/default/files/ttd_database/P1-06-Target_disease.txt -O P1-06-Target_disease.txt"
   ]
  },
  {
   "cell_type": "code",
   "execution_count": 4,
   "metadata": {},
   "outputs": [
    {
     "name": "stdout",
     "output_type": "stream",
     "text": [
      "Data processing completed and the csv file has been saved.\n"
     ]
    }
   ],
   "source": [
    "import pandas as pd\n",
    "\n",
    "# 步骤1：读取数据\n",
    "file_path = 'P1-06-Target_disease.txt'  # 你的文件路径\n",
    "with open(file_path, 'r') as file:\n",
    "    for i in range(0, 22):\n",
    "        next(file)\n",
    "\n",
    "    data_sections = file.read().split('\\n\\n')  # 按空行分割各个section\n",
    "\n",
    "# 步骤2：解析数据\n",
    "data_records = []\n",
    "for section in data_sections:\n",
    "    record = {}\n",
    "    lines = section.split('\\n')\n",
    "    for line in lines:\n",
    "        parts = line.split('\\t')\n",
    "        if len(parts) < 3:  # 检查是否有足够的部分\n",
    "            continue  # 跳过这一行\n",
    "\n",
    "        key = parts[1]\n",
    "        value = parts[2]\n",
    "        \n",
    "        if key == 'TARGETID':\n",
    "            record['source_id'] = value\n",
    "            record['ttd_source_id'] = value\n",
    "        elif key == 'TARGNAME':\n",
    "            record['source_name'] = value\n",
    "        elif key == 'INDICATI':\n",
    "            # 提取并处理ICD id，确保没有多余的空格\n",
    "            icd_id = ' '.join(parts[4:]).split('[')[-1].strip(']')\n",
    "            record['target_id'] = icd_id.replace(' ', '')\n",
    "            record['target_name'] = parts[3]\n",
    "            record['ttd_target_id'] = icd_id.replace(' ', '')\n",
    "            \n",
    "    # 添加固定值\n",
    "    record['source_type'] = 'Gene'\n",
    "    record['target_type'] = 'Disease'\n",
    "    record['relation_type'] = 'DRUGBANK::treats::Compound:Disease'\n",
    "    record['resource'] = 'TTD'\n",
    "    \n",
    "    if record:  # 确保记录是非空的\n",
    "        data_records.append(record)\n",
    "\n",
    "# 步骤3：构建DataFrame\n",
    "df = pd.DataFrame(data_records)\n",
    "\n",
    "# 步骤4：导出到CSV\n",
    "output_file_path = 'P1-06-Target_disease_extracted.csv'  # 输出文件的路径\n",
    "df.to_csv(output_file_path, index=False)\n",
    "\n",
    "print(\"Data processing completed and the csv file has been saved.\")\n"
   ]
  },
  {
   "cell_type": "code",
   "execution_count": 5,
   "metadata": {},
   "outputs": [
    {
     "name": "stdout",
     "output_type": "stream",
     "text": [
      "  ttd_gene_id                                  target_name   gene_symbol  \\\n",
      "0      T47101  Fibroblast growth factor receptor 1 (FGFR1)  SYMBOL:FGFR1   \n",
      "1      T59328      Epidermal growth factor receptor (EGFR)   SYMBOL:EGFR   \n",
      "2      T89515                Polypeptide deformylase (PDF)    SYMBOL:PDF   \n",
      "3      T08391                       Janus kinase 2 (JAK-2)   SYMBOL:JAK2   \n",
      "4      T07663                 Phosphodiesterase 5A (PDE5A)  SYMBOL:PDE5A   \n",
      "\n",
      "  ttd_uniprot_id target_type  \\\n",
      "0    FGFR1_HUMAN  Successful   \n",
      "1     EGFR_HUMAN  Successful   \n",
      "2     DEFM_HUMAN  Successful   \n",
      "3     JAK2_HUMAN  Successful   \n",
      "4    PDE5A_HUMAN  Successful   \n",
      "\n",
      "                                            synonyms  \\\n",
      "0  c-fgr; bFGF-R-1; bFGF-R; N-sam; HBGFR; Fms-lik...   \n",
      "1  Receptor tyrosine-protein kinase erbB-1; Proto...   \n",
      "2                                                PDF   \n",
      "3                       Tyrosine-protein kinase JAK2   \n",
      "4  cGMP-specific 3',5'-cyclic phosphodiesterase; ...   \n",
      "\n",
      "                                            function  \\\n",
      "0  Required for normal mesoderm patterning and co...   \n",
      "1  Receptor tyrosine kinase binding ligands of th...   \n",
      "2  Bifunctional enzyme. Involved in de novo dTMP ...   \n",
      "3  Mediates essential signaling events in both in...   \n",
      "4  Plays a role in signal transduction by regulat...   \n",
      "\n",
      "                      bio_class    ec_number  \\\n",
      "0                        Kinase  EC 2.7.10.1   \n",
      "1                        Kinase  EC 2.7.10.1   \n",
      "2    CH-NH donor oxidoreductase  EC 3.5.1.88   \n",
      "3                        Kinase  EC 2.7.10.2   \n",
      "4  Phosphoric diester hydrolase  EC 3.1.4.35   \n",
      "\n",
      "                                            sequence  \n",
      "0  MWSWKCLLFWAVLVTATLCTARPSPTLPEQAQPWGAPVEVESFLVH...  \n",
      "1  MRPSGTAGAALLALLAALCPASRALEEKKVCQGTSNKLTQLGTFED...  \n",
      "2  MARLWGALSLWPLWAAVPWGGAAAVGVRACSSTAAPDGVEGPALRR...  \n",
      "3  MGMACLTMTEMEGTSTSSIYQNGDISGNANSMKQIDPVLQVYLYHS...  \n",
      "4  MERAGPSFGQQRQQQQPQQQKQQQRDQDSVEAWLDDHWDFTFSYFV...  \n"
     ]
    }
   ],
   "source": [
    "import pandas as pd\n",
    "\n",
    "df1 = pd.read_csv('P1-06-Target_disease_extracted.csv')\n",
    "df2 = pd.read_csv('../idmapping/ttd_gene_id.tsv', sep='\\t')\n",
    "\n",
    "df2.rename(columns={'target_id': 'gene_symbol', 'ttd_target_id': 'ttd_gene_id'}, inplace=True)\n",
    "print(df2.head())\n",
    "merged_df = pd.merge(\n",
    "    df1,\n",
    "    df2[[\"ttd_gene_id\", \"gene_symbol\"]],\n",
    "    left_on=\"source_id\",\n",
    "    right_on=\"ttd_gene_id\",\n",
    "    how=\"left\",\n",
    ")\n",
    "\n",
    "merged_df.drop(\"ttd_gene_id\", axis=1, inplace=True)\n",
    "merged_df[\"source_name\"] = merged_df[\"gene_symbol\"].str.split(\":\").str[1]\n",
    "merged_df[\"source_id\"] = merged_df[\"gene_symbol\"]\n",
    "merged_df.drop(\"gene_symbol\", axis=1, inplace=True)\n",
    "invalid_df = merged_df[merged_df[\"source_id\"].isnull() | merged_df[\"target_id\"].isnull()]\n",
    "merged_df = merged_df[merged_df[\"source_id\"].notnull() & merged_df[\"target_id\"].notnull()]\n",
    "\n",
    "invalid_df.to_csv(\"invalid_ttd_target_disease.tsv\", index=False, sep=\"\\t\")\n",
    "merged_df.to_csv(\"formatted_ttd_target_disease.tsv\", index=False, sep=\"\\t\")"
   ]
  }
 ],
 "metadata": {
  "kernelspec": {
   "display_name": "Python 3",
   "language": "python",
   "name": "python3"
  },
  "language_info": {
   "codemirror_mode": {
    "name": "ipython",
    "version": 3
   },
   "file_extension": ".py",
   "mimetype": "text/x-python",
   "name": "python",
   "nbconvert_exporter": "python",
   "pygments_lexer": "ipython3",
   "version": "3.10.13"
  }
 },
 "nbformat": 4,
 "nbformat_minor": 2
}
