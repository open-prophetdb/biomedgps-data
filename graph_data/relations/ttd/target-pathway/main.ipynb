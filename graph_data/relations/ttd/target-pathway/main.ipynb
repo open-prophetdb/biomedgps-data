{
 "cells": [
  {
   "cell_type": "code",
   "execution_count": null,
   "metadata": {},
   "outputs": [],
   "source": [
    "!pip3 install pandas"
   ]
  },
  {
   "cell_type": "code",
   "execution_count": 1,
   "metadata": {},
   "outputs": [
    {
     "name": "stdout",
     "output_type": "stream",
     "text": [
      "P4-01-Target-KEGGpathway_all.txt: Permission denied\n",
      "--2024-04-16 11:53:14--  https://db.idrblab.net/ttd/sites/default/files/ttd_database/P4-06-Target-wikipathway_all.txt\n",
      "Resolving db.idrblab.net (db.idrblab.net)... 47.88.56.212\n",
      "Connecting to db.idrblab.net (db.idrblab.net)|47.88.56.212|:443... connected.\n",
      "HTTP request sent, awaiting response... 200 OK\n",
      "Length: 372677 (364K) [text/plain]\n",
      "Saving to: ‘P4-06-Target-wikipathway_all.txt’\n",
      "\n",
      "P4-06-Target-wikipa 100%[===================>] 363.94K  1.13MB/s    in 0.3s    \n",
      "\n",
      "2024-04-16 11:53:14 (1.13 MB/s) - ‘P4-06-Target-wikipathway_all.txt’ saved [372677/372677]\n",
      "\n"
     ]
    }
   ],
   "source": [
    "!wget https://db.idrblab.net/ttd/sites/default/files/ttd_database/P4-01-Target-KEGGpathway_all.txt -O P4-01-Target-KEGGpathway_all.txt\n",
    "!wget https://db.idrblab.net/ttd/sites/default/files/ttd_database/P4-06-Target-wikipathway_all.txt -O P4-06-Target-wikipathway_all.txt"
   ]
  },
  {
   "cell_type": "code",
   "execution_count": 2,
   "metadata": {},
   "outputs": [],
   "source": [
    "import pandas as pd\n",
    "\n",
    "def extract(filepath, id_prefix=\"KEGG\"):\n",
    "    \"\"\"Extracts data from a TTD file and saves it to a CSV file.\n",
    "\n",
    "    Args:\n",
    "        filepath (str): The path to the TTD file.\n",
    "        id_prefix (str, optional): The prefix to add to the target ID. Defaults to \"KEGG\". It can be \"KEGG\" or \"WikiPathways\".\n",
    "    \"\"\"\n",
    "    data = []\n",
    "\n",
    "    with open(filepath, \"r\") as file:\n",
    "        for i in range(0, 18):\n",
    "            next(file)\n",
    "\n",
    "        for line in file:\n",
    "            parts = line.strip().split('\\t')\n",
    "            if len(parts) == 3:\n",
    "                ttdid, kegg_id, kegg_name = parts\n",
    "                formatted_kegg_id = f\"{id_prefix}:{kegg_id}\"\n",
    "                data.append({\n",
    "                    'source_id': ttdid,\n",
    "                    'source_type': 'Gene',\n",
    "                    'target_id': formatted_kegg_id,\n",
    "                    'target_type': 'Pathway',\n",
    "                    'source_name': '',\n",
    "                    'target_name': kegg_name,\n",
    "                    'relation_type': 'Hetionet::GpPW::Gene:Pathway',\n",
    "                    'ttd_gene_id': ttdid,\n",
    "                    'ttd_pathway_id': kegg_id,\n",
    "                    'resource': 'TTD'\n",
    "                })\n",
    "\n",
    "    df = pd.DataFrame(data)\n",
    "    output_filepath = filepath.replace(\".txt\", \"_extracted.csv\")\n",
    "    df.to_csv(output_filepath, index=False)"
   ]
  },
  {
   "cell_type": "code",
   "execution_count": 3,
   "metadata": {},
   "outputs": [],
   "source": [
    "extract(\"P4-01-Target-KEGGpathway_all.txt\", \"KEGG\")\n",
    "extract(\"P4-06-Target-wikipathway_all.txt\", \"WikiPathways\")"
   ]
  },
  {
   "cell_type": "code",
   "execution_count": 3,
   "metadata": {},
   "outputs": [],
   "source": [
    "import pandas as pd\n",
    "\n",
    "def format_df(target_pathway_file, gene_symbol_file, output_file):\n",
    "    df1 = pd.read_csv(target_pathway_file, sep=',')\n",
    "    df2 = pd.read_csv(gene_symbol_file, sep=gene_symbol_file.endswith(\"tsv\") and \"\\t\" or \",\")\n",
    "\n",
    "    df2.rename(columns={'target_id': 'gene_symbol'}, inplace=True)\n",
    "    print(df2.head())\n",
    "    merged_df = pd.merge(\n",
    "        df1,\n",
    "        df2[[\"ttd_target_id\", \"gene_symbol\"]],\n",
    "        left_on=\"source_id\",\n",
    "        right_on=\"ttd_target_id\",\n",
    "        how=\"left\",\n",
    "    )\n",
    "\n",
    "    merged_df.drop('ttd_target_id', axis=1, inplace=True)\n",
    "    merged_df[\"source_name\"] = merged_df[\"gene_symbol\"].str.split(\":\").str[1]\n",
    "    merged_df[\"source_id\"] = merged_df[\"gene_symbol\"]\n",
    "    merged_df.drop(\"gene_symbol\", axis=1, inplace=True)\n",
    "\n",
    "    merged_df.to_csv(output_file, index=False, sep=\"\\t\")"
   ]
  },
  {
   "cell_type": "code",
   "execution_count": 7,
   "metadata": {},
   "outputs": [
    {
     "name": "stdout",
     "output_type": "stream",
     "text": [
      "  ttd_target_id                                  target_name   gene_symbol  \\\n",
      "0        T47101  Fibroblast growth factor receptor 1 (FGFR1)  SYMBOL:FGFR1   \n",
      "1        T59328      Epidermal growth factor receptor (EGFR)   SYMBOL:EGFR   \n",
      "2        T89515                Polypeptide deformylase (PDF)    SYMBOL:PDF   \n",
      "3        T08391                       Janus kinase 2 (JAK-2)   SYMBOL:JAK2   \n",
      "4        T07663                 Phosphodiesterase 5A (PDE5A)  SYMBOL:PDE5A   \n",
      "\n",
      "  ttd_uniprot_id target_type  \\\n",
      "0    FGFR1_HUMAN  Successful   \n",
      "1     EGFR_HUMAN  Successful   \n",
      "2     DEFM_HUMAN  Successful   \n",
      "3     JAK2_HUMAN  Successful   \n",
      "4    PDE5A_HUMAN  Successful   \n",
      "\n",
      "                                            synonyms  \\\n",
      "0  c-fgr; bFGF-R-1; bFGF-R; N-sam; HBGFR; Fms-lik...   \n",
      "1  Receptor tyrosine-protein kinase erbB-1; Proto...   \n",
      "2                                                PDF   \n",
      "3                       Tyrosine-protein kinase JAK2   \n",
      "4  cGMP-specific 3',5'-cyclic phosphodiesterase; ...   \n",
      "\n",
      "                                            function  \\\n",
      "0  Required for normal mesoderm patterning and co...   \n",
      "1  Receptor tyrosine kinase binding ligands of th...   \n",
      "2  Bifunctional enzyme. Involved in de novo dTMP ...   \n",
      "3  Mediates essential signaling events in both in...   \n",
      "4  Plays a role in signal transduction by regulat...   \n",
      "\n",
      "                      bio_class    ec_number  \\\n",
      "0                        Kinase  EC 2.7.10.1   \n",
      "1                        Kinase  EC 2.7.10.1   \n",
      "2    CH-NH donor oxidoreductase  EC 3.5.1.88   \n",
      "3                        Kinase  EC 2.7.10.2   \n",
      "4  Phosphoric diester hydrolase  EC 3.1.4.35   \n",
      "\n",
      "                                            sequence  \n",
      "0  MWSWKCLLFWAVLVTATLCTARPSPTLPEQAQPWGAPVEVESFLVH...  \n",
      "1  MRPSGTAGAALLALLAALCPASRALEEKKVCQGTSNKLTQLGTFED...  \n",
      "2  MARLWGALSLWPLWAAVPWGGAAAVGVRACSSTAAPDGVEGPALRR...  \n",
      "3  MGMACLTMTEMEGTSTSSIYQNGDISGNANSMKQIDPVLQVYLYHS...  \n",
      "4  MERAGPSFGQQRQQQQPQQQKQQQRDQDSVEAWLDDHWDFTFSYFV...  \n",
      "  ttd_target_id                                  target_name   gene_symbol  \\\n",
      "0        T47101  Fibroblast growth factor receptor 1 (FGFR1)  SYMBOL:FGFR1   \n",
      "1        T59328      Epidermal growth factor receptor (EGFR)   SYMBOL:EGFR   \n",
      "2        T89515                Polypeptide deformylase (PDF)    SYMBOL:PDF   \n",
      "3        T08391                       Janus kinase 2 (JAK-2)   SYMBOL:JAK2   \n",
      "4        T07663                 Phosphodiesterase 5A (PDE5A)  SYMBOL:PDE5A   \n",
      "\n",
      "  ttd_uniprot_id target_type  \\\n",
      "0    FGFR1_HUMAN  Successful   \n",
      "1     EGFR_HUMAN  Successful   \n",
      "2     DEFM_HUMAN  Successful   \n",
      "3     JAK2_HUMAN  Successful   \n",
      "4    PDE5A_HUMAN  Successful   \n",
      "\n",
      "                                            synonyms  \\\n",
      "0  c-fgr; bFGF-R-1; bFGF-R; N-sam; HBGFR; Fms-lik...   \n",
      "1  Receptor tyrosine-protein kinase erbB-1; Proto...   \n",
      "2                                                PDF   \n",
      "3                       Tyrosine-protein kinase JAK2   \n",
      "4  cGMP-specific 3',5'-cyclic phosphodiesterase; ...   \n",
      "\n",
      "                                            function  \\\n",
      "0  Required for normal mesoderm patterning and co...   \n",
      "1  Receptor tyrosine kinase binding ligands of th...   \n",
      "2  Bifunctional enzyme. Involved in de novo dTMP ...   \n",
      "3  Mediates essential signaling events in both in...   \n",
      "4  Plays a role in signal transduction by regulat...   \n",
      "\n",
      "                      bio_class    ec_number  \\\n",
      "0                        Kinase  EC 2.7.10.1   \n",
      "1                        Kinase  EC 2.7.10.1   \n",
      "2    CH-NH donor oxidoreductase  EC 3.5.1.88   \n",
      "3                        Kinase  EC 2.7.10.2   \n",
      "4  Phosphoric diester hydrolase  EC 3.1.4.35   \n",
      "\n",
      "                                            sequence  \n",
      "0  MWSWKCLLFWAVLVTATLCTARPSPTLPEQAQPWGAPVEVESFLVH...  \n",
      "1  MRPSGTAGAALLALLAALCPASRALEEKKVCQGTSNKLTQLGTFED...  \n",
      "2  MARLWGALSLWPLWAAVPWGGAAAVGVRACSSTAAPDGVEGPALRR...  \n",
      "3  MGMACLTMTEMEGTSTSSIYQNGDISGNANSMKQIDPVLQVYLYHS...  \n",
      "4  MERAGPSFGQQRQQQQPQQQKQQQRDQDSVEAWLDDHWDFTFSYFV...  \n"
     ]
    }
   ],
   "source": [
    "format_df(\"P4-01-Target-KEGGpathway_all_extracted.csv\", \"../idmapping/ttd_gene_id.tsv\", \"formatted_ttd_target_keggpathway.tsv\")\n",
    "format_df(\"P4-06-Target-wikipathway_all_extracted.csv\", \"../idmapping/ttd_gene_id.tsv\", \"formatted_ttd_target_wikipathway.tsv\")"
   ]
  }
 ],
 "metadata": {
  "kernelspec": {
   "display_name": "Python 3",
   "language": "python",
   "name": "python3"
  },
  "language_info": {
   "codemirror_mode": {
    "name": "ipython",
    "version": 3
   },
   "file_extension": ".py",
   "mimetype": "text/x-python",
   "name": "python",
   "nbconvert_exporter": "python",
   "pygments_lexer": "ipython3",
   "version": "3.10.13"
  }
 },
 "nbformat": 4,
 "nbformat_minor": 2
}
