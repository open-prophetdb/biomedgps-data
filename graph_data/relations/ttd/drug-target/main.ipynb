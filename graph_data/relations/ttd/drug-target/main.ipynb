{
 "cells": [
  {
   "cell_type": "code",
   "execution_count": null,
   "metadata": {},
   "outputs": [],
   "source": [
    "!pip3 install pandas"
   ]
  },
  {
   "cell_type": "code",
   "execution_count": 1,
   "metadata": {},
   "outputs": [
    {
     "name": "stdout",
     "output_type": "stream",
     "text": [
      "--2024-04-16 12:13:31--  https://db.idrblab.net/ttd/sites/default/files/ttd_database/P1-01-TTD_target_download.txt\n",
      "Resolving db.idrblab.net (db.idrblab.net)... 47.88.56.212\n",
      "Connecting to db.idrblab.net (db.idrblab.net)|47.88.56.212|:443... connected.\n",
      "HTTP request sent, awaiting response... 200 OK\n",
      "Length: 8672051 (8.3M) [text/plain]\n",
      "Saving to: ‘P1-01-TTD_target_download.txt’\n",
      "\n",
      "P1-01-TTD_target_do 100%[===================>]   8.27M  6.35MB/s    in 1.3s    \n",
      "\n",
      "2024-04-16 12:13:33 (6.35 MB/s) - ‘P1-01-TTD_target_download.txt’ saved [8672051/8672051]\n",
      "\n",
      "--2024-04-16 12:13:33--  https://db.idrblab.net/ttd/sites/default/files/ttd_database/P1-02-TTD_drug_download.txt\n",
      "Resolving db.idrblab.net (db.idrblab.net)... 47.88.56.212\n",
      "Connecting to db.idrblab.net (db.idrblab.net)|47.88.56.212|:443... connected.\n",
      "HTTP request sent, awaiting response... 200 OK\n",
      "Length: 12463915 (12M) [text/plain]\n",
      "Saving to: ‘P1-02-TTD_drug_download.txt’\n",
      "\n",
      "P1-02-TTD_drug_down 100%[===================>]  11.89M  6.53MB/s    in 1.8s    \n",
      "\n",
      "2024-04-16 12:13:35 (6.53 MB/s) - ‘P1-02-TTD_drug_download.txt’ saved [12463915/12463915]\n",
      "\n"
     ]
    }
   ],
   "source": [
    "!wget https://db.idrblab.net/ttd/sites/default/files/ttd_database/P1-01-TTD_target_download.txt -O P1-01-TTD_target_download.txt\n",
    "!wget https://db.idrblab.net/ttd/sites/default/files/ttd_database/P1-02-TTD_drug_download.txt -O P1-02-TTD_drug_download.txt"
   ]
  },
  {
   "cell_type": "code",
   "execution_count": 10,
   "metadata": {},
   "outputs": [],
   "source": [
    "import pandas as pd\n",
    "\n",
    "def parse_section(section):\n",
    "    \"\"\"\n",
    "    Parse a section of the file and extract the data.\n",
    "    \"\"\"\n",
    "    base_data = {\n",
    "        'ttd_target_id': ''\n",
    "    }\n",
    "\n",
    "    lines = section.split('\\n')\n",
    "    for line in lines:\n",
    "        parts = line.split('\\t')\n",
    "        if parts[1] == 'TARGETID':\n",
    "            base_data['ttd_target_id'] = parts[2]\n",
    "    \n",
    "    druginfo_data = []\n",
    "    for line in lines:\n",
    "        parts = line.split('\\t')\n",
    "        if parts[1] == 'DRUGINFO':\n",
    "            drug_data = base_data.copy()\n",
    "            drug_data.update({\n",
    "                'source_id': parts[2],\n",
    "                'source_name': parts[3],\n",
    "                'source_type': 'Compound',\n",
    "                'target_type': 'Gene',\n",
    "                'relation_type': 'DRUGBANK::target::Compound:Gene',\n",
    "                'ttd_source_id': parts[2],\n",
    "                'resource': 'TTD'\n",
    "            })\n",
    "            druginfo_data.append(drug_data)\n",
    "    return druginfo_data\n",
    "\n",
    "def process_file(filepath):\n",
    "    \"\"\"\n",
    "    Process a file and extract all the data.\n",
    "    \"\"\"\n",
    "    with open(filepath, 'r') as file:\n",
    "        for i in range(0, 32):\n",
    "            next(file)\n",
    "\n",
    "        content = file.read().strip()\n",
    "        sections = content.split(\"\\n\\n\")\n",
    "\n",
    "    all_data = []\n",
    "    for section in sections:\n",
    "        section_data = parse_section(section)\n",
    "        all_data.extend(section_data)\n",
    "\n",
    "    df = pd.DataFrame(all_data)\n",
    "\n",
    "    df.to_csv(\"P1-01-TTD_target_download_extracted.csv\", index=False)\n",
    "\n",
    "process_file('P1-01-TTD_target_download.txt')"
   ]
  },
  {
   "cell_type": "code",
   "execution_count": 16,
   "metadata": {},
   "outputs": [
    {
     "name": "stdout",
     "output_type": "stream",
     "text": [
      "Number of rows before filtering:  46867 Index(['ttd_target_id', 'source_id', 'source_name', 'source_type',\n",
      "       'target_type', 'relation_type', 'ttd_source_id', 'resource',\n",
      "       'target_id', 'target_name'],\n",
      "      dtype='object')\n",
      "Number of rows after filtering:  35176\n",
      "Merge and replacement completed. The result has been saved as 'formatted_ttd_drug_target.tsv'.\n"
     ]
    }
   ],
   "source": [
    "import pandas as pd\n",
    "\n",
    "df1 = pd.read_csv(\"P1-01-TTD_target_download_extracted.csv\")\n",
    "df2 = pd.read_csv(\"../idmapping/ttd_drug_id.tsv\", sep=\"\\t\")\n",
    "df3 = pd.read_csv(\"../idmapping/ttd_gene_id.tsv\", sep=\"\\t\")\n",
    "\n",
    "merged_df = pd.merge(df1, df2, left_on=\"source_id\", right_on=\"TTDDRUID\", how=\"left\")\n",
    "merged_df[\"source_id\"] = merged_df[\"Drug_id\"]\n",
    "merged_df = merged_df.drop(columns=[\"TTDDRUID\", \"Drug_id\"])\n",
    "\n",
    "merged_df = pd.merge(\n",
    "    merged_df,\n",
    "    df3[[\"ttd_target_id\", \"target_id\", \"target_name\"]],\n",
    "    left_on=\"ttd_target_id\",\n",
    "    right_on=\"ttd_target_id\",\n",
    "    how=\"left\",\n",
    ")\n",
    "\n",
    "# Remove all rows if the target_id or source_id is missing\n",
    "print(\"Number of rows before filtering: \", len(merged_df), merged_df.columns)\n",
    "invalid_rows = merged_df[\n",
    "    (merged_df[\"target_id\"].isna() | merged_df[\"source_id\"].isna())\n",
    "]\n",
    "merged_df = merged_df[merged_df[\"target_id\"].notna() & merged_df[\"source_id\"].notna()]\n",
    "print(\"Number of rows after filtering: \", len(merged_df))\n",
    "\n",
    "invalid_rows.to_csv(\"invalid_ttd_drug_target.tsv\", index=False, sep=\"\\t\")\n",
    "merged_df.to_csv(\"formatted_ttd_drug_target.tsv\", index=False, sep=\"\\t\")\n",
    "\n",
    "print(\n",
    "    \"Merge and replacement completed. The result has been saved as 'formatted_ttd_drug_target.tsv'.\"\n",
    ")"
   ]
  }
 ],
 "metadata": {
  "kernelspec": {
   "display_name": "Python 3",
   "language": "python",
   "name": "python3"
  },
  "language_info": {
   "codemirror_mode": {
    "name": "ipython",
    "version": 3
   },
   "file_extension": ".py",
   "mimetype": "text/x-python",
   "name": "python",
   "nbconvert_exporter": "python",
   "pygments_lexer": "ipython3",
   "version": "3.10.13"
  }
 },
 "nbformat": 4,
 "nbformat_minor": 2
}
