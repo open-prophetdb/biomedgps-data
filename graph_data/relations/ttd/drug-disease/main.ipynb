{
 "cells": [
  {
   "cell_type": "code",
   "execution_count": 1,
   "metadata": {},
   "outputs": [
    {
     "name": "stdout",
     "output_type": "stream",
     "text": [
      "Requirement already satisfied: pandas in /Users/jy006/miniconda3/envs/biomedgps-data/lib/python3.10/site-packages (2.0.3)\n",
      "Requirement already satisfied: python-dateutil>=2.8.2 in /Users/jy006/miniconda3/envs/biomedgps-data/lib/python3.10/site-packages (from pandas) (2.8.2)\n",
      "Requirement already satisfied: pytz>=2020.1 in /Users/jy006/miniconda3/envs/biomedgps-data/lib/python3.10/site-packages (from pandas) (2023.3)\n",
      "Requirement already satisfied: tzdata>=2022.1 in /Users/jy006/miniconda3/envs/biomedgps-data/lib/python3.10/site-packages (from pandas) (2023.3)\n",
      "Requirement already satisfied: numpy>=1.21.0 in /Users/jy006/miniconda3/envs/biomedgps-data/lib/python3.10/site-packages (from pandas) (1.25.1)\n",
      "Requirement already satisfied: six>=1.5 in /Users/jy006/miniconda3/envs/biomedgps-data/lib/python3.10/site-packages (from python-dateutil>=2.8.2->pandas) (1.16.0)\n"
     ]
    }
   ],
   "source": [
    "!pip3 install pandas"
   ]
  },
  {
   "cell_type": "code",
   "execution_count": 2,
   "metadata": {},
   "outputs": [
    {
     "name": "stdout",
     "output_type": "stream",
     "text": [
      "--2024-04-16 12:12:00--  https://db.idrblab.net/ttd/sites/default/files/ttd_database/P1-05-Drug_disease.txt\n",
      "Resolving db.idrblab.net (db.idrblab.net)... 47.88.56.212\n",
      "Connecting to db.idrblab.net (db.idrblab.net)|47.88.56.212|:443... connected.\n",
      "HTTP request sent, awaiting response... 200 OK\n",
      "Length: 2756589 (2.6M) [text/plain]\n",
      "Saving to: ‘P1-05-Drug_disease.txt’\n",
      "\n",
      "P1-05-Drug_disease. 100%[===================>]   2.63M  4.27MB/s    in 0.6s    \n",
      "\n",
      "2024-04-16 12:12:01 (4.27 MB/s) - ‘P1-05-Drug_disease.txt’ saved [2756589/2756589]\n",
      "\n"
     ]
    }
   ],
   "source": [
    "!wget https://db.idrblab.net/ttd/sites/default/files/ttd_database/P1-05-Drug_disease.txt -O P1-05-Drug_disease.txt"
   ]
  },
  {
   "cell_type": "code",
   "execution_count": 3,
   "metadata": {},
   "outputs": [],
   "source": [
    "import csv\n",
    "\n",
    "def parse_section(section):\n",
    "    \"\"\"Parse a section of the input file and return the extracted data\"\"\"\n",
    "    lines = section.strip().split(\"\\n\")\n",
    "    ttddruid, drug_name, indications = \"\", \"\", []\n",
    "    for line in lines:\n",
    "        if line.startswith(\"TTDDRUID\"):\n",
    "            ttddruid = line.split()[1]\n",
    "        elif line.startswith(\"DRUGNAME\"):\n",
    "            drug_name = ' '.join(line.split()[1:])\n",
    "        elif line.startswith(\"INDICATI\"):\n",
    "            parts = line.split(\"ICD-11:\")\n",
    "            if len(parts) > 1:\n",
    "                disease_name = parts[0].replace(\"INDICATI\", \"\").strip()\n",
    "                icd_code = \"ICD-11:\" + parts[1].split()[0].replace(\" \", \"\")\n",
    "                indications.append((disease_name, icd_code))\n",
    "    return ttddruid, drug_name, indications\n",
    "\n",
    "def process_file(input_file_path, output_file_path):\n",
    "    \"\"\"Process the input file and write the extracted data to the output file\"\"\"\n",
    "    with open(input_file_path, 'r', encoding='utf-8') as file:\n",
    "        for i in range(22):  # 跳过前4行\n",
    "            next(file)\n",
    "\n",
    "        content = file.read()\n",
    "    sections = content.split(\"\\n\\n\")\n",
    "    \n",
    "    with open(output_file_path, 'w', newline='', encoding='utf-8') as csvfile:\n",
    "        writer = csv.writer(csvfile)\n",
    "        writer.writerow([\"source_id\", \"source_type\", \"target_id\", \"target_type\", \"source_name\", \"target_name\", \"relation_type\", \"resource\", \"ttd_target_id\", \"ttd_source_id\"])\n",
    "        \n",
    "        for section in sections:\n",
    "            ttddruid, drug_name, indications = parse_section(section)\n",
    "            for disease_name, icd_code in indications:\n",
    "                writer.writerow([\n",
    "                    ttddruid, \"Compound\", icd_code, \"Disease\", drug_name, disease_name, \"DRUGBANK::treats::Compound:Disease\", \"TTD\", icd_code, ttddruid\n",
    "                ])\n",
    "\n",
    "input_file_path = 'P1-05-Drug_disease.txt'\n",
    "output_file_path = 'P1-05-Drug_disease-extracted.csv'\n",
    "\n",
    "process_file(input_file_path, output_file_path)\n"
   ]
  },
  {
   "cell_type": "code",
   "execution_count": 1,
   "metadata": {},
   "outputs": [
    {
     "name": "stdout",
     "output_type": "stream",
     "text": [
      "Data processing completed and the new table has been saved.\n"
     ]
    }
   ],
   "source": [
    "import pandas as pd\n",
    "\n",
    "file_path1 = 'P1-05-Drug_disease-extracted.csv'\n",
    "file_path2 = '../idmapping/ttd_drug_id.tsv'\n",
    "\n",
    "df1 = pd.read_csv(file_path1)\n",
    "df2 = pd.read_csv(file_path2, sep='\\t')\n",
    "\n",
    "merged_df = pd.merge(df1, df2, left_on='source_id', right_on='TTDDRUID', how='left')\n",
    "merged_df['source_id'] = merged_df['Drug_id']\n",
    "merged_df.drop(['TTDDRUID', 'Drug_id'], axis=1, inplace=True)\n",
    "\n",
    "output_file_path = 'formatted_ttd_drug_disease.tsv'\n",
    "invalid = merged_df[merged_df['source_id'].isnull() | merged_df['target_id'].isnull()]\n",
    "merged_df = merged_df[~(merged_df['source_id'].isnull() | merged_df['target_id'].isnull())]\n",
    "\n",
    "invalid = invalid.to_csv('invalid_ttd_drug_disease.tsv', index=False, sep='\\t')\n",
    "merged_df.to_csv(output_file_path, index=False, sep='\\t')\n",
    "\n",
    "print(\"Data processing completed and the new table has been saved.\")\n"
   ]
  }
 ],
 "metadata": {
  "kernelspec": {
   "display_name": "Python 3",
   "language": "python",
   "name": "python3"
  },
  "language_info": {
   "codemirror_mode": {
    "name": "ipython",
    "version": 3
   },
   "file_extension": ".py",
   "mimetype": "text/x-python",
   "name": "python",
   "nbconvert_exporter": "python",
   "pygments_lexer": "ipython3",
   "version": "3.10.13"
  }
 },
 "nbformat": 4,
 "nbformat_minor": 2
}
