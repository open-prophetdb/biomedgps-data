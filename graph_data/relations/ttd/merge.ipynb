{
 "cells": [
  {
   "cell_type": "code",
   "execution_count": 3,
   "metadata": {},
   "outputs": [],
   "source": [
    "import os\n",
    "import pandas as pd\n",
    "\n",
    "files = [\n",
    "    \"./biomarker-disease/formatted_ttd_biomarker_disease.tsv\",\n",
    "    \"./drug-disease/formatted_ttd_drug_disease.tsv\",\n",
    "    \"./drug-target/formatted_ttd_drug_target.tsv\",\n",
    "    \"./target-disease/formatted_ttd_target_disease.tsv\",\n",
    "    \"./target-pathway/formatted_ttd_target_keggpathway.tsv\",\n",
    "    \"./target-pathway/formatted_ttd_target_wikipathway.tsv\",\n",
    "]\n",
    "\n",
    "merged = pd.DataFrame()\n",
    "for file in files:\n",
    "    if not os.path.exists(file):\n",
    "        raise Exception(f\"File {file} does not exist\")\n",
    "    \n",
    "    d = pd.read_csv(file, sep=\"\\t\")\n",
    "    d.drop(columns=[c for c in d.columns if c.startswith(\"ttd_\")], inplace=True)\n",
    "\n",
    "    merged = pd.concat([merged, d], ignore_index=True)\n",
    "\n",
    "merged.to_csv(\"merged_ttd.tsv\", sep=\"\\t\", index=False)"
   ]
  }
 ],
 "metadata": {
  "kernelspec": {
   "display_name": "biomedgps-data",
   "language": "python",
   "name": "python3"
  },
  "language_info": {
   "codemirror_mode": {
    "name": "ipython",
    "version": 3
   },
   "file_extension": ".py",
   "mimetype": "text/x-python",
   "name": "python",
   "nbconvert_exporter": "python",
   "pygments_lexer": "ipython3",
   "version": "3.10.13"
  }
 },
 "nbformat": 4,
 "nbformat_minor": 2
}
