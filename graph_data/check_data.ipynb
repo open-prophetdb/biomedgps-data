{
 "cells": [
  {
   "cell_type": "markdown",
   "metadata": {},
   "source": [
    "## Check all entities and edges whether are valid and follow the rules"
   ]
  },
  {
   "cell_type": "code",
   "execution_count": 3,
   "metadata": {},
   "outputs": [],
   "source": [
    "import pandas as pd\n",
    "\n",
    "entities = pd.read_csv(\"./entities.tsv\", sep=\"\\t\", low_memory=False)"
   ]
  },
  {
   "cell_type": "code",
   "execution_count": 25,
   "metadata": {},
   "outputs": [],
   "source": [
    "entities[\"xrefs\"] = entities[\"xrefs\"].fillna(\"\")\n",
    "entities[\"xrefs_list\"] = entities[\"xrefs\"].str.split(\"|\")\n",
    "\n",
    "id_priority = {\n",
    "    \"Disease\": [\"MONDO\", \"MESH\", \"UMLS\"],\n",
    "    \"Symptom\": [\"SYMP\", \"UMLS\"],\n",
    "    \"Compound\": [\"DrugBank\", \"MESH\"],\n",
    "}\n",
    "\n",
    "def choose_id(ids, label):\n",
    "    for prefix in id_priority.get(label, []):\n",
    "        for id in ids:\n",
    "            if id.startswith(prefix):\n",
    "                return id\n",
    "    return list(ids)[0]\n",
    "\n",
    "merged_rows = []\n",
    "\n",
    "for label, group in entities.groupby(\"label\"):\n",
    "    if label not in id_priority:\n",
    "        merged_rows.extend(group.to_dict(orient=\"records\"))\n",
    "        continue\n",
    "\n",
    "    id_to_index = {}\n",
    "    for index, row in group.iterrows():\n",
    "        id_to_index.setdefault(row[\"id\"], []).append(index)\n",
    "        for xref in row[\"xrefs_list\"]:\n",
    "            if xref:\n",
    "                id_to_index.setdefault(xref, []).append(index)\n",
    "\n",
    "    processed_indices = set()\n",
    "    for indices in id_to_index.values():\n",
    "        if len(indices) > 1:\n",
    "            related_rows = group.loc[indices]\n",
    "            processed_indices.update(indices)\n",
    "\n",
    "            all_ids = set(related_rows[\"id\"].tolist())\n",
    "            all_xrefs = set(related_rows[\"xrefs\"].str.cat(sep=\"|\").split(\"|\"))\n",
    "            merged_xrefs = all_ids.union(all_xrefs) - {\"\"}\n",
    "\n",
    "            main_id = choose_id(all_ids, label)\n",
    "            merged_row = related_rows.iloc[0].copy()\n",
    "            for col in related_rows.columns:\n",
    "                if col not in [\"id\", \"xrefs\", \"xrefs_list\"]:\n",
    "                    values = related_rows[col].fillna(\"\").unique()\n",
    "                    merged_row[col] = \"|\".join(values)\n",
    "            merged_row[\"xrefs\"] = \"|\".join(merged_xrefs)\n",
    "            merged_row[\"id\"] = main_id\n",
    "            merged_rows.append(merged_row)\n",
    "\n",
    "    unprocessed_rows = group.loc[group.index.difference(list(processed_indices))]\n",
    "    merged_rows.extend(unprocessed_rows.to_dict(orient=\"records\"))\n",
    "\n",
    "merged_df = pd.DataFrame(merged_rows)\n",
    "# Remove the xrefs_list column\n",
    "merged_df = merged_df.drop(columns=[\"xrefs_list\"]).drop_duplicates()"
   ]
  },
  {
   "cell_type": "code",
   "execution_count": 18,
   "metadata": {},
   "outputs": [
    {
     "data": {
      "text/plain": [
       "array(['Symptom', 'Disease', 'Compound', 'Metabolite', 'Gene',\n",
       "       'MolecularFunction', 'CellularComponent', 'BiologicalProcess'],\n",
       "      dtype=object)"
      ]
     },
     "execution_count": 18,
     "metadata": {},
     "output_type": "execute_result"
    }
   ],
   "source": [
    "merged_df"
   ]
  }
 ],
 "metadata": {
  "kernelspec": {
   "display_name": "biomedgps-data",
   "language": "python",
   "name": "python3"
  },
  "language_info": {
   "codemirror_mode": {
    "name": "ipython",
    "version": 3
   },
   "file_extension": ".py",
   "mimetype": "text/x-python",
   "name": "python",
   "nbconvert_exporter": "python",
   "pygments_lexer": "ipython3",
   "version": "3.10.13"
  }
 },
 "nbformat": 4,
 "nbformat_minor": 2
}
