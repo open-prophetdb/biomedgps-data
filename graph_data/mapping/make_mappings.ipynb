{
 "cells": [
  {
   "cell_type": "markdown",
   "metadata": {},
   "source": [
    "### Make a mapping database for human genes and their corresponding mouse orthologs\n",
    "\n",
    "Download Website: https://www.informatics.jax.org/downloads/reports\n",
    "\n",
    "File: HOM_MouseHumanSequence.rpt.txt\n"
   ]
  },
  {
   "cell_type": "code",
   "execution_count": 1,
   "metadata": {},
   "outputs": [
    {
     "name": "stdout",
     "output_type": "stream",
     "text": [
      "--2024-08-14 08:31:43--  http://www.informatics.jax.org/downloads/reports/HOM_MouseHumanSequence.rpt\n",
      "Resolving www.informatics.jax.org (www.informatics.jax.org)... 64.147.54.32\n",
      "Connecting to www.informatics.jax.org (www.informatics.jax.org)|64.147.54.32|:80... connected.\n",
      "HTTP request sent, awaiting response... 200 OK\n",
      "Length: 15095260 (14M)\n",
      "Saving to: ‘HOM_MouseHumanSequence.rpt.txt’\n",
      "\n",
      "HOM_MouseHumanSeque 100%[===================>]  14.40M  7.84MB/s    in 1.8s    \n",
      "\n",
      "2024-08-14 08:31:44 (7.84 MB/s) - ‘HOM_MouseHumanSequence.rpt.txt’ saved [15095260/15095260]\n",
      "\n"
     ]
    }
   ],
   "source": [
    "!wget -O HOM_MouseHumanSequence.rpt.txt http://www.informatics.jax.org/downloads/reports/HOM_MouseHumanSequence.rpt"
   ]
  },
  {
   "cell_type": "code",
   "execution_count": 7,
   "metadata": {},
   "outputs": [],
   "source": [
    "import pandas as pd\n",
    "genes = pd.read_csv('HOM_MouseHumanSequence.rpt.txt', sep='\\t')\n",
    "genes.rename(columns = {\n",
    "    \"DB Class Key\": \"key\",\n",
    "    \"Common Organism Name\": \"organism\",\n",
    "    \"NCBI Taxon ID\": \"taxid\",\n",
    "    \"Symbol\": \"symbol\",\n",
    "\t\"EntrezGene ID\": \"entrez_id\",\n",
    "    \"Mouse MGI ID\": \"mgi_id\",\n",
    "    \"HGNC ID\": \"hgnc_id\",\n",
    "    \"OMIM Gene ID\": \"omim_gene_id\",\n",
    "    \"Genetic Location\": \"location\",\n",
    "    \"Genome Coordinates (mouse: GRCm39 human: GRCh38)\": \"genome_coordinates\",\n",
    "    \"Nucleotide RefSeq IDs\": \"nucleotide_refseq_id\",\n",
    "    \"Protein RefSeq IDs\": \"protein_refseq_id\",\n",
    "    \"SWISS_PROT IDs\": \"swiss_prot_id\",\n",
    "}, inplace=True)\n",
    "mouse_df = genes[genes[\"organism\"] == \"mouse, laboratory\"]\n",
    "human_df = genes[genes[\"organism\"] == \"human\"]\n",
    "\n",
    "merged_df = pd.merge(\n",
    "    mouse_df, human_df, on=\"key\", suffixes=(\"_mouse\", \"_human\")\n",
    ")\n",
    "merged_df[\"entrez_id_human\"] = merged_df[\"entrez_id_human\"].apply(\n",
    "    lambda x: f\"ENTREZ:{int(x)}\" if pd.notna(x) else x\n",
    ")\n",
    "merged_df[\"entrez_id_mouse\"] = merged_df[\"entrez_id_mouse\"].apply(\n",
    "    lambda x: f\"ENTREZ:{int(x)}\" if pd.notna(x) else x\n",
    ")\n",
    "merged_df.to_csv(\"human_mouse_gene_mappings.tsv\", sep=\"\\t\", index=False)"
   ]
  }
 ],
 "metadata": {
  "kernelspec": {
   "display_name": "biomedgps-data",
   "language": "python",
   "name": "python3"
  },
  "language_info": {
   "codemirror_mode": {
    "name": "ipython",
    "version": 3
   },
   "file_extension": ".py",
   "mimetype": "text/x-python",
   "name": "python",
   "nbconvert_exporter": "python",
   "pygments_lexer": "ipython3",
   "version": "3.10.13"
  }
 },
 "nbformat": 4,
 "nbformat_minor": 2
}
