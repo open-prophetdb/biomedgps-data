{
 "cells": [
  {
   "cell_type": "markdown",
   "metadata": {},
   "source": [
    "## Prepare training, validation and test datasets"
   ]
  },
  {
   "cell_type": "markdown",
   "metadata": {},
   "source": [
    "We need to prepare the training, validation and external test datasets. We will use the training dataset to train the model and the test dataset to evaluate the model for all KGE models."
   ]
  },
  {
   "cell_type": "markdown",
   "metadata": {},
   "source": [
    "### [Require to Modify According to Your Situation] Prepare all relation files"
   ]
  },
  {
   "cell_type": "code",
   "execution_count": 1,
   "metadata": {},
   "outputs": [
    {
     "name": "stdout",
     "output_type": "stream",
     "text": [
      "Merging the following files:\n",
      "/Users/jy006/Documents/Code/BioMedGPS/biomedgps-data/graph_data/formatted_relations/drkg/unformatted_drkg.tsv\n",
      "/Users/jy006/Documents/Code/BioMedGPS/biomedgps-data/graph_data/formatted_relations/drkg/formatted_drkg.tsv\n",
      "/Users/jy006/Documents/Code/BioMedGPS/biomedgps-data/graph_data/formatted_relations/hsdn/formatted_hsdn.tsv\n",
      "/Users/jy006/Documents/Code/BioMedGPS/biomedgps-data/graph_data/custom_relations/formatted_malacards_mecfs.tsv\n",
      "/Users/jy006/Documents/Code/BioMedGPS/biomedgps-data/graph_data/custom_relations/formatted_custom_all_v20240119.tsv\n",
      "Number of entities: 815043\n"
     ]
    }
   ],
   "source": [
    "import os\n",
    "\n",
    "root_dir = os.path.dirname(os.getcwd())\n",
    "\n",
    "dataset_name = \"biomedgps-full-v20240127\"\n",
    "outputdir = os.path.join(root_dir, \"datasets\", dataset_name)\n",
    "graph_data_dir = os.path.join(root_dir, \"graph_data\")\n",
    "\n",
    "formatted_ctd = os.path.join(\n",
    "    graph_data_dir, \"formatted_relations\", \"drkg\", \"unformatted_drkg.tsv\"\n",
    ")\n",
    "formatted_drkg = os.path.join(\n",
    "    graph_data_dir, \"formatted_relations\", \"drkg\", \"formatted_drkg.tsv\"\n",
    ")\n",
    "formatted_hsdn = os.path.join(\n",
    "    graph_data_dir, \"formatted_relations\", \"hsdn\", \"formatted_hsdn.tsv\"\n",
    ")\n",
    "formatted_malacards_mecfs = os.path.join(\n",
    "    graph_data_dir, \"custom_relations\", \"formatted_malacards_mecfs.tsv\"\n",
    ")\n",
    "formatted_custom = os.path.join(\n",
    "    graph_data_dir, \"custom_relations\", \"formatted_custom_all_v20240119.tsv\"\n",
    ")\n",
    "\n",
    "files = [\n",
    "    formatted_ctd,\n",
    "    formatted_drkg,\n",
    "    formatted_hsdn,\n",
    "    formatted_malacards_mecfs,\n",
    "    formatted_custom,\n",
    "]\n",
    "\n",
    "print(\"Merging the following files:\")\n",
    "print(\"\\n\".join(files))\n",
    "\n",
    "entity_file = os.path.join(graph_data_dir, \"entities.tsv\")\n",
    "print(\"Number of entities: {}\".format(len(open(entity_file).readlines())))"
   ]
  },
  {
   "cell_type": "markdown",
   "metadata": {},
   "source": [
    "### Dependencies"
   ]
  },
  {
   "cell_type": "code",
   "execution_count": 2,
   "metadata": {},
   "outputs": [
    {
     "name": "stdout",
     "output_type": "stream",
     "text": [
      "Adding /Users/jy006/Documents/Code/BioMedGPS/biomedgps-data/lib to sys.path\n"
     ]
    }
   ],
   "source": [
    "import os\n",
    "import sys\n",
    "\n",
    "lib_dir = os.path.join(os.path.dirname(os.getcwd()), \"lib\")\n",
    "\n",
    "print(\"Adding {} to sys.path\".format(lib_dir))\n",
    "sys.path.append(lib_dir)"
   ]
  },
  {
   "cell_type": "markdown",
   "metadata": {},
   "source": [
    "### Merge all relation files into one file"
   ]
  },
  {
   "cell_type": "code",
   "execution_count": 3,
   "metadata": {},
   "outputs": [
    {
     "name": "stdout",
     "output_type": "stream",
     "text": [
      "Running: python3 /Users/jy006/Documents/Code/BioMedGPS/biomedgps-data/lib/data.py merge-files --input /Users/jy006/Documents/Code/BioMedGPS/biomedgps-data/graph_data/formatted_relations/drkg/unformatted_drkg.tsv --input /Users/jy006/Documents/Code/BioMedGPS/biomedgps-data/graph_data/formatted_relations/drkg/formatted_drkg.tsv --input /Users/jy006/Documents/Code/BioMedGPS/biomedgps-data/graph_data/formatted_relations/hsdn/formatted_hsdn.tsv --input /Users/jy006/Documents/Code/BioMedGPS/biomedgps-data/graph_data/custom_relations/formatted_malacards_mecfs.tsv --input /Users/jy006/Documents/Code/BioMedGPS/biomedgps-data/graph_data/custom_relations/formatted_custom_all_v20240119.tsv --output /var/folders/4s/d4nr1sg91ps1k3qz00h28w_r0000gp/T/tmpe7xpg2d5/knowledge_graph.tsv\n",
      "Merging the following files:  ('/Users/jy006/Documents/Code/BioMedGPS/biomedgps-data/graph_data/formatted_relations/drkg/unformatted_drkg.tsv', '/Users/jy006/Documents/Code/BioMedGPS/biomedgps-data/graph_data/formatted_relations/drkg/formatted_drkg.tsv', '/Users/jy006/Documents/Code/BioMedGPS/biomedgps-data/graph_data/formatted_relations/hsdn/formatted_hsdn.tsv', '/Users/jy006/Documents/Code/BioMedGPS/biomedgps-data/graph_data/custom_relations/formatted_malacards_mecfs.tsv', '/Users/jy006/Documents/Code/BioMedGPS/biomedgps-data/graph_data/custom_relations/formatted_custom_all_v20240119.tsv')\n",
      "The following columns are in the /Users/jy006/Documents/Code/BioMedGPS/biomedgps-data/graph_data/formatted_relations/drkg/unformatted_drkg.tsv: ['raw_source_id', 'raw_target_id', 'raw_source_type', 'raw_target_type', 'relation_type', 'resource', 'pmids', 'key_sentence', 'source_id', 'source_type', 'target_id', 'target_type']\n",
      "The following columns are in the /Users/jy006/Documents/Code/BioMedGPS/biomedgps-data/graph_data/formatted_relations/drkg/formatted_drkg.tsv: ['raw_source_id', 'raw_target_id', 'raw_source_type', 'raw_target_type', 'relation_type', 'resource', 'pmids', 'key_sentence', 'source_id', 'source_type', 'target_id', 'target_type']\n",
      "The following columns are in the /Users/jy006/Documents/Code/BioMedGPS/biomedgps-data/graph_data/formatted_relations/hsdn/formatted_hsdn.tsv: ['raw_source_id', 'raw_target_id', 'raw_source_type', 'raw_target_type', 'relation_type', 'resource', 'pmids', 'key_sentence', 'source_id', 'source_type', 'target_id', 'target_type']\n",
      "The following columns are in the /Users/jy006/Documents/Code/BioMedGPS/biomedgps-data/graph_data/custom_relations/formatted_malacards_mecfs.tsv: ['source_id', 'source_name', 'source_type', 'target_id', 'target_name', 'target_type', 'relation_type', 'resource']\n",
      "The following columns are in the /Users/jy006/Documents/Code/BioMedGPS/biomedgps-data/graph_data/custom_relations/formatted_custom_all_v20240119.tsv: ['relation_type', 'source_name', 'source_type', 'source_id', 'target_name', 'target_type', 'target_id', 'key_sentence', 'pmids', 'resource']\n",
      "The following columns will be used:  ['relation_type', 'source_type', 'source_id', 'target_type', 'resource', 'target_id']\n",
      "Number of unique entity ids: 138000\n",
      "Number of relations: 6005665\n"
     ]
    }
   ],
   "source": [
    "import subprocess\n",
    "import pandas as pd\n",
    "import tempfile\n",
    "\n",
    "temp_dir = tempfile.mkdtemp()\n",
    "\n",
    "args = [\"python3\", os.path.join(lib_dir, \"data.py\"), \"merge-files\"]\n",
    "\n",
    "for f in files:\n",
    "    args.extend([\"--input\", f])\n",
    "\n",
    "kg_file = os.path.join(temp_dir, \"knowledge_graph.tsv\")\n",
    "annotated_kg_file = os.path.join(temp_dir, \"knowledge_graph_annotated.tsv\")\n",
    "args.extend([\"--output\", kg_file])\n",
    "\n",
    "print(\"Running: {}\".format(\" \".join(args)))\n",
    "args_str = \" \".join(args)\n",
    "\n",
    "!{args_str}\n",
    "\n",
    "if os.path.exists(kg_file):\n",
    "    df = pd.read_csv(kg_file, sep=\"\\t\")\n",
    "    source_ids = df[[\"source_id\", \"source_type\"]].drop_duplicates()\n",
    "    target_ids = df[[\"target_id\", \"target_type\"]].drop_duplicates()\n",
    "    ids = pd.concat([source_ids, target_ids]).drop_duplicates()\n",
    "    print(\"Number of unique entity ids: {}\".format(len(ids)))\n",
    "    print(\"Number of relations: {}\".format(len(df.drop_duplicates())))\n",
    "\n",
    "# Annotate the knowledge graph with the entities\n",
    "args = [\n",
    "    \"python3\",\n",
    "    os.path.join(os.path.dirname(lib_dir), \"graph_data\", \"scripts\", \"annotate_relations.py\"),\n",
    "    \"--entity-file\",\n",
    "    entity_file,\n",
    "    \"--relation-file\",\n",
    "    kg_file,\n",
    "    \"--output-dir\",\n",
    "    os.path.dirname(kg_file),\n",
    "]"
   ]
  },
  {
   "cell_type": "markdown",
   "metadata": {},
   "source": [
    "### Split the merged relation file into training, validation and test files"
   ]
  },
  {
   "cell_type": "code",
   "execution_count": 4,
   "metadata": {},
   "outputs": [
    {
     "name": "stdout",
     "output_type": "stream",
     "text": [
      "Running: python3 /Users/jy006/Documents/Code/BioMedGPS/biomedgps-data/lib/data.py split --input /var/folders/4s/d4nr1sg91ps1k3qz00h28w_r0000gp/T/tmpe7xpg2d5/knowledge_graph.tsv --output-1 /var/folders/4s/d4nr1sg91ps1k3qz00h28w_r0000gp/T/tmpe7xpg2d5/train_validation.tsv --output-2 /var/folders/4s/d4nr1sg91ps1k3qz00h28w_r0000gp/T/tmpe7xpg2d5/test.tsv --ratio 0.95\n",
      "Split files created: /var/folders/4s/d4nr1sg91ps1k3qz00h28w_r0000gp/T/tmpe7xpg2d5/train_validation.tsv and /var/folders/4s/d4nr1sg91ps1k3qz00h28w_r0000gp/T/tmpe7xpg2d5/test.tsv.\n",
      "Running: python3 /Users/jy006/Documents/Code/BioMedGPS/biomedgps-data/lib/data.py split --input /var/folders/4s/d4nr1sg91ps1k3qz00h28w_r0000gp/T/tmpe7xpg2d5/train_validation.tsv --output-1 /var/folders/4s/d4nr1sg91ps1k3qz00h28w_r0000gp/T/tmpe7xpg2d5/train.tsv --output-2 /var/folders/4s/d4nr1sg91ps1k3qz00h28w_r0000gp/T/tmpe7xpg2d5/valid.tsv --ratio 0.95\n",
      "Split files created: /var/folders/4s/d4nr1sg91ps1k3qz00h28w_r0000gp/T/tmpe7xpg2d5/train.tsv and /var/folders/4s/d4nr1sg91ps1k3qz00h28w_r0000gp/T/tmpe7xpg2d5/valid.tsv.\n"
     ]
    }
   ],
   "source": [
    "train_validation_file = os.path.join(temp_dir, \"train_validation.tsv\")\n",
    "train_file = os.path.join(temp_dir, \"train.tsv\")\n",
    "test_file = os.path.join(temp_dir, \"test.tsv\")\n",
    "valid_file = os.path.join(temp_dir, \"valid.tsv\")\n",
    "\n",
    "split_cmd = [\n",
    "    \"python3\",\n",
    "    os.path.join(lib_dir, \"data.py\"),\n",
    "    \"split\",\n",
    "    \"--input\",\n",
    "    kg_file,\n",
    "    \"--output-1\",\n",
    "    train_validation_file,\n",
    "    \"--output-2\",\n",
    "    test_file,\n",
    "    \"--ratio\",\n",
    "    \"0.95\",\n",
    "]\n",
    "\n",
    "print(\"Running: {}\".format(\" \".join(split_cmd)))\n",
    "split_cmd_str = \" \".join(split_cmd)\n",
    "!{split_cmd_str}\n",
    "print(f\"Split files created: {train_validation_file} and {test_file}.\")\n",
    "\n",
    "split_cmd = [\n",
    "    \"python3\",\n",
    "    os.path.join(lib_dir, \"data.py\"),\n",
    "    \"split\",\n",
    "    \"--input\",\n",
    "    train_validation_file,\n",
    "    \"--output-1\",\n",
    "    train_file,\n",
    "    \"--output-2\",\n",
    "    valid_file,\n",
    "    \"--ratio\",\n",
    "    \"0.95\",\n",
    "]\n",
    "\n",
    "print(\"Running: {}\".format(\" \".join(split_cmd)))\n",
    "split_cmd_str = \" \".join(split_cmd)\n",
    "!{split_cmd_str}\n",
    "print(\"Split files created: {} and {}.\".format(train_file, valid_file))"
   ]
  },
  {
   "cell_type": "markdown",
   "metadata": {},
   "source": [
    "### Check whether number of ids in train, validation, and test are the same.\n",
    "If you see the following message, you need to run the section \"Keep the same number of ids in train, validation, and test\" in the notebook.\n",
    "\n",
    "```\n",
    "ValueError: You need to keep the entity ids and relation types in the test and validation files the same as the ones in the train file.\n",
    "```"
   ]
  },
  {
   "cell_type": "code",
   "execution_count": 5,
   "metadata": {},
   "outputs": [
    {
     "name": "stdout",
     "output_type": "stream",
     "text": [
      "Running: python3 /Users/jy006/Documents/Code/BioMedGPS/biomedgps-data/lib/data.py check-ids --input /var/folders/4s/d4nr1sg91ps1k3qz00h28w_r0000gp/T/tmpe7xpg2d5/train.tsv --input /var/folders/4s/d4nr1sg91ps1k3qz00h28w_r0000gp/T/tmpe7xpg2d5/valid.tsv --input /var/folders/4s/d4nr1sg91ps1k3qz00h28w_r0000gp/T/tmpe7xpg2d5/test.tsv --output /var/folders/4s/d4nr1sg91ps1k3qz00h28w_r0000gp/T/tmpe7xpg2d5/id_checked.tsv\n",
      "Number of ids in train, validation, and test: \n",
      "       file1      file2  num_intersection  num_file1  num_file2        category\n",
      "0  train.tsv  valid.tsv             42407      95574      43328             ids\n",
      "1  train.tsv  valid.tsv               119        129        120  relation_types\n",
      "2  train.tsv   test.tsv             43351      95574      44302             ids\n",
      "3  train.tsv   test.tsv               122        129        122  relation_types\n",
      "4  valid.tsv   test.tsv             34059      43328      44302             ids\n",
      "5  valid.tsv   test.tsv               119        120        122  relation_types\n",
      "Traceback (most recent call last):\n",
      "  File \"/Users/jy006/Documents/Code/BioMedGPS/biomedgps-data/lib/data.py\", line 452, in <module>\n",
      "    cli()\n",
      "  File \"/Users/jy006/miniconda3/envs/biomedgps-data/lib/python3.10/site-packages/click/core.py\", line 1157, in __call__\n",
      "    return self.main(*args, **kwargs)\n",
      "  File \"/Users/jy006/miniconda3/envs/biomedgps-data/lib/python3.10/site-packages/click/core.py\", line 1078, in main\n",
      "    rv = self.invoke(ctx)\n",
      "  File \"/Users/jy006/miniconda3/envs/biomedgps-data/lib/python3.10/site-packages/click/core.py\", line 1688, in invoke\n",
      "    return _process_result(sub_ctx.command.invoke(sub_ctx))\n",
      "  File \"/Users/jy006/miniconda3/envs/biomedgps-data/lib/python3.10/site-packages/click/core.py\", line 1434, in invoke\n",
      "    return ctx.invoke(self.callback, **ctx.params)\n",
      "  File \"/Users/jy006/miniconda3/envs/biomedgps-data/lib/python3.10/site-packages/click/core.py\", line 783, in invoke\n",
      "    return __callback(*args, **kwargs)\n",
      "  File \"/Users/jy006/Documents/Code/BioMedGPS/biomedgps-data/lib/data.py\", line 286, in check_ids\n",
      "    raise ValueError(\n",
      "ValueError: You need to keep the entity ids and relation types in the test and validation files the same as the ones in the train file.\n",
      "Checked files created: /var/folders/4s/d4nr1sg91ps1k3qz00h28w_r0000gp/T/tmpe7xpg2d5/id_checked.tsv.\n"
     ]
    }
   ],
   "source": [
    "id_checked_file = os.path.join(temp_dir, \"id_checked.tsv\")\n",
    "check_ids_cmd = [\n",
    "    \"python3\",\n",
    "    os.path.join(lib_dir, \"data.py\"),\n",
    "    \"check-ids\",\n",
    "    \"--input\",\n",
    "    train_file,\n",
    "    \"--input\",\n",
    "    valid_file,\n",
    "    \"--input\",\n",
    "    test_file,\n",
    "    \"--output\",\n",
    "    id_checked_file,\n",
    "]\n",
    "\n",
    "print(\"Running: {}\".format(\" \".join(check_ids_cmd)))\n",
    "check_ids_cmd_str = \" \".join(check_ids_cmd)\n",
    "# Catch the error\n",
    "check_ids_cmd_str += \" || true\"\n",
    "!{check_ids_cmd_str}\n",
    "print(\"Checked files created: {}.\".format(id_checked_file))"
   ]
  },
  {
   "cell_type": "markdown",
   "metadata": {},
   "source": [
    "### Keep the entity id and relation type same among validation, test and training datasets"
   ]
  },
  {
   "cell_type": "code",
   "execution_count": 6,
   "metadata": {},
   "outputs": [
    {
     "name": "stdout",
     "output_type": "stream",
     "text": [
      "Running: python3 /Users/jy006/Documents/Code/BioMedGPS/biomedgps-data/lib/data.py keep-valid --train-file /var/folders/4s/d4nr1sg91ps1k3qz00h28w_r0000gp/T/tmpe7xpg2d5/train.tsv --valid-file /var/folders/4s/d4nr1sg91ps1k3qz00h28w_r0000gp/T/tmpe7xpg2d5/valid.tsv --test-file /var/folders/4s/d4nr1sg91ps1k3qz00h28w_r0000gp/T/tmpe7xpg2d5/test.tsv --output-dir /var/folders/4s/d4nr1sg91ps1k3qz00h28w_r0000gp/T/tmpe7xpg2d5/keep_valid\n",
      "Reading the train, test and validation dataframes...\n",
      "Found 5420154 rows in train\n",
      "Found 300311 rows in test\n",
      "Found 285296 rows in validation\n",
      "Checking the format of the dataframes...\n",
      "Found 95574 entities in train\n",
      "Found 44302 entities in test\n",
      "Found 43328 entities in validation\n",
      "Found 33989 entities in interaction\n",
      "Found 119 rows in relation intersection\n",
      "Found 287262 rows in test intersection\n",
      "Found 33697 entities in test intersection\n",
      "Found 273671 rows in validation intersection\n",
      "Found 33725 entities in validation intersection\n",
      "Found 13049 rows in test not in intersection\n",
      "Found 11625 rows in validation not in intersection\n",
      "Found 5444828 rows in extended train\n",
      "Files created: ['test_valid.tsv', 'train_valid.tsv', 'valid_valid.tsv'].\n"
     ]
    }
   ],
   "source": [
    "keep_valid_dir = os.path.join(temp_dir, \"keep_valid\")\n",
    "os.makedirs(keep_valid_dir, exist_ok=True)\n",
    "\n",
    "keep_valid_cmd = [\n",
    "    \"python3\",\n",
    "    os.path.join(lib_dir, \"data.py\"),\n",
    "    \"keep-valid\",\n",
    "    \"--train-file\",\n",
    "    train_file,\n",
    "    \"--valid-file\",\n",
    "    valid_file,\n",
    "    \"--test-file\",\n",
    "    test_file,\n",
    "    \"--output-dir\",\n",
    "    keep_valid_dir,\n",
    "]\n",
    "\n",
    "print(\"Running: {}\".format(\" \".join(keep_valid_cmd)))\n",
    "keep_valid_cmd_str = \" \".join(keep_valid_cmd)\n",
    "!{keep_valid_cmd_str}\n",
    "print(\"Files created: {}.\".format(os.listdir(keep_valid_dir)))"
   ]
  },
  {
   "cell_type": "markdown",
   "metadata": {},
   "source": [
    "### [Again] Check whether number of ids in train, validation, and test are the same."
   ]
  },
  {
   "cell_type": "code",
   "execution_count": 7,
   "metadata": {},
   "outputs": [
    {
     "name": "stdout",
     "output_type": "stream",
     "text": [
      "Running: python3 /Users/jy006/Documents/Code/BioMedGPS/biomedgps-data/lib/data.py check-ids --input /var/folders/4s/d4nr1sg91ps1k3qz00h28w_r0000gp/T/tmpe7xpg2d5/keep_valid/train_valid.tsv --input /var/folders/4s/d4nr1sg91ps1k3qz00h28w_r0000gp/T/tmpe7xpg2d5/keep_valid/valid_valid.tsv --input /var/folders/4s/d4nr1sg91ps1k3qz00h28w_r0000gp/T/tmpe7xpg2d5/keep_valid/test_valid.tsv --output /var/folders/4s/d4nr1sg91ps1k3qz00h28w_r0000gp/T/tmpe7xpg2d5/keep_valid/id_checked.tsv\n",
      "Number of ids in train, validation, and test: \n",
      "             file1            file2  ...  num_file2        category\n",
      "0  train_valid.tsv  valid_valid.tsv  ...      33725             ids\n",
      "1  train_valid.tsv  valid_valid.tsv  ...        117  relation_types\n",
      "2  train_valid.tsv   test_valid.tsv  ...      33697             ids\n",
      "3  train_valid.tsv   test_valid.tsv  ...        116  relation_types\n",
      "4  valid_valid.tsv   test_valid.tsv  ...      33697             ids\n",
      "5  valid_valid.tsv   test_valid.tsv  ...        116  relation_types\n",
      "\n",
      "[6 rows x 6 columns]\n",
      "The files are valid\n",
      "Checked files created: /var/folders/4s/d4nr1sg91ps1k3qz00h28w_r0000gp/T/tmpe7xpg2d5/keep_valid/id_checked.tsv.\n"
     ]
    }
   ],
   "source": [
    "id_checked_file = os.path.join(keep_valid_dir, \"id_checked.tsv\")\n",
    "train_valid_file = os.path.join(keep_valid_dir, \"train_valid.tsv\")\n",
    "valid_valid_file = os.path.join(keep_valid_dir, \"valid_valid.tsv\")\n",
    "test_valid_file = os.path.join(keep_valid_dir, \"test_valid.tsv\")\n",
    "\n",
    "check_ids_cmd = [\n",
    "    \"python3\",\n",
    "    os.path.join(lib_dir, \"data.py\"),\n",
    "    \"check-ids\",\n",
    "    \"--input\",\n",
    "    train_valid_file,\n",
    "    \"--input\",\n",
    "    valid_valid_file,\n",
    "    \"--input\",\n",
    "    test_valid_file,\n",
    "    \"--output\",\n",
    "    id_checked_file,\n",
    "]\n",
    "\n",
    "print(\"Running: {}\".format(\" \".join(check_ids_cmd)))\n",
    "check_ids_cmd_str = \" \".join(check_ids_cmd)\n",
    "!{check_ids_cmd_str}\n",
    "print(\"Checked files created: {}.\".format(id_checked_file))"
   ]
  },
  {
   "cell_type": "code",
   "execution_count": 8,
   "metadata": {},
   "outputs": [
    {
     "name": "stdout",
     "output_type": "stream",
     "text": [
      "Running: python3 /Users/jy006/Documents/Code/BioMedGPS/biomedgps-data/lib/data.py hrt --input /var/folders/4s/d4nr1sg91ps1k3qz00h28w_r0000gp/T/tmpe7xpg2d5/keep_valid/train_valid.tsv --output /var/folders/4s/d4nr1sg91ps1k3qz00h28w_r0000gp/T/tmpe7xpg2d5/hrt/train.tsv\n",
      "HRT files created: /var/folders/4s/d4nr1sg91ps1k3qz00h28w_r0000gp/T/tmpe7xpg2d5/hrt/train.tsv.\n",
      "Running: python3 /Users/jy006/Documents/Code/BioMedGPS/biomedgps-data/lib/data.py hrt --input /var/folders/4s/d4nr1sg91ps1k3qz00h28w_r0000gp/T/tmpe7xpg2d5/keep_valid/valid_valid.tsv --output /var/folders/4s/d4nr1sg91ps1k3qz00h28w_r0000gp/T/tmpe7xpg2d5/hrt/valid.tsv\n",
      "HRT files created: /var/folders/4s/d4nr1sg91ps1k3qz00h28w_r0000gp/T/tmpe7xpg2d5/hrt/valid.tsv.\n",
      "Running: python3 /Users/jy006/Documents/Code/BioMedGPS/biomedgps-data/lib/data.py hrt --input /var/folders/4s/d4nr1sg91ps1k3qz00h28w_r0000gp/T/tmpe7xpg2d5/keep_valid/test_valid.tsv --output /var/folders/4s/d4nr1sg91ps1k3qz00h28w_r0000gp/T/tmpe7xpg2d5/hrt/test.tsv\n",
      "HRT files created: /var/folders/4s/d4nr1sg91ps1k3qz00h28w_r0000gp/T/tmpe7xpg2d5/hrt/test.tsv.\n"
     ]
    }
   ],
   "source": [
    "hrt_dir = os.path.join(temp_dir, \"hrt\")\n",
    "os.makedirs(hrt_dir, exist_ok=True)\n",
    "\n",
    "files = [\n",
    "    (os.path.join(keep_valid_dir, \"train_valid.tsv\"), os.path.join(hrt_dir, \"train.tsv\")),\n",
    "    (os.path.join(keep_valid_dir, \"valid_valid.tsv\"), os.path.join(hrt_dir, \"valid.tsv\")),\n",
    "    (os.path.join(keep_valid_dir, \"test_valid.tsv\"), os.path.join(hrt_dir, \"test.tsv\")),\n",
    "]\n",
    "\n",
    "for input_file, output_file in files:\n",
    "    hrt_cmd = [\n",
    "        \"python3\",\n",
    "        os.path.join(lib_dir, \"data.py\"),\n",
    "        \"hrt\",\n",
    "        \"--input\",\n",
    "        input_file,\n",
    "        \"--output\",\n",
    "        output_file,\n",
    "    ]\n",
    "\n",
    "    print(\"Running: {}\".format(\" \".join(hrt_cmd)))\n",
    "    hrt_cmd_str = \" \".join(hrt_cmd)\n",
    "    !{hrt_cmd_str}\n",
    "    print(\"HRT files created: {}.\".format(output_file))"
   ]
  },
  {
   "cell_type": "markdown",
   "metadata": {},
   "source": [
    "### Copy all files to the dataset folder"
   ]
  },
  {
   "cell_type": "code",
   "execution_count": 9,
   "metadata": {},
   "outputs": [
    {
     "name": "stderr",
     "output_type": "stream",
     "text": [
      "cp: /var/folders/4s/d4nr1sg91ps1k3qz00h28w_r0000gp/T/tmpe7xpg2d5/knowledge_graph_annotated.tsv: No such file or directory\n"
     ]
    },
    {
     "ename": "CalledProcessError",
     "evalue": "Command '['cp', '/var/folders/4s/d4nr1sg91ps1k3qz00h28w_r0000gp/T/tmpe7xpg2d5/knowledge_graph_annotated.tsv', '/Users/jy006/Documents/Code/BioMedGPS/biomedgps-data/datasets/biomedgps-full-v20240127/knowledge_graph_annotated.tsv']' returned non-zero exit status 1.",
     "output_type": "error",
     "traceback": [
      "\u001b[0;31m---------------------------------------------------------------------------\u001b[0m",
      "\u001b[0;31mCalledProcessError\u001b[0m                        Traceback (most recent call last)",
      "Cell \u001b[0;32mIn[9], line 17\u001b[0m\n\u001b[1;32m      3\u001b[0m files \u001b[38;5;241m=\u001b[39m [\n\u001b[1;32m      4\u001b[0m     (os\u001b[38;5;241m.\u001b[39mpath\u001b[38;5;241m.\u001b[39mjoin(hrt_dir, \u001b[38;5;124m\"\u001b[39m\u001b[38;5;124mtrain.tsv\u001b[39m\u001b[38;5;124m\"\u001b[39m), os\u001b[38;5;241m.\u001b[39mpath\u001b[38;5;241m.\u001b[39mjoin(outputdir, \u001b[38;5;124m\"\u001b[39m\u001b[38;5;124mtrain.tsv\u001b[39m\u001b[38;5;124m\"\u001b[39m)),\n\u001b[1;32m      5\u001b[0m     (os\u001b[38;5;241m.\u001b[39mpath\u001b[38;5;241m.\u001b[39mjoin(hrt_dir, \u001b[38;5;124m\"\u001b[39m\u001b[38;5;124mvalid.tsv\u001b[39m\u001b[38;5;124m\"\u001b[39m), os\u001b[38;5;241m.\u001b[39mpath\u001b[38;5;241m.\u001b[39mjoin(outputdir, \u001b[38;5;124m\"\u001b[39m\u001b[38;5;124mvalid.tsv\u001b[39m\u001b[38;5;124m\"\u001b[39m)),\n\u001b[0;32m   (...)\u001b[0m\n\u001b[1;32m     13\u001b[0m     (annotated_kg_file, os\u001b[38;5;241m.\u001b[39mpath\u001b[38;5;241m.\u001b[39mjoin(outputdir, \u001b[38;5;124m\"\u001b[39m\u001b[38;5;124mknowledge_graph_annotated.tsv\u001b[39m\u001b[38;5;124m\"\u001b[39m)),\n\u001b[1;32m     14\u001b[0m ]\n\u001b[1;32m     16\u001b[0m \u001b[38;5;28;01mfor\u001b[39;00m f, output_file \u001b[38;5;129;01min\u001b[39;00m files:\n\u001b[0;32m---> 17\u001b[0m     \u001b[43msubprocess\u001b[49m\u001b[38;5;241;43m.\u001b[39;49m\u001b[43mcheck_output\u001b[49m\u001b[43m(\u001b[49m\u001b[43m[\u001b[49m\u001b[38;5;124;43m\"\u001b[39;49m\u001b[38;5;124;43mcp\u001b[39;49m\u001b[38;5;124;43m\"\u001b[39;49m\u001b[43m,\u001b[49m\u001b[43m \u001b[49m\u001b[43mf\u001b[49m\u001b[43m,\u001b[49m\u001b[43m \u001b[49m\u001b[43moutput_file\u001b[49m\u001b[43m]\u001b[49m\u001b[43m)\u001b[49m\n\u001b[1;32m     19\u001b[0m \u001b[38;5;28mprint\u001b[39m(\u001b[38;5;124m\"\u001b[39m\u001b[38;5;124mPlease found all files in \u001b[39m\u001b[38;5;132;01m{}\u001b[39;00m\u001b[38;5;124m\"\u001b[39m\u001b[38;5;241m.\u001b[39mformat(outputdir))\n",
      "File \u001b[0;32m~/miniconda3/envs/biomedgps-data/lib/python3.10/subprocess.py:421\u001b[0m, in \u001b[0;36mcheck_output\u001b[0;34m(timeout, *popenargs, **kwargs)\u001b[0m\n\u001b[1;32m    418\u001b[0m         empty \u001b[38;5;241m=\u001b[39m \u001b[38;5;124mb\u001b[39m\u001b[38;5;124m'\u001b[39m\u001b[38;5;124m'\u001b[39m\n\u001b[1;32m    419\u001b[0m     kwargs[\u001b[38;5;124m'\u001b[39m\u001b[38;5;124minput\u001b[39m\u001b[38;5;124m'\u001b[39m] \u001b[38;5;241m=\u001b[39m empty\n\u001b[0;32m--> 421\u001b[0m \u001b[38;5;28;01mreturn\u001b[39;00m \u001b[43mrun\u001b[49m\u001b[43m(\u001b[49m\u001b[38;5;241;43m*\u001b[39;49m\u001b[43mpopenargs\u001b[49m\u001b[43m,\u001b[49m\u001b[43m \u001b[49m\u001b[43mstdout\u001b[49m\u001b[38;5;241;43m=\u001b[39;49m\u001b[43mPIPE\u001b[49m\u001b[43m,\u001b[49m\u001b[43m \u001b[49m\u001b[43mtimeout\u001b[49m\u001b[38;5;241;43m=\u001b[39;49m\u001b[43mtimeout\u001b[49m\u001b[43m,\u001b[49m\u001b[43m \u001b[49m\u001b[43mcheck\u001b[49m\u001b[38;5;241;43m=\u001b[39;49m\u001b[38;5;28;43;01mTrue\u001b[39;49;00m\u001b[43m,\u001b[49m\n\u001b[1;32m    422\u001b[0m \u001b[43m           \u001b[49m\u001b[38;5;241;43m*\u001b[39;49m\u001b[38;5;241;43m*\u001b[39;49m\u001b[43mkwargs\u001b[49m\u001b[43m)\u001b[49m\u001b[38;5;241m.\u001b[39mstdout\n",
      "File \u001b[0;32m~/miniconda3/envs/biomedgps-data/lib/python3.10/subprocess.py:526\u001b[0m, in \u001b[0;36mrun\u001b[0;34m(input, capture_output, timeout, check, *popenargs, **kwargs)\u001b[0m\n\u001b[1;32m    524\u001b[0m     retcode \u001b[38;5;241m=\u001b[39m process\u001b[38;5;241m.\u001b[39mpoll()\n\u001b[1;32m    525\u001b[0m     \u001b[38;5;28;01mif\u001b[39;00m check \u001b[38;5;129;01mand\u001b[39;00m retcode:\n\u001b[0;32m--> 526\u001b[0m         \u001b[38;5;28;01mraise\u001b[39;00m CalledProcessError(retcode, process\u001b[38;5;241m.\u001b[39margs,\n\u001b[1;32m    527\u001b[0m                                  output\u001b[38;5;241m=\u001b[39mstdout, stderr\u001b[38;5;241m=\u001b[39mstderr)\n\u001b[1;32m    528\u001b[0m \u001b[38;5;28;01mreturn\u001b[39;00m CompletedProcess(process\u001b[38;5;241m.\u001b[39margs, retcode, stdout, stderr)\n",
      "\u001b[0;31mCalledProcessError\u001b[0m: Command '['cp', '/var/folders/4s/d4nr1sg91ps1k3qz00h28w_r0000gp/T/tmpe7xpg2d5/knowledge_graph_annotated.tsv', '/Users/jy006/Documents/Code/BioMedGPS/biomedgps-data/datasets/biomedgps-full-v20240127/knowledge_graph_annotated.tsv']' returned non-zero exit status 1."
     ]
    }
   ],
   "source": [
    "os.makedirs(outputdir, exist_ok=True)\n",
    "\n",
    "files = [\n",
    "    (os.path.join(hrt_dir, \"train.tsv\"), os.path.join(outputdir, \"train.tsv\")),\n",
    "    (os.path.join(hrt_dir, \"valid.tsv\"), os.path.join(outputdir, \"valid.tsv\")),\n",
    "    (os.path.join(hrt_dir, \"test.tsv\"), os.path.join(outputdir, \"test.tsv\")),\n",
    "    (\n",
    "        os.path.join(keep_valid_dir, \"id_checked.tsv\"),\n",
    "        os.path.join(outputdir, \"id_checked.tsv\"),\n",
    "    ),\n",
    "    (entity_file, os.path.join(outputdir, \"annotated_entities.tsv\")),\n",
    "    (kg_file, os.path.join(outputdir, \"knowledge_graph.tsv\")),\n",
    "    (annotated_kg_file, os.path.join(outputdir, \"knowledge_graph_annotated.tsv\")),\n",
    "]\n",
    "\n",
    "for f, output_file in files:\n",
    "    subprocess.check_output([\"cp\", f, output_file])\n",
    "\n",
    "print(\"Please found all files in {}\".format(outputdir))"
   ]
  }
 ],
 "metadata": {
  "kernelspec": {
   "display_name": "biomedgps",
   "language": "python",
   "name": "python3"
  },
  "language_info": {
   "codemirror_mode": {
    "name": "ipython",
    "version": 3
   },
   "file_extension": ".py",
   "mimetype": "text/x-python",
   "name": "python",
   "nbconvert_exporter": "python",
   "pygments_lexer": "ipython3",
   "version": "3.10.13"
  }
 },
 "nbformat": 4,
 "nbformat_minor": 2
}
