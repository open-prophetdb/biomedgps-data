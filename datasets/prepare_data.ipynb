{
 "cells": [
  {
   "cell_type": "markdown",
   "metadata": {},
   "source": [
    "## Dependencies"
   ]
  },
  {
   "cell_type": "code",
   "execution_count": 56,
   "metadata": {},
   "outputs": [],
   "source": [
    "import sys\n",
    "\n",
    "sys.path.append('../lib')"
   ]
  },
  {
   "cell_type": "markdown",
   "metadata": {},
   "source": [
    "## Prepare training and test datasets"
   ]
  },
  {
   "cell_type": "code",
   "execution_count": 9,
   "metadata": {},
   "outputs": [],
   "source": [
    "# DRKG data\n",
    "!cp ../graph_data/formatted_relations/drkg/formatted_drkg.tsv ./rawdata/drkg/formatted_drkg.tsv\n",
    "!cp ../graph_data/formatted_relations/drkg/unformatted_drkg.tsv ./rawdata/drkg/unformatted_drkg.tsv"
   ]
  },
  {
   "cell_type": "markdown",
   "metadata": {},
   "source": [
    "We need to prepare the training and external test datasets. We will use the training dataset to train the model and the test dataset to evaluate the model for all KGE models. But the drkg dataset have so many relations in the `unformatted_drkg.tsv` which cannot be formatted, so we use the relations in the `formatted_drkg.tsv` to prepare the training and external test datasets.\n",
    "\n",
    "After that, we split the `formatted_drkg.tsv` into training and test datasets. The training dataset is named as `formatted_drkg_train.tsv` and the test dataset is named as `formatted_drkg_test.tsv`."
   ]
  },
  {
   "cell_type": "code",
   "execution_count": 14,
   "metadata": {},
   "outputs": [],
   "source": [
    "!python ../lib/data.py split -i ./rawdata/drkg/formatted_drkg.tsv -o1 ./rawdata/drkg/formatted_drkg_train.tsv -o2 ./rawdata/drkg/formatted_drkg_test.tsv -r 0.95"
   ]
  },
  {
   "cell_type": "code",
   "execution_count": 15,
   "metadata": {},
   "outputs": [],
   "source": [
    "# HSDN data\n",
    "!cp ../graph_data/formatted_relations/hsdn/formatted_hsdn.tsv ./rawdata/optional/formatted_hsdn.tsv"
   ]
  },
  {
   "cell_type": "markdown",
   "metadata": {},
   "source": [
    "## Prepare Raw DRKG dataset"
   ]
  },
  {
   "cell_type": "code",
   "execution_count": 42,
   "metadata": {},
   "outputs": [],
   "source": [
    "!cp ../graph_data/formatted_relations/drkg/raw_drkg.tsv ./rawdata/drkg/raw_drkg.tsv"
   ]
  },
  {
   "cell_type": "code",
   "execution_count": 45,
   "metadata": {},
   "outputs": [],
   "source": [
    "# Extract raw records from formatted_drkg_test.tsv\n",
    "import pandas as pd\n",
    "\n",
    "df = pd.read_csv(\"./rawdata/drkg/formatted_drkg_test.tsv\", sep=\"\\t\")\n",
    "selected_columns = [\n",
    "    # raw_source_id\traw_target_id\traw_source_type\traw_target_type\trelation_type\tresource\tpmids\tkey_sentence\n",
    "    \"raw_source_id\",\n",
    "    \"raw_target_id\",\n",
    "    \"raw_source_type\",\n",
    "    \"raw_target_type\",\n",
    "    \"relation_type\",\n",
    "    \"resource\",\n",
    "    \"pmids\",\n",
    "    \"key_sentence\",\n",
    "]\n",
    "\n",
    "df = df[selected_columns]\n",
    "df.columns = [\n",
    "    \"source_id\",\n",
    "    \"target_id\",\n",
    "    \"source_type\",\n",
    "    \"target_type\",\n",
    "    \"relation_type\",\n",
    "    \"resource\",\n",
    "    \"pmids\",\n",
    "    \"key_sentence\",\n",
    "]\n",
    "\n",
    "df.to_csv(\"./raw_drkg/relations_test.tsv\", sep=\"\\t\", index=False)"
   ]
  },
  {
   "cell_type": "code",
   "execution_count": 46,
   "metadata": {},
   "outputs": [
    {
     "name": "stdout",
     "output_type": "stream",
     "text": [
      "Substracting the two dataframes with the following columns:  ['source_id', 'target_id', 'source_type', 'target_type', 'relation_type', 'resource', 'pmids', 'key_sentence']\n"
     ]
    }
   ],
   "source": [
    "!python ../lib/data.py substract -i1 ./rawdata/drkg/raw_drkg.tsv -i2 ./raw_drkg/test.tsv -o ./raw_drkg/relations.tsv"
   ]
  },
  {
   "cell_type": "code",
   "execution_count": 47,
   "metadata": {},
   "outputs": [],
   "source": [
    "!python ../lib/data.py hrt -i ./raw_drkg/relations.tsv -o ./raw_drkg/relations_hrt.tsv"
   ]
  },
  {
   "cell_type": "code",
   "execution_count": 48,
   "metadata": {},
   "outputs": [],
   "source": [
    "!python ../lib/data.py split -i ./raw_drkg/relations_hrt.tsv -o1 ./raw_drkg/train.tsv -o2 ./raw_drkg/valid.tsv -r 0.95"
   ]
  },
  {
   "cell_type": "code",
   "execution_count": 49,
   "metadata": {},
   "outputs": [],
   "source": [
    "!python ../lib/data.py hrt -i ./raw_drkg/relations_test.tsv -o ./raw_drkg/test.tsv"
   ]
  },
  {
   "cell_type": "markdown",
   "metadata": {},
   "source": [
    "## Prepare DRKG dataset"
   ]
  },
  {
   "cell_type": "markdown",
   "metadata": {},
   "source": [
    "Merge the `formatted_drkg_train.tsv` and `unformatted_drkg.tsv` to get the `train.tsv` and `valid.tsv` which is used to train the KGE models."
   ]
  },
  {
   "cell_type": "code",
   "execution_count": 16,
   "metadata": {},
   "outputs": [],
   "source": [
    "datadir = './rawdata/drkg'"
   ]
  },
  {
   "cell_type": "code",
   "execution_count": 17,
   "metadata": {},
   "outputs": [
    {
     "name": "stdout",
     "output_type": "stream",
     "text": [
      "Formatted DRKG data shape:  (5394641, 6)\n",
      "Unformatted DRKG data shape:  (194412, 6)\n"
     ]
    }
   ],
   "source": [
    "import os\n",
    "import pandas as pd\n",
    "\n",
    "selected_columns = [\n",
    "    \"relation_type\",\n",
    "    \"source_type\",\n",
    "    \"source_id\",\n",
    "    \"target_type\",\n",
    "    \"target_id\",\n",
    "    \"resource\",\n",
    "]\n",
    "\n",
    "formatted_drkg_data = pd.read_csv(\n",
    "    os.path.join(datadir, \"formatted_drkg_train.tsv\"), sep=\"\\t\"\n",
    ")\n",
    "formatted_drkg_data = formatted_drkg_data[selected_columns]\n",
    "print(\"Formatted DRKG data shape: \", formatted_drkg_data.shape)\n",
    "\n",
    "unformatted_drkg_data = pd.read_csv(\n",
    "    os.path.join(datadir, \"unformatted_drkg.tsv\"), sep=\"\\t\"\n",
    ")\n",
    "unformatted_drkg_data = unformatted_drkg_data[selected_columns]\n",
    "print(\"Unformatted DRKG data shape: \", unformatted_drkg_data.shape)\n",
    "\n",
    "relations = pd.concat(\n",
    "    [\n",
    "        formatted_drkg_data,\n",
    "        unformatted_drkg_data,\n",
    "    ]\n",
    ")\n",
    "\n",
    "# Save the merged data\n",
    "relations.to_csv(os.path.join(\"drkg\", \"relations.tsv\"), sep=\"\\t\", index=False)"
   ]
  },
  {
   "cell_type": "code",
   "execution_count": 18,
   "metadata": {},
   "outputs": [],
   "source": [
    "!python ../lib/data.py hrt -i ./drkg/relations.tsv -o ./drkg/relations_hrt.tsv"
   ]
  },
  {
   "cell_type": "code",
   "execution_count": 20,
   "metadata": {},
   "outputs": [],
   "source": [
    "!python ../lib/data.py split -i ./drkg/relations_hrt.tsv -o1 ./drkg/train.tsv -o2 ./drkg/valid.tsv -r 0.95"
   ]
  },
  {
   "cell_type": "code",
   "execution_count": 21,
   "metadata": {},
   "outputs": [],
   "source": [
    "!python ../lib/data.py hrt -i ./rawdata/drkg/formatted_drkg_test.tsv -o ./drkg/test.tsv"
   ]
  },
  {
   "cell_type": "markdown",
   "metadata": {},
   "source": [
    "## Prepare DRKG + HSDN dataset"
   ]
  },
  {
   "cell_type": "markdown",
   "metadata": {},
   "source": [
    "Merge the `formatted_drkg_train.tsv`, `unformatted_drkg.tsv` and `graph_data/formatted_relations/hsdn/formatted_hsdn.tsv` to get the `train.tsv` and `valid.tsv` which is used to train the KGE models."
   ]
  },
  {
   "cell_type": "code",
   "execution_count": 30,
   "metadata": {},
   "outputs": [],
   "source": [
    "datadir = \"./rawdata/drkg\""
   ]
  },
  {
   "cell_type": "code",
   "execution_count": 32,
   "metadata": {},
   "outputs": [
    {
     "name": "stdout",
     "output_type": "stream",
     "text": [
      "Formatted DRKG data shape:  (5394641, 6)\n",
      "Unformatted DRKG data shape:  (194412, 6)\n",
      "HSDN data shape:  (130857, 6)\n"
     ]
    }
   ],
   "source": [
    "import os\n",
    "import pandas as pd\n",
    "\n",
    "selected_columns = [\n",
    "    \"relation_type\",\n",
    "    \"source_type\",\n",
    "    \"source_id\",\n",
    "    \"target_type\",\n",
    "    \"target_id\",\n",
    "    \"resource\",\n",
    "]\n",
    "\n",
    "formatted_drkg_data = pd.read_csv(\n",
    "    os.path.join(datadir, \"formatted_drkg_train.tsv\"), sep=\"\\t\"\n",
    ")\n",
    "formatted_drkg_data = formatted_drkg_data[selected_columns]\n",
    "print(\"Formatted DRKG data shape: \", formatted_drkg_data.shape)\n",
    "\n",
    "unformatted_drkg_data = pd.read_csv(\n",
    "    os.path.join(datadir, \"unformatted_drkg.tsv\"), sep=\"\\t\"\n",
    ")\n",
    "unformatted_drkg_data = unformatted_drkg_data[selected_columns]\n",
    "print(\"Unformatted DRKG data shape: \", unformatted_drkg_data.shape)\n",
    "\n",
    "hsdn_data = pd.read_csv(\n",
    "    os.path.join(\n",
    "        \"../graph_data/formatted_relations/hsdn\",\n",
    "        \"formatted_hsdn.tsv\",\n",
    "    ),\n",
    "    sep=\"\\t\",\n",
    ")\n",
    "hsdn_data = hsdn_data[selected_columns]\n",
    "print(\"HSDN data shape: \", hsdn_data.shape)\n",
    "\n",
    "relations = pd.concat(\n",
    "    [\n",
    "        formatted_drkg_data,\n",
    "        unformatted_drkg_data,\n",
    "        hsdn_data,\n",
    "    ]\n",
    ")\n",
    "\n",
    "# Save the merged data\n",
    "relations.to_csv(os.path.join(\"drkg+hsdn\", \"relations.tsv\"), sep=\"\\t\", index=False)"
   ]
  },
  {
   "cell_type": "code",
   "execution_count": 33,
   "metadata": {},
   "outputs": [],
   "source": [
    "!python ../lib/data.py hrt -i ./drkg+hsdn/relations.tsv -o ./drkg+hsdn/relations_hrt.tsv"
   ]
  },
  {
   "cell_type": "code",
   "execution_count": 34,
   "metadata": {},
   "outputs": [],
   "source": [
    "!python ../lib/data.py split -i ./drkg+hsdn/relations_hrt.tsv -o1 ./drkg+hsdn/train.tsv -o2 ./drkg+hsdn/valid.tsv -r 0.95"
   ]
  },
  {
   "cell_type": "code",
   "execution_count": 35,
   "metadata": {},
   "outputs": [],
   "source": [
    "!python ../lib/data.py hrt -i ./rawdata/drkg/formatted_drkg_test.tsv -o ./drkg+hsdn/test.tsv"
   ]
  },
  {
   "cell_type": "markdown",
   "metadata": {},
   "source": [
    "## Prepare DRKG + HSDN + Custom ME/CFS + Malacards dataset"
   ]
  },
  {
   "cell_type": "markdown",
   "metadata": {},
   "source": [
    "Merge the `formatted_drkg_train.tsv`, `unformatted_drkg.tsv`, `datasets/rawdata/optional/formatted_custom_mecfs.tsv`, `datasets/rawdata/optional/formatted_malacards.tsv` and `graph_data/formatted_relations/hsdn/formatted_hsdn.tsv` to get the `train.tsv` and `valid.tsv` which is used to train the KGE models."
   ]
  },
  {
   "cell_type": "code",
   "execution_count": 57,
   "metadata": {},
   "outputs": [],
   "source": [
    "datadir = \"./rawdata/drkg\""
   ]
  },
  {
   "cell_type": "code",
   "execution_count": 58,
   "metadata": {},
   "outputs": [
    {
     "name": "stdout",
     "output_type": "stream",
     "text": [
      "Formatted DRKG data shape:  (5394641, 6)\n",
      "Unformatted DRKG data shape:  (194412, 6)\n",
      "HSDN data shape:  (130857, 6)\n",
      "Custom MECFS data shape:  (602, 6)\n",
      "Malacards data shape:  (201, 6)\n"
     ]
    }
   ],
   "source": [
    "import os\n",
    "import pandas as pd\n",
    "\n",
    "selected_columns = [\n",
    "    \"relation_type\",\n",
    "    \"source_type\",\n",
    "    \"source_id\",\n",
    "    \"target_type\",\n",
    "    \"target_id\",\n",
    "    \"resource\",\n",
    "]\n",
    "\n",
    "formatted_drkg_data = pd.read_csv(\n",
    "    os.path.join(datadir, \"formatted_drkg_train.tsv\"), sep=\"\\t\"\n",
    ")\n",
    "formatted_drkg_data = formatted_drkg_data[selected_columns]\n",
    "print(\"Formatted DRKG data shape: \", formatted_drkg_data.shape)\n",
    "\n",
    "unformatted_drkg_data = pd.read_csv(\n",
    "    os.path.join(datadir, \"unformatted_drkg.tsv\"), sep=\"\\t\"\n",
    ")\n",
    "unformatted_drkg_data = unformatted_drkg_data[selected_columns]\n",
    "print(\"Unformatted DRKG data shape: \", unformatted_drkg_data.shape)\n",
    "\n",
    "hsdn_data = pd.read_csv(\n",
    "    os.path.join(\n",
    "        \"../graph_data/formatted_relations/hsdn\",\n",
    "        \"formatted_hsdn.tsv\",\n",
    "    ),\n",
    "    sep=\"\\t\",\n",
    ")\n",
    "hsdn_data = hsdn_data[selected_columns]\n",
    "print(\"HSDN data shape: \", hsdn_data.shape)\n",
    "\n",
    "custom_mecfs_data = pd.read_csv(\n",
    "    os.path.join(\n",
    "        \"rawdata/optional\",\n",
    "        \"formatted_custom_mecfs.tsv\",\n",
    "    ),\n",
    "    sep=\"\\t\",\n",
    ")\n",
    "custom_mecfs_data = custom_mecfs_data[selected_columns]\n",
    "print(\"Custom MECFS data shape: \", custom_mecfs_data.shape)\n",
    "\n",
    "malacards_data = pd.read_csv(\n",
    "    os.path.join(\n",
    "        \"rawdata/optional\",\n",
    "        \"formatted_malacards.tsv\",\n",
    "    ),\n",
    "    sep=\"\\t\",\n",
    ")\n",
    "malacards_data = malacards_data[selected_columns]\n",
    "print(\"Malacards data shape: \", malacards_data.shape)\n",
    "\n",
    "relations = pd.concat(\n",
    "    [\n",
    "        formatted_drkg_data,\n",
    "        unformatted_drkg_data,\n",
    "        hsdn_data,\n",
    "        custom_mecfs_data,\n",
    "        malacards_data,\n",
    "    ]\n",
    ")\n",
    "\n",
    "# Save the merged data\n",
    "relations.to_csv(\n",
    "    os.path.join(\"drkg+hsdn+custom+malacards\", \"relations.tsv\"), sep=\"\\t\", index=False\n",
    ")"
   ]
  },
  {
   "cell_type": "code",
   "execution_count": 53,
   "metadata": {},
   "outputs": [],
   "source": [
    "!python ../lib/data.py hrt -i ./drkg+hsdn+custom+malacards/relations.tsv -o ./drkg+hsdn+custom+malacards/relations_hrt.tsv"
   ]
  },
  {
   "cell_type": "code",
   "execution_count": 54,
   "metadata": {},
   "outputs": [],
   "source": [
    "!python ../lib/data.py split -i ./drkg+hsdn+custom+malacards/relations_hrt.tsv -o1 ./drkg+hsdn+custom+malacards/train.tsv -o2 ./drkg+hsdn+custom+malacards/valid.tsv -r 0.95"
   ]
  },
  {
   "cell_type": "code",
   "execution_count": 55,
   "metadata": {},
   "outputs": [],
   "source": [
    "!python ../lib/data.py hrt -i ./rawdata/drkg/formatted_drkg_test.tsv -o ./drkg+hsdn+custom+malacards/test.tsv"
   ]
  }
 ],
 "metadata": {
  "kernelspec": {
   "display_name": "biomedgps",
   "language": "python",
   "name": "python3"
  },
  "language_info": {
   "codemirror_mode": {
    "name": "ipython",
    "version": 3
   },
   "file_extension": ".py",
   "mimetype": "text/x-python",
   "name": "python",
   "nbconvert_exporter": "python",
   "pygments_lexer": "ipython3",
   "version": "3.11.5"
  }
 },
 "nbformat": 4,
 "nbformat_minor": 2
}
