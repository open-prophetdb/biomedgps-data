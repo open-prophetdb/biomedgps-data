{
 "cells": [
  {
   "cell_type": "markdown",
   "metadata": {},
   "source": [
    "## Dependencies"
   ]
  },
  {
   "cell_type": "code",
   "execution_count": null,
   "metadata": {},
   "outputs": [],
   "source": [
    "import sys\n",
    "\n",
    "sys.path.append('../lib')"
   ]
  },
  {
   "cell_type": "markdown",
   "metadata": {},
   "source": [
    "## Prepare training and test datasets"
   ]
  },
  {
   "cell_type": "code",
   "execution_count": 9,
   "metadata": {},
   "outputs": [],
   "source": [
    "# DRKG data\n",
    "!cp ../graph_data/formatted_relations/drkg/formatted_drkg.tsv ./rawdata/drkg/formatted_drkg.tsv\n",
    "!cp ../graph_data/formatted_relations/drkg/unformatted_drkg.tsv ./rawdata/drkg/unformatted_drkg.tsv"
   ]
  },
  {
   "cell_type": "markdown",
   "metadata": {},
   "source": [
    "We need to prepare the training and external test datasets. We will use the training dataset to train the model and the test dataset to evaluate the model for all KGE models. But the drkg dataset have so many relations in the `unformatted_drkg.tsv` which cannot be formatted, so we use the relations in the `formatted_drkg.tsv` to prepare the training and external test datasets.\n",
    "\n",
    "After that, we split the `formatted_drkg.tsv` into training and test datasets. The training dataset is named as `formatted_drkg_train.tsv` and the test dataset is named as `formatted_drkg_test.tsv`."
   ]
  },
  {
   "cell_type": "code",
   "execution_count": 14,
   "metadata": {},
   "outputs": [],
   "source": [
    "!python ../lib/data.py split -i ./rawdata/drkg/formatted_drkg.tsv -o1 ./rawdata/drkg/formatted_drkg_train.tsv -o2 ./rawdata/drkg/formatted_drkg_test.tsv -r 0.95"
   ]
  },
  {
   "cell_type": "code",
   "execution_count": 15,
   "metadata": {},
   "outputs": [],
   "source": [
    "# HSDN data\n",
    "!cp ../graph_data/formatted_relations/hsdn/formatted_hsdn.tsv ./rawdata/optional/formatted_hsdn.tsv"
   ]
  },
  {
   "cell_type": "markdown",
   "metadata": {},
   "source": [
    "## Prepare DRKG dataset"
   ]
  },
  {
   "cell_type": "markdown",
   "metadata": {},
   "source": [
    "Merge the `formatted_drkg_train.tsv` and `unformatted_drkg.tsv` to get the `train.tsv` and `valid.tsv` which is used to train the KGE models."
   ]
  },
  {
   "cell_type": "code",
   "execution_count": 16,
   "metadata": {},
   "outputs": [],
   "source": [
    "datadir = './rawdata/drkg'"
   ]
  },
  {
   "cell_type": "code",
   "execution_count": 17,
   "metadata": {},
   "outputs": [
    {
     "name": "stdout",
     "output_type": "stream",
     "text": [
      "Formatted DRKG data shape:  (5394641, 6)\n",
      "Unformatted DRKG data shape:  (194412, 6)\n"
     ]
    }
   ],
   "source": [
    "import os\n",
    "import pandas as pd\n",
    "\n",
    "selected_columns = [\n",
    "    \"relation_type\",\n",
    "    \"source_type\",\n",
    "    \"source_id\",\n",
    "    \"target_type\",\n",
    "    \"target_id\",\n",
    "    \"resource\",\n",
    "]\n",
    "\n",
    "formatted_drkg_data = pd.read_csv(\n",
    "    os.path.join(datadir, \"formatted_drkg_train.tsv\"), sep=\"\\t\"\n",
    ")\n",
    "formatted_drkg_data = formatted_drkg_data[selected_columns]\n",
    "print(\"Formatted DRKG data shape: \", formatted_drkg_data.shape)\n",
    "\n",
    "unformatted_drkg_data = pd.read_csv(\n",
    "    os.path.join(datadir, \"unformatted_drkg.tsv\"), sep=\"\\t\"\n",
    ")\n",
    "unformatted_drkg_data = unformatted_drkg_data[selected_columns]\n",
    "print(\"Unformatted DRKG data shape: \", unformatted_drkg_data.shape)\n",
    "\n",
    "relations = pd.concat(\n",
    "    [\n",
    "        formatted_drkg_data,\n",
    "        unformatted_drkg_data,\n",
    "    ]\n",
    ")\n",
    "\n",
    "# Save the merged data\n",
    "relations.to_csv(os.path.join(\"drkg\", \"relations.tsv\"), sep=\"\\t\", index=False)"
   ]
  },
  {
   "cell_type": "code",
   "execution_count": 18,
   "metadata": {},
   "outputs": [],
   "source": [
    "!python ../lib/data.py hrt -i ./drkg/relations.tsv -o ./drkg/relations_hrt.tsv"
   ]
  },
  {
   "cell_type": "code",
   "execution_count": 20,
   "metadata": {},
   "outputs": [],
   "source": [
    "!python ../lib/data.py split -i ./drkg/relations_hrt.tsv -o1 ./drkg/train.tsv -o2 ./drkg/valid.tsv -r 0.95"
   ]
  },
  {
   "cell_type": "code",
   "execution_count": null,
   "metadata": {},
   "outputs": [],
   "source": [
    "!python ../lib/data.py hrt -i ./rawdata/drkg/formatted_drkg_test.tsv -o ./drkg/test.tsv"
   ]
  }
 ],
 "metadata": {
  "kernelspec": {
   "display_name": "biomedgps",
   "language": "python",
   "name": "python3"
  },
  "language_info": {
   "codemirror_mode": {
    "name": "ipython",
    "version": 3
   },
   "file_extension": ".py",
   "mimetype": "text/x-python",
   "name": "python",
   "nbconvert_exporter": "python",
   "pygments_lexer": "ipython3",
   "version": "3.11.5"
  }
 },
 "nbformat": 4,
 "nbformat_minor": 2
}
