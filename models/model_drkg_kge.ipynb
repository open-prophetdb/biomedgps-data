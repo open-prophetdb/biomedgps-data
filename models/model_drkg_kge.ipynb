{
 "cells": [
  {
   "cell_type": "markdown",
   "metadata": {},
   "source": [
    "# DRKG - Knowledge Graph Embedding"
   ]
  },
  {
   "cell_type": "markdown",
   "metadata": {},
   "source": [
    "## Install dependencies"
   ]
  },
  {
   "cell_type": "code",
   "execution_count": null,
   "metadata": {},
   "outputs": [],
   "source": [
    "%%bash\n",
    "# We assume you are using a conda environment\n",
    "# torchvision==0.14.0 & torch==1.13 only work with CUDA==1.16 or CUDA==1.17 and python==3.10\n",
    "mamba create -n biomedgps python==3.10"
   ]
  },
  {
   "cell_type": "code",
   "execution_count": null,
   "metadata": {},
   "outputs": [],
   "source": [
    "%%bash\n",
    "# If you have installed CUDA==1.16 or CUDA==1.17, you can use the following command to install torch==1.13\n",
    "# dglke is compatible with dgl==0.9.0 and dgl==0.9.0 only works with torch==1.13\n",
    "pip3 install torch==1.13 torchvision==0.14.0"
   ]
  },
  {
   "cell_type": "code",
   "execution_count": null,
   "metadata": {},
   "outputs": [],
   "source": [
    "%%bash\n",
    "pip install git+https://github.com/awslabs/dgl-ke.git#subdirectory=python && pip install ogb dgl==0.9.0"
   ]
  },
  {
   "cell_type": "markdown",
   "metadata": {},
   "source": [
    "## Prepare Data"
   ]
  },
  {
   "cell_type": "markdown",
   "metadata": {},
   "source": [
    "### [Option1] Get DRKG data from an official website"
   ]
  },
  {
   "cell_type": "code",
   "execution_count": null,
   "metadata": {},
   "outputs": [],
   "source": [
    "%%bash\n",
    "wget https://s3.us-west-2.amazonaws.com/dgl-data/dataset/DRKG/drkg.tar.gz -O ${DATA_DIR}/drkg.tar.gz\n",
    "tar -xvzf ${DATA_DIR}/drkg.tar.gz -C ${DATA_DIR}"
   ]
  },
  {
   "cell_type": "code",
   "execution_count": null,
   "metadata": {},
   "outputs": [],
   "source": [
    "import pandas as pd\n",
    "import numpy as np\n",
    "\n",
    "drkg_file = \"drkg/data/drkg.tsv\"\n",
    "df = pd.read_csv(drkg_file, sep=\"\\t\", header=None)\n",
    "triples = df.values.tolist()\n",
    "num_triples = len(triples)\n",
    "num_triples"
   ]
  },
  {
   "cell_type": "markdown",
   "metadata": {},
   "source": [
    "### [Option2] Get DRKG + HSDN data from the [biomedgps-data repo](https://github.com/yjcyxky/biomedgps-data)"
   ]
  },
  {
   "cell_type": "code",
   "execution_count": null,
   "metadata": {},
   "outputs": [],
   "source": [
    "# Unzip the file\n",
    "\n",
    "import os, shutil\n",
    "\n",
    "root_dir = os.path.join(os.getcwd(), 'drkg-hsdn')\n",
    "data_dir = os.path.join(root_dir, 'data')\n",
    "models_dir = os.path.join(root_dir, 'models')\n",
    "os.makedirs(data_dir, exist_ok=True)\n",
    "os.makedirs(models_dir, exist_ok=True)\n",
    "\n",
    "raw_drkg_zipfile = os.path.join(data_dir, \"raw_drkg.tsv.zip\")\n",
    "if os.path.exists(raw_drkg_zipfile):\n",
    "    shutil.unpack_archive(raw_drkg_zipfile, data_dir)\n",
    "\n",
    "raw_hs_zipfile = os.path.join(data_dir, \"raw_hsdn.tsv.zip\")\n",
    "if os.path.exists(raw_hs_zipfile):\n",
    "    shutil.unpack_archive(raw_hs_zipfile, data_dir)"
   ]
  },
  {
   "cell_type": "code",
   "execution_count": null,
   "metadata": {},
   "outputs": [],
   "source": [
    "# Download the DRKG + HSDN raw data\n",
    "# Skip it, we assume the data files are already in the data folder\n",
    "\n",
    "# Merge the DRKG + HSDN raw data\n",
    "import pandas as pd\n",
    "import os\n",
    "\n",
    "drkg_data = pd.read_csv(os.path.join(data_dir, 'raw_drkg.tsv'), sep='\\t')\n",
    "print(\"DRKG data shape: \", drkg_data.shape)\n",
    "hsdn_data = pd.read_csv(os.path.join(data_dir, 'raw_hsdn.tsv'), sep='\\t')\n",
    "print(\"HSDN data shape: \", hsdn_data.shape)\n",
    "\n",
    "relations = pd.concat([drkg_data, hsdn_data])\n",
    "\n",
    "# Save the merged data\n",
    "relations.to_csv(os.path.join(data_dir, 'relations.tsv'), sep='\\t', index=False)"
   ]
  },
  {
   "cell_type": "code",
   "execution_count": null,
   "metadata": {},
   "outputs": [],
   "source": [
    "df = pd.DataFrame()\n",
    "# Merge the source_type and source_id columns\n",
    "df['source_id'] = relations['source_type'] + '::' + relations['source_id'].astype(str)\n",
    "\n",
    "# Merge the target_type and target_id columns\n",
    "df['target_id'] = relations['target_type'] + '::' + relations['target_id'].astype(str)\n",
    "\n",
    "df['relation_type'] = relations['relation_type']\n",
    "\n",
    "# Reorder the columns\n",
    "df = df[['source_id', 'relation_type', 'target_id']]\n",
    "\n",
    "# Remove the header\n",
    "df.to_csv(os.path.join(data_dir, 'relations_hrt.tsv'), sep='\\t', index=False, header=False)\n",
    "\n",
    "triples = df.values.tolist()\n",
    "num_triples = len(triples)\n",
    "num_triples"
   ]
  },
  {
   "cell_type": "markdown",
   "metadata": {},
   "source": [
    "### [Option3] Get DRKG + HSDN formatted data from the [biomedgps-data repo](https://github.com/yjcyxky/biomedgps-data)"
   ]
  },
  {
   "cell_type": "code",
   "execution_count": null,
   "metadata": {},
   "outputs": [],
   "source": [
    "# Unzip the file\n",
    "\n",
    "import os, shutil\n",
    "\n",
    "root_dir = os.path.join(os.getcwd(), 'drkg-hsdn_formatted')\n",
    "data_dir = os.path.join(root_dir, 'data')\n",
    "models_dir = os.path.join(root_dir, 'models')\n",
    "os.makedirs(data_dir, exist_ok=True)\n",
    "os.makedirs(models_dir, exist_ok=True)\n",
    "\n",
    "raw_drkg_zipfile = os.path.join(data_dir, \"formatted_drkg.tsv.zip\")\n",
    "if os.path.exists(raw_drkg_zipfile):\n",
    "    shutil.unpack_archive(raw_drkg_zipfile, data_dir)\n",
    "\n",
    "raw_hs_zipfile = os.path.join(data_dir, \"formatted_hsdn.tsv.zip\")\n",
    "if os.path.exists(raw_hs_zipfile):\n",
    "    shutil.unpack_archive(raw_hs_zipfile, data_dir)"
   ]
  },
  {
   "cell_type": "code",
   "execution_count": null,
   "metadata": {},
   "outputs": [],
   "source": [
    "# Download the DRKG + HSDN raw data\n",
    "# Skip it, we assume the data files are already in the data folder\n",
    "\n",
    "# Merge the DRKG + HSDN raw data\n",
    "import pandas as pd\n",
    "import os\n",
    "\n",
    "drkg_data = pd.read_csv(os.path.join(data_dir, 'formatted_drkg.tsv'), sep='\\t')\n",
    "print(\"DRKG data shape: \", drkg_data.shape)\n",
    "hsdn_data = pd.read_csv(os.path.join(data_dir, 'formatted_hsdn.tsv'), sep='\\t')\n",
    "print(\"HSDN data shape: \", hsdn_data.shape)\n",
    "\n",
    "relations = pd.concat([drkg_data, hsdn_data])\n",
    "\n",
    "# Save the merged data\n",
    "relations.to_csv(os.path.join(data_dir, 'relations.tsv'), sep='\\t', index=False)"
   ]
  },
  {
   "cell_type": "code",
   "execution_count": null,
   "metadata": {},
   "outputs": [],
   "source": [
    "df = pd.DataFrame()\n",
    "# Merge the source_type and source_id columns\n",
    "df['source_id'] = relations['source_type'] + '::' + relations['source_id'].astype(str)\n",
    "\n",
    "# Merge the target_type and target_id columns\n",
    "df['target_id'] = relations['target_type'] + '::' + relations['target_id'].astype(str)\n",
    "\n",
    "df['relation_type'] = relations['relation_type']\n",
    "\n",
    "# Reorder the columns\n",
    "df = df[['source_id', 'relation_type', 'target_id']]\n",
    "\n",
    "# Remove the header\n",
    "df.to_csv(os.path.join(data_dir, 'relations_hrt.tsv'), sep='\\t', index=False, header=False)\n",
    "\n",
    "triples = df.values.tolist()\n",
    "num_triples = len(triples)\n",
    "num_triples"
   ]
  },
  {
   "cell_type": "markdown",
   "metadata": {},
   "source": [
    "### [Option4] Get DRKG + HSDN + Custom formatted data from the [biomedgps-data repo](https://github.com/yjcyxky/biomedgps-data)"
   ]
  },
  {
   "cell_type": "code",
   "execution_count": null,
   "metadata": {},
   "outputs": [],
   "source": [
    "# Unzip the file\n",
    "\n",
    "import os, shutil\n",
    "\n",
    "root_dir = os.path.join(os.getcwd(), 'drkg-hsdn-custom_formatted')\n",
    "data_dir = os.path.join(root_dir, 'data')\n",
    "models_dir = os.path.join(root_dir, 'models')\n",
    "os.makedirs(data_dir, exist_ok=True)\n",
    "os.makedirs(models_dir, exist_ok=True)\n",
    "\n",
    "raw_drkg_zipfile = os.path.join(data_dir, \"formatted_drkg.tsv.zip\")\n",
    "if os.path.exists(raw_drkg_zipfile):\n",
    "    shutil.unpack_archive(raw_drkg_zipfile, data_dir)\n",
    "\n",
    "raw_hs_zipfile = os.path.join(data_dir, \"formatted_hsdn.tsv.zip\")\n",
    "if os.path.exists(raw_hs_zipfile):\n",
    "    shutil.unpack_archive(raw_hs_zipfile, data_dir)"
   ]
  },
  {
   "cell_type": "code",
   "execution_count": null,
   "metadata": {},
   "outputs": [],
   "source": [
    "# Download the DRKG + HSDN raw data\n",
    "# Skip it, we assume the data files are already in the data folder\n",
    "\n",
    "# Merge the DRKG + HSDN raw data\n",
    "import pandas as pd\n",
    "import os\n",
    "\n",
    "selected_columns = [\"relation_type\", \"source_type\", \"source_id\", \"target_type\", \"target_id\", \"resource\"]\n",
    "\n",
    "drkg_data = pd.read_csv(os.path.join(data_dir, 'formatted_drkg.tsv'), sep='\\t')\n",
    "drkg_data = drkg_data[selected_columns]\n",
    "print(\"DRKG data shape: \", drkg_data.shape)\n",
    "\n",
    "hsdn_data = pd.read_csv(os.path.join(data_dir, 'formatted_hsdn.tsv'), sep='\\t')\n",
    "hsdn_data = hsdn_data[selected_columns]\n",
    "print(\"HSDN data shape: \", hsdn_data.shape)\n",
    "\n",
    "custom_data = pd.read_csv(os.path.join(data_dir, 'custom_kg.tsv'), sep='\\t')\n",
    "custom_data = custom_data[selected_columns]\n",
    "print(\"Custom KG shape: \", custom_data.shape)\n",
    "\n",
    "relations = pd.concat([drkg_data, hsdn_data, custom_data])\n",
    "\n",
    "# Save the merged data\n",
    "relations.to_csv(os.path.join(data_dir, 'relations.tsv'), sep='\\t', index=False)"
   ]
  },
  {
   "cell_type": "code",
   "execution_count": null,
   "metadata": {},
   "outputs": [],
   "source": [
    "df = pd.DataFrame()\n",
    "# Merge the source_type and source_id columns\n",
    "df['source_id'] = relations['source_type'] + '::' + relations['source_id'].astype(str)\n",
    "\n",
    "# Merge the target_type and target_id columns\n",
    "df['target_id'] = relations['target_type'] + '::' + relations['target_id'].astype(str)\n",
    "\n",
    "df['relation_type'] = relations['relation_type']\n",
    "\n",
    "# Reorder the columns\n",
    "df = df[['source_id', 'relation_type', 'target_id']]\n",
    "\n",
    "# Remove the header\n",
    "df.to_csv(os.path.join(data_dir, 'relations_hrt.tsv'), sep='\\t', index=False, header=False)\n",
    "\n",
    "triples = df.values.tolist()\n",
    "num_triples = len(triples)\n",
    "num_triples"
   ]
  },
  {
   "cell_type": "markdown",
   "metadata": {},
   "source": [
    "### [Option5] Get DRKG + HSDN + Custom data from the [biomedgps-data repo](https://github.com/yjcyxky/biomedgps-data)"
   ]
  },
  {
   "cell_type": "code",
   "execution_count": null,
   "metadata": {},
   "outputs": [],
   "source": [
    "# Unzip the file\n",
    "\n",
    "import os, shutil\n",
    "\n",
    "root_dir = os.path.join(os.getcwd(), 'drkg-hsdn-custom')\n",
    "data_dir = os.path.join(root_dir, 'data')\n",
    "models_dir = os.path.join(root_dir, 'models')\n",
    "os.makedirs(data_dir, exist_ok=True)\n",
    "os.makedirs(models_dir, exist_ok=True)\n",
    "\n",
    "raw_drkg_zipfile = os.path.join(data_dir, \"raw_drkg.tsv.zip\")\n",
    "if os.path.exists(raw_drkg_zipfile):\n",
    "    shutil.unpack_archive(raw_drkg_zipfile, data_dir)\n",
    "\n",
    "raw_hs_zipfile = os.path.join(data_dir, \"raw_hsdn.tsv.zip\")\n",
    "if os.path.exists(raw_hs_zipfile):\n",
    "    shutil.unpack_archive(raw_hs_zipfile, data_dir)"
   ]
  },
  {
   "cell_type": "code",
   "execution_count": null,
   "metadata": {},
   "outputs": [],
   "source": [
    "# Download the DRKG + HSDN raw data\n",
    "# Skip it, we assume the data files are already in the data folder\n",
    "\n",
    "# Merge the DRKG + HSDN raw data\n",
    "import pandas as pd\n",
    "import os\n",
    "\n",
    "selected_columns = [\"relation_type\", \"source_type\", \"source_id\", \"target_type\", \"target_id\", \"resource\"]\n",
    "\n",
    "drkg_data = pd.read_csv(os.path.join(data_dir, 'raw_drkg.tsv'), sep='\\t')\n",
    "drkg_data = drkg_data[selected_columns]\n",
    "print(\"DRKG data shape: \", drkg_data.shape)\n",
    "\n",
    "hsdn_data = pd.read_csv(os.path.join(data_dir, 'raw_hsdn.tsv'), sep='\\t')\n",
    "hsdn_data = hsdn_data[selected_columns]\n",
    "print(\"HSDN data shape: \", hsdn_data.shape)\n",
    "\n",
    "custom_data = pd.read_csv(os.path.join(data_dir, 'custom_kg.tsv'), sep='\\t')\n",
    "custom_data = custom_data[selected_columns]\n",
    "print(\"Custom KG shape: \", custom_data.shape)\n",
    "\n",
    "relations = pd.concat([drkg_data, hsdn_data, custom_data])\n",
    "\n",
    "# Save the merged data\n",
    "relations.to_csv(os.path.join(data_dir, 'relations.tsv'), sep='\\t', index=False)"
   ]
  },
  {
   "cell_type": "code",
   "execution_count": null,
   "metadata": {},
   "outputs": [],
   "source": [
    "df = pd.DataFrame()\n",
    "# Merge the source_type and source_id columns\n",
    "df['source_id'] = relations['source_type'] + '::' + relations['source_id'].astype(str)\n",
    "\n",
    "# Merge the target_type and target_id columns\n",
    "df['target_id'] = relations['target_type'] + '::' + relations['target_id'].astype(str)\n",
    "\n",
    "df['relation_type'] = relations['relation_type']\n",
    "\n",
    "# Reorder the columns\n",
    "df = df[['source_id', 'relation_type', 'target_id']]\n",
    "\n",
    "# Remove the header\n",
    "df.to_csv(os.path.join(data_dir, 'relations_hrt.tsv'), sep='\\t', index=False, header=False)\n",
    "\n",
    "triples = df.values.tolist()\n",
    "num_triples = len(triples)\n",
    "num_triples"
   ]
  },
  {
   "cell_type": "code",
   "execution_count": null,
   "metadata": {},
   "outputs": [],
   "source": [
    "relations[((relations[\"source_id\"] == \"MESH:D015673\") | (relations[\"target_id\"] == \"MESH:D015673\")) & (relations[\"resource\"] == \"CustomKB\")]"
   ]
  },
  {
   "cell_type": "markdown",
   "metadata": {},
   "source": [
    "### [Option6] Get DRKG + HSDN + Custom + Malacards formatted data from the [biomedgps-data repo](https://github.com/yjcyxky/biomedgps-data)"
   ]
  },
  {
   "cell_type": "code",
   "execution_count": null,
   "metadata": {},
   "outputs": [],
   "source": [
    "# Unzip the file\n",
    "\n",
    "import os, shutil\n",
    "\n",
    "root_dir = os.path.join(os.getcwd(), 'drkg-hsdn-custom-malacards_formatted')\n",
    "data_dir = os.path.join(root_dir, 'data')\n",
    "models_dir = os.path.join(root_dir, 'models')\n",
    "os.makedirs(data_dir, exist_ok=True)\n",
    "os.makedirs(models_dir, exist_ok=True)"
   ]
  },
  {
   "cell_type": "code",
   "execution_count": null,
   "metadata": {},
   "outputs": [],
   "source": [
    "# Download the DRKG + HSDN raw data\n",
    "# Skip it, we assume the data files are already in the data folder\n",
    "\n",
    "# Merge the DRKG + HSDN raw data\n",
    "import pandas as pd\n",
    "import os\n",
    "\n",
    "selected_columns = [\"relation_type\", \"source_type\", \"source_id\", \"target_type\", \"target_id\", \"resource\"]\n",
    "\n",
    "drkg_data = pd.read_csv(os.path.join(data_dir, 'formatted_drkg.tsv'), sep='\\t')\n",
    "drkg_data = drkg_data[selected_columns]\n",
    "print(\"DRKG data shape: \", drkg_data.shape)\n",
    "\n",
    "hsdn_data = pd.read_csv(os.path.join(data_dir, 'formatted_hsdn.tsv'), sep='\\t')\n",
    "hsdn_data = hsdn_data[selected_columns]\n",
    "print(\"HSDN data shape: \", hsdn_data.shape)\n",
    "\n",
    "custom_data = pd.read_csv(os.path.join(data_dir, 'custom_kg.tsv'), sep='\\t')\n",
    "custom_data = custom_data[selected_columns]\n",
    "print(\"Custom KG shape: \", custom_data.shape)\n",
    "\n",
    "malacards_data = pd.read_csv(os.path.join(data_dir, 'malacards.tsv'), sep='\\t')\n",
    "malacards_data = malacards_data[selected_columns]\n",
    "print(\"MalaCards data shape: \", malacards_data.shape)\n",
    "\n",
    "relations = pd.concat([drkg_data, hsdn_data, custom_data, malacards_data])\n",
    "\n",
    "# Save the merged data\n",
    "relations.to_csv(os.path.join(data_dir, 'relations.tsv'), sep='\\t', index=False)"
   ]
  },
  {
   "cell_type": "code",
   "execution_count": null,
   "metadata": {},
   "outputs": [],
   "source": [
    "df = pd.DataFrame()\n",
    "# Merge the source_type and source_id columns\n",
    "df['source_id'] = relations['source_type'] + '::' + relations['source_id'].astype(str)\n",
    "\n",
    "# Merge the target_type and target_id columns\n",
    "df['target_id'] = relations['target_type'] + '::' + relations['target_id'].astype(str)\n",
    "\n",
    "df['relation_type'] = relations['relation_type']\n",
    "\n",
    "# Reorder the columns\n",
    "df = df[['source_id', 'relation_type', 'target_id']]\n",
    "\n",
    "# Remove the header\n",
    "df.to_csv(os.path.join(data_dir, 'relations_hrt.tsv'), sep='\\t', index=False, header=False)\n",
    "\n",
    "triples = df.values.tolist()\n",
    "num_triples = len(triples)\n",
    "num_triples"
   ]
  },
  {
   "cell_type": "markdown",
   "metadata": {},
   "source": [
    "### [Option7] Get DRKG + HSDN + Custom + Malacards data from the [biomedgps-data repo](https://github.com/yjcyxky/biomedgps-data)"
   ]
  },
  {
   "cell_type": "code",
   "execution_count": 1,
   "metadata": {},
   "outputs": [],
   "source": [
    "# Unzip the file\n",
    "\n",
    "import os, shutil\n",
    "\n",
    "root_dir = os.path.join(os.getcwd(), 'drkg-hsdn-custom-malacards-filtered-all')\n",
    "data_dir = os.path.join(root_dir, 'data')\n",
    "models_dir = os.path.join(root_dir, 'models')\n",
    "os.makedirs(data_dir, exist_ok=True)\n",
    "os.makedirs(models_dir, exist_ok=True)"
   ]
  },
  {
   "cell_type": "code",
   "execution_count": 2,
   "metadata": {},
   "outputs": [
    {
     "name": "stdout",
     "output_type": "stream",
     "text": [
      "DRKG data shape:  (5874261, 6)\n",
      "HSDN data shape:  (140595, 6)\n",
      "Custom KG shape:  (589, 6)\n",
      "MalaCards data shape:  (201, 6)\n"
     ]
    }
   ],
   "source": [
    "# Download the DRKG + HSDN raw data\n",
    "# Skip it, we assume the data files are already in the data folder\n",
    "\n",
    "# Merge the DRKG + HSDN raw data\n",
    "import pandas as pd\n",
    "import os\n",
    "\n",
    "selected_columns = [\"relation_type\", \"source_type\", \"source_id\", \"target_type\", \"target_id\", \"resource\"]\n",
    "\n",
    "drkg_data = pd.read_csv(os.path.join(data_dir, 'raw_drkg.tsv'), sep='\\t')\n",
    "drkg_data = drkg_data[selected_columns]\n",
    "print(\"DRKG data shape: \", drkg_data.shape)\n",
    "\n",
    "hsdn_data = pd.read_csv(os.path.join(data_dir, 'raw_hsdn.tsv'), sep='\\t')\n",
    "hsdn_data = hsdn_data[selected_columns]\n",
    "print(\"HSDN data shape: \", hsdn_data.shape)\n",
    "\n",
    "custom_data = pd.read_csv(os.path.join(data_dir, 'custom_kg.tsv'), sep='\\t')\n",
    "custom_data = custom_data[selected_columns]\n",
    "print(\"Custom KG shape: \", custom_data.shape)\n",
    "\n",
    "malacards_data = pd.read_csv(os.path.join(data_dir, 'malacards.tsv'), sep='\\t')\n",
    "malacards_data = malacards_data[selected_columns]\n",
    "print(\"MalaCards data shape: \", malacards_data.shape)\n",
    "\n",
    "relations = pd.concat([drkg_data, hsdn_data, custom_data, malacards_data])\n",
    "\n",
    "# Save the merged data\n",
    "relations.to_csv(os.path.join(data_dir, 'relations.tsv'), sep='\\t', index=False)"
   ]
  },
  {
   "cell_type": "code",
   "execution_count": null,
   "metadata": {},
   "outputs": [],
   "source": [
    "df = pd.DataFrame()\n",
    "# Merge the source_type and source_id columns\n",
    "df['source_id'] = relations['source_type'] + '::' + relations['source_id'].astype(str)\n",
    "\n",
    "# Merge the target_type and target_id columns\n",
    "df['target_id'] = relations['target_type'] + '::' + relations['target_id'].astype(str)\n",
    "\n",
    "df['relation_type'] = relations['relation_type']\n",
    "\n",
    "# Reorder the columns\n",
    "df = df[['source_id', 'relation_type', 'target_id']]\n",
    "\n",
    "# Remove the header\n",
    "df.to_csv(os.path.join(data_dir, 'relations_hrt.tsv'), sep='\\t', index=False, header=False)\n",
    "\n",
    "triples = df.values.tolist()\n",
    "num_triples = len(triples)\n",
    "num_triples"
   ]
  },
  {
   "cell_type": "markdown",
   "metadata": {},
   "source": [
    "### Split data into train/valid/test"
   ]
  },
  {
   "cell_type": "code",
   "execution_count": null,
   "metadata": {},
   "outputs": [],
   "source": [
    "import os \n",
    "import numpy as np\n",
    "\n",
    "# Please make sure the output directory exist.\n",
    "seed = np.arange(num_triples)\n",
    "np.random.shuffle(seed)\n",
    "\n",
    "train_cnt = int(num_triples * 0.9)\n",
    "valid_cnt = int(num_triples * 0.05)\n",
    "train_set = seed[:train_cnt]\n",
    "train_set = train_set.tolist()\n",
    "valid_set = seed[train_cnt:train_cnt+valid_cnt].tolist()\n",
    "test_set = seed[train_cnt+valid_cnt:].tolist()\n",
    "\n",
    "train_dir = os.path.join(root_dir, \"data/train\")\n",
    "train_datafile = os.path.join(train_dir, \"train.tsv\")\n",
    "valid_datafile = os.path.join(train_dir, \"valid.tsv\")\n",
    "test_datafile = os.path.join(train_dir, \"test.tsv\")\n",
    "os.makedirs(train_dir, exist_ok=True)\n",
    "\n",
    "with open(train_datafile, 'w+') as f:\n",
    "    for idx in train_set:\n",
    "        f.writelines(\"{}\\t{}\\t{}\\n\".format(triples[idx][0], triples[idx][1], triples[idx][2]))\n",
    "        \n",
    "with open(valid_datafile, 'w+') as f:\n",
    "    for idx in valid_set:\n",
    "        f.writelines(\"{}\\t{}\\t{}\\n\".format(triples[idx][0], triples[idx][1], triples[idx][2]))\n",
    "\n",
    "with open(test_datafile, 'w+') as f:\n",
    "    for idx in test_set:\n",
    "        f.writelines(\"{}\\t{}\\t{}\\n\".format(triples[idx][0], triples[idx][1], triples[idx][2]))\n",
    "\n",
    "print(len(train_set), len(valid_set), len(test_set))"
   ]
  },
  {
   "cell_type": "markdown",
   "metadata": {},
   "source": [
    "## Train models with different hyperparameters"
   ]
  },
  {
   "cell_type": "code",
   "execution_count": null,
   "metadata": {},
   "outputs": [],
   "source": [
    "%%bash\n",
    "# You must change the DATASET_NAME according to your situation\n",
    "export INDEX=0\n",
    "export DATASET_NAME=drkg-hsdn-custom-subset\n",
    "export MODEL_DIR=${DATASET_NAME}/models\n",
    "mkdir -p ${MODEL_DIR}\n",
    "\n",
    "DGLBACKEND=pytorch dglke_train --dataset ${DATASET_NAME} --data_path ${DATASET_NAME}/data/train --data_files train.tsv valid.tsv test.tsv --format 'raw_udd_hrt' --model_name TransE_l2 --batch_size 2048 --neg_sample_size 256 --hidden_dim 400 --gamma 12.0 --lr 0.1 --max_step 100000 --log_interval 1000 --batch_size_eval 16 -adv --regularization_coef 1.00E-07 --test --gpu 0 --num_proc 7 --neg_sample_size_eval 10000 --async_update --mix_cpu_gpu --save_path ./${DATASET_NAME}/models 2>&1 | tee ${MODEL_DIR}/${DATASET_NAME}_${INDEX}_log.txt"
   ]
  }
 ],
 "metadata": {
  "kernelspec": {
   "display_name": "Python 3 (ipykernel)",
   "language": "python",
   "name": "python3"
  }
 },
 "nbformat": 4,
 "nbformat_minor": 4
}
