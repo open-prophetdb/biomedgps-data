{
 "cells": [
  {
   "cell_type": "markdown",
   "metadata": {},
   "source": [
    "### Plots"
   ]
  },
  {
   "cell_type": "code",
   "execution_count": 1,
   "metadata": {},
   "outputs": [
    {
     "data": {
      "text/plain": [
       "['GNBR::D::Gene:Disease',\n",
       " 'GNBR::H::Gene:Gene',\n",
       " 'GNBR::Pr::Compound:Disease',\n",
       " 'DRUGBANK::carrier::Compound:Gene',\n",
       " 'GNBR::I::Gene:Gene',\n",
       " 'Hetionet::AuG::Anatomy:Gene',\n",
       " 'Hetionet::CtD::Compound:Disease',\n",
       " 'Hetionet::DdG::Disease:Gene',\n",
       " 'STRING::OTHER::Gene:Gene',\n",
       " 'GNBR::U::Gene:Disease',\n",
       " 'GNBR::Z::Compound:Gene',\n",
       " 'bioarx::Coronavirus_ass_host_gene::Disease:Gene',\n",
       " 'Hetionet::CcSE::Compound:SideEffect',\n",
       " 'GNBR::T::Compound:Disease',\n",
       " 'DRUGBANK::target::Compound:Gene',\n",
       " 'Hetionet::AeG::Anatomy:Gene',\n",
       " 'GNBR::B::Gene:Gene',\n",
       " 'GNBR::Y::Gene:Disease',\n",
       " 'Hetionet::DrD::Disease:Disease',\n",
       " 'DRUGBANK::x-atc::Compound:Atc',\n",
       " 'Hetionet::GiG::Gene:Gene',\n",
       " 'bioarx::DrugHumGen:Compound:Gene',\n",
       " 'STRING::BINDING::Gene:Gene',\n",
       " 'DGIDB::OTHER::Gene:Compound',\n",
       " 'DGIDB::BLOCKER::Gene:Compound',\n",
       " 'GNBR::Sa::Compound:Disease',\n",
       " 'Hetionet::AdG::Anatomy:Gene',\n",
       " 'bioarx::HumGenHumGen:Gene:Gene',\n",
       " 'INTACT::PHOSPHORYLATION REACTION::Gene:Gene',\n",
       " 'Hetionet::CpD::Compound:Disease',\n",
       " 'GNBR::V+::Gene:Gene',\n",
       " 'INTACT::CLEAVAGE REACTION::Gene:Gene',\n",
       " 'DGIDB::POSITIVE ALLOSTERIC MODULATOR::Gene:Compound',\n",
       " 'Hetionet::GpMF::Gene:MolecularFunction',\n",
       " 'INTACT::ASSOCIATION::Compound:Gene',\n",
       " 'bioarx::VirGenHumGen:Gene:Gene',\n",
       " 'Hetionet::CrC::Compound:Compound',\n",
       " 'GNBR::A+::Compound:Gene',\n",
       " 'GNBR::E::Compound:Gene',\n",
       " 'bioarx::DrugVirGen:Compound:Gene',\n",
       " 'GNBR::Md::Gene:Disease',\n",
       " 'STRING::REACTION::Gene:Gene',\n",
       " 'GNBR::E::Gene:Gene',\n",
       " 'INTACT::DIRECT INTERACTION::Gene:Gene',\n",
       " 'INTACT::DIRECT INTERACTION::Compound:Gene',\n",
       " 'bioarx::Covid2_acc_host_gene::Disease:Gene',\n",
       " 'GNBR::in_tax::Gene:Tax',\n",
       " 'GNBR::O::Compound:Gene',\n",
       " 'INTACT::ASSOCIATION::Gene:Gene',\n",
       " 'DGIDB::MODULATOR::Gene:Compound',\n",
       " 'STRING::PTMOD::Gene:Gene',\n",
       " 'Hetionet::DpS::Disease:Symptom',\n",
       " 'DGIDB::AGONIST::Gene:Compound',\n",
       " 'DGIDB::ANTAGONIST::Gene:Compound',\n",
       " 'DGIDB::PARTIAL AGONIST::Gene:Compound',\n",
       " 'DRUGBANK::treats::Compound:Disease',\n",
       " 'GNBR::J::Gene:Disease',\n",
       " 'INTACT::DEPHOSPHORYLATION REACTION::Gene:Gene',\n",
       " 'GNBR::E+::Compound:Gene',\n",
       " 'GNBR::C::Compound:Disease',\n",
       " 'GNBR::G::Gene:Disease',\n",
       " 'GNBR::L::Gene:Disease',\n",
       " 'GNBR::W::Gene:Gene',\n",
       " 'Hetionet::GpBP::Gene:BiologicalProcess',\n",
       " 'HSDN::has_symptom:Disease:Symptom',\n",
       " 'INTACT::PHYSICAL ASSOCIATION::Compound:Gene',\n",
       " 'DGIDB::INHIBITOR::Gene:Compound',\n",
       " 'DGIDB::BINDER::Gene:Compound',\n",
       " 'GNBR::E+::Gene:Gene',\n",
       " 'STRING::EXPRESSION::Gene:Gene',\n",
       " 'Hetionet::PCiC::PharmacologicClass:Compound',\n",
       " 'GNBR::Mp::Compound:Disease',\n",
       " 'GNBR::B::Compound:Gene',\n",
       " 'STRING::CATALYSIS::Gene:Gene',\n",
       " 'GNBR::X::Gene:Disease',\n",
       " 'GNBR::E-::Compound:Gene',\n",
       " 'Hetionet::GpPW::Gene:Pathway',\n",
       " 'Hetionet::DuG::Disease:Gene',\n",
       " 'INTACT::COLOCALIZATION::Gene:Gene',\n",
       " 'INTACT::PROTEIN CLEAVAGE::Gene:Gene',\n",
       " 'Hetionet::DaG::Disease:Gene',\n",
       " 'DGIDB::ALLOSTERIC MODULATOR::Gene:Compound',\n",
       " 'DRUGBANK::ddi-interactor-in::Compound:Compound',\n",
       " 'DGIDB::CHANNEL BLOCKER::Gene:Compound',\n",
       " 'GNBR::Rg::Gene:Gene',\n",
       " 'Hetionet::DlA::Disease:Anatomy',\n",
       " 'INTACT::UBIQUITINATION REACTION::Gene:Gene',\n",
       " 'GNBR::Te::Gene:Disease',\n",
       " 'GNBR::J::Compound:Disease',\n",
       " 'Hetionet::CuG::Compound:Gene',\n",
       " 'DGIDB::ANTIBODY::Gene:Compound',\n",
       " 'STRING::ACTIVATION::Gene:Gene',\n",
       " 'INTACT::PHYSICAL ASSOCIATION::Gene:Gene',\n",
       " 'GNBR::Ud::Gene:Disease',\n",
       " 'DRUGBANK::enzyme::Compound:Gene',\n",
       " 'GNBR::A-::Compound:Gene',\n",
       " 'GNBR::Q::Gene:Gene',\n",
       " 'Hetionet::CdG::Compound:Gene',\n",
       " 'INTACT::ADP RIBOSYLATION REACTION::Gene:Gene',\n",
       " 'Hetionet::Gr>G::Gene:Gene',\n",
       " 'Hetionet::GpCC::Gene:CellularComponent',\n",
       " 'DGIDB::ACTIVATOR::Gene:Compound',\n",
       " 'STRING::INHIBITION::Gene:Gene',\n",
       " 'GNBR::K::Compound:Gene',\n",
       " 'Hetionet::GcG::Gene:Gene',\n",
       " 'GNBR::N::Compound:Gene',\n",
       " 'GNBR::Pa::Compound:Disease',\n",
       " 'Hetionet::CbG::Compound:Gene']"
      ]
     },
     "execution_count": 1,
     "metadata": {},
     "output_type": "execute_result"
    }
   ],
   "source": [
    "import os\n",
    "import pandas as pd\n",
    "\n",
    "dataset = \"drkg-hsdn\"\n",
    "data_dir = os.path.join(os.getcwd(), dataset, \"data\")\n",
    "relation_file = os.path.join(data_dir, \"relations_hrt.tsv\")\n",
    "relations = pd.read_csv(relation_file, sep=\"\\t\", names=[\"source_id\", \"relation_type\", \"target_id\"], dtype=str)\n",
    "list(set(relations[\"relation_type\"].to_list()))"
   ]
  },
  {
   "cell_type": "code",
   "execution_count": 2,
   "metadata": {},
   "outputs": [
    {
     "data": {
      "application/vnd.plotly.v1+json": {
       "config": {
        "plotlyServerURL": "https://plot.ly"
       },
       "data": [
        {
         "alignmentgroup": "True",
         "hovertemplate": "resource=DRUGBANK<br>source_target=%{x}<br>count=%{y}<extra></extra>",
         "legendgroup": "DRUGBANK",
         "marker": {
          "color": "#636efa",
          "pattern": {
           "shape": ""
          }
         },
         "name": "DRUGBANK",
         "offsetgroup": "DRUGBANK",
         "orientation": "v",
         "showlegend": true,
         "textposition": "auto",
         "type": "bar",
         "x": [
          "Compound:Atc",
          "Compound:Compound",
          "Disease:Compound",
          "Gene:Compound"
         ],
         "xaxis": "x",
         "y": [
          15750,
          1379271,
          4968,
          24801
         ],
         "yaxis": "y"
        },
        {
         "alignmentgroup": "True",
         "hovertemplate": "resource=Hetionet<br>source_target=%{x}<br>count=%{y}<extra></extra>",
         "legendgroup": "Hetionet",
         "marker": {
          "color": "#EF553B",
          "pattern": {
           "shape": ""
          }
         },
         "name": "Hetionet",
         "offsetgroup": "Hetionet",
         "orientation": "v",
         "showlegend": true,
         "textposition": "auto",
         "type": "bar",
         "x": [
          "Compound:Compound",
          "Disease:Anatomy",
          "Disease:Compound",
          "Disease:Disease",
          "Gene:Anatomy",
          "Gene:BiologicalProcess",
          "Gene:CellularComponent",
          "Gene:Compound",
          "Gene:Disease",
          "Gene:Gene",
          "MolecularFunction:Gene",
          "Pathway:Gene",
          "PharmacologicClass:Compound",
          "SideEffect:Compound",
          "Symptom:Disease"
         ],
         "xaxis": "x",
         "y": [
          6486,
          3602,
          1145,
          543,
          726495,
          559504,
          73566,
          51429,
          27977,
          474526,
          97222,
          84372,
          1029,
          138944,
          3357
         ],
         "yaxis": "y"
        },
        {
         "alignmentgroup": "True",
         "hovertemplate": "resource=GNBR<br>source_target=%{x}<br>count=%{y}<extra></extra>",
         "legendgroup": "GNBR",
         "marker": {
          "color": "#00cc96",
          "pattern": {
           "shape": ""
          }
         },
         "name": "GNBR",
         "offsetgroup": "GNBR",
         "orientation": "v",
         "showlegend": true,
         "textposition": "auto",
         "type": "bar",
         "x": [
          "Disease:Compound",
          "Gene:Compound",
          "Gene:Disease",
          "Gene:Gene",
          "Tax:Gene"
         ],
         "xaxis": "x",
         "y": [
          77782,
          80803,
          95399,
          66722,
          14663
         ],
         "yaxis": "y"
        },
        {
         "alignmentgroup": "True",
         "hovertemplate": "resource=DGIDB<br>source_target=%{x}<br>count=%{y}<extra></extra>",
         "legendgroup": "DGIDB",
         "marker": {
          "color": "#ab63fa",
          "pattern": {
           "shape": ""
          }
         },
         "name": "DGIDB",
         "offsetgroup": "DGIDB",
         "orientation": "v",
         "showlegend": true,
         "textposition": "auto",
         "type": "bar",
         "x": [
          "Gene:Compound"
         ],
         "xaxis": "x",
         "y": [
          26290
         ],
         "yaxis": "y"
        },
        {
         "alignmentgroup": "True",
         "hovertemplate": "resource=INTACT<br>source_target=%{x}<br>count=%{y}<extra></extra>",
         "legendgroup": "INTACT",
         "marker": {
          "color": "#FFA15A",
          "pattern": {
           "shape": ""
          }
         },
         "name": "INTACT",
         "offsetgroup": "INTACT",
         "orientation": "v",
         "showlegend": true,
         "textposition": "auto",
         "type": "bar",
         "x": [
          "Gene:Compound",
          "Gene:Gene"
         ],
         "xaxis": "x",
         "y": [
          1805,
          254346
         ],
         "yaxis": "y"
        },
        {
         "alignmentgroup": "True",
         "hovertemplate": "resource=bioarx<br>source_target=%{x}<br>count=%{y}<extra></extra>",
         "legendgroup": "bioarx",
         "marker": {
          "color": "#19d3f3",
          "pattern": {
           "shape": ""
          }
         },
         "name": "bioarx",
         "offsetgroup": "bioarx",
         "orientation": "v",
         "showlegend": true,
         "textposition": "auto",
         "type": "bar",
         "x": [
          "Gene:Compound",
          "Gene:Disease",
          "Gene:Gene"
         ],
         "xaxis": "x",
         "y": [
          25666,
          461,
          58629
         ],
         "yaxis": "y"
        },
        {
         "alignmentgroup": "True",
         "hovertemplate": "resource=STRING<br>source_target=%{x}<br>count=%{y}<extra></extra>",
         "legendgroup": "STRING",
         "marker": {
          "color": "#FF6692",
          "pattern": {
           "shape": ""
          }
         },
         "name": "STRING",
         "offsetgroup": "STRING",
         "orientation": "v",
         "showlegend": true,
         "textposition": "auto",
         "type": "bar",
         "x": [
          "Gene:Gene"
         ],
         "xaxis": "x",
         "y": [
          1496708
         ],
         "yaxis": "y"
        },
        {
         "alignmentgroup": "True",
         "hovertemplate": "resource=HSDN<br>source_target=%{x}<br>count=%{y}<extra></extra>",
         "legendgroup": "HSDN",
         "marker": {
          "color": "#B6E880",
          "pattern": {
           "shape": ""
          }
         },
         "name": "HSDN",
         "offsetgroup": "HSDN",
         "orientation": "v",
         "showlegend": true,
         "textposition": "auto",
         "type": "bar",
         "x": [
          "Symptom:Disease"
         ],
         "xaxis": "x",
         "y": [
          140595
         ],
         "yaxis": "y"
        }
       ],
       "layout": {
        "barmode": "relative",
        "legend": {
         "title": {
          "text": "resource"
         },
         "tracegroupgap": 0
        },
        "template": {
         "data": {
          "bar": [
           {
            "error_x": {
             "color": "#2a3f5f"
            },
            "error_y": {
             "color": "#2a3f5f"
            },
            "marker": {
             "line": {
              "color": "#E5ECF6",
              "width": 0.5
             },
             "pattern": {
              "fillmode": "overlay",
              "size": 10,
              "solidity": 0.2
             }
            },
            "type": "bar"
           }
          ],
          "barpolar": [
           {
            "marker": {
             "line": {
              "color": "#E5ECF6",
              "width": 0.5
             },
             "pattern": {
              "fillmode": "overlay",
              "size": 10,
              "solidity": 0.2
             }
            },
            "type": "barpolar"
           }
          ],
          "carpet": [
           {
            "aaxis": {
             "endlinecolor": "#2a3f5f",
             "gridcolor": "white",
             "linecolor": "white",
             "minorgridcolor": "white",
             "startlinecolor": "#2a3f5f"
            },
            "baxis": {
             "endlinecolor": "#2a3f5f",
             "gridcolor": "white",
             "linecolor": "white",
             "minorgridcolor": "white",
             "startlinecolor": "#2a3f5f"
            },
            "type": "carpet"
           }
          ],
          "choropleth": [
           {
            "colorbar": {
             "outlinewidth": 0,
             "ticks": ""
            },
            "type": "choropleth"
           }
          ],
          "contour": [
           {
            "colorbar": {
             "outlinewidth": 0,
             "ticks": ""
            },
            "colorscale": [
             [
              0,
              "#0d0887"
             ],
             [
              0.1111111111111111,
              "#46039f"
             ],
             [
              0.2222222222222222,
              "#7201a8"
             ],
             [
              0.3333333333333333,
              "#9c179e"
             ],
             [
              0.4444444444444444,
              "#bd3786"
             ],
             [
              0.5555555555555556,
              "#d8576b"
             ],
             [
              0.6666666666666666,
              "#ed7953"
             ],
             [
              0.7777777777777778,
              "#fb9f3a"
             ],
             [
              0.8888888888888888,
              "#fdca26"
             ],
             [
              1,
              "#f0f921"
             ]
            ],
            "type": "contour"
           }
          ],
          "contourcarpet": [
           {
            "colorbar": {
             "outlinewidth": 0,
             "ticks": ""
            },
            "type": "contourcarpet"
           }
          ],
          "heatmap": [
           {
            "colorbar": {
             "outlinewidth": 0,
             "ticks": ""
            },
            "colorscale": [
             [
              0,
              "#0d0887"
             ],
             [
              0.1111111111111111,
              "#46039f"
             ],
             [
              0.2222222222222222,
              "#7201a8"
             ],
             [
              0.3333333333333333,
              "#9c179e"
             ],
             [
              0.4444444444444444,
              "#bd3786"
             ],
             [
              0.5555555555555556,
              "#d8576b"
             ],
             [
              0.6666666666666666,
              "#ed7953"
             ],
             [
              0.7777777777777778,
              "#fb9f3a"
             ],
             [
              0.8888888888888888,
              "#fdca26"
             ],
             [
              1,
              "#f0f921"
             ]
            ],
            "type": "heatmap"
           }
          ],
          "heatmapgl": [
           {
            "colorbar": {
             "outlinewidth": 0,
             "ticks": ""
            },
            "colorscale": [
             [
              0,
              "#0d0887"
             ],
             [
              0.1111111111111111,
              "#46039f"
             ],
             [
              0.2222222222222222,
              "#7201a8"
             ],
             [
              0.3333333333333333,
              "#9c179e"
             ],
             [
              0.4444444444444444,
              "#bd3786"
             ],
             [
              0.5555555555555556,
              "#d8576b"
             ],
             [
              0.6666666666666666,
              "#ed7953"
             ],
             [
              0.7777777777777778,
              "#fb9f3a"
             ],
             [
              0.8888888888888888,
              "#fdca26"
             ],
             [
              1,
              "#f0f921"
             ]
            ],
            "type": "heatmapgl"
           }
          ],
          "histogram": [
           {
            "marker": {
             "pattern": {
              "fillmode": "overlay",
              "size": 10,
              "solidity": 0.2
             }
            },
            "type": "histogram"
           }
          ],
          "histogram2d": [
           {
            "colorbar": {
             "outlinewidth": 0,
             "ticks": ""
            },
            "colorscale": [
             [
              0,
              "#0d0887"
             ],
             [
              0.1111111111111111,
              "#46039f"
             ],
             [
              0.2222222222222222,
              "#7201a8"
             ],
             [
              0.3333333333333333,
              "#9c179e"
             ],
             [
              0.4444444444444444,
              "#bd3786"
             ],
             [
              0.5555555555555556,
              "#d8576b"
             ],
             [
              0.6666666666666666,
              "#ed7953"
             ],
             [
              0.7777777777777778,
              "#fb9f3a"
             ],
             [
              0.8888888888888888,
              "#fdca26"
             ],
             [
              1,
              "#f0f921"
             ]
            ],
            "type": "histogram2d"
           }
          ],
          "histogram2dcontour": [
           {
            "colorbar": {
             "outlinewidth": 0,
             "ticks": ""
            },
            "colorscale": [
             [
              0,
              "#0d0887"
             ],
             [
              0.1111111111111111,
              "#46039f"
             ],
             [
              0.2222222222222222,
              "#7201a8"
             ],
             [
              0.3333333333333333,
              "#9c179e"
             ],
             [
              0.4444444444444444,
              "#bd3786"
             ],
             [
              0.5555555555555556,
              "#d8576b"
             ],
             [
              0.6666666666666666,
              "#ed7953"
             ],
             [
              0.7777777777777778,
              "#fb9f3a"
             ],
             [
              0.8888888888888888,
              "#fdca26"
             ],
             [
              1,
              "#f0f921"
             ]
            ],
            "type": "histogram2dcontour"
           }
          ],
          "mesh3d": [
           {
            "colorbar": {
             "outlinewidth": 0,
             "ticks": ""
            },
            "type": "mesh3d"
           }
          ],
          "parcoords": [
           {
            "line": {
             "colorbar": {
              "outlinewidth": 0,
              "ticks": ""
             }
            },
            "type": "parcoords"
           }
          ],
          "pie": [
           {
            "automargin": true,
            "type": "pie"
           }
          ],
          "scatter": [
           {
            "fillpattern": {
             "fillmode": "overlay",
             "size": 10,
             "solidity": 0.2
            },
            "type": "scatter"
           }
          ],
          "scatter3d": [
           {
            "line": {
             "colorbar": {
              "outlinewidth": 0,
              "ticks": ""
             }
            },
            "marker": {
             "colorbar": {
              "outlinewidth": 0,
              "ticks": ""
             }
            },
            "type": "scatter3d"
           }
          ],
          "scattercarpet": [
           {
            "marker": {
             "colorbar": {
              "outlinewidth": 0,
              "ticks": ""
             }
            },
            "type": "scattercarpet"
           }
          ],
          "scattergeo": [
           {
            "marker": {
             "colorbar": {
              "outlinewidth": 0,
              "ticks": ""
             }
            },
            "type": "scattergeo"
           }
          ],
          "scattergl": [
           {
            "marker": {
             "colorbar": {
              "outlinewidth": 0,
              "ticks": ""
             }
            },
            "type": "scattergl"
           }
          ],
          "scattermapbox": [
           {
            "marker": {
             "colorbar": {
              "outlinewidth": 0,
              "ticks": ""
             }
            },
            "type": "scattermapbox"
           }
          ],
          "scatterpolar": [
           {
            "marker": {
             "colorbar": {
              "outlinewidth": 0,
              "ticks": ""
             }
            },
            "type": "scatterpolar"
           }
          ],
          "scatterpolargl": [
           {
            "marker": {
             "colorbar": {
              "outlinewidth": 0,
              "ticks": ""
             }
            },
            "type": "scatterpolargl"
           }
          ],
          "scatterternary": [
           {
            "marker": {
             "colorbar": {
              "outlinewidth": 0,
              "ticks": ""
             }
            },
            "type": "scatterternary"
           }
          ],
          "surface": [
           {
            "colorbar": {
             "outlinewidth": 0,
             "ticks": ""
            },
            "colorscale": [
             [
              0,
              "#0d0887"
             ],
             [
              0.1111111111111111,
              "#46039f"
             ],
             [
              0.2222222222222222,
              "#7201a8"
             ],
             [
              0.3333333333333333,
              "#9c179e"
             ],
             [
              0.4444444444444444,
              "#bd3786"
             ],
             [
              0.5555555555555556,
              "#d8576b"
             ],
             [
              0.6666666666666666,
              "#ed7953"
             ],
             [
              0.7777777777777778,
              "#fb9f3a"
             ],
             [
              0.8888888888888888,
              "#fdca26"
             ],
             [
              1,
              "#f0f921"
             ]
            ],
            "type": "surface"
           }
          ],
          "table": [
           {
            "cells": {
             "fill": {
              "color": "#EBF0F8"
             },
             "line": {
              "color": "white"
             }
            },
            "header": {
             "fill": {
              "color": "#C8D4E3"
             },
             "line": {
              "color": "white"
             }
            },
            "type": "table"
           }
          ]
         },
         "layout": {
          "annotationdefaults": {
           "arrowcolor": "#2a3f5f",
           "arrowhead": 0,
           "arrowwidth": 1
          },
          "autotypenumbers": "strict",
          "coloraxis": {
           "colorbar": {
            "outlinewidth": 0,
            "ticks": ""
           }
          },
          "colorscale": {
           "diverging": [
            [
             0,
             "#8e0152"
            ],
            [
             0.1,
             "#c51b7d"
            ],
            [
             0.2,
             "#de77ae"
            ],
            [
             0.3,
             "#f1b6da"
            ],
            [
             0.4,
             "#fde0ef"
            ],
            [
             0.5,
             "#f7f7f7"
            ],
            [
             0.6,
             "#e6f5d0"
            ],
            [
             0.7,
             "#b8e186"
            ],
            [
             0.8,
             "#7fbc41"
            ],
            [
             0.9,
             "#4d9221"
            ],
            [
             1,
             "#276419"
            ]
           ],
           "sequential": [
            [
             0,
             "#0d0887"
            ],
            [
             0.1111111111111111,
             "#46039f"
            ],
            [
             0.2222222222222222,
             "#7201a8"
            ],
            [
             0.3333333333333333,
             "#9c179e"
            ],
            [
             0.4444444444444444,
             "#bd3786"
            ],
            [
             0.5555555555555556,
             "#d8576b"
            ],
            [
             0.6666666666666666,
             "#ed7953"
            ],
            [
             0.7777777777777778,
             "#fb9f3a"
            ],
            [
             0.8888888888888888,
             "#fdca26"
            ],
            [
             1,
             "#f0f921"
            ]
           ],
           "sequentialminus": [
            [
             0,
             "#0d0887"
            ],
            [
             0.1111111111111111,
             "#46039f"
            ],
            [
             0.2222222222222222,
             "#7201a8"
            ],
            [
             0.3333333333333333,
             "#9c179e"
            ],
            [
             0.4444444444444444,
             "#bd3786"
            ],
            [
             0.5555555555555556,
             "#d8576b"
            ],
            [
             0.6666666666666666,
             "#ed7953"
            ],
            [
             0.7777777777777778,
             "#fb9f3a"
            ],
            [
             0.8888888888888888,
             "#fdca26"
            ],
            [
             1,
             "#f0f921"
            ]
           ]
          },
          "colorway": [
           "#636efa",
           "#EF553B",
           "#00cc96",
           "#ab63fa",
           "#FFA15A",
           "#19d3f3",
           "#FF6692",
           "#B6E880",
           "#FF97FF",
           "#FECB52"
          ],
          "font": {
           "color": "#2a3f5f"
          },
          "geo": {
           "bgcolor": "white",
           "lakecolor": "white",
           "landcolor": "#E5ECF6",
           "showlakes": true,
           "showland": true,
           "subunitcolor": "white"
          },
          "hoverlabel": {
           "align": "left"
          },
          "hovermode": "closest",
          "mapbox": {
           "style": "light"
          },
          "paper_bgcolor": "white",
          "plot_bgcolor": "#E5ECF6",
          "polar": {
           "angularaxis": {
            "gridcolor": "white",
            "linecolor": "white",
            "ticks": ""
           },
           "bgcolor": "#E5ECF6",
           "radialaxis": {
            "gridcolor": "white",
            "linecolor": "white",
            "ticks": ""
           }
          },
          "scene": {
           "xaxis": {
            "backgroundcolor": "#E5ECF6",
            "gridcolor": "white",
            "gridwidth": 2,
            "linecolor": "white",
            "showbackground": true,
            "ticks": "",
            "zerolinecolor": "white"
           },
           "yaxis": {
            "backgroundcolor": "#E5ECF6",
            "gridcolor": "white",
            "gridwidth": 2,
            "linecolor": "white",
            "showbackground": true,
            "ticks": "",
            "zerolinecolor": "white"
           },
           "zaxis": {
            "backgroundcolor": "#E5ECF6",
            "gridcolor": "white",
            "gridwidth": 2,
            "linecolor": "white",
            "showbackground": true,
            "ticks": "",
            "zerolinecolor": "white"
           }
          },
          "shapedefaults": {
           "line": {
            "color": "#2a3f5f"
           }
          },
          "ternary": {
           "aaxis": {
            "gridcolor": "white",
            "linecolor": "white",
            "ticks": ""
           },
           "baxis": {
            "gridcolor": "white",
            "linecolor": "white",
            "ticks": ""
           },
           "bgcolor": "#E5ECF6",
           "caxis": {
            "gridcolor": "white",
            "linecolor": "white",
            "ticks": ""
           }
          },
          "title": {
           "x": 0.05
          },
          "xaxis": {
           "automargin": true,
           "gridcolor": "white",
           "linecolor": "white",
           "ticks": "",
           "title": {
            "standoff": 15
           },
           "zerolinecolor": "white",
           "zerolinewidth": 2
          },
          "yaxis": {
           "automargin": true,
           "gridcolor": "white",
           "linecolor": "white",
           "ticks": "",
           "title": {
            "standoff": 15
           },
           "zerolinecolor": "white",
           "zerolinewidth": 2
          }
         }
        },
        "title": {
         "text": "Count of Rows by Source-Target and Resource"
        },
        "xaxis": {
         "anchor": "y",
         "domain": [
          0,
          1
         ],
         "title": {
          "text": "source_target"
         }
        },
        "yaxis": {
         "anchor": "x",
         "domain": [
          0,
          1
         ],
         "title": {
          "text": "count"
         }
        }
       }
      }
     },
     "metadata": {},
     "output_type": "display_data"
    }
   ],
   "source": [
    "import pandas as pd\n",
    "import plotly.express as px\n",
    "\n",
    "df = pd.DataFrame()\n",
    "df[\"resource\"] = relations[\"relation_type\"].apply(lambda x: x.split(\"::\")[0])\n",
    "df[\"source_type\"] = relations[\"source_id\"].apply(lambda x: x.split(\":\")[0])\n",
    "df[\"target_type\"] = relations[\"target_id\"].apply(lambda x: x.split(\":\")[0])\n",
    "df[\"source_target\"] = df[\"source_type\"] + \":\" + df[\"target_type\"]\n",
    "\n",
    "# source_type:target_type might be same with target_type:source_type, merge them\n",
    "df[\"source_target\"] = df[\"source_target\"].apply(lambda x: x.split(\":\")[0] + \":\" + x.split(\":\")[1] if x.split(\":\")[0] > x.split(\":\")[1] else x.split(\":\")[1] + \":\" + x.split(\":\")[0])\n",
    "\n",
    "# Plot only the rows where matched source and target types are in the list\n",
    "# filtered_df = df[df[\"source_type\"].isin([\"Disease\", \"Gene\", \"Compound\", \"Symptom\", \"Pathway\"]) & df[\"target_type\"].isin([\"Disease\", \"Gene\", \"Compound\", \"Symptom\", \"Pathway\"])]\n",
    "\n",
    "# Group the data by 'label' and 'resource' and count the rows\n",
    "# grouped_df = filtered_df.groupby(['source_target', \"resource\"]).size().reset_index(name='count')\n",
    "\n",
    "# resource = ['bioarx', 'DGIDB', 'DRUGBANK', 'GNBR', 'Hetionet', 'INTACT', 'STRING', 'HSDN']\n",
    "# # Please specify the colors in the same order as the resource list\n",
    "# colors = [\n",
    "#     \"#FF0000\",  # Red\n",
    "#     \"#008000\",  # Green\n",
    "#     \"#0000FF\",  # Blue\n",
    "#     \"#FFFF00\",  # Yellow\n",
    "#     \"#800080\",  # Purple\n",
    "#     \"#FFA500\",  # Orange\n",
    "#     \"#FFC0CB\",  # Pink\n",
    "#     \"#00FFFF\"   # Cyan\n",
    "# ]\n",
    "\n",
    "# # Generate a list of colors for each resource\n",
    "# colors = grouped_df['resource'].apply(lambda x: colors[resource.index(x)])\n",
    "\n",
    "# # Create the bar chart using Plotly Express\n",
    "# fig2 = px.bar(grouped_df, x='source_target', y='count', color='resource', title='Count of Rows by Source-Target and Resource', color_discrete_sequence=colors)\n",
    "\n",
    "# Plot all\n",
    "grouped_df = df.groupby(['source_target', \"resource\"]).size().reset_index(name='count')\n",
    "fig2 = px.bar(grouped_df, x='source_target', y='count', color='resource', title='Count of Rows by Source-Target and Resource')\n",
    "\n",
    "# Show the plot\n",
    "fig2.show(renderer='vscode')"
   ]
  },
  {
   "cell_type": "markdown",
   "metadata": {},
   "source": [
    "### Visualize a subgraph with a specified subset of relations"
   ]
  },
  {
   "cell_type": "markdown",
   "metadata": {},
   "source": [
    "### Get all paths with length <= 3 and one node as a start point.\n",
    "\n",
    "> Prompt: \n",
    "> If I have a file which contains the following columns: source_id, source_type, target_id, target_type, relation_type. and any node will be treated as a uniq node, if its id:type is different from others. I would like to use one specified node as a start point and get a subgraph which all nodes linked with it and the length of paths <= 3, how to do it? In the meanwhile, please save the paths as a file which contains five columns: source_id, source_type, relation_type, target_id, target_type."
   ]
  },
  {
   "cell_type": "markdown",
   "metadata": {},
   "source": [
    "#### Create a subgraph by extracting nodes with paths <= max_length from the start node"
   ]
  },
  {
   "cell_type": "code",
   "execution_count": 8,
   "metadata": {},
   "outputs": [],
   "source": [
    "import pandas as pd\n",
    "import networkx as nx\n",
    "\n",
    "dataset_name = \"drkg-hsdn\"\n",
    "rootdir = os.path.dirname(os.getcwd())\n",
    "total_entity_file = os.path.join(rootdir, \"graph_data\", \"entities.tsv\")\n",
    "\n",
    "datadir = os.path.join(os.getcwd(), dataset_name, \"data\")\n",
    "\n",
    "# Specify the start node as a tuple (id, type)\n",
    "# ME/CFS\n",
    "# start_node = ('MONDO:0005404', 'Disease')\n",
    "\n",
    "# ME/CFS\n",
    "start_node = ('MESH:D015673', 'Disease')\n",
    "\n",
    "# Lung Cancer\n",
    "# start_node = ('MONDO:0008903', 'Disease')\n",
    "\n",
    "max_length = 2\n",
    "\n",
    "allowd_types = [\"Disease\", \"Gene\", \"Compound\", \"Symptom\"]\n",
    "# types_to_remove = [\"Disease\"]\n",
    "types_to_remove = []\n",
    "which_layer_to_remove = 1\n",
    "\n",
    "# allowd_types = [\"Gene\", \"Compound\", \"Disease\", \"Symptom\", \"Pathway\", \"Anatomy\", \"Metabolite\", \"MolecularFunction\", \"BiologicalProcess\", \"CellularComponent\"]\n",
    "colors = [\"#e60049\", \"#0bb4ff\", \"#50e991\", \"#e6d800\", \"#9b19f5\", \"#ffa300\", \"#dc0ab4\", \"#b3d4ff\", \"#00bfa0\", \"#ff6e00\"]\n",
    "\n",
    "node_type_colors = {}\n",
    "for node_type, color in zip(allowd_types, colors):\n",
    "    node_type_colors[node_type] = color\n",
    "\n",
    "# Read the data from the file into a DataFrame\n",
    "df = pd.read_csv(os.path.join(datadir, 'relations.tsv'), sep='\\t', dtype=str)\n",
    "\n",
    "entity_file = os.path.join(datadir, 'entities.tsv')\n",
    "if os.path.exists(entity_file):\n",
    "    entites = pd.read_csv(entity_file, sep='\\t', dtype=str)\n",
    "\n",
    "    # Join the df and the entites to get the label of each node and add name field from the entites to the df\n",
    "    df = df.merge(entites[['id', 'name', 'label']], left_on=['source_id', 'source_type'], right_on=['id', 'label'], how='left')\n",
    "    df = df.rename(columns={'name': 'source_name'})\n",
    "\n",
    "    df = df.merge(entites[['id', 'name', 'label']], left_on=['target_id', 'target_type'], right_on=['id', 'label'], how='left')\n",
    "    df = df.rename(columns={'name': 'target_name'})\n",
    "elif os.path.exists(total_entity_file):\n",
    "    # TODO: Add the name field from the all entities where the id matches the source_id and target_id\n",
    "    df[\"source_name\"] = df[\"source_id\"]\n",
    "    df[\"target_name\"] = df[\"target_id\"]\n",
    "    pass\n",
    "\n",
    "# Create a directed graph to represent the relationships\n",
    "G = nx.DiGraph()\n",
    "\n",
    "# Add nodes and edges to the graph\n",
    "for _, row in df.iterrows():\n",
    "    source_id = row['source_id']\n",
    "    source_type = row['source_type']\n",
    "    source_name = row['source_name']\n",
    "    target_id = row['target_id']\n",
    "    target_type = row['target_type']\n",
    "    target_name = row['target_name']\n",
    "    relation_type = row['relation_type']\n",
    "\n",
    "    if source_type not in allowd_types or target_type not in allowd_types:\n",
    "        continue\n",
    "\n",
    "    # Add nodes for source and target with node type as an attribute\n",
    "    G.add_node((source_id, source_type), source_name=source_name, node_type=source_type)\n",
    "    G.add_node((target_id, target_type), target_name=target_name, node_type=target_type)\n",
    "\n",
    "    # Add directed edge from source to target\n",
    "    G.add_edge((source_id, source_type), (target_id, target_type), relation=relation_type, source_name=source_name, target_name=target_name)\n",
    "\n",
    "subgraph_nodes = nx.single_source_shortest_path_length(G, start_node, cutoff=max_length)\n"
   ]
  },
  {
   "cell_type": "code",
   "execution_count": 9,
   "metadata": {},
   "outputs": [
    {
     "name": "stdout",
     "output_type": "stream",
     "text": [
      "{('MESH:D015673', 'Disease'): 0, ('MESH:D001247', 'Symptom'): 1, ('MESH:D005334', 'Symptom'): 1, ('MESH:D005335', 'Symptom'): 1, ('MESH:D007035', 'Symptom'): 1, ('MESH:D001835', 'Symptom'): 1, ('MESH:D015430', 'Symptom'): 1, ('MESH:D050177', 'Symptom'): 1, ('MESH:D009765', 'Symptom'): 1, ('MESH:D002303', 'Symptom'): 1, ('MESH:D005221', 'Symptom'): 1, ('MESH:D005222', 'Symptom'): 1, ('MESH:D051346', 'Symptom'): 1, ('MESH:D020820', 'Symptom'): 1, ('MESH:D006948', 'Symptom'): 1, ('MESH:D011595', 'Symptom'): 1, ('MESH:D014202', 'Symptom'): 1, ('MESH:D020233', 'Symptom'): 1, ('MESH:D019954', 'Symptom'): 1, ('MESH:D007806', 'Symptom'): 1, ('MESH:D004410', 'Symptom'): 1, ('MESH:D003221', 'Symptom'): 1, ('MESH:D013575', 'Symptom'): 1, ('MESH:D019462', 'Symptom'): 1, ('MESH:D008569', 'Symptom'): 1, ('MESH:D010468', 'Symptom'): 1, ('MESH:D001308', 'Symptom'): 1, ('MESH:D011596', 'Symptom'): 1, ('MESH:D018908', 'Symptom'): 1, ('MESH:D009133', 'Symptom'): 1, ('MESH:D013035', 'Symptom'): 1, ('MESH:D054971', 'Symptom'): 1, ('MESH:D010146', 'Symptom'): 1, ('MESH:D001416', 'Symptom'): 1, ('MESH:D017116', 'Symptom'): 1, ('MESH:D006261', 'Symptom'): 1, ('MESH:D010148', 'Symptom'): 1, ('MESH:D053591', 'Symptom'): 1, ('MESH:D011602', 'Symptom'): 1, ('MESH:D012021', 'Symptom'): 1, ('MESH:D012678', 'Symptom'): 1, ('MESH:D004244', 'Symptom'): 1, ('MESH:D014012', 'Symptom'): 1, ('MESH:D000857', 'Symptom'): 1, ('MESH:D006930', 'Symptom'): 1, ('MESH:D010292', 'Symptom'): 1, ('MESH:D014786', 'Symptom'): 1, ('MESH:D012892', 'Symptom'): 1, ('MESH:D014832', 'Symptom'): 1, ('MESH:D015746', 'Symptom'): 1, ('MESH:D018771', 'Symptom'): 1, ('MESH:D002637', 'Symptom'): 1, ('MESH:D004412', 'Symptom'): 1, ('MESH:D000855', 'Symptom'): 1, ('MESH:D004415', 'Symptom'): 1, ('MESH:D002032', 'Symptom'): 1, ('MESH:D009325', 'Symptom'): 1, ('MESH:D001049', 'Symptom'): 1, ('MESH:D004417', 'Symptom'): 1, ('MESH:D006935', 'Symptom'): 1, ('MESH:D006985', 'Symptom'): 1, ('MESH:D016857', 'Symptom'): 1, ('MESH:D011507', 'Symptom'): 1}\n"
     ]
    }
   ],
   "source": [
    "print(subgraph_nodes)\n",
    "# Iterate through the nodes and create a list of nodes to remove\n",
    "# Prompt: How to remove all nodes which are disease type and are greater than a specific layer in a path?\n",
    "nodes_to_remove = []\n",
    "for node, layer in subgraph_nodes.items():\n",
    "    if G.nodes[node][\"node_type\"] in types_to_remove and layer > which_layer_to_remove:\n",
    "        print(\"Remove node: \", node, \" with layer: \", layer)\n",
    "        nodes_to_remove.append(node)\n",
    "\n",
    "G_copy = G.copy()\n",
    "# Remove the nodes from the graph\n",
    "G_copy.remove_nodes_from(nodes_to_remove)\n",
    "\n",
    "# Extract the subgraph from the original graph\n",
    "subgraph = G_copy.subgraph(subgraph_nodes.keys())\n",
    "\n",
    "# Create a list to store the paths in the desired format\n",
    "formatted_paths = []\n",
    "\n",
    "# Iterate through the edges in the subgraph and store them\n",
    "for edge in subgraph.edges(data=True):\n",
    "    source_node = edge[0]\n",
    "    target_node = edge[1]\n",
    "    relation_type = edge[2]['relation']\n",
    "    source_name = edge[2]['source_name']\n",
    "    target_name = edge[2]['target_name']\n",
    "\n",
    "    formatted_paths.append((source_node[0], source_node[1], relation_type, target_node[0], target_node[1], source_name, target_name))\n",
    "\n",
    "# Create a DataFrame from the formatted paths\n",
    "formatted_df = pd.DataFrame(formatted_paths, columns=['source_id', 'source_type', 'relation_type', 'target_id', 'target_type', 'source_name', 'target_name'])"
   ]
  },
  {
   "cell_type": "markdown",
   "metadata": {},
   "source": [
    "#### Save the DataFrame to a CSV file"
   ]
  },
  {
   "cell_type": "code",
   "execution_count": 10,
   "metadata": {},
   "outputs": [],
   "source": [
    "pathdir = os.path.join(datadir, 'paths')\n",
    "if not os.path.exists(pathdir):\n",
    "    os.makedirs(pathdir)\n",
    "\n",
    "# Extract the first character of each type and join them to create a string\n",
    "allowd_types_str = ''.join([x[0] for x in allowd_types])\n",
    "prefix = f'{start_node[0].replace(\":\", \"_\").lower()}_{max_length}_{allowd_types_str.lower()}'\n",
    "pathfile = os.path.join(pathdir, f'{prefix}_subgraph.tsv')\n",
    "formatted_df.to_csv(pathfile, index=False, sep='\\t')"
   ]
  },
  {
   "cell_type": "markdown",
   "metadata": {},
   "source": [
    "#### Convert the df to a file which is compatible with cytoscape"
   ]
  },
  {
   "cell_type": "markdown",
   "metadata": {},
   "source": [
    "Prompt: I have a data frame which contains seven columns: 'source_id', 'source_type', 'source_name', 'target_id', 'target_type', 'target_name', 'relation_type', how to convert the data frame into a xgmml file."
   ]
  },
  {
   "cell_type": "code",
   "execution_count": 11,
   "metadata": {},
   "outputs": [
    {
     "ename": "",
     "evalue": "",
     "output_type": "error",
     "traceback": [
      "\u001b[1;31mThe Kernel crashed while executing code in the the current cell or a previous cell. Please review the code in the cell(s) to identify a possible cause of the failure. Click <a href='https://aka.ms/vscodeJupyterKernelCrash'>here</a> for more info. View Jupyter <a href='command:jupyter.viewOutput'>log</a> for further details."
     ]
    }
   ],
   "source": [
    "nodes_df = formatted_df[['source_id', 'source_name', 'source_type']].rename(\n",
    "    columns={'source_id': 'id', 'source_name': 'name', 'source_type': 'type'}\n",
    ")\n",
    "nodes_df = pd.concat([nodes_df, formatted_df[['target_id', 'target_name', 'target_type']].rename(\n",
    "    columns={'target_id': 'id', 'target_name': 'name', 'target_type': 'type'}\n",
    ")], axis=0)\n",
    "nodes_df = nodes_df.drop_duplicates(subset=['id', 'type'])\n",
    "\n",
    "edges_df = formatted_df[['source_id', 'target_id', 'relation_type']].rename(\n",
    "    columns={'source_id': 'source', 'target_id': 'target', 'relation_type': 'label'}\n",
    ")\n",
    "\n",
    "# Create an XGMML template with additional attributes\n",
    "xgmml_template = '''<?xml version=\"1.0\" encoding=\"UTF-8\" standalone=\"yes\"?>\n",
    "<!DOCTYPE graph PUBLIC \"-//John Punin//DTD graph description//EN\" \"http://www.cs.rpi.edu/~puninj/XGMML/xgmml.dtd\">\n",
    "<graph label=\"Knowledge Graph\" directed=\"1\">\n",
    "  {nodes}\n",
    "  {edges}\n",
    "</graph>\n",
    "'''\n",
    "\n",
    "# Create node and edge elements with additional attributes\n",
    "node_lst = [\n",
    "    f'''\n",
    "    <node id=\"{id}\" label=\"{name}\">\n",
    "        <att name=\"id\" type=\"string\" value=\"{id}\" />\n",
    "        <att name=\"name\" type=\"string\" value=\"{name}\" />\n",
    "        <att name=\"type\" type=\"string\" value=\"{type}\" />\n",
    "        <att name=\"node_shape\" type=\"string\" value=\"ellipse\" />\n",
    "        <att name=\"node_color\" type=\"string\" value=\"{node_type_colors[type]}\" />\n",
    "    </node>\n",
    "    '''\n",
    "    for id, name, type in zip(nodes_df['id'], nodes_df['name'], nodes_df['type'])\n",
    "]\n",
    "nodes = '\\n'.join(node_lst)\n",
    "\n",
    "edge_lst = [\n",
    "    f'''\n",
    "    <edge source=\"{source}\" target=\"{target}\" label=\"{label}\" cy:directed=\"1\">\n",
    "        <att name=\"relation_type\" type=\"string\" value=\"{label}\" />\n",
    "        <att name=\"shared name\" value=\"{label}\" type=\"string\"\n",
    "        cy:type=\"String\" />\n",
    "        <att name=\"shared interaction\" value=\"\" type=\"string\" cy:type=\"String\" />\n",
    "        <att name=\"name\" value=\"{label}\" type=\"string\" cy:type=\"String\" />\n",
    "        <att name=\"selected\" value=\"0\" type=\"boolean\" cy:type=\"Boolean\" />\n",
    "        <att name=\"interaction\" value=\"\" type=\"string\" cy:type=\"String\" />\n",
    "        <att name=\"relation_type\" value=\"{label}\" type=\"string\"\n",
    "        cy:type=\"String\" />\n",
    "    </edge>\n",
    "    '''\n",
    "    for source, target, label in zip(edges_df['source'], edges_df['target'], edges_df['label'])\n",
    "]\n",
    "edges = '\\n'.join(edge_lst)\n",
    "\n",
    "# Populate the XGMML template\n",
    "xgmml_content = xgmml_template.format(nodes=nodes, edges=edges)\n",
    "\n",
    "# Save XGMML content to a file\n",
    "xgmml_file = os.path.join(pathdir, f'{prefix}_network.xgmml')\n",
    "with open(xgmml_file, 'w') as f:\n",
    "    f.write(xgmml_content)"
   ]
  }
 ],
 "metadata": {
  "kernelspec": {
   "display_name": "biomedgps",
   "language": "python",
   "name": "python3"
  },
  "language_info": {
   "codemirror_mode": {
    "name": "ipython",
    "version": 3
   },
   "file_extension": ".py",
   "mimetype": "text/x-python",
   "name": "python",
   "nbconvert_exporter": "python",
   "pygments_lexer": "ipython3",
   "version": "3.10.12"
  },
  "orig_nbformat": 4
 },
 "nbformat": 4,
 "nbformat_minor": 2
}
