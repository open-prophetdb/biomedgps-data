{
 "cells": [
  {
   "cell_type": "code",
   "execution_count": 1,
   "metadata": {},
   "outputs": [],
   "source": [
    "import os\n",
    "dataset_name = \"drkg-hsdn-custom-subset\"\n",
    "datadir = os.path.join(os.getcwd(), dataset_name, 'data')"
   ]
  },
  {
   "cell_type": "code",
   "execution_count": 8,
   "metadata": {},
   "outputs": [
    {
     "data": {
      "text/html": [
       "<div>\n",
       "<style scoped>\n",
       "    .dataframe tbody tr th:only-of-type {\n",
       "        vertical-align: middle;\n",
       "    }\n",
       "\n",
       "    .dataframe tbody tr th {\n",
       "        vertical-align: top;\n",
       "    }\n",
       "\n",
       "    .dataframe thead th {\n",
       "        text-align: right;\n",
       "    }\n",
       "</style>\n",
       "<table border=\"1\" class=\"dataframe\">\n",
       "  <thead>\n",
       "    <tr style=\"text-align: right;\">\n",
       "      <th></th>\n",
       "      <th>relation_type</th>\n",
       "      <th>source_type</th>\n",
       "      <th>source_id</th>\n",
       "      <th>target_type</th>\n",
       "      <th>target_id</th>\n",
       "      <th>resource</th>\n",
       "    </tr>\n",
       "  </thead>\n",
       "  <tbody>\n",
       "    <tr>\n",
       "      <th>0</th>\n",
       "      <td>bioarx::HumGenHumGen:Gene:Gene</td>\n",
       "      <td>Gene</td>\n",
       "      <td>ENTREZ:2157</td>\n",
       "      <td>Gene</td>\n",
       "      <td>ENTREZ:2157</td>\n",
       "      <td>bioarx</td>\n",
       "    </tr>\n",
       "    <tr>\n",
       "      <th>1</th>\n",
       "      <td>bioarx::HumGenHumGen:Gene:Gene</td>\n",
       "      <td>Gene</td>\n",
       "      <td>ENTREZ:2157</td>\n",
       "      <td>Gene</td>\n",
       "      <td>ENTREZ:5264</td>\n",
       "      <td>bioarx</td>\n",
       "    </tr>\n",
       "    <tr>\n",
       "      <th>2</th>\n",
       "      <td>bioarx::HumGenHumGen:Gene:Gene</td>\n",
       "      <td>Gene</td>\n",
       "      <td>ENTREZ:2157</td>\n",
       "      <td>Gene</td>\n",
       "      <td>ENTREZ:2158</td>\n",
       "      <td>bioarx</td>\n",
       "    </tr>\n",
       "    <tr>\n",
       "      <th>3</th>\n",
       "      <td>bioarx::HumGenHumGen:Gene:Gene</td>\n",
       "      <td>Gene</td>\n",
       "      <td>ENTREZ:2157</td>\n",
       "      <td>Gene</td>\n",
       "      <td>ENTREZ:3309</td>\n",
       "      <td>bioarx</td>\n",
       "    </tr>\n",
       "    <tr>\n",
       "      <th>4</th>\n",
       "      <td>bioarx::HumGenHumGen:Gene:Gene</td>\n",
       "      <td>Gene</td>\n",
       "      <td>ENTREZ:2157</td>\n",
       "      <td>Gene</td>\n",
       "      <td>ENTREZ:28912</td>\n",
       "      <td>bioarx</td>\n",
       "    </tr>\n",
       "  </tbody>\n",
       "</table>\n",
       "</div>"
      ],
      "text/plain": [
       "                    relation_type source_type    source_id target_type  \\\n",
       "0  bioarx::HumGenHumGen:Gene:Gene        Gene  ENTREZ:2157        Gene   \n",
       "1  bioarx::HumGenHumGen:Gene:Gene        Gene  ENTREZ:2157        Gene   \n",
       "2  bioarx::HumGenHumGen:Gene:Gene        Gene  ENTREZ:2157        Gene   \n",
       "3  bioarx::HumGenHumGen:Gene:Gene        Gene  ENTREZ:2157        Gene   \n",
       "4  bioarx::HumGenHumGen:Gene:Gene        Gene  ENTREZ:2157        Gene   \n",
       "\n",
       "      target_id resource  \n",
       "0   ENTREZ:2157   bioarx  \n",
       "1   ENTREZ:5264   bioarx  \n",
       "2   ENTREZ:2158   bioarx  \n",
       "3   ENTREZ:3309   bioarx  \n",
       "4  ENTREZ:28912   bioarx  "
      ]
     },
     "execution_count": 8,
     "metadata": {},
     "output_type": "execute_result"
    }
   ],
   "source": [
    "import pandas as pd\n",
    "df = pd.read_csv(os.path.join(datadir, 'raw_relations.tsv'), sep='\\t')\n",
    "df.head()"
   ]
  },
  {
   "cell_type": "code",
   "execution_count": 9,
   "metadata": {},
   "outputs": [],
   "source": [
    "import networkx as nx\n",
    "\n",
    "G = nx.Graph()  # Create an undirected graph\n",
    "\n",
    "for index, row in df.iterrows():\n",
    "    source_id = row['source_id']\n",
    "    source_name = row.get('source_name', '')\n",
    "    source_type = row['source_type']\n",
    "    target_id = row['target_id']\n",
    "    target_type = row['target_type']\n",
    "    target_name = row.get('target_name', '')\n",
    "    relation_type = row['relation_type']\n",
    "\n",
    "    # Add source and target nodes to the graph\n",
    "    G.add_node((source_id, source_type), name=source_name)\n",
    "    G.add_node((target_id, target_type), name=target_name)\n",
    "\n",
    "    # Add an edge between source and target nodes with relation type\n",
    "    G.add_edge((source_id, source_type), (target_id, target_type), relation=relation_type)\n"
   ]
  },
  {
   "cell_type": "code",
   "execution_count": 10,
   "metadata": {},
   "outputs": [],
   "source": [
    "# specified_node = ('specified_id', 'specified_type')\n",
    "specified_node = ('MESH:D015673', 'Disease')\n",
    "subgraph = G.subgraph(nx.node_connected_component(G, specified_node))\n",
    "\n",
    "\n",
    "subgraph_nodes = list(subgraph.nodes())\n",
    "subgraph_edges = list(subgraph.edges(data=True))\n",
    "\n",
    "subgraph_data = []\n",
    "\n",
    "# Iterate over the edges in the subgraph and extract relevant information\n",
    "for edge in subgraph_edges:\n",
    "    source_node, target_node, data = edge\n",
    "    source_id = source_node[0]\n",
    "    source_type = source_node[1]\n",
    "    source_name = subgraph.nodes[source_node]['name']\n",
    "    target_type = target_node[1]\n",
    "    target_id = target_node[0]\n",
    "    target_name = subgraph.nodes[target_node]['name']   \n",
    "    relation_type = data['relation']\n",
    "    \n",
    "    # Append the information to the subgraph_data list\n",
    "    subgraph_data.append({\n",
    "        'source_id': source_id,\n",
    "        'source_name': source_name,\n",
    "        'source_type': source_type,\n",
    "        'target_id': target_id,\n",
    "        'target_name': target_name,\n",
    "        'target_type': target_type,\n",
    "        'relation_type': relation_type\n",
    "    })\n",
    "\n",
    "# Create a DataFrame from the subgraph data\n",
    "subgraph_df = pd.DataFrame(subgraph_data)\n",
    "outputfile = os.path.join(datadir, 'relations.tsv')\n",
    "subgraph_df.to_csv(outputfile, index=False, sep='\\t')"
   ]
  },
  {
   "cell_type": "code",
   "execution_count": 11,
   "metadata": {},
   "outputs": [
    {
     "name": "stdout",
     "output_type": "stream",
     "text": [
      "(6015458, 6) (4538859, 7)\n"
     ]
    }
   ],
   "source": [
    "print(df.shape, subgraph_df.shape)"
   ]
  }
 ],
 "metadata": {
  "kernelspec": {
   "display_name": "Python 3 (ipykernel)",
   "language": "python",
   "name": "python3"
  },
  "language_info": {
   "codemirror_mode": {
    "name": "ipython",
    "version": 3
   },
   "file_extension": ".py",
   "mimetype": "text/x-python",
   "name": "python",
   "nbconvert_exporter": "python",
   "pygments_lexer": "ipython3",
   "version": "3.10.12"
  },
  "orig_nbformat": 4
 },
 "nbformat": 4,
 "nbformat_minor": 2
}
