{
 "cells": [
  {
   "cell_type": "markdown",
   "metadata": {},
   "source": [
    "# For ME/CFS & Long COVID"
   ]
  },
  {
   "cell_type": "markdown",
   "metadata": {},
   "source": [
    "NOTE: All drugs and symptoms in the benchmarks directory are curated from publications manually. The curated data is then used to generate the subgraph for testing in this notebook."
   ]
  },
  {
   "cell_type": "markdown",
   "metadata": {},
   "source": [
    "## Dependencies [Must be run first]"
   ]
  },
  {
   "cell_type": "code",
   "execution_count": 1,
   "metadata": {},
   "outputs": [
    {
     "name": "stdout",
     "output_type": "stream",
     "text": [
      "/data/biomedgps-data\n"
     ]
    }
   ],
   "source": [
    "import os\n",
    "rootdir = os.path.dirname(os.getcwd())\n",
    "print(rootdir)"
   ]
  },
  {
   "cell_type": "markdown",
   "metadata": {},
   "source": [
    "## Step 1: Filter Entities"
   ]
  },
  {
   "cell_type": "markdown",
   "metadata": {},
   "source": [
    "### Read in the data"
   ]
  },
  {
   "cell_type": "code",
   "execution_count": 2,
   "metadata": {},
   "outputs": [
    {
     "name": "stdout",
     "output_type": "stream",
     "text": [
      "(825159, 9)\n"
     ]
    }
   ],
   "source": [
    "import pandas as pd\n",
    "\n",
    "def filter_entities(entity_df, entity_dict_lst):\n",
    "    \"\"\"\n",
    "    Filter entities from entity_df based on entity_dict_lst.\n",
    "    \"\"\"\n",
    "    entity_types = list(set([item.get(\"node_type\") for item in entity_dict_lst]))\n",
    "\n",
    "    # Save all entities which label is not in entity_types\n",
    "    remaining_entities = entity_df[~entity_df['label'].isin(entity_types)]\n",
    "    matched_entities = entity_df[entity_df['label'].isin(entity_types)]\n",
    "\n",
    "    # Save all entities which label is in entity_types and id is in entity_dict_lst\n",
    "    results = pd.DataFrame()\n",
    "    for entity_type in entity_types:\n",
    "        entities = [item.get(\"node_id\") for item in entity_dict_lst if item.get(\"node_type\") == entity_type]\n",
    "        matched_entities = matched_entities[matched_entities['id'].isin(entities) & matched_entities['label'].isin([entity_type])]\n",
    "        results = pd.concat([results, matched_entities], axis=0)\n",
    "\n",
    "    # Concat remaining_entities and results\n",
    "    entity_df = pd.concat([remaining_entities, results], axis=0)\n",
    "\n",
    "    return entity_df\n",
    "\n",
    "entity_file = os.path.join(rootdir, \"graph_data/entities.tsv\")\n",
    "entity_dict_file = os.path.join(rootdir, \"benchmarks/drug_symptoms_subset.csv\")\n",
    "\n",
    "data = pd.read_csv(entity_file, sep=\"\\t\", dtype=str)\n",
    "print(data.shape)"
   ]
  },
  {
   "cell_type": "markdown",
   "metadata": {},
   "source": [
    "### Get the filtered entities"
   ]
  },
  {
   "cell_type": "code",
   "execution_count": 3,
   "metadata": {},
   "outputs": [
    {
     "name": "stdout",
     "output_type": "stream",
     "text": [
      "(558166, 9)\n",
      "(310199, 9)\n",
      "(306119, 9)\n",
      "(295492, 9)\n",
      "(277809, 9)\n"
     ]
    }
   ],
   "source": [
    "entity_dict = pd.read_csv(entity_dict_file, sep=\",\", dtype=str)\n",
    "entity_dict_lst = entity_dict.to_dict(orient=\"records\")\n",
    "\n",
    "# Only keep all drug entities\n",
    "entity_dict_lst = [item for item in entity_dict_lst if item.get(\"node_type\") == \"Compound\"]\n",
    "\n",
    "entities_subset = filter_entities(data, entity_dict_lst)\n",
    "print(entities_subset.shape)\n",
    "\n",
    "# Remove all metabolite entities\n",
    "entities_subset = entities_subset[~entities_subset['label'].isin([\"Metabolite\"])]\n",
    "print(entities_subset.shape)\n",
    "\n",
    "# Remove all disease entities which are not MonDO.\n",
    "disease_entities = entities_subset[entities_subset['label'].isin([\"Disease\"]) & entities_subset['id'].str.contains(\"MONDO:\")]\n",
    "entities_subset = entities_subset[~entities_subset['label'].isin([\"Disease\"])]\n",
    "entities_subset = pd.concat([entities_subset, disease_entities], axis=0)\n",
    "print(entities_subset.shape)\n",
    "\n",
    "# Remove all gene entities which are not a human gene or a mouse gene.\n",
    "gene_entities = entities_subset[entities_subset['label'].isin([\"Gene\"])]\n",
    "gene_entities = gene_entities[gene_entities['taxid'].isin([\"9606\", \"10090\"])]\n",
    "entities_subset = entities_subset[~entities_subset['label'].isin([\"Gene\"])]\n",
    "entities_subset = pd.concat([entities_subset, gene_entities], axis=0)\n",
    "print(entities_subset.shape)\n",
    "\n",
    "# Remove all anatomy entities\n",
    "entities_subset = entities_subset[~entities_subset['label'].isin([\"Anatomy\"])]\n",
    "print(entities_subset.shape)"
   ]
  },
  {
   "cell_type": "markdown",
   "metadata": {},
   "source": [
    "### Save the filtered entities to a file"
   ]
  },
  {
   "cell_type": "code",
   "execution_count": 4,
   "metadata": {},
   "outputs": [],
   "source": [
    "entities_subset.to_csv(os.path.join(rootdir, \"models/biomedgps/data/entities.tsv\"), sep=\"\\t\", index=False)"
   ]
  },
  {
   "cell_type": "markdown",
   "metadata": {},
   "source": [
    "### Grouped bar plots"
   ]
  },
  {
   "cell_type": "code",
   "execution_count": 5,
   "metadata": {},
   "outputs": [
    {
     "data": {
      "application/vnd.plotly.v1+json": {
       "config": {
        "plotlyServerURL": "https://plot.ly"
       },
       "data": [
        {
         "alignmentgroup": "True",
         "hovertemplate": "resource=GO<br>label=%{x}<br>count=%{y}<extra></extra>",
         "legendgroup": "GO",
         "marker": {
          "color": "#636efa",
          "pattern": {
           "shape": ""
          }
         },
         "name": "GO",
         "offsetgroup": "GO",
         "orientation": "v",
         "showlegend": true,
         "textposition": "auto",
         "type": "bar",
         "x": [
          "BiologicalProcess",
          "CellularComponent",
          "MolecularFunction"
         ],
         "xaxis": "x",
         "y": [
          30571,
          4485,
          12502
         ],
         "yaxis": "y"
        },
        {
         "alignmentgroup": "True",
         "hovertemplate": "resource=Hetionet<br>label=%{x}<br>count=%{y}<extra></extra>",
         "legendgroup": "Hetionet",
         "marker": {
          "color": "#EF553B",
          "pattern": {
           "shape": ""
          }
         },
         "name": "Hetionet",
         "offsetgroup": "Hetionet",
         "orientation": "v",
         "showlegend": true,
         "textposition": "auto",
         "type": "bar",
         "x": [
          "BiologicalProcess",
          "CellularComponent",
          "MolecularFunction",
          "Pathway",
          "PharmacologicClass",
          "SideEffect",
          "Symptom"
         ],
         "xaxis": "x",
         "y": [
          387,
          32,
          143,
          294,
          1,
          5734,
          438
         ],
         "yaxis": "y"
        },
        {
         "alignmentgroup": "True",
         "hovertemplate": "resource=DrugBank<br>label=%{x}<br>count=%{y}<extra></extra>",
         "legendgroup": "DrugBank",
         "marker": {
          "color": "#00cc96",
          "pattern": {
           "shape": ""
          }
         },
         "name": "DrugBank",
         "offsetgroup": "DrugBank",
         "orientation": "v",
         "showlegend": true,
         "textposition": "auto",
         "type": "bar",
         "x": [
          "Compound"
         ],
         "xaxis": "x",
         "y": [
          796
         ],
         "yaxis": "y"
        },
        {
         "alignmentgroup": "True",
         "hovertemplate": "resource=MONDO<br>label=%{x}<br>count=%{y}<extra></extra>",
         "legendgroup": "MONDO",
         "marker": {
          "color": "#ab63fa",
          "pattern": {
           "shape": ""
          }
         },
         "name": "MONDO",
         "offsetgroup": "MONDO",
         "orientation": "v",
         "showlegend": true,
         "textposition": "auto",
         "type": "bar",
         "x": [
          "Disease"
         ],
         "xaxis": "x",
         "y": [
          26582
         ],
         "yaxis": "y"
        },
        {
         "alignmentgroup": "True",
         "hovertemplate": "resource=ENTREZ<br>label=%{x}<br>count=%{y}<extra></extra>",
         "legendgroup": "ENTREZ",
         "marker": {
          "color": "#FFA15A",
          "pattern": {
           "shape": ""
          }
         },
         "name": "ENTREZ",
         "offsetgroup": "ENTREZ",
         "orientation": "v",
         "showlegend": true,
         "textposition": "auto",
         "type": "bar",
         "x": [
          "Gene"
         ],
         "xaxis": "x",
         "y": [
          94753
         ],
         "yaxis": "y"
        },
        {
         "alignmentgroup": "True",
         "hovertemplate": "resource=CTD<br>label=%{x}<br>count=%{y}<extra></extra>",
         "legendgroup": "CTD",
         "marker": {
          "color": "#19d3f3",
          "pattern": {
           "shape": ""
          }
         },
         "name": "CTD",
         "offsetgroup": "CTD",
         "orientation": "v",
         "showlegend": true,
         "textposition": "auto",
         "type": "bar",
         "x": [
          "Pathway"
         ],
         "xaxis": "x",
         "y": [
          558
         ],
         "yaxis": "y"
        },
        {
         "alignmentgroup": "True",
         "hovertemplate": "resource=Reactome<br>label=%{x}<br>count=%{y}<extra></extra>",
         "legendgroup": "Reactome",
         "marker": {
          "color": "#FF6692",
          "pattern": {
           "shape": ""
          }
         },
         "name": "Reactome",
         "offsetgroup": "Reactome",
         "orientation": "v",
         "showlegend": true,
         "textposition": "auto",
         "type": "bar",
         "x": [
          "Pathway"
         ],
         "xaxis": "x",
         "y": [
          4354
         ],
         "yaxis": "y"
        },
        {
         "alignmentgroup": "True",
         "hovertemplate": "resource=NDF-RT<br>label=%{x}<br>count=%{y}<extra></extra>",
         "legendgroup": "NDF-RT",
         "marker": {
          "color": "#B6E880",
          "pattern": {
           "shape": ""
          }
         },
         "name": "NDF-RT",
         "offsetgroup": "NDF-RT",
         "orientation": "v",
         "showlegend": true,
         "textposition": "auto",
         "type": "bar",
         "x": [
          "PharmacologicClass"
         ],
         "xaxis": "x",
         "y": [
          45605
         ],
         "yaxis": "y"
        },
        {
         "alignmentgroup": "True",
         "hovertemplate": "resource=MedDRA<br>label=%{x}<br>count=%{y}<extra></extra>",
         "legendgroup": "MedDRA",
         "marker": {
          "color": "#FF97FF",
          "pattern": {
           "shape": ""
          }
         },
         "name": "MedDRA",
         "offsetgroup": "MedDRA",
         "orientation": "v",
         "showlegend": true,
         "textposition": "auto",
         "type": "bar",
         "x": [
          "SideEffect"
         ],
         "xaxis": "x",
         "y": [
          49561
         ],
         "yaxis": "y"
        },
        {
         "alignmentgroup": "True",
         "hovertemplate": "resource=SymptomOntology<br>label=%{x}<br>count=%{y}<extra></extra>",
         "legendgroup": "SymptomOntology",
         "marker": {
          "color": "#FECB52",
          "pattern": {
           "shape": ""
          }
         },
         "name": "SymptomOntology",
         "offsetgroup": "SymptomOntology",
         "orientation": "v",
         "showlegend": true,
         "textposition": "auto",
         "type": "bar",
         "x": [
          "Symptom"
         ],
         "xaxis": "x",
         "y": [
          1013
         ],
         "yaxis": "y"
        }
       ],
       "layout": {
        "barmode": "relative",
        "legend": {
         "title": {
          "text": "resource"
         },
         "tracegroupgap": 0
        },
        "template": {
         "data": {
          "bar": [
           {
            "error_x": {
             "color": "#2a3f5f"
            },
            "error_y": {
             "color": "#2a3f5f"
            },
            "marker": {
             "line": {
              "color": "#E5ECF6",
              "width": 0.5
             },
             "pattern": {
              "fillmode": "overlay",
              "size": 10,
              "solidity": 0.2
             }
            },
            "type": "bar"
           }
          ],
          "barpolar": [
           {
            "marker": {
             "line": {
              "color": "#E5ECF6",
              "width": 0.5
             },
             "pattern": {
              "fillmode": "overlay",
              "size": 10,
              "solidity": 0.2
             }
            },
            "type": "barpolar"
           }
          ],
          "carpet": [
           {
            "aaxis": {
             "endlinecolor": "#2a3f5f",
             "gridcolor": "white",
             "linecolor": "white",
             "minorgridcolor": "white",
             "startlinecolor": "#2a3f5f"
            },
            "baxis": {
             "endlinecolor": "#2a3f5f",
             "gridcolor": "white",
             "linecolor": "white",
             "minorgridcolor": "white",
             "startlinecolor": "#2a3f5f"
            },
            "type": "carpet"
           }
          ],
          "choropleth": [
           {
            "colorbar": {
             "outlinewidth": 0,
             "ticks": ""
            },
            "type": "choropleth"
           }
          ],
          "contour": [
           {
            "colorbar": {
             "outlinewidth": 0,
             "ticks": ""
            },
            "colorscale": [
             [
              0,
              "#0d0887"
             ],
             [
              0.1111111111111111,
              "#46039f"
             ],
             [
              0.2222222222222222,
              "#7201a8"
             ],
             [
              0.3333333333333333,
              "#9c179e"
             ],
             [
              0.4444444444444444,
              "#bd3786"
             ],
             [
              0.5555555555555556,
              "#d8576b"
             ],
             [
              0.6666666666666666,
              "#ed7953"
             ],
             [
              0.7777777777777778,
              "#fb9f3a"
             ],
             [
              0.8888888888888888,
              "#fdca26"
             ],
             [
              1,
              "#f0f921"
             ]
            ],
            "type": "contour"
           }
          ],
          "contourcarpet": [
           {
            "colorbar": {
             "outlinewidth": 0,
             "ticks": ""
            },
            "type": "contourcarpet"
           }
          ],
          "heatmap": [
           {
            "colorbar": {
             "outlinewidth": 0,
             "ticks": ""
            },
            "colorscale": [
             [
              0,
              "#0d0887"
             ],
             [
              0.1111111111111111,
              "#46039f"
             ],
             [
              0.2222222222222222,
              "#7201a8"
             ],
             [
              0.3333333333333333,
              "#9c179e"
             ],
             [
              0.4444444444444444,
              "#bd3786"
             ],
             [
              0.5555555555555556,
              "#d8576b"
             ],
             [
              0.6666666666666666,
              "#ed7953"
             ],
             [
              0.7777777777777778,
              "#fb9f3a"
             ],
             [
              0.8888888888888888,
              "#fdca26"
             ],
             [
              1,
              "#f0f921"
             ]
            ],
            "type": "heatmap"
           }
          ],
          "heatmapgl": [
           {
            "colorbar": {
             "outlinewidth": 0,
             "ticks": ""
            },
            "colorscale": [
             [
              0,
              "#0d0887"
             ],
             [
              0.1111111111111111,
              "#46039f"
             ],
             [
              0.2222222222222222,
              "#7201a8"
             ],
             [
              0.3333333333333333,
              "#9c179e"
             ],
             [
              0.4444444444444444,
              "#bd3786"
             ],
             [
              0.5555555555555556,
              "#d8576b"
             ],
             [
              0.6666666666666666,
              "#ed7953"
             ],
             [
              0.7777777777777778,
              "#fb9f3a"
             ],
             [
              0.8888888888888888,
              "#fdca26"
             ],
             [
              1,
              "#f0f921"
             ]
            ],
            "type": "heatmapgl"
           }
          ],
          "histogram": [
           {
            "marker": {
             "pattern": {
              "fillmode": "overlay",
              "size": 10,
              "solidity": 0.2
             }
            },
            "type": "histogram"
           }
          ],
          "histogram2d": [
           {
            "colorbar": {
             "outlinewidth": 0,
             "ticks": ""
            },
            "colorscale": [
             [
              0,
              "#0d0887"
             ],
             [
              0.1111111111111111,
              "#46039f"
             ],
             [
              0.2222222222222222,
              "#7201a8"
             ],
             [
              0.3333333333333333,
              "#9c179e"
             ],
             [
              0.4444444444444444,
              "#bd3786"
             ],
             [
              0.5555555555555556,
              "#d8576b"
             ],
             [
              0.6666666666666666,
              "#ed7953"
             ],
             [
              0.7777777777777778,
              "#fb9f3a"
             ],
             [
              0.8888888888888888,
              "#fdca26"
             ],
             [
              1,
              "#f0f921"
             ]
            ],
            "type": "histogram2d"
           }
          ],
          "histogram2dcontour": [
           {
            "colorbar": {
             "outlinewidth": 0,
             "ticks": ""
            },
            "colorscale": [
             [
              0,
              "#0d0887"
             ],
             [
              0.1111111111111111,
              "#46039f"
             ],
             [
              0.2222222222222222,
              "#7201a8"
             ],
             [
              0.3333333333333333,
              "#9c179e"
             ],
             [
              0.4444444444444444,
              "#bd3786"
             ],
             [
              0.5555555555555556,
              "#d8576b"
             ],
             [
              0.6666666666666666,
              "#ed7953"
             ],
             [
              0.7777777777777778,
              "#fb9f3a"
             ],
             [
              0.8888888888888888,
              "#fdca26"
             ],
             [
              1,
              "#f0f921"
             ]
            ],
            "type": "histogram2dcontour"
           }
          ],
          "mesh3d": [
           {
            "colorbar": {
             "outlinewidth": 0,
             "ticks": ""
            },
            "type": "mesh3d"
           }
          ],
          "parcoords": [
           {
            "line": {
             "colorbar": {
              "outlinewidth": 0,
              "ticks": ""
             }
            },
            "type": "parcoords"
           }
          ],
          "pie": [
           {
            "automargin": true,
            "type": "pie"
           }
          ],
          "scatter": [
           {
            "fillpattern": {
             "fillmode": "overlay",
             "size": 10,
             "solidity": 0.2
            },
            "type": "scatter"
           }
          ],
          "scatter3d": [
           {
            "line": {
             "colorbar": {
              "outlinewidth": 0,
              "ticks": ""
             }
            },
            "marker": {
             "colorbar": {
              "outlinewidth": 0,
              "ticks": ""
             }
            },
            "type": "scatter3d"
           }
          ],
          "scattercarpet": [
           {
            "marker": {
             "colorbar": {
              "outlinewidth": 0,
              "ticks": ""
             }
            },
            "type": "scattercarpet"
           }
          ],
          "scattergeo": [
           {
            "marker": {
             "colorbar": {
              "outlinewidth": 0,
              "ticks": ""
             }
            },
            "type": "scattergeo"
           }
          ],
          "scattergl": [
           {
            "marker": {
             "colorbar": {
              "outlinewidth": 0,
              "ticks": ""
             }
            },
            "type": "scattergl"
           }
          ],
          "scattermapbox": [
           {
            "marker": {
             "colorbar": {
              "outlinewidth": 0,
              "ticks": ""
             }
            },
            "type": "scattermapbox"
           }
          ],
          "scatterpolar": [
           {
            "marker": {
             "colorbar": {
              "outlinewidth": 0,
              "ticks": ""
             }
            },
            "type": "scatterpolar"
           }
          ],
          "scatterpolargl": [
           {
            "marker": {
             "colorbar": {
              "outlinewidth": 0,
              "ticks": ""
             }
            },
            "type": "scatterpolargl"
           }
          ],
          "scatterternary": [
           {
            "marker": {
             "colorbar": {
              "outlinewidth": 0,
              "ticks": ""
             }
            },
            "type": "scatterternary"
           }
          ],
          "surface": [
           {
            "colorbar": {
             "outlinewidth": 0,
             "ticks": ""
            },
            "colorscale": [
             [
              0,
              "#0d0887"
             ],
             [
              0.1111111111111111,
              "#46039f"
             ],
             [
              0.2222222222222222,
              "#7201a8"
             ],
             [
              0.3333333333333333,
              "#9c179e"
             ],
             [
              0.4444444444444444,
              "#bd3786"
             ],
             [
              0.5555555555555556,
              "#d8576b"
             ],
             [
              0.6666666666666666,
              "#ed7953"
             ],
             [
              0.7777777777777778,
              "#fb9f3a"
             ],
             [
              0.8888888888888888,
              "#fdca26"
             ],
             [
              1,
              "#f0f921"
             ]
            ],
            "type": "surface"
           }
          ],
          "table": [
           {
            "cells": {
             "fill": {
              "color": "#EBF0F8"
             },
             "line": {
              "color": "white"
             }
            },
            "header": {
             "fill": {
              "color": "#C8D4E3"
             },
             "line": {
              "color": "white"
             }
            },
            "type": "table"
           }
          ]
         },
         "layout": {
          "annotationdefaults": {
           "arrowcolor": "#2a3f5f",
           "arrowhead": 0,
           "arrowwidth": 1
          },
          "autotypenumbers": "strict",
          "coloraxis": {
           "colorbar": {
            "outlinewidth": 0,
            "ticks": ""
           }
          },
          "colorscale": {
           "diverging": [
            [
             0,
             "#8e0152"
            ],
            [
             0.1,
             "#c51b7d"
            ],
            [
             0.2,
             "#de77ae"
            ],
            [
             0.3,
             "#f1b6da"
            ],
            [
             0.4,
             "#fde0ef"
            ],
            [
             0.5,
             "#f7f7f7"
            ],
            [
             0.6,
             "#e6f5d0"
            ],
            [
             0.7,
             "#b8e186"
            ],
            [
             0.8,
             "#7fbc41"
            ],
            [
             0.9,
             "#4d9221"
            ],
            [
             1,
             "#276419"
            ]
           ],
           "sequential": [
            [
             0,
             "#0d0887"
            ],
            [
             0.1111111111111111,
             "#46039f"
            ],
            [
             0.2222222222222222,
             "#7201a8"
            ],
            [
             0.3333333333333333,
             "#9c179e"
            ],
            [
             0.4444444444444444,
             "#bd3786"
            ],
            [
             0.5555555555555556,
             "#d8576b"
            ],
            [
             0.6666666666666666,
             "#ed7953"
            ],
            [
             0.7777777777777778,
             "#fb9f3a"
            ],
            [
             0.8888888888888888,
             "#fdca26"
            ],
            [
             1,
             "#f0f921"
            ]
           ],
           "sequentialminus": [
            [
             0,
             "#0d0887"
            ],
            [
             0.1111111111111111,
             "#46039f"
            ],
            [
             0.2222222222222222,
             "#7201a8"
            ],
            [
             0.3333333333333333,
             "#9c179e"
            ],
            [
             0.4444444444444444,
             "#bd3786"
            ],
            [
             0.5555555555555556,
             "#d8576b"
            ],
            [
             0.6666666666666666,
             "#ed7953"
            ],
            [
             0.7777777777777778,
             "#fb9f3a"
            ],
            [
             0.8888888888888888,
             "#fdca26"
            ],
            [
             1,
             "#f0f921"
            ]
           ]
          },
          "colorway": [
           "#636efa",
           "#EF553B",
           "#00cc96",
           "#ab63fa",
           "#FFA15A",
           "#19d3f3",
           "#FF6692",
           "#B6E880",
           "#FF97FF",
           "#FECB52"
          ],
          "font": {
           "color": "#2a3f5f"
          },
          "geo": {
           "bgcolor": "white",
           "lakecolor": "white",
           "landcolor": "#E5ECF6",
           "showlakes": true,
           "showland": true,
           "subunitcolor": "white"
          },
          "hoverlabel": {
           "align": "left"
          },
          "hovermode": "closest",
          "mapbox": {
           "style": "light"
          },
          "paper_bgcolor": "white",
          "plot_bgcolor": "#E5ECF6",
          "polar": {
           "angularaxis": {
            "gridcolor": "white",
            "linecolor": "white",
            "ticks": ""
           },
           "bgcolor": "#E5ECF6",
           "radialaxis": {
            "gridcolor": "white",
            "linecolor": "white",
            "ticks": ""
           }
          },
          "scene": {
           "xaxis": {
            "backgroundcolor": "#E5ECF6",
            "gridcolor": "white",
            "gridwidth": 2,
            "linecolor": "white",
            "showbackground": true,
            "ticks": "",
            "zerolinecolor": "white"
           },
           "yaxis": {
            "backgroundcolor": "#E5ECF6",
            "gridcolor": "white",
            "gridwidth": 2,
            "linecolor": "white",
            "showbackground": true,
            "ticks": "",
            "zerolinecolor": "white"
           },
           "zaxis": {
            "backgroundcolor": "#E5ECF6",
            "gridcolor": "white",
            "gridwidth": 2,
            "linecolor": "white",
            "showbackground": true,
            "ticks": "",
            "zerolinecolor": "white"
           }
          },
          "shapedefaults": {
           "line": {
            "color": "#2a3f5f"
           }
          },
          "ternary": {
           "aaxis": {
            "gridcolor": "white",
            "linecolor": "white",
            "ticks": ""
           },
           "baxis": {
            "gridcolor": "white",
            "linecolor": "white",
            "ticks": ""
           },
           "bgcolor": "#E5ECF6",
           "caxis": {
            "gridcolor": "white",
            "linecolor": "white",
            "ticks": ""
           }
          },
          "title": {
           "x": 0.05
          },
          "xaxis": {
           "automargin": true,
           "gridcolor": "white",
           "linecolor": "white",
           "ticks": "",
           "title": {
            "standoff": 15
           },
           "zerolinecolor": "white",
           "zerolinewidth": 2
          },
          "yaxis": {
           "automargin": true,
           "gridcolor": "white",
           "linecolor": "white",
           "ticks": "",
           "title": {
            "standoff": 15
           },
           "zerolinecolor": "white",
           "zerolinewidth": 2
          }
         }
        },
        "title": {
         "text": "Count of Rows by Label and Resource"
        },
        "xaxis": {
         "anchor": "y",
         "domain": [
          0,
          1
         ],
         "title": {
          "text": "label"
         }
        },
        "yaxis": {
         "anchor": "x",
         "domain": [
          0,
          1
         ],
         "title": {
          "text": "count"
         }
        }
       }
      }
     },
     "metadata": {},
     "output_type": "display_data"
    }
   ],
   "source": [
    "import plotly.express as px\n",
    "\n",
    "# Group the data by 'label' and 'resource' and count the rows\n",
    "grouped_df = entities_subset.groupby(['label', 'resource']).size().reset_index(name='count')\n",
    "\n",
    "# Create the bar chart using Plotly Express\n",
    "fig1 = px.bar(grouped_df, x='label', y='count', color='resource', title='Count of Rows by Label and Resource')\n",
    "\n",
    "# Show the plot\n",
    "fig1.show(renderer='vscode')"
   ]
  },
  {
   "cell_type": "markdown",
   "metadata": {},
   "source": [
    "## Step 2: Filter Relations"
   ]
  },
  {
   "cell_type": "markdown",
   "metadata": {},
   "source": [
    "### Read in the data"
   ]
  },
  {
   "cell_type": "code",
   "execution_count": 6,
   "metadata": {},
   "outputs": [
    {
     "name": "stdout",
     "output_type": "stream",
     "text": [
      "(50625648, 12)\n"
     ]
    }
   ],
   "source": [
    "import pandas as pd\n",
    "\n",
    "relations = pd.read_csv(os.path.join(rootdir, \"graph_data/relations.tsv\"), sep=\"\\t\", dtype=str)\n",
    "print(relations.shape)"
   ]
  },
  {
   "cell_type": "markdown",
   "metadata": {},
   "source": [
    "### Get a subset of the data"
   ]
  },
  {
   "cell_type": "code",
   "execution_count": 7,
   "metadata": {},
   "outputs": [
    {
     "name": "stdout",
     "output_type": "stream",
     "text": [
      "(4592639, 12)\n"
     ]
    }
   ],
   "source": [
    "\n",
    "\n",
    "# Only keep relations which are in entities_subset\n",
    "relations_subset = relations[relations['source_id'].isin(entities_subset['id']) & relations['target_id'].isin(entities_subset['id'])]\n",
    "\n",
    "# Remove all relations coming from the CTD database\n",
    "relations_subset = relations_subset[~relations_subset['resource'].isin([\"CTD\"])]\n",
    "print(relations_subset.shape)"
   ]
  },
  {
   "cell_type": "markdown",
   "metadata": {},
   "source": [
    "### Save the subset of relations"
   ]
  },
  {
   "cell_type": "code",
   "execution_count": 8,
   "metadata": {},
   "outputs": [],
   "source": [
    "relations_subset.to_csv(os.path.join(rootdir, \"models/biomedgps/data/relations.tsv\"), sep=\"\\t\", index=False)"
   ]
  },
  {
   "cell_type": "markdown",
   "metadata": {},
   "source": [
    "### Grouped bar plots"
   ]
  },
  {
   "cell_type": "code",
   "execution_count": 9,
   "metadata": {},
   "outputs": [
    {
     "name": "stderr",
     "output_type": "stream",
     "text": [
      "/tmp/ipykernel_3988943/275764785.py:5: SettingWithCopyWarning:\n",
      "\n",
      "\n",
      "A value is trying to be set on a copy of a slice from a DataFrame.\n",
      "Try using .loc[row_indexer,col_indexer] = value instead\n",
      "\n",
      "See the caveats in the documentation: https://pandas.pydata.org/pandas-docs/stable/user_guide/indexing.html#returning-a-view-versus-a-copy\n",
      "\n",
      "/tmp/ipykernel_3988943/275764785.py:8: SettingWithCopyWarning:\n",
      "\n",
      "\n",
      "A value is trying to be set on a copy of a slice from a DataFrame.\n",
      "Try using .loc[row_indexer,col_indexer] = value instead\n",
      "\n",
      "See the caveats in the documentation: https://pandas.pydata.org/pandas-docs/stable/user_guide/indexing.html#returning-a-view-versus-a-copy\n",
      "\n"
     ]
    },
    {
     "data": {
      "application/vnd.plotly.v1+json": {
       "config": {
        "plotlyServerURL": "https://plot.ly"
       },
       "data": [
        {
         "alignmentgroup": "True",
         "hovertemplate": "resource=DRUGBANK<br>source_target=%{x}<br>count=%{text}<extra></extra>",
         "legendgroup": "DRUGBANK",
         "marker": {
          "color": "#e60049",
          "pattern": {
           "shape": ""
          }
         },
         "name": "DRUGBANK",
         "offsetgroup": "DRUGBANK",
         "orientation": "v",
         "showlegend": true,
         "text": [
          76977,
          1367,
          3572
         ],
         "textposition": "auto",
         "type": "bar",
         "x": [
          "Compound:Compound",
          "Disease:Compound",
          "Gene:Compound"
         ],
         "xaxis": "x",
         "y": [
          76977,
          1367,
          3572
         ],
         "yaxis": "y"
        },
        {
         "alignmentgroup": "True",
         "hovertemplate": "resource=Hetionet<br>source_target=%{x}<br>count=%{text}<extra></extra>",
         "legendgroup": "Hetionet",
         "marker": {
          "color": "#0bb4ff",
          "pattern": {
           "shape": ""
          }
         },
         "name": "Hetionet",
         "offsetgroup": "Hetionet",
         "orientation": "v",
         "showlegend": true,
         "text": [
          1266,
          331,
          297,
          7027,
          19181,
          330715,
          10400,
          2622
         ],
         "textposition": "auto",
         "type": "bar",
         "x": [
          "Compound:Compound",
          "Disease:Compound",
          "Disease:Disease",
          "Gene:Compound",
          "Gene:Disease",
          "Gene:Gene",
          "Pathway:Gene",
          "Symptom:Disease"
         ],
         "xaxis": "x",
         "y": [
          1266,
          331,
          297,
          7027,
          19181,
          330715,
          10400,
          2622
         ],
         "yaxis": "y"
        },
        {
         "alignmentgroup": "True",
         "hovertemplate": "resource=PrimeKG<br>source_target=%{x}<br>count=%{text}<extra></extra>",
         "legendgroup": "PrimeKG",
         "marker": {
          "color": "#50e991",
          "pattern": {
           "shape": ""
          }
         },
         "name": "PrimeKG",
         "offsetgroup": "PrimeKG",
         "orientation": "v",
         "showlegend": true,
         "text": [
          143564,
          52566,
          229168,
          9160,
          385536,
          446364,
          73552,
          5068
         ],
         "textposition": "auto",
         "type": "bar",
         "x": [
          "Compound:Compound",
          "Disease:Compound",
          "Disease:Disease",
          "Gene:Compound",
          "Gene:Disease",
          "Gene:Gene",
          "Pathway:Gene",
          "Pathway:Pathway"
         ],
         "xaxis": "x",
         "y": [
          143564,
          52566,
          229168,
          9160,
          385536,
          446364,
          73552,
          5068
         ],
         "yaxis": "y"
        },
        {
         "alignmentgroup": "True",
         "hovertemplate": "resource=GNBR<br>source_target=%{x}<br>count=%{text}<extra></extra>",
         "legendgroup": "GNBR",
         "marker": {
          "color": "#e6d800",
          "pattern": {
           "shape": ""
          }
         },
         "name": "GNBR",
         "offsetgroup": "GNBR",
         "orientation": "v",
         "showlegend": true,
         "text": [
          12697,
          10354,
          55366,
          45185
         ],
         "textposition": "auto",
         "type": "bar",
         "x": [
          "Disease:Compound",
          "Gene:Compound",
          "Gene:Disease",
          "Gene:Gene"
         ],
         "xaxis": "x",
         "y": [
          12697,
          10354,
          55366,
          45185
         ],
         "yaxis": "y"
        },
        {
         "alignmentgroup": "True",
         "hovertemplate": "resource=DGIDB<br>source_target=%{x}<br>count=%{text}<extra></extra>",
         "legendgroup": "DGIDB",
         "marker": {
          "color": "#9b19f5",
          "pattern": {
           "shape": ""
          }
         },
         "name": "DGIDB",
         "offsetgroup": "DGIDB",
         "orientation": "v",
         "showlegend": true,
         "text": [
          2703
         ],
         "textposition": "auto",
         "type": "bar",
         "x": [
          "Gene:Compound"
         ],
         "xaxis": "x",
         "y": [
          2703
         ],
         "yaxis": "y"
        },
        {
         "alignmentgroup": "True",
         "hovertemplate": "resource=INTACT<br>source_target=%{x}<br>count=%{text}<extra></extra>",
         "legendgroup": "INTACT",
         "marker": {
          "color": "#ffa300",
          "pattern": {
           "shape": ""
          }
         },
         "name": "INTACT",
         "offsetgroup": "INTACT",
         "orientation": "v",
         "showlegend": true,
         "text": [
          26,
          175673
         ],
         "textposition": "auto",
         "type": "bar",
         "x": [
          "Gene:Compound",
          "Gene:Gene"
         ],
         "xaxis": "x",
         "y": [
          26,
          175673
         ],
         "yaxis": "y"
        },
        {
         "alignmentgroup": "True",
         "hovertemplate": "resource=bioarx<br>source_target=%{x}<br>count=%{text}<extra></extra>",
         "legendgroup": "bioarx",
         "marker": {
          "color": "#dc0ab4",
          "pattern": {
           "shape": ""
          }
         },
         "name": "bioarx",
         "offsetgroup": "bioarx",
         "orientation": "v",
         "showlegend": true,
         "text": [
          2827,
          41320
         ],
         "textposition": "auto",
         "type": "bar",
         "x": [
          "Gene:Compound",
          "Gene:Gene"
         ],
         "xaxis": "x",
         "y": [
          2827,
          41320
         ],
         "yaxis": "y"
        },
        {
         "alignmentgroup": "True",
         "hovertemplate": "resource=STRING<br>source_target=%{x}<br>count=%{text}<extra></extra>",
         "legendgroup": "STRING",
         "marker": {
          "color": "#b3d4ff",
          "pattern": {
           "shape": ""
          }
         },
         "name": "STRING",
         "offsetgroup": "STRING",
         "orientation": "v",
         "showlegend": true,
         "text": [
          1080123
         ],
         "textposition": "auto",
         "type": "bar",
         "x": [
          "Gene:Gene"
         ],
         "xaxis": "x",
         "y": [
          1080123
         ],
         "yaxis": "y"
        },
        {
         "alignmentgroup": "True",
         "hovertemplate": "resource=HSDN<br>source_target=%{x}<br>count=%{text}<extra></extra>",
         "legendgroup": "HSDN",
         "marker": {
          "color": "#00bfa0",
          "pattern": {
           "shape": ""
          }
         },
         "name": "HSDN",
         "offsetgroup": "HSDN",
         "orientation": "v",
         "showlegend": true,
         "text": [
          98153
         ],
         "textposition": "auto",
         "type": "bar",
         "x": [
          "Symptom:Disease"
         ],
         "xaxis": "x",
         "y": [
          98153
         ],
         "yaxis": "y"
        }
       ],
       "layout": {
        "barmode": "relative",
        "legend": {
         "title": {
          "text": "resource"
         },
         "tracegroupgap": 0
        },
        "template": {
         "data": {
          "bar": [
           {
            "error_x": {
             "color": "#2a3f5f"
            },
            "error_y": {
             "color": "#2a3f5f"
            },
            "marker": {
             "line": {
              "color": "#E5ECF6",
              "width": 0.5
             },
             "pattern": {
              "fillmode": "overlay",
              "size": 10,
              "solidity": 0.2
             }
            },
            "type": "bar"
           }
          ],
          "barpolar": [
           {
            "marker": {
             "line": {
              "color": "#E5ECF6",
              "width": 0.5
             },
             "pattern": {
              "fillmode": "overlay",
              "size": 10,
              "solidity": 0.2
             }
            },
            "type": "barpolar"
           }
          ],
          "carpet": [
           {
            "aaxis": {
             "endlinecolor": "#2a3f5f",
             "gridcolor": "white",
             "linecolor": "white",
             "minorgridcolor": "white",
             "startlinecolor": "#2a3f5f"
            },
            "baxis": {
             "endlinecolor": "#2a3f5f",
             "gridcolor": "white",
             "linecolor": "white",
             "minorgridcolor": "white",
             "startlinecolor": "#2a3f5f"
            },
            "type": "carpet"
           }
          ],
          "choropleth": [
           {
            "colorbar": {
             "outlinewidth": 0,
             "ticks": ""
            },
            "type": "choropleth"
           }
          ],
          "contour": [
           {
            "colorbar": {
             "outlinewidth": 0,
             "ticks": ""
            },
            "colorscale": [
             [
              0,
              "#0d0887"
             ],
             [
              0.1111111111111111,
              "#46039f"
             ],
             [
              0.2222222222222222,
              "#7201a8"
             ],
             [
              0.3333333333333333,
              "#9c179e"
             ],
             [
              0.4444444444444444,
              "#bd3786"
             ],
             [
              0.5555555555555556,
              "#d8576b"
             ],
             [
              0.6666666666666666,
              "#ed7953"
             ],
             [
              0.7777777777777778,
              "#fb9f3a"
             ],
             [
              0.8888888888888888,
              "#fdca26"
             ],
             [
              1,
              "#f0f921"
             ]
            ],
            "type": "contour"
           }
          ],
          "contourcarpet": [
           {
            "colorbar": {
             "outlinewidth": 0,
             "ticks": ""
            },
            "type": "contourcarpet"
           }
          ],
          "heatmap": [
           {
            "colorbar": {
             "outlinewidth": 0,
             "ticks": ""
            },
            "colorscale": [
             [
              0,
              "#0d0887"
             ],
             [
              0.1111111111111111,
              "#46039f"
             ],
             [
              0.2222222222222222,
              "#7201a8"
             ],
             [
              0.3333333333333333,
              "#9c179e"
             ],
             [
              0.4444444444444444,
              "#bd3786"
             ],
             [
              0.5555555555555556,
              "#d8576b"
             ],
             [
              0.6666666666666666,
              "#ed7953"
             ],
             [
              0.7777777777777778,
              "#fb9f3a"
             ],
             [
              0.8888888888888888,
              "#fdca26"
             ],
             [
              1,
              "#f0f921"
             ]
            ],
            "type": "heatmap"
           }
          ],
          "heatmapgl": [
           {
            "colorbar": {
             "outlinewidth": 0,
             "ticks": ""
            },
            "colorscale": [
             [
              0,
              "#0d0887"
             ],
             [
              0.1111111111111111,
              "#46039f"
             ],
             [
              0.2222222222222222,
              "#7201a8"
             ],
             [
              0.3333333333333333,
              "#9c179e"
             ],
             [
              0.4444444444444444,
              "#bd3786"
             ],
             [
              0.5555555555555556,
              "#d8576b"
             ],
             [
              0.6666666666666666,
              "#ed7953"
             ],
             [
              0.7777777777777778,
              "#fb9f3a"
             ],
             [
              0.8888888888888888,
              "#fdca26"
             ],
             [
              1,
              "#f0f921"
             ]
            ],
            "type": "heatmapgl"
           }
          ],
          "histogram": [
           {
            "marker": {
             "pattern": {
              "fillmode": "overlay",
              "size": 10,
              "solidity": 0.2
             }
            },
            "type": "histogram"
           }
          ],
          "histogram2d": [
           {
            "colorbar": {
             "outlinewidth": 0,
             "ticks": ""
            },
            "colorscale": [
             [
              0,
              "#0d0887"
             ],
             [
              0.1111111111111111,
              "#46039f"
             ],
             [
              0.2222222222222222,
              "#7201a8"
             ],
             [
              0.3333333333333333,
              "#9c179e"
             ],
             [
              0.4444444444444444,
              "#bd3786"
             ],
             [
              0.5555555555555556,
              "#d8576b"
             ],
             [
              0.6666666666666666,
              "#ed7953"
             ],
             [
              0.7777777777777778,
              "#fb9f3a"
             ],
             [
              0.8888888888888888,
              "#fdca26"
             ],
             [
              1,
              "#f0f921"
             ]
            ],
            "type": "histogram2d"
           }
          ],
          "histogram2dcontour": [
           {
            "colorbar": {
             "outlinewidth": 0,
             "ticks": ""
            },
            "colorscale": [
             [
              0,
              "#0d0887"
             ],
             [
              0.1111111111111111,
              "#46039f"
             ],
             [
              0.2222222222222222,
              "#7201a8"
             ],
             [
              0.3333333333333333,
              "#9c179e"
             ],
             [
              0.4444444444444444,
              "#bd3786"
             ],
             [
              0.5555555555555556,
              "#d8576b"
             ],
             [
              0.6666666666666666,
              "#ed7953"
             ],
             [
              0.7777777777777778,
              "#fb9f3a"
             ],
             [
              0.8888888888888888,
              "#fdca26"
             ],
             [
              1,
              "#f0f921"
             ]
            ],
            "type": "histogram2dcontour"
           }
          ],
          "mesh3d": [
           {
            "colorbar": {
             "outlinewidth": 0,
             "ticks": ""
            },
            "type": "mesh3d"
           }
          ],
          "parcoords": [
           {
            "line": {
             "colorbar": {
              "outlinewidth": 0,
              "ticks": ""
             }
            },
            "type": "parcoords"
           }
          ],
          "pie": [
           {
            "automargin": true,
            "type": "pie"
           }
          ],
          "scatter": [
           {
            "fillpattern": {
             "fillmode": "overlay",
             "size": 10,
             "solidity": 0.2
            },
            "type": "scatter"
           }
          ],
          "scatter3d": [
           {
            "line": {
             "colorbar": {
              "outlinewidth": 0,
              "ticks": ""
             }
            },
            "marker": {
             "colorbar": {
              "outlinewidth": 0,
              "ticks": ""
             }
            },
            "type": "scatter3d"
           }
          ],
          "scattercarpet": [
           {
            "marker": {
             "colorbar": {
              "outlinewidth": 0,
              "ticks": ""
             }
            },
            "type": "scattercarpet"
           }
          ],
          "scattergeo": [
           {
            "marker": {
             "colorbar": {
              "outlinewidth": 0,
              "ticks": ""
             }
            },
            "type": "scattergeo"
           }
          ],
          "scattergl": [
           {
            "marker": {
             "colorbar": {
              "outlinewidth": 0,
              "ticks": ""
             }
            },
            "type": "scattergl"
           }
          ],
          "scattermapbox": [
           {
            "marker": {
             "colorbar": {
              "outlinewidth": 0,
              "ticks": ""
             }
            },
            "type": "scattermapbox"
           }
          ],
          "scatterpolar": [
           {
            "marker": {
             "colorbar": {
              "outlinewidth": 0,
              "ticks": ""
             }
            },
            "type": "scatterpolar"
           }
          ],
          "scatterpolargl": [
           {
            "marker": {
             "colorbar": {
              "outlinewidth": 0,
              "ticks": ""
             }
            },
            "type": "scatterpolargl"
           }
          ],
          "scatterternary": [
           {
            "marker": {
             "colorbar": {
              "outlinewidth": 0,
              "ticks": ""
             }
            },
            "type": "scatterternary"
           }
          ],
          "surface": [
           {
            "colorbar": {
             "outlinewidth": 0,
             "ticks": ""
            },
            "colorscale": [
             [
              0,
              "#0d0887"
             ],
             [
              0.1111111111111111,
              "#46039f"
             ],
             [
              0.2222222222222222,
              "#7201a8"
             ],
             [
              0.3333333333333333,
              "#9c179e"
             ],
             [
              0.4444444444444444,
              "#bd3786"
             ],
             [
              0.5555555555555556,
              "#d8576b"
             ],
             [
              0.6666666666666666,
              "#ed7953"
             ],
             [
              0.7777777777777778,
              "#fb9f3a"
             ],
             [
              0.8888888888888888,
              "#fdca26"
             ],
             [
              1,
              "#f0f921"
             ]
            ],
            "type": "surface"
           }
          ],
          "table": [
           {
            "cells": {
             "fill": {
              "color": "#EBF0F8"
             },
             "line": {
              "color": "white"
             }
            },
            "header": {
             "fill": {
              "color": "#C8D4E3"
             },
             "line": {
              "color": "white"
             }
            },
            "type": "table"
           }
          ]
         },
         "layout": {
          "annotationdefaults": {
           "arrowcolor": "#2a3f5f",
           "arrowhead": 0,
           "arrowwidth": 1
          },
          "autotypenumbers": "strict",
          "coloraxis": {
           "colorbar": {
            "outlinewidth": 0,
            "ticks": ""
           }
          },
          "colorscale": {
           "diverging": [
            [
             0,
             "#8e0152"
            ],
            [
             0.1,
             "#c51b7d"
            ],
            [
             0.2,
             "#de77ae"
            ],
            [
             0.3,
             "#f1b6da"
            ],
            [
             0.4,
             "#fde0ef"
            ],
            [
             0.5,
             "#f7f7f7"
            ],
            [
             0.6,
             "#e6f5d0"
            ],
            [
             0.7,
             "#b8e186"
            ],
            [
             0.8,
             "#7fbc41"
            ],
            [
             0.9,
             "#4d9221"
            ],
            [
             1,
             "#276419"
            ]
           ],
           "sequential": [
            [
             0,
             "#0d0887"
            ],
            [
             0.1111111111111111,
             "#46039f"
            ],
            [
             0.2222222222222222,
             "#7201a8"
            ],
            [
             0.3333333333333333,
             "#9c179e"
            ],
            [
             0.4444444444444444,
             "#bd3786"
            ],
            [
             0.5555555555555556,
             "#d8576b"
            ],
            [
             0.6666666666666666,
             "#ed7953"
            ],
            [
             0.7777777777777778,
             "#fb9f3a"
            ],
            [
             0.8888888888888888,
             "#fdca26"
            ],
            [
             1,
             "#f0f921"
            ]
           ],
           "sequentialminus": [
            [
             0,
             "#0d0887"
            ],
            [
             0.1111111111111111,
             "#46039f"
            ],
            [
             0.2222222222222222,
             "#7201a8"
            ],
            [
             0.3333333333333333,
             "#9c179e"
            ],
            [
             0.4444444444444444,
             "#bd3786"
            ],
            [
             0.5555555555555556,
             "#d8576b"
            ],
            [
             0.6666666666666666,
             "#ed7953"
            ],
            [
             0.7777777777777778,
             "#fb9f3a"
            ],
            [
             0.8888888888888888,
             "#fdca26"
            ],
            [
             1,
             "#f0f921"
            ]
           ]
          },
          "colorway": [
           "#636efa",
           "#EF553B",
           "#00cc96",
           "#ab63fa",
           "#FFA15A",
           "#19d3f3",
           "#FF6692",
           "#B6E880",
           "#FF97FF",
           "#FECB52"
          ],
          "font": {
           "color": "#2a3f5f"
          },
          "geo": {
           "bgcolor": "white",
           "lakecolor": "white",
           "landcolor": "#E5ECF6",
           "showlakes": true,
           "showland": true,
           "subunitcolor": "white"
          },
          "hoverlabel": {
           "align": "left"
          },
          "hovermode": "closest",
          "mapbox": {
           "style": "light"
          },
          "paper_bgcolor": "white",
          "plot_bgcolor": "#E5ECF6",
          "polar": {
           "angularaxis": {
            "gridcolor": "white",
            "linecolor": "white",
            "ticks": ""
           },
           "bgcolor": "#E5ECF6",
           "radialaxis": {
            "gridcolor": "white",
            "linecolor": "white",
            "ticks": ""
           }
          },
          "scene": {
           "xaxis": {
            "backgroundcolor": "#E5ECF6",
            "gridcolor": "white",
            "gridwidth": 2,
            "linecolor": "white",
            "showbackground": true,
            "ticks": "",
            "zerolinecolor": "white"
           },
           "yaxis": {
            "backgroundcolor": "#E5ECF6",
            "gridcolor": "white",
            "gridwidth": 2,
            "linecolor": "white",
            "showbackground": true,
            "ticks": "",
            "zerolinecolor": "white"
           },
           "zaxis": {
            "backgroundcolor": "#E5ECF6",
            "gridcolor": "white",
            "gridwidth": 2,
            "linecolor": "white",
            "showbackground": true,
            "ticks": "",
            "zerolinecolor": "white"
           }
          },
          "shapedefaults": {
           "line": {
            "color": "#2a3f5f"
           }
          },
          "ternary": {
           "aaxis": {
            "gridcolor": "white",
            "linecolor": "white",
            "ticks": ""
           },
           "baxis": {
            "gridcolor": "white",
            "linecolor": "white",
            "ticks": ""
           },
           "bgcolor": "#E5ECF6",
           "caxis": {
            "gridcolor": "white",
            "linecolor": "white",
            "ticks": ""
           }
          },
          "title": {
           "x": 0.05
          },
          "xaxis": {
           "automargin": true,
           "gridcolor": "white",
           "linecolor": "white",
           "ticks": "",
           "title": {
            "standoff": 15
           },
           "zerolinecolor": "white",
           "zerolinewidth": 2
          },
          "yaxis": {
           "automargin": true,
           "gridcolor": "white",
           "linecolor": "white",
           "ticks": "",
           "title": {
            "standoff": 15
           },
           "zerolinecolor": "white",
           "zerolinewidth": 2
          }
         }
        },
        "title": {
         "text": "Count of Rows by Source-Target and Resource"
        },
        "xaxis": {
         "anchor": "y",
         "domain": [
          0,
          1
         ],
         "title": {
          "text": "source_target"
         }
        },
        "yaxis": {
         "anchor": "x",
         "domain": [
          0,
          1
         ],
         "title": {
          "text": "count"
         }
        }
       }
      }
     },
     "metadata": {},
     "output_type": "display_data"
    }
   ],
   "source": [
    "import plotly.express as px\n",
    "\n",
    "plot_data = relations_subset[relations_subset[\"source_type\"].isin([\"Disease\", \"Gene\", \"Compound\", \"Symptom\", \"Pathway\"]) & relations_subset[\"target_type\"].isin([\"Disease\", \"Gene\", \"Compound\", \"Symptom\", \"Pathway\"])]\n",
    "\n",
    "plot_data[\"source_target\"] = plot_data[\"source_type\"] + \":\" + plot_data[\"target_type\"]\n",
    "\n",
    "# source_type:target_type might be same with target_type:source_type, merge them\n",
    "plot_data[\"source_target\"] = plot_data[\"source_target\"].apply(lambda x: x.split(\":\")[0] + \":\" + x.split(\":\")[1] if x.split(\":\")[0] > x.split(\":\")[1] else x.split(\":\")[1] + \":\" + x.split(\":\")[0])\n",
    "\n",
    "# Group the data by 'label' and 'resource' and count the rows\n",
    "grouped_df = plot_data.groupby(['source_target', \"resource\"]).size().reset_index(name='count')\n",
    "\n",
    "# resource = ['bioarx', 'DGIDB', 'DRUGBANK', 'GNBR', 'Hetionet', 'INTACT', 'STRING', 'PrimeKG', 'HSDN']\n",
    "# Please specify the colors in the same order as the resource list\n",
    "colors = [\"#e60049\", \"#0bb4ff\", \"#50e991\", \"#e6d800\", \"#9b19f5\", \"#ffa300\", \"#dc0ab4\", \"#b3d4ff\", \"#00bfa0\"]\n",
    "\n",
    "# Show the total number of each group on the plot\n",
    "\n",
    "# Create the bar chart using Plotly Express\n",
    "# fig2 = px.bar(grouped_df, x='source_target', y='count', color='resource', title='Count of Rows by Source-Target and Resource')\n",
    "fig2 = px.bar(grouped_df, x='source_target', y='count', color='resource', title='Count of Rows by Source-Target and Resource', color_discrete_sequence=colors, text='count')\n",
    "\n",
    "# Show the plot\n",
    "fig2.show(renderer='vscode')"
   ]
  },
  {
   "cell_type": "code",
   "execution_count": 10,
   "metadata": {},
   "outputs": [
    {
     "data": {
      "application/vnd.plotly.v1+json": {
       "config": {
        "plotlyServerURL": "https://plot.ly"
       },
       "data": [
        {
         "alignmentgroup": "True",
         "hovertemplate": "source_target=Compound:Compound<br>resource=%{x}<br>count=%{text}<extra></extra>",
         "legendgroup": "Compound:Compound",
         "marker": {
          "color": "#636efa",
          "pattern": {
           "shape": ""
          }
         },
         "name": "Compound:Compound",
         "offsetgroup": "Compound:Compound",
         "orientation": "v",
         "showlegend": true,
         "text": [
          76977,
          1266,
          143564
         ],
         "textposition": "auto",
         "type": "bar",
         "x": [
          "DRUGBANK",
          "Hetionet",
          "PrimeKG"
         ],
         "xaxis": "x",
         "y": [
          76977,
          1266,
          143564
         ],
         "yaxis": "y"
        },
        {
         "alignmentgroup": "True",
         "hovertemplate": "source_target=Disease:Compound<br>resource=%{x}<br>count=%{text}<extra></extra>",
         "legendgroup": "Disease:Compound",
         "marker": {
          "color": "#EF553B",
          "pattern": {
           "shape": ""
          }
         },
         "name": "Disease:Compound",
         "offsetgroup": "Disease:Compound",
         "orientation": "v",
         "showlegend": true,
         "text": [
          1367,
          12697,
          331,
          52566
         ],
         "textposition": "auto",
         "type": "bar",
         "x": [
          "DRUGBANK",
          "GNBR",
          "Hetionet",
          "PrimeKG"
         ],
         "xaxis": "x",
         "y": [
          1367,
          12697,
          331,
          52566
         ],
         "yaxis": "y"
        },
        {
         "alignmentgroup": "True",
         "hovertemplate": "source_target=Disease:Disease<br>resource=%{x}<br>count=%{text}<extra></extra>",
         "legendgroup": "Disease:Disease",
         "marker": {
          "color": "#00cc96",
          "pattern": {
           "shape": ""
          }
         },
         "name": "Disease:Disease",
         "offsetgroup": "Disease:Disease",
         "orientation": "v",
         "showlegend": true,
         "text": [
          297,
          229168
         ],
         "textposition": "auto",
         "type": "bar",
         "x": [
          "Hetionet",
          "PrimeKG"
         ],
         "xaxis": "x",
         "y": [
          297,
          229168
         ],
         "yaxis": "y"
        },
        {
         "alignmentgroup": "True",
         "hovertemplate": "source_target=Gene:Compound<br>resource=%{x}<br>count=%{text}<extra></extra>",
         "legendgroup": "Gene:Compound",
         "marker": {
          "color": "#ab63fa",
          "pattern": {
           "shape": ""
          }
         },
         "name": "Gene:Compound",
         "offsetgroup": "Gene:Compound",
         "orientation": "v",
         "showlegend": true,
         "text": [
          2703,
          3572,
          10354,
          7027,
          26,
          9160,
          2827
         ],
         "textposition": "auto",
         "type": "bar",
         "x": [
          "DGIDB",
          "DRUGBANK",
          "GNBR",
          "Hetionet",
          "INTACT",
          "PrimeKG",
          "bioarx"
         ],
         "xaxis": "x",
         "y": [
          2703,
          3572,
          10354,
          7027,
          26,
          9160,
          2827
         ],
         "yaxis": "y"
        },
        {
         "alignmentgroup": "True",
         "hovertemplate": "source_target=Gene:Disease<br>resource=%{x}<br>count=%{text}<extra></extra>",
         "legendgroup": "Gene:Disease",
         "marker": {
          "color": "#FFA15A",
          "pattern": {
           "shape": ""
          }
         },
         "name": "Gene:Disease",
         "offsetgroup": "Gene:Disease",
         "orientation": "v",
         "showlegend": true,
         "text": [
          55366,
          19181,
          385536
         ],
         "textposition": "auto",
         "type": "bar",
         "x": [
          "GNBR",
          "Hetionet",
          "PrimeKG"
         ],
         "xaxis": "x",
         "y": [
          55366,
          19181,
          385536
         ],
         "yaxis": "y"
        },
        {
         "alignmentgroup": "True",
         "hovertemplate": "source_target=Gene:Gene<br>resource=%{x}<br>count=%{text}<extra></extra>",
         "legendgroup": "Gene:Gene",
         "marker": {
          "color": "#19d3f3",
          "pattern": {
           "shape": ""
          }
         },
         "name": "Gene:Gene",
         "offsetgroup": "Gene:Gene",
         "orientation": "v",
         "showlegend": true,
         "text": [
          45185,
          330715,
          175673,
          446364,
          1080123,
          41320
         ],
         "textposition": "auto",
         "type": "bar",
         "x": [
          "GNBR",
          "Hetionet",
          "INTACT",
          "PrimeKG",
          "STRING",
          "bioarx"
         ],
         "xaxis": "x",
         "y": [
          45185,
          330715,
          175673,
          446364,
          1080123,
          41320
         ],
         "yaxis": "y"
        },
        {
         "alignmentgroup": "True",
         "hovertemplate": "source_target=Pathway:Gene<br>resource=%{x}<br>count=%{text}<extra></extra>",
         "legendgroup": "Pathway:Gene",
         "marker": {
          "color": "#FF6692",
          "pattern": {
           "shape": ""
          }
         },
         "name": "Pathway:Gene",
         "offsetgroup": "Pathway:Gene",
         "orientation": "v",
         "showlegend": true,
         "text": [
          10400,
          73552
         ],
         "textposition": "auto",
         "type": "bar",
         "x": [
          "Hetionet",
          "PrimeKG"
         ],
         "xaxis": "x",
         "y": [
          10400,
          73552
         ],
         "yaxis": "y"
        },
        {
         "alignmentgroup": "True",
         "hovertemplate": "source_target=Pathway:Pathway<br>resource=%{x}<br>count=%{text}<extra></extra>",
         "legendgroup": "Pathway:Pathway",
         "marker": {
          "color": "#B6E880",
          "pattern": {
           "shape": ""
          }
         },
         "name": "Pathway:Pathway",
         "offsetgroup": "Pathway:Pathway",
         "orientation": "v",
         "showlegend": true,
         "text": [
          5068
         ],
         "textposition": "auto",
         "type": "bar",
         "x": [
          "PrimeKG"
         ],
         "xaxis": "x",
         "y": [
          5068
         ],
         "yaxis": "y"
        },
        {
         "alignmentgroup": "True",
         "hovertemplate": "source_target=Symptom:Disease<br>resource=%{x}<br>count=%{text}<extra></extra>",
         "legendgroup": "Symptom:Disease",
         "marker": {
          "color": "#FF97FF",
          "pattern": {
           "shape": ""
          }
         },
         "name": "Symptom:Disease",
         "offsetgroup": "Symptom:Disease",
         "orientation": "v",
         "showlegend": true,
         "text": [
          98153,
          2622
         ],
         "textposition": "auto",
         "type": "bar",
         "x": [
          "HSDN",
          "Hetionet"
         ],
         "xaxis": "x",
         "y": [
          98153,
          2622
         ],
         "yaxis": "y"
        }
       ],
       "layout": {
        "barmode": "relative",
        "legend": {
         "title": {
          "text": "source_target"
         },
         "tracegroupgap": 0
        },
        "template": {
         "data": {
          "bar": [
           {
            "error_x": {
             "color": "#2a3f5f"
            },
            "error_y": {
             "color": "#2a3f5f"
            },
            "marker": {
             "line": {
              "color": "#E5ECF6",
              "width": 0.5
             },
             "pattern": {
              "fillmode": "overlay",
              "size": 10,
              "solidity": 0.2
             }
            },
            "type": "bar"
           }
          ],
          "barpolar": [
           {
            "marker": {
             "line": {
              "color": "#E5ECF6",
              "width": 0.5
             },
             "pattern": {
              "fillmode": "overlay",
              "size": 10,
              "solidity": 0.2
             }
            },
            "type": "barpolar"
           }
          ],
          "carpet": [
           {
            "aaxis": {
             "endlinecolor": "#2a3f5f",
             "gridcolor": "white",
             "linecolor": "white",
             "minorgridcolor": "white",
             "startlinecolor": "#2a3f5f"
            },
            "baxis": {
             "endlinecolor": "#2a3f5f",
             "gridcolor": "white",
             "linecolor": "white",
             "minorgridcolor": "white",
             "startlinecolor": "#2a3f5f"
            },
            "type": "carpet"
           }
          ],
          "choropleth": [
           {
            "colorbar": {
             "outlinewidth": 0,
             "ticks": ""
            },
            "type": "choropleth"
           }
          ],
          "contour": [
           {
            "colorbar": {
             "outlinewidth": 0,
             "ticks": ""
            },
            "colorscale": [
             [
              0,
              "#0d0887"
             ],
             [
              0.1111111111111111,
              "#46039f"
             ],
             [
              0.2222222222222222,
              "#7201a8"
             ],
             [
              0.3333333333333333,
              "#9c179e"
             ],
             [
              0.4444444444444444,
              "#bd3786"
             ],
             [
              0.5555555555555556,
              "#d8576b"
             ],
             [
              0.6666666666666666,
              "#ed7953"
             ],
             [
              0.7777777777777778,
              "#fb9f3a"
             ],
             [
              0.8888888888888888,
              "#fdca26"
             ],
             [
              1,
              "#f0f921"
             ]
            ],
            "type": "contour"
           }
          ],
          "contourcarpet": [
           {
            "colorbar": {
             "outlinewidth": 0,
             "ticks": ""
            },
            "type": "contourcarpet"
           }
          ],
          "heatmap": [
           {
            "colorbar": {
             "outlinewidth": 0,
             "ticks": ""
            },
            "colorscale": [
             [
              0,
              "#0d0887"
             ],
             [
              0.1111111111111111,
              "#46039f"
             ],
             [
              0.2222222222222222,
              "#7201a8"
             ],
             [
              0.3333333333333333,
              "#9c179e"
             ],
             [
              0.4444444444444444,
              "#bd3786"
             ],
             [
              0.5555555555555556,
              "#d8576b"
             ],
             [
              0.6666666666666666,
              "#ed7953"
             ],
             [
              0.7777777777777778,
              "#fb9f3a"
             ],
             [
              0.8888888888888888,
              "#fdca26"
             ],
             [
              1,
              "#f0f921"
             ]
            ],
            "type": "heatmap"
           }
          ],
          "heatmapgl": [
           {
            "colorbar": {
             "outlinewidth": 0,
             "ticks": ""
            },
            "colorscale": [
             [
              0,
              "#0d0887"
             ],
             [
              0.1111111111111111,
              "#46039f"
             ],
             [
              0.2222222222222222,
              "#7201a8"
             ],
             [
              0.3333333333333333,
              "#9c179e"
             ],
             [
              0.4444444444444444,
              "#bd3786"
             ],
             [
              0.5555555555555556,
              "#d8576b"
             ],
             [
              0.6666666666666666,
              "#ed7953"
             ],
             [
              0.7777777777777778,
              "#fb9f3a"
             ],
             [
              0.8888888888888888,
              "#fdca26"
             ],
             [
              1,
              "#f0f921"
             ]
            ],
            "type": "heatmapgl"
           }
          ],
          "histogram": [
           {
            "marker": {
             "pattern": {
              "fillmode": "overlay",
              "size": 10,
              "solidity": 0.2
             }
            },
            "type": "histogram"
           }
          ],
          "histogram2d": [
           {
            "colorbar": {
             "outlinewidth": 0,
             "ticks": ""
            },
            "colorscale": [
             [
              0,
              "#0d0887"
             ],
             [
              0.1111111111111111,
              "#46039f"
             ],
             [
              0.2222222222222222,
              "#7201a8"
             ],
             [
              0.3333333333333333,
              "#9c179e"
             ],
             [
              0.4444444444444444,
              "#bd3786"
             ],
             [
              0.5555555555555556,
              "#d8576b"
             ],
             [
              0.6666666666666666,
              "#ed7953"
             ],
             [
              0.7777777777777778,
              "#fb9f3a"
             ],
             [
              0.8888888888888888,
              "#fdca26"
             ],
             [
              1,
              "#f0f921"
             ]
            ],
            "type": "histogram2d"
           }
          ],
          "histogram2dcontour": [
           {
            "colorbar": {
             "outlinewidth": 0,
             "ticks": ""
            },
            "colorscale": [
             [
              0,
              "#0d0887"
             ],
             [
              0.1111111111111111,
              "#46039f"
             ],
             [
              0.2222222222222222,
              "#7201a8"
             ],
             [
              0.3333333333333333,
              "#9c179e"
             ],
             [
              0.4444444444444444,
              "#bd3786"
             ],
             [
              0.5555555555555556,
              "#d8576b"
             ],
             [
              0.6666666666666666,
              "#ed7953"
             ],
             [
              0.7777777777777778,
              "#fb9f3a"
             ],
             [
              0.8888888888888888,
              "#fdca26"
             ],
             [
              1,
              "#f0f921"
             ]
            ],
            "type": "histogram2dcontour"
           }
          ],
          "mesh3d": [
           {
            "colorbar": {
             "outlinewidth": 0,
             "ticks": ""
            },
            "type": "mesh3d"
           }
          ],
          "parcoords": [
           {
            "line": {
             "colorbar": {
              "outlinewidth": 0,
              "ticks": ""
             }
            },
            "type": "parcoords"
           }
          ],
          "pie": [
           {
            "automargin": true,
            "type": "pie"
           }
          ],
          "scatter": [
           {
            "fillpattern": {
             "fillmode": "overlay",
             "size": 10,
             "solidity": 0.2
            },
            "type": "scatter"
           }
          ],
          "scatter3d": [
           {
            "line": {
             "colorbar": {
              "outlinewidth": 0,
              "ticks": ""
             }
            },
            "marker": {
             "colorbar": {
              "outlinewidth": 0,
              "ticks": ""
             }
            },
            "type": "scatter3d"
           }
          ],
          "scattercarpet": [
           {
            "marker": {
             "colorbar": {
              "outlinewidth": 0,
              "ticks": ""
             }
            },
            "type": "scattercarpet"
           }
          ],
          "scattergeo": [
           {
            "marker": {
             "colorbar": {
              "outlinewidth": 0,
              "ticks": ""
             }
            },
            "type": "scattergeo"
           }
          ],
          "scattergl": [
           {
            "marker": {
             "colorbar": {
              "outlinewidth": 0,
              "ticks": ""
             }
            },
            "type": "scattergl"
           }
          ],
          "scattermapbox": [
           {
            "marker": {
             "colorbar": {
              "outlinewidth": 0,
              "ticks": ""
             }
            },
            "type": "scattermapbox"
           }
          ],
          "scatterpolar": [
           {
            "marker": {
             "colorbar": {
              "outlinewidth": 0,
              "ticks": ""
             }
            },
            "type": "scatterpolar"
           }
          ],
          "scatterpolargl": [
           {
            "marker": {
             "colorbar": {
              "outlinewidth": 0,
              "ticks": ""
             }
            },
            "type": "scatterpolargl"
           }
          ],
          "scatterternary": [
           {
            "marker": {
             "colorbar": {
              "outlinewidth": 0,
              "ticks": ""
             }
            },
            "type": "scatterternary"
           }
          ],
          "surface": [
           {
            "colorbar": {
             "outlinewidth": 0,
             "ticks": ""
            },
            "colorscale": [
             [
              0,
              "#0d0887"
             ],
             [
              0.1111111111111111,
              "#46039f"
             ],
             [
              0.2222222222222222,
              "#7201a8"
             ],
             [
              0.3333333333333333,
              "#9c179e"
             ],
             [
              0.4444444444444444,
              "#bd3786"
             ],
             [
              0.5555555555555556,
              "#d8576b"
             ],
             [
              0.6666666666666666,
              "#ed7953"
             ],
             [
              0.7777777777777778,
              "#fb9f3a"
             ],
             [
              0.8888888888888888,
              "#fdca26"
             ],
             [
              1,
              "#f0f921"
             ]
            ],
            "type": "surface"
           }
          ],
          "table": [
           {
            "cells": {
             "fill": {
              "color": "#EBF0F8"
             },
             "line": {
              "color": "white"
             }
            },
            "header": {
             "fill": {
              "color": "#C8D4E3"
             },
             "line": {
              "color": "white"
             }
            },
            "type": "table"
           }
          ]
         },
         "layout": {
          "annotationdefaults": {
           "arrowcolor": "#2a3f5f",
           "arrowhead": 0,
           "arrowwidth": 1
          },
          "autotypenumbers": "strict",
          "coloraxis": {
           "colorbar": {
            "outlinewidth": 0,
            "ticks": ""
           }
          },
          "colorscale": {
           "diverging": [
            [
             0,
             "#8e0152"
            ],
            [
             0.1,
             "#c51b7d"
            ],
            [
             0.2,
             "#de77ae"
            ],
            [
             0.3,
             "#f1b6da"
            ],
            [
             0.4,
             "#fde0ef"
            ],
            [
             0.5,
             "#f7f7f7"
            ],
            [
             0.6,
             "#e6f5d0"
            ],
            [
             0.7,
             "#b8e186"
            ],
            [
             0.8,
             "#7fbc41"
            ],
            [
             0.9,
             "#4d9221"
            ],
            [
             1,
             "#276419"
            ]
           ],
           "sequential": [
            [
             0,
             "#0d0887"
            ],
            [
             0.1111111111111111,
             "#46039f"
            ],
            [
             0.2222222222222222,
             "#7201a8"
            ],
            [
             0.3333333333333333,
             "#9c179e"
            ],
            [
             0.4444444444444444,
             "#bd3786"
            ],
            [
             0.5555555555555556,
             "#d8576b"
            ],
            [
             0.6666666666666666,
             "#ed7953"
            ],
            [
             0.7777777777777778,
             "#fb9f3a"
            ],
            [
             0.8888888888888888,
             "#fdca26"
            ],
            [
             1,
             "#f0f921"
            ]
           ],
           "sequentialminus": [
            [
             0,
             "#0d0887"
            ],
            [
             0.1111111111111111,
             "#46039f"
            ],
            [
             0.2222222222222222,
             "#7201a8"
            ],
            [
             0.3333333333333333,
             "#9c179e"
            ],
            [
             0.4444444444444444,
             "#bd3786"
            ],
            [
             0.5555555555555556,
             "#d8576b"
            ],
            [
             0.6666666666666666,
             "#ed7953"
            ],
            [
             0.7777777777777778,
             "#fb9f3a"
            ],
            [
             0.8888888888888888,
             "#fdca26"
            ],
            [
             1,
             "#f0f921"
            ]
           ]
          },
          "colorway": [
           "#636efa",
           "#EF553B",
           "#00cc96",
           "#ab63fa",
           "#FFA15A",
           "#19d3f3",
           "#FF6692",
           "#B6E880",
           "#FF97FF",
           "#FECB52"
          ],
          "font": {
           "color": "#2a3f5f"
          },
          "geo": {
           "bgcolor": "white",
           "lakecolor": "white",
           "landcolor": "#E5ECF6",
           "showlakes": true,
           "showland": true,
           "subunitcolor": "white"
          },
          "hoverlabel": {
           "align": "left"
          },
          "hovermode": "closest",
          "mapbox": {
           "style": "light"
          },
          "paper_bgcolor": "white",
          "plot_bgcolor": "#E5ECF6",
          "polar": {
           "angularaxis": {
            "gridcolor": "white",
            "linecolor": "white",
            "ticks": ""
           },
           "bgcolor": "#E5ECF6",
           "radialaxis": {
            "gridcolor": "white",
            "linecolor": "white",
            "ticks": ""
           }
          },
          "scene": {
           "xaxis": {
            "backgroundcolor": "#E5ECF6",
            "gridcolor": "white",
            "gridwidth": 2,
            "linecolor": "white",
            "showbackground": true,
            "ticks": "",
            "zerolinecolor": "white"
           },
           "yaxis": {
            "backgroundcolor": "#E5ECF6",
            "gridcolor": "white",
            "gridwidth": 2,
            "linecolor": "white",
            "showbackground": true,
            "ticks": "",
            "zerolinecolor": "white"
           },
           "zaxis": {
            "backgroundcolor": "#E5ECF6",
            "gridcolor": "white",
            "gridwidth": 2,
            "linecolor": "white",
            "showbackground": true,
            "ticks": "",
            "zerolinecolor": "white"
           }
          },
          "shapedefaults": {
           "line": {
            "color": "#2a3f5f"
           }
          },
          "ternary": {
           "aaxis": {
            "gridcolor": "white",
            "linecolor": "white",
            "ticks": ""
           },
           "baxis": {
            "gridcolor": "white",
            "linecolor": "white",
            "ticks": ""
           },
           "bgcolor": "#E5ECF6",
           "caxis": {
            "gridcolor": "white",
            "linecolor": "white",
            "ticks": ""
           }
          },
          "title": {
           "x": 0.05
          },
          "xaxis": {
           "automargin": true,
           "gridcolor": "white",
           "linecolor": "white",
           "ticks": "",
           "title": {
            "standoff": 15
           },
           "zerolinecolor": "white",
           "zerolinewidth": 2
          },
          "yaxis": {
           "automargin": true,
           "gridcolor": "white",
           "linecolor": "white",
           "ticks": "",
           "title": {
            "standoff": 15
           },
           "zerolinecolor": "white",
           "zerolinewidth": 2
          }
         }
        },
        "title": {
         "text": "Count of Rows by Source-Target and Resource"
        },
        "xaxis": {
         "anchor": "y",
         "domain": [
          0,
          1
         ],
         "title": {
          "text": "resource"
         }
        },
        "yaxis": {
         "anchor": "x",
         "domain": [
          0,
          1
         ],
         "title": {
          "text": "count"
         }
        }
       }
      }
     },
     "metadata": {},
     "output_type": "display_data"
    }
   ],
   "source": [
    "# Create the bar chart using Plotly Express\n",
    "fig3 = px.bar(grouped_df, x='resource', y='count', color='source_target', title='Count of Rows by Source-Target and Resource', text='count')\n",
    "\n",
    "# Show the plot\n",
    "fig3.show(renderer='vscode')"
   ]
  },
  {
   "cell_type": "markdown",
   "metadata": {},
   "source": [
    "### Visualize a subgraph with a specified subset of relations"
   ]
  },
  {
   "cell_type": "markdown",
   "metadata": {},
   "source": [
    "### Get all paths with length <= 3 and one node as a start point.\n",
    "\n",
    "> Prompt: \n",
    "> If I have a file which contains the following columns: source_id, source_type, target_id, target_type, relation_type. and any node will be treated as a uniq node, if its id:type is different from others. I would like to use one specified node as a start point and get a subgraph which all nodes linked with it and the length of paths <= 3, how to do it? In the meanwhile, please save the paths as a file which contains five columns: source_id, source_type, relation_type, target_id, target_type."
   ]
  },
  {
   "cell_type": "markdown",
   "metadata": {},
   "source": [
    "#### Create a subgraph by extracting nodes with paths <= max_length from the start node"
   ]
  },
  {
   "cell_type": "code",
   "execution_count": 51,
   "metadata": {},
   "outputs": [],
   "source": [
    "import pandas as pd\n",
    "import networkx as nx\n",
    "\n",
    "# Specify the start node as a tuple (id, type)\n",
    "# ME/CFS\n",
    "start_node = ('MONDO:0005404', 'Disease')\n",
    "\n",
    "# Lung Cancer\n",
    "# start_node = ('MONDO:0008903', 'Disease')\n",
    "\n",
    "max_length = 2\n",
    "\n",
    "allowd_types = [\"Disease\", \"Gene\", \"Compound\", \"Symptom\"]\n",
    "types_to_remove = [\"Disease\"]\n",
    "which_layer_to_remove = 1\n",
    "\n",
    "# allowd_types = [\"Gene\", \"Compound\", \"Disease\", \"Symptom\", \"Pathway\", \"Anatomy\", \"Metabolite\", \"MolecularFunction\", \"BiologicalProcess\", \"CellularComponent\"]\n",
    "colors = [\"#e60049\", \"#0bb4ff\", \"#50e991\", \"#e6d800\", \"#9b19f5\", \"#ffa300\", \"#dc0ab4\", \"#b3d4ff\", \"#00bfa0\", \"#ff6e00\"]\n",
    "\n",
    "node_type_colors = {}\n",
    "for node_type, color in zip(allowd_types, colors):\n",
    "    node_type_colors[node_type] = color\n",
    "\n",
    "# Read the data from the file into a DataFrame\n",
    "df = pd.read_csv(os.path.join(rootdir, 'models/biomedgps/data/relations.tsv'), sep='\\t', dtype=str)\n",
    "\n",
    "entites = pd.read_csv(os.path.join(rootdir, 'models/biomedgps/data/entities.tsv'), sep='\\t', dtype=str)\n",
    "\n",
    "# Join the df and the entites to get the label of each node and add name field from the entites to the df\n",
    "df = df.merge(entites[['id', 'name', 'label']], left_on=['source_id', 'source_type'], right_on=['id', 'label'], how='left')\n",
    "df = df.rename(columns={'name': 'source_name'})\n",
    "\n",
    "df = df.merge(entites[['id', 'name', 'label']], left_on=['target_id', 'target_type'], right_on=['id', 'label'], how='left')\n",
    "df = df.rename(columns={'name': 'target_name'})\n",
    "\n",
    "# Create a directed graph to represent the relationships\n",
    "G = nx.DiGraph()\n",
    "\n",
    "# Add nodes and edges to the graph\n",
    "for _, row in df.iterrows():\n",
    "    source_id = row['source_id']\n",
    "    source_type = row['source_type']\n",
    "    source_name = row['source_name']\n",
    "    target_id = row['target_id']\n",
    "    target_type = row['target_type']\n",
    "    target_name = row['target_name']\n",
    "    relation_type = row['relation_type']\n",
    "\n",
    "    if source_type not in allowd_types or target_type not in allowd_types:\n",
    "        continue\n",
    "\n",
    "    # Add nodes for source and target with node type as an attribute\n",
    "    G.add_node((source_id, source_type), source_name=source_name, node_type=source_type)\n",
    "    G.add_node((target_id, target_type), target_name=target_name, node_type=target_type)\n",
    "\n",
    "    # Add directed edge from source to target\n",
    "    G.add_edge((source_id, source_type), (target_id, target_type), relation=relation_type, source_name=source_name, target_name=target_name)\n",
    "\n",
    "subgraph_nodes = nx.single_source_shortest_path_length(G, start_node, cutoff=max_length)\n"
   ]
  },
  {
   "cell_type": "code",
   "execution_count": 53,
   "metadata": {},
   "outputs": [
    {
     "name": "stdout",
     "output_type": "stream",
     "text": [
      "{('MONDO:0005404', 'Disease'): 0, ('MONDO:0002254', 'Disease'): 1, ('MONDO:0005218', 'Disease'): 1, ('MONDO:0008856', 'Disease'): 1, ('MONDO:0010296', 'Disease'): 1, ('MONDO:0010386', 'Disease'): 1, ('MONDO:0010504', 'Disease'): 1, ('MONDO:0012426', 'Disease'): 1, ('MONDO:0013427', 'Disease'): 1, ('MONDO:0013500', 'Disease'): 1, ('MONDO:0013953', 'Disease'): 1, ('MONDO:0014222', 'Disease'): 1, ('MONDO:0014278', 'Disease'): 1, ('MONDO:0014280', 'Disease'): 1, ('MONDO:0014453', 'Disease'): 1, ('MONDO:0014491', 'Disease'): 1, ('MONDO:0014597', 'Disease'): 1, ('MONDO:0014727', 'Disease'): 1, ('MONDO:0014981', 'Disease'): 1, ('MONDO:0019117', 'Disease'): 1, ('MONDO:0020849', 'Disease'): 1, ('MONDO:0021094', 'Disease'): 1, ('MONDO:0030013', 'Disease'): 1, ('MONDO:0030858', 'Disease'): 1, ('MONDO:0030898', 'Disease'): 1, ('MONDO:0030973', 'Disease'): 1, ('MONDO:0030981', 'Disease'): 1, ('MONDO:0032599', 'Disease'): 1, ('MONDO:0032723', 'Disease'): 1, ('MONDO:0032763', 'Disease'): 1, ('MONDO:0032803', 'Disease'): 1, ('MONDO:0033541', 'Disease'): 1, ('MONDO:0033542', 'Disease'): 1, ('MONDO:0054696', 'Disease'): 1, ('MONDO:0000001', 'Disease'): 2, ('MONDO:0000181', 'Disease'): 2, ('MONDO:0000507', 'Disease'): 2, ('MONDO:0000508', 'Disease'): 2, ('MONDO:0000849', 'Disease'): 2, ('MONDO:0000909', 'Disease'): 2, ('MONDO:0001083', 'Disease'): 2, ('MONDO:0001332', 'Disease'): 2, ('MONDO:0001382', 'Disease'): 2, ('MONDO:0001558', 'Disease'): 2, ('MONDO:0001586', 'Disease'): 2, ('MONDO:0001631', 'Disease'): 2, ('MONDO:0001823', 'Disease'): 2, ('MONDO:0001858', 'Disease'): 2, ('MONDO:0001881', 'Disease'): 2, ('MONDO:0001956', 'Disease'): 2, ('MONDO:0001979', 'Disease'): 2, ('MONDO:0002010', 'Disease'): 2, ('MONDO:0002341', 'Disease'): 2, ('MONDO:0002442', 'Disease'): 2, ('MONDO:0002687', 'Disease'): 2, ('MONDO:0003157', 'Disease'): 2, ('MONDO:0003754', 'Disease'): 2, ('MONDO:0003962', 'Disease'): 2, ('MONDO:0003963', 'Disease'): 2, ('MONDO:0003965', 'Disease'): 2, ('MONDO:0004001', 'Disease'): 2, ('MONDO:0004731', 'Disease'): 2, ('MONDO:0004771', 'Disease'): 2, ('MONDO:0004914', 'Disease'): 2, ('MONDO:0004933', 'Disease'): 2, ('MONDO:0004955', 'Disease'): 2, ('MONDO:0005021', 'Disease'): 2, ('MONDO:0005052', 'Disease'): 2, ('MONDO:0005200', 'Disease'): 2, ('MONDO:0005377', 'Disease'): 2, ('MONDO:0005542', 'Disease'): 2, ('MONDO:0005546', 'Disease'): 2, ('MONDO:0005567', 'Disease'): 2, ('MONDO:0005632', 'Disease'): 2, ('MONDO:0005663', 'Disease'): 2, ('MONDO:0005693', 'Disease'): 2, ('MONDO:0005817', 'Disease'): 2, ('MONDO:0005862', 'Disease'): 2, ('MONDO:0005907', 'Disease'): 2, ('MONDO:0005942', 'Disease'): 2, ('MONDO:0005979', 'Disease'): 2, ('MONDO:0006015', 'Disease'): 2, ('MONDO:0006018', 'Disease'): 2, ('MONDO:0006502', 'Disease'): 2, ('MONDO:0006520', 'Disease'): 2, ('MONDO:0006580', 'Disease'): 2, ('MONDO:0006650', 'Disease'): 2, ('MONDO:0006687', 'Disease'): 2, ('MONDO:0006733', 'Disease'): 2, ('MONDO:0006740', 'Disease'): 2, ('MONDO:0006755', 'Disease'): 2, ('MONDO:0006827', 'Disease'): 2, ('MONDO:0006965', 'Disease'): 2, ('MONDO:0006983', 'Disease'): 2, ('MONDO:0006994', 'Disease'): 2, ('MONDO:0006995', 'Disease'): 2, ('MONDO:0007036', 'Disease'): 2, ('MONDO:0007110', 'Disease'): 2, ('MONDO:0007140', 'Disease'): 2, ('MONDO:0007147', 'Disease'): 2, ('MONDO:0007174', 'Disease'): 2, ('MONDO:0007203', 'Disease'): 2, ('MONDO:0007204', 'Disease'): 2, ('MONDO:0007215', 'Disease'): 2, ('MONDO:0007216', 'Disease'): 2, ('MONDO:0007217', 'Disease'): 2, ('MONDO:0007218', 'Disease'): 2, ('MONDO:0007219', 'Disease'): 2, ('MONDO:0007220', 'Disease'): 2, ('MONDO:0007221', 'Disease'): 2, ('MONDO:0007222', 'Disease'): 2, ('MONDO:0007223', 'Disease'): 2, ('MONDO:0007226', 'Disease'): 2, ('MONDO:0007269', 'Disease'): 2, ('MONDO:0007295', 'Disease'): 2, ('MONDO:0007321', 'Disease'): 2, ('MONDO:0007333', 'Disease'): 2, ('MONDO:0007340', 'Disease'): 2, ('MONDO:0007432', 'Disease'): 2, ('MONDO:0007473', 'Disease'): 2, ('MONDO:0007539', 'Disease'): 2, ('MONDO:0007542', 'Disease'): 2, ('MONDO:0007550', 'Disease'): 2, ('MONDO:0007551', 'Disease'): 2, ('MONDO:0007554', 'Disease'): 2, ('MONDO:0007555', 'Disease'): 2, ('MONDO:0007603', 'Disease'): 2, ('MONDO:0007631', 'Disease'): 2, ('MONDO:0007635', 'Disease'): 2, ('MONDO:0007646', 'Disease'): 2, ('MONDO:0007661', 'Disease'): 2, ('MONDO:0007686', 'Disease'): 2, ('MONDO:0007710', 'Disease'): 2, ('MONDO:0007711', 'Disease'): 2, ('MONDO:0007732', 'Disease'): 2, ('MONDO:0007745', 'Disease'): 2, ('MONDO:0007800', 'Disease'): 2, ('MONDO:0007838', 'Disease'): 2, ('MONDO:0007842', 'Disease'): 2, ('MONDO:0007863', 'Disease'): 2, ('MONDO:0007864', 'Disease'): 2, ('MONDO:0007880', 'Disease'): 2, ('MONDO:0007969', 'Disease'): 2, ('MONDO:0008178', 'Disease'): 2, ('MONDO:0008201', 'Disease'): 2, ('MONDO:0008287', 'Disease'): 2, ('MONDO:0008310', 'Disease'): 2, ('MONDO:0008323', 'Disease'): 2, ('MONDO:0008327', 'Disease'): 2, ('MONDO:0008487', 'Disease'): 2, ('MONDO:0008491', 'Disease'): 2, ('MONDO:0008585', 'Disease'): 2, ('MONDO:0008636', 'Disease'): 2, ('MONDO:0008650', 'Disease'): 2, ('MONDO:0008675', 'Disease'): 2, ('MONDO:0008736', 'Disease'): 2, ('MONDO:0008745', 'Disease'): 2, ('MONDO:0008746', 'Disease'): 2, ('MONDO:0008747', 'Disease'): 2, ('MONDO:0008748', 'Disease'): 2, ('MONDO:0008758', 'Disease'): 2, ('MONDO:0008852', 'Disease'): 2, ('MONDO:0008904', 'Disease'): 2, ('MONDO:0008944', 'Disease'): 2, ('MONDO:0008953', 'Disease'): 2, ('MONDO:0008954', 'Disease'): 2, ('MONDO:0008972', 'Disease'): 2, ('MONDO:0008973', 'Disease'): 2, ('MONDO:0008995', 'Disease'): 2, ('MONDO:0009044', 'Disease'): 2, ('MONDO:0009067', 'Disease'): 2, ('MONDO:0009099', 'Disease'): 2, ('MONDO:0009112', 'Disease'): 2, ('MONDO:0009130', 'Disease'): 2, ('MONDO:0009133', 'Disease'): 2, ('MONDO:0009156', 'Disease'): 2, ('MONDO:0009181', 'Disease'): 2, ('MONDO:0009192', 'Disease'): 2, ('MONDO:0009217', 'Disease'): 2, ('MONDO:0009228', 'Disease'): 2, ('MONDO:0009276', 'Disease'): 2, ('MONDO:0009350', 'Disease'): 2, ('MONDO:0009380', 'Disease'): 2, ('MONDO:0009393', 'Disease'): 2, ('MONDO:0009411', 'Disease'): 2, ('MONDO:0009424', 'Disease'): 2, ('MONDO:0009433', 'Disease'): 2, ('MONDO:0009484', 'Disease'): 2, ('MONDO:0009504', 'Disease'): 2, ('MONDO:0009509', 'Disease'): 2, ('MONDO:0009517', 'Disease'): 2, ('MONDO:0009624', 'Disease'): 2, ('MONDO:0009634', 'Disease'): 2, ('MONDO:0009636', 'Disease'): 2, ('MONDO:0009659', 'Disease'): 2, ('MONDO:0009660', 'Disease'): 2, ('MONDO:0009661', 'Disease'): 2, ('MONDO:0009662', 'Disease'): 2, ('MONDO:0009664', 'Disease'): 2, ('MONDO:0009668', 'Disease'): 2, ('MONDO:0009689', 'Disease'): 2, ('MONDO:0009690', 'Disease'): 2, ('MONDO:0009728', 'Disease'): 2, ('MONDO:0009806', 'Disease'): 2, ('MONDO:0009809', 'Disease'): 2, ('MONDO:0009833', 'Disease'): 2, ('MONDO:0009838', 'Disease'): 2, ('MONDO:0009874', 'Disease'): 2, ('MONDO:0009904', 'Disease'): 2, ('MONDO:0009926', 'Disease'): 2, ('MONDO:0009959', 'Disease'): 2, ('MONDO:0009965', 'Disease'): 2, ('MONDO:0010001', 'Disease'): 2, ('MONDO:0010012', 'Disease'): 2, ('MONDO:0010030', 'Disease'): 2, ('MONDO:0010080', 'Disease'): 2, ('MONDO:0010121', 'Disease'): 2, ('MONDO:0010198', 'Disease'): 2, ('MONDO:0010217', 'Disease'): 2, ('MONDO:0010297', 'Disease'): 2, ('MONDO:0010316', 'Disease'): 2, ('MONDO:0010318', 'Disease'): 2, ('MONDO:0010366', 'Disease'): 2, ('MONDO:0010382', 'Disease'): 2, ('MONDO:0010431', 'Disease'): 2, ('MONDO:0010503', 'Disease'): 2, ('MONDO:0010542', 'Disease'): 2, ('MONDO:0010568', 'Disease'): 2, ('MONDO:0010590', 'Disease'): 2, ('MONDO:0010674', 'Disease'): 2, ('MONDO:0010790', 'Disease'): 2, ('MONDO:0010814', 'Disease'): 2, ('MONDO:0010821', 'Disease'): 2, ('MONDO:0010823', 'Disease'): 2, ('MONDO:0010879', 'Disease'): 2, ('MONDO:0010901', 'Disease'): 2, ('MONDO:0010930', 'Disease'): 2, ('MONDO:0010951', 'Disease'): 2, ('MONDO:0010997', 'Disease'): 2, ('MONDO:0011001', 'Disease'): 2, ('MONDO:0011003', 'Disease'): 2, ('MONDO:0011052', 'Disease'): 2, ('MONDO:0011088', 'Disease'): 2, ('MONDO:0011093', 'Disease'): 2, ('MONDO:0011094', 'Disease'): 2, ('MONDO:0011095', 'Disease'): 2, ('MONDO:0011101', 'Disease'): 2, ('MONDO:0011110', 'Disease'): 2, ('MONDO:0011147', 'Disease'): 2, ('MONDO:0011178', 'Disease'): 2, ('MONDO:0011190', 'Disease'): 2, ('MONDO:0011203', 'Disease'): 2, ('MONDO:0011242', 'Disease'): 2, ('MONDO:0011281', 'Disease'): 2, ('MONDO:0011283', 'Disease'): 2, ('MONDO:0011377', 'Disease'): 2, ('MONDO:0011400', 'Disease'): 2, ('MONDO:0011403', 'Disease'): 2, ('MONDO:0011425', 'Disease'): 2, ('MONDO:0011441', 'Disease'): 2, ('MONDO:0011456', 'Disease'): 2, ('MONDO:0011482', 'Disease'): 2, ('MONDO:0011541', 'Disease'): 2, ('MONDO:0011567', 'Disease'): 2, ('MONDO:0011600', 'Disease'): 2, ('MONDO:0011636', 'Disease'): 2, ('MONDO:0011669', 'Disease'): 2, ('MONDO:0011683', 'Disease'): 2, ('MONDO:0011686', 'Disease'): 2, ('MONDO:0011690', 'Disease'): 2, ('MONDO:0011702', 'Disease'): 2, ('MONDO:0011712', 'Disease'): 2, ('MONDO:0011718', 'Disease'): 2, ('MONDO:0011725', 'Disease'): 2, ('MONDO:0011749', 'Disease'): 2, ('MONDO:0011752', 'Disease'): 2, ('MONDO:0011757', 'Disease'): 2, ('MONDO:0011758', 'Disease'): 2, ('MONDO:0011759', 'Disease'): 2, ('MONDO:0011760', 'Disease'): 2, ('MONDO:0011822', 'Disease'): 2, ('MONDO:0011840', 'Disease'): 2, ('MONDO:0011849', 'Disease'): 2, ('MONDO:0011869', 'Disease'): 2, ('MONDO:0011885', 'Disease'): 2, ('MONDO:0011959', 'Disease'): 2, ('MONDO:0011963', 'Disease'): 2, ('MONDO:0011997', 'Disease'): 2, ('MONDO:0012062', 'Disease'): 2, ('MONDO:0012078', 'Disease'): 2, ('MONDO:0012081', 'Disease'): 2, ('MONDO:0012085', 'Disease'): 2, ('MONDO:0012087', 'Disease'): 2, ('MONDO:0012088', 'Disease'): 2, ('MONDO:0012105', 'Disease'): 2, ('MONDO:0012157', 'Disease'): 2, ('MONDO:0012212', 'Disease'): 2, ('MONDO:0012217', 'Disease'): 2, ('MONDO:0012275', 'Disease'): 2, ('MONDO:0012278', 'Disease'): 2, ('MONDO:0012285', 'Disease'): 2, ('MONDO:0012362', 'Disease'): 2, ('MONDO:0012364', 'Disease'): 2, ('MONDO:0012427', 'Disease'): 2, ('MONDO:0012430', 'Disease'): 2, ('MONDO:0012432', 'Disease'): 2, ('MONDO:0012518', 'Disease'): 2, ('MONDO:0012529', 'Disease'): 2, ('MONDO:0012539', 'Disease'): 2, ('MONDO:0012571', 'Disease'): 2, ('MONDO:0012576', 'Disease'): 2, ('MONDO:0012590', 'Disease'): 2, ('MONDO:0012658', 'Disease'): 2, ('MONDO:0012667', 'Disease'): 2, ('MONDO:0012680', 'Disease'): 2, ('MONDO:0012694', 'Disease'): 2, ('MONDO:0012704', 'Disease'): 2, ('MONDO:0012720', 'Disease'): 2, ('MONDO:0012728', 'Disease'): 2, ('MONDO:0012736', 'Disease'): 2, ('MONDO:0012737', 'Disease'): 2, ('MONDO:0012738', 'Disease'): 2, ('MONDO:0012742', 'Disease'): 2, ('MONDO:0012743', 'Disease'): 2, ('MONDO:0012744', 'Disease'): 2, ('MONDO:0012745', 'Disease'): 2, ('MONDO:0012746', 'Disease'): 2, ('MONDO:0012748', 'Disease'): 2, ('MONDO:0012791', 'Disease'): 2, ('MONDO:0012792', 'Disease'): 2, ('MONDO:0012808', 'Disease'): 2, ('MONDO:0012844', 'Disease'): 2, ('MONDO:0012849', 'Disease'): 2, ('MONDO:0012855', 'Disease'): 2, ('MONDO:0012906', 'Disease'): 2, ('MONDO:0012918', 'Disease'): 2, ('MONDO:0012924', 'Disease'): 2, ('MONDO:0012925', 'Disease'): 2, ('MONDO:0012937', 'Disease'): 2, ('MONDO:0012938', 'Disease'): 2, ('MONDO:0012939', 'Disease'): 2, ('MONDO:0012978', 'Disease'): 2, ('MONDO:0012979', 'Disease'): 2, ('MONDO:0013015', 'Disease'): 2, ('MONDO:0013030', 'Disease'): 2, ('MONDO:0013038', 'Disease'): 2, ('MONDO:0013062', 'Disease'): 2, ('MONDO:0013145', 'Disease'): 2, ('MONDO:0013146', 'Disease'): 2, ('MONDO:0013147', 'Disease'): 2, ('MONDO:0013148', 'Disease'): 2, ('MONDO:0013150', 'Disease'): 2, ('MONDO:0013168', 'Disease'): 2, ('MONDO:0013174', 'Disease'): 2, ('MONDO:0013188', 'Disease'): 2, ('MONDO:0013198', 'Disease'): 2, ('MONDO:0013211', 'Disease'): 2, ('MONDO:0013216', 'Disease'): 2, ('MONDO:0013217', 'Disease'): 2, ('MONDO:0013244', 'Disease'): 2, ('MONDO:0013247', 'Disease'): 2, ('MONDO:0013261', 'Disease'): 2, ('MONDO:0013262', 'Disease'): 2, ('MONDO:0013279', 'Disease'): 2, ('MONDO:0013282', 'Disease'): 2, ('MONDO:0013302', 'Disease'): 2, ('MONDO:0013339', 'Disease'): 2, ('MONDO:0013350', 'Disease'): 2, ('MONDO:0013367', 'Disease'): 2, ('MONDO:0013370', 'Disease'): 2, ('MONDO:0013371', 'Disease'): 2, ('MONDO:0013372', 'Disease'): 2, ('MONDO:0013373', 'Disease'): 2, ('MONDO:0013434', 'Disease'): 2, ('MONDO:0013435', 'Disease'): 2, ('MONDO:0013442', 'Disease'): 2, ('MONDO:0013444', 'Disease'): 2, ('MONDO:0013479', 'Disease'): 2, ('MONDO:0013525', 'Disease'): 2, ('MONDO:0013555', 'Disease'): 2, ('MONDO:0013556', 'Disease'): 2, ('MONDO:0013557', 'Disease'): 2, ('MONDO:0013558', 'Disease'): 2, ('MONDO:0013559', 'Disease'): 2, ('MONDO:0013560', 'Disease'): 2, ('MONDO:0013606', 'Disease'): 2, ('MONDO:0013608', 'Disease'): 2, ('MONDO:0013620', 'Disease'): 2, ('MONDO:0013718', 'Disease'): 2, ('MONDO:0013745', 'Disease'): 2, ('MONDO:0013752', 'Disease'): 2, ('MONDO:0013763', 'Disease'): 2, ('MONDO:0013764', 'Disease'): 2, ('MONDO:0013824', 'Disease'): 2, ('MONDO:0013848', 'Disease'): 2, ('MONDO:0013854', 'Disease'): 2, ('MONDO:0013883', 'Disease'): 2, ('MONDO:0013896', 'Disease'): 2, ('MONDO:0013897', 'Disease'): 2, ('MONDO:0013916', 'Disease'): 2, ('MONDO:0013917', 'Disease'): 2, ('MONDO:0013927', 'Disease'): 2, ('MONDO:0013930', 'Disease'): 2, ('MONDO:0013931', 'Disease'): 2, ('MONDO:0013932', 'Disease'): 2, ('MONDO:0013933', 'Disease'): 2, ('MONDO:0013936', 'Disease'): 2, ('MONDO:0013937', 'Disease'): 2, ('MONDO:0013938', 'Disease'): 2, ('MONDO:0013939', 'Disease'): 2, ('MONDO:0013940', 'Disease'): 2, ('MONDO:0013942', 'Disease'): 2, ('MONDO:0013943', 'Disease'): 2, ('MONDO:0013945', 'Disease'): 2, ('MONDO:0013948', 'Disease'): 2, ('MONDO:0013949', 'Disease'): 2, ('MONDO:0013950', 'Disease'): 2, ('MONDO:0013951', 'Disease'): 2, ('MONDO:0013952', 'Disease'): 2, ('MONDO:0013964', 'Disease'): 2, ('MONDO:0013967', 'Disease'): 2, ('MONDO:0013979', 'Disease'): 2, ('MONDO:0013994', 'Disease'): 2, ('MONDO:0014030', 'Disease'): 2, ('MONDO:0014032', 'Disease'): 2, ('MONDO:0014039', 'Disease'): 2, ('MONDO:0014042', 'Disease'): 2, ('MONDO:0014052', 'Disease'): 2, ('MONDO:0014070', 'Disease'): 2, ('MONDO:0014073', 'Disease'): 2, ('MONDO:0014095', 'Disease'): 2, ('MONDO:0014100', 'Disease'): 2, ('MONDO:0014104', 'Disease'): 2, ('MONDO:0014123', 'Disease'): 2, ('MONDO:0014127', 'Disease'): 2, ('MONDO:0014152', 'Disease'): 2, ('MONDO:0014158', 'Disease'): 2, ('MONDO:0014163', 'Disease'): 2, ('MONDO:0014175', 'Disease'): 2, ('MONDO:0014192', 'Disease'): 2, ('MONDO:0014193', 'Disease'): 2, ('MONDO:0014198', 'Disease'): 2, ('MONDO:0014202', 'Disease'): 2, ('MONDO:0014203', 'Disease'): 2, ('MONDO:0014211', 'Disease'): 2, ('MONDO:0014215', 'Disease'): 2, ('MONDO:0014216', 'Disease'): 2, ('MONDO:0014245', 'Disease'): 2, ('MONDO:0014247', 'Disease'): 2, ('MONDO:0014275', 'Disease'): 2, ('MONDO:0014288', 'Disease'): 2, ('MONDO:0014297', 'Disease'): 2, ('MONDO:0014369', 'Disease'): 2, ('MONDO:0014374', 'Disease'): 2, ('MONDO:0014378', 'Disease'): 2, ('MONDO:0014394', 'Disease'): 2, ('MONDO:0014396', 'Disease'): 2, ('MONDO:0014465', 'Disease'): 2, ('MONDO:0014468', 'Disease'): 2, ('MONDO:0014516', 'Disease'): 2, ('MONDO:0014528', 'Disease'): 2, ('MONDO:0014537', 'Disease'): 2, ('MONDO:0014542', 'Disease'): 2, ('MONDO:0014543', 'Disease'): 2, ('MONDO:0014548', 'Disease'): 2, ('MONDO:0014550', 'Disease'): 2, ('MONDO:0014573', 'Disease'): 2, ('MONDO:0014578', 'Disease'): 2, ('MONDO:0014581', 'Disease'): 2, ('MONDO:0014582', 'Disease'): 2, ('MONDO:0014583', 'Disease'): 2, ('MONDO:0014584', 'Disease'): 2, ('MONDO:0014585', 'Disease'): 2, ('MONDO:0014586', 'Disease'): 2, ('MONDO:0014587', 'Disease'): 2, ('MONDO:0014588', 'Disease'): 2, ('MONDO:0014590', 'Disease'): 2, ('MONDO:0014592', 'Disease'): 2, ('MONDO:0014621', 'Disease'): 2, ('MONDO:0014657', 'Disease'): 2, ('MONDO:0014661', 'Disease'): 2, ('MONDO:0014664', 'Disease'): 2, ('MONDO:0014724', 'Disease'): 2, ('MONDO:0014743', 'Disease'): 2, ('MONDO:0014745', 'Disease'): 2, ('MONDO:0014750', 'Disease'): 2, ('MONDO:0014770', 'Disease'): 2, ('MONDO:0014771', 'Disease'): 2, ('MONDO:0014798', 'Disease'): 2, ('MONDO:0014885', 'Disease'): 2, ('MONDO:0014888', 'Disease'): 2, ('MONDO:0014909', 'Disease'): 2, ('MONDO:0014910', 'Disease'): 2, ('MONDO:0014927', 'Disease'): 2, ('MONDO:0014928', 'Disease'): 2, ('MONDO:0014939', 'Disease'): 2, ('MONDO:0014983', 'Disease'): 2, ('MONDO:0014997', 'Disease'): 2, ('MONDO:0015084', 'Disease'): 2, ('MONDO:0015150', 'Disease'): 2, ('MONDO:0015201', 'Disease'): 2, ('MONDO:0015203', 'Disease'): 2, ('MONDO:0015208', 'Disease'): 2, ('MONDO:0015210', 'Disease'): 2, ('MONDO:0015212', 'Disease'): 2, ('MONDO:0015216', 'Disease'): 2, ('MONDO:0015217', 'Disease'): 2, ('MONDO:0015218', 'Disease'): 2, ('MONDO:0015221', 'Disease'): 2, ('MONDO:0015222', 'Disease'): 2, ('MONDO:0015228', 'Disease'): 2, ('MONDO:0015230', 'Disease'): 2, ('MONDO:0015231', 'Disease'): 2, ('MONDO:0015246', 'Disease'): 2, ('MONDO:0015253', 'Disease'): 2, ('MONDO:0015263', 'Disease'): 2, ('MONDO:0015311', 'Disease'): 2, ('MONDO:0015338', 'Disease'): 2, ('MONDO:0015347', 'Disease'): 2, ('MONDO:0015397', 'Disease'): 2, ('MONDO:0015461', 'Disease'): 2, ('MONDO:0015518', 'Disease'): 2, ('MONDO:0015540', 'Disease'): 2, ('MONDO:0015550', 'Disease'): 2, ('MONDO:0015551', 'Disease'): 2, ('MONDO:0015587', 'Disease'): 2, ('MONDO:0015620', 'Disease'): 2, ('MONDO:0015660', 'Disease'): 2, ('MONDO:0015663', 'Disease'): 2, ('MONDO:0015691', 'Disease'): 2, ('MONDO:0015762', 'Disease'): 2, ('MONDO:0015775', 'Disease'): 2, ('MONDO:0015776', 'Disease'): 2, ('MONDO:0015778', 'Disease'): 2, ('MONDO:0015846', 'Disease'): 2, ('MONDO:0015892', 'Disease'): 2, ('MONDO:0015895', 'Disease'): 2, ('MONDO:0015905', 'Disease'): 2, ('MONDO:0015912', 'Disease'): 2, ('MONDO:0015943', 'Disease'): 2, ('MONDO:0015947', 'Disease'): 2, ('MONDO:0015987', 'Disease'): 2, ('MONDO:0016008', 'Disease'): 2, ('MONDO:0016010', 'Disease'): 2, ('MONDO:0016011', 'Disease'): 2, ('MONDO:0016017', 'Disease'): 2, ('MONDO:0016025', 'Disease'): 2, ('MONDO:0016030', 'Disease'): 2, ('MONDO:0016085', 'Disease'): 2, ('MONDO:0016120', 'Disease'): 2, ('MONDO:0016218', 'Disease'): 2, ('MONDO:0016244', 'Disease'): 2, ('MONDO:0016315', 'Disease'): 2, ('MONDO:0016316', 'Disease'): 2, ('MONDO:0016329', 'Disease'): 2, ('MONDO:0016394', 'Disease'): 2, ('MONDO:0016422', 'Disease'): 2, ('MONDO:0016423', 'Disease'): 2, ('MONDO:0016456', 'Disease'): 2, ('MONDO:0016463', 'Disease'): 2, ('MONDO:0016532', 'Disease'): 2, ('MONDO:0016565', 'Disease'): 2, ('MONDO:0016575', 'Disease'): 2, ('MONDO:0016620', 'Disease'): 2, ('MONDO:0016818', 'Disease'): 2, ('MONDO:0017118', 'Disease'): 2, ('MONDO:0017119', 'Disease'): 2, ('MONDO:0017171', 'Disease'): 2, ('MONDO:0017172', 'Disease'): 2, ('MONDO:0017195', 'Disease'): 2, ('MONDO:0017215', 'Disease'): 2, ('MONDO:0017262', 'Disease'): 2, ('MONDO:0017263', 'Disease'): 2, ('MONDO:0017278', 'Disease'): 2, ('MONDO:0017286', 'Disease'): 2, ('MONDO:0017288', 'Disease'): 2, ('MONDO:0017290', 'Disease'): 2, ('MONDO:0017364', 'Disease'): 2, ('MONDO:0017372', 'Disease'): 2, ('MONDO:0017409', 'Disease'): 2, ('MONDO:0017435', 'Disease'): 2, ('MONDO:0017610', 'Disease'): 2, ('MONDO:0017879', 'Disease'): 2, ('MONDO:0017991', 'Disease'): 2, ('MONDO:0018034', 'Disease'): 2, ('MONDO:0018066', 'Disease'): 2, ('MONDO:0018092', 'Disease'): 2, ('MONDO:0018135', 'Disease'): 2, ('MONDO:0018158', 'Disease'): 2, ('MONDO:0018229', 'Disease'): 2, ('MONDO:0018264', 'Disease'): 2, ('MONDO:0018609', 'Disease'): 2, ('MONDO:0018677', 'Disease'): 2, ('MONDO:0018690', 'Disease'): 2, ('MONDO:0018747', 'Disease'): 2, ('MONDO:0018772', 'Disease'): 2, ('MONDO:0018800', 'Disease'): 2, ('MONDO:0018804', 'Disease'): 2, ('MONDO:0018895', 'Disease'): 2, ('MONDO:0018901', 'Disease'): 2, ('MONDO:0018910', 'Disease'): 2, ('MONDO:0018912', 'Disease'): 2, ('MONDO:0018927', 'Disease'): 2, ('MONDO:0018937', 'Disease'): 2, ('MONDO:0018938', 'Disease'): 2, ('MONDO:0018940', 'Disease'): 2, ('MONDO:0018954', 'Disease'): 2, ('MONDO:0018983', 'Disease'): 2, ('MONDO:0019005', 'Disease'): 2, ('MONDO:0019037', 'Disease'): 2, ('MONDO:0019066', 'Disease'): 2, ('MONDO:0019103', 'Disease'): 2, ('MONDO:0019104', 'Disease'): 2, ('MONDO:0019234', 'Disease'): 2, ('MONDO:0019249', 'Disease'): 2, ('MONDO:0019276', 'Disease'): 2, ('MONDO:0019282', 'Disease'): 2, ('MONDO:0019285', 'Disease'): 2, ('MONDO:0019287', 'Disease'): 2, ('MONDO:0019302', 'Disease'): 2, ('MONDO:0019312', 'Disease'): 2, ('MONDO:0019339', 'Disease'): 2, ('MONDO:0019369', 'Disease'): 2, ('MONDO:0019390', 'Disease'): 2, ('MONDO:0019508', 'Disease'): 2, ('MONDO:0019520', 'Disease'): 2, ('MONDO:0019563', 'Disease'): 2, ('MONDO:0019589', 'Disease'): 2, ('MONDO:0019618', 'Disease'): 2, ('MONDO:0019676', 'Disease'): 2, ('MONDO:0019677', 'Disease'): 2, ('MONDO:0019678', 'Disease'): 2, ('MONDO:0019679', 'Disease'): 2, ('MONDO:0019701', 'Disease'): 2, ('MONDO:0019718', 'Disease'): 2, ('MONDO:0019735', 'Disease'): 2, ('MONDO:0019745', 'Disease'): 2, ('MONDO:0019746', 'Disease'): 2, ('MONDO:0019751', 'Disease'): 2, ('MONDO:0019790', 'Disease'): 2, ('MONDO:0019825', 'Disease'): 2, ('MONDO:0019828', 'Disease'): 2, ('MONDO:0019943', 'Disease'): 2, ('MONDO:0019944', 'Disease'): 2, ('MONDO:0020023', 'Disease'): 2, ('MONDO:0020066', 'Disease'): 2, ('MONDO:0020145', 'Disease'): 2, ('MONDO:0020157', 'Disease'): 2, ('MONDO:0020165', 'Disease'): 2, ('MONDO:0020208', 'Disease'): 2, ('MONDO:0020210', 'Disease'): 2, ('MONDO:0020211', 'Disease'): 2, ('MONDO:0020215', 'Disease'): 2, ('MONDO:0020225', 'Disease'): 2, ('MONDO:0020240', 'Disease'): 2, ('MONDO:0020275', 'Disease'): 2, ('MONDO:0020291', 'Disease'): 2, ('MONDO:0020404', 'Disease'): 2, ('MONDO:0020435', 'Disease'): 2, ('MONDO:0020491', 'Disease'): 2, ('MONDO:0020521', 'Disease'): 2, ('MONDO:0020522', 'Disease'): 2, ('MONDO:0020572', 'Disease'): 2, ('MONDO:0020607', 'Disease'): 2, ('MONDO:0020701', 'Disease'): 2, ('MONDO:0020854', 'Disease'): 2, ('MONDO:0021004', 'Disease'): 2, ('MONDO:0021020', 'Disease'): 2, ('MONDO:0021058', 'Disease'): 2, ('MONDO:0021073', 'Disease'): 2, ('MONDO:0021670', 'Disease'): 2, ('MONDO:0021752', 'Disease'): 2, ('MONDO:0021761', 'Disease'): 2, ('MONDO:0021829', 'Disease'): 2, ('MONDO:0021836', 'Disease'): 2, ('MONDO:0021849', 'Disease'): 2, ('MONDO:0021895', 'Disease'): 2, ('MONDO:0021905', 'Disease'): 2, ('MONDO:0021915', 'Disease'): 2, ('MONDO:0021918', 'Disease'): 2, ('MONDO:0021921', 'Disease'): 2, ('MONDO:0021962', 'Disease'): 2, ('MONDO:0021964', 'Disease'): 2, ('MONDO:0021966', 'Disease'): 2, ('MONDO:0021969', 'Disease'): 2, ('MONDO:0022011', 'Disease'): 2, ('MONDO:0022013', 'Disease'): 2, ('MONDO:0022018', 'Disease'): 2, ('MONDO:0022070', 'Disease'): 2, ('MONDO:0022071', 'Disease'): 2, ('MONDO:0022089', 'Disease'): 2, ('MONDO:0022140', 'Disease'): 2, ('MONDO:0022220', 'Disease'): 2, ('MONDO:0022308', 'Disease'): 2, ('MONDO:0022316', 'Disease'): 2, ('MONDO:0022337', 'Disease'): 2, ('MONDO:0022357', 'Disease'): 2, ('MONDO:0022380', 'Disease'): 2, ('MONDO:0022398', 'Disease'): 2, ('MONDO:0022401', 'Disease'): 2, ('MONDO:0022402', 'Disease'): 2, ('MONDO:0022403', 'Disease'): 2, ('MONDO:0022413', 'Disease'): 2, ('MONDO:0022414', 'Disease'): 2, ('MONDO:0022417', 'Disease'): 2, ('MONDO:0022425', 'Disease'): 2, ('MONDO:0022428', 'Disease'): 2, ('MONDO:0022435', 'Disease'): 2, ('MONDO:0022456', 'Disease'): 2, ('MONDO:0022457', 'Disease'): 2, ('MONDO:0022458', 'Disease'): 2, ('MONDO:0022461', 'Disease'): 2, ('MONDO:0022462', 'Disease'): 2, ('MONDO:0022465', 'Disease'): 2, ('MONDO:0022470', 'Disease'): 2, ('MONDO:0022471', 'Disease'): 2, ('MONDO:0022496', 'Disease'): 2, ('MONDO:0022500', 'Disease'): 2, ('MONDO:0022504', 'Disease'): 2, ('MONDO:0022509', 'Disease'): 2, ('MONDO:0022510', 'Disease'): 2, ('MONDO:0022513', 'Disease'): 2, ('MONDO:0022545', 'Disease'): 2, ('MONDO:0022546', 'Disease'): 2, ('MONDO:0022551', 'Disease'): 2, ('MONDO:0022553', 'Disease'): 2, ('MONDO:0022555', 'Disease'): 2, ('MONDO:0022556', 'Disease'): 2, ('MONDO:0022568', 'Disease'): 2, ('MONDO:0022575', 'Disease'): 2, ('MONDO:0022576', 'Disease'): 2, ('MONDO:0022577', 'Disease'): 2, ('MONDO:0022580', 'Disease'): 2, ('MONDO:0022587', 'Disease'): 2, ('MONDO:0022598', 'Disease'): 2, ('MONDO:0022599', 'Disease'): 2, ('MONDO:0022602', 'Disease'): 2, ('MONDO:0022603', 'Disease'): 2, ('MONDO:0022605', 'Disease'): 2, ('MONDO:0022608', 'Disease'): 2, ('MONDO:0022610', 'Disease'): 2, ('MONDO:0022612', 'Disease'): 2, ('MONDO:0022613', 'Disease'): 2, ('MONDO:0022615', 'Disease'): 2, ('MONDO:0022633', 'Disease'): 2, ('MONDO:0022634', 'Disease'): 2, ('MONDO:0022639', 'Disease'): 2, ('MONDO:0022644', 'Disease'): 2, ('MONDO:0022645', 'Disease'): 2, ('MONDO:0022646', 'Disease'): 2, ('MONDO:0022647', 'Disease'): 2, ('MONDO:0022648', 'Disease'): 2, ('MONDO:0022650', 'Disease'): 2, ('MONDO:0022654', 'Disease'): 2, ('MONDO:0022655', 'Disease'): 2, ('MONDO:0022656', 'Disease'): 2, ('MONDO:0022662', 'Disease'): 2, ('MONDO:0022666', 'Disease'): 2, ('MONDO:0022675', 'Disease'): 2, ('MONDO:0022682', 'Disease'): 2, ('MONDO:0022685', 'Disease'): 2, ('MONDO:0022691', 'Disease'): 2, ('MONDO:0022693', 'Disease'): 2, ('MONDO:0022694', 'Disease'): 2, ('MONDO:0022712', 'Disease'): 2, ('MONDO:0022723', 'Disease'): 2, ('MONDO:0022733', 'Disease'): 2, ('MONDO:0022734', 'Disease'): 2, ('MONDO:0022739', 'Disease'): 2, ('MONDO:0022740', 'Disease'): 2, ('MONDO:0022761', 'Disease'): 2, ('MONDO:0022765', 'Disease'): 2, ('MONDO:0022769', 'Disease'): 2, ('MONDO:0022770', 'Disease'): 2, ('MONDO:0022771', 'Disease'): 2, ('MONDO:0022775', 'Disease'): 2, ('MONDO:0022776', 'Disease'): 2, ('MONDO:0022777', 'Disease'): 2, ('MONDO:0022778', 'Disease'): 2, ('MONDO:0022779', 'Disease'): 2, ('MONDO:0022780', 'Disease'): 2, ('MONDO:0022781', 'Disease'): 2, ('MONDO:0022782', 'Disease'): 2, ('MONDO:0022785', 'Disease'): 2, ('MONDO:0022786', 'Disease'): 2, ('MONDO:0022787', 'Disease'): 2, ('MONDO:0022790', 'Disease'): 2, ('MONDO:0022791', 'Disease'): 2, ('MONDO:0022798', 'Disease'): 2, ('MONDO:0022800', 'Disease'): 2, ('MONDO:0022802', 'Disease'): 2, ('MONDO:0022803', 'Disease'): 2, ('MONDO:0022804', 'Disease'): 2, ('MONDO:0022805', 'Disease'): 2, ('MONDO:0022809', 'Disease'): 2, ('MONDO:0022810', 'Disease'): 2, ('MONDO:0022812', 'Disease'): 2, ('MONDO:0022815', 'Disease'): 2, ('MONDO:0022817', 'Disease'): 2, ('MONDO:0022818', 'Disease'): 2, ('MONDO:0022819', 'Disease'): 2, ('MONDO:0022820', 'Disease'): 2, ('MONDO:0022821', 'Disease'): 2, ('MONDO:0022822', 'Disease'): 2, ('MONDO:0022823', 'Disease'): 2, ('MONDO:0022824', 'Disease'): 2, ('MONDO:0022825', 'Disease'): 2, ('MONDO:0022831', 'Disease'): 2, ('MONDO:0022832', 'Disease'): 2, ('MONDO:0022843', 'Disease'): 2, ('MONDO:0022849', 'Disease'): 2, ('MONDO:0022851', 'Disease'): 2, ('MONDO:0022854', 'Disease'): 2, ('MONDO:0022855', 'Disease'): 2, ('MONDO:0022858', 'Disease'): 2, ('MONDO:0022862', 'Disease'): 2, ('MONDO:0022863', 'Disease'): 2, ('MONDO:0022865', 'Disease'): 2, ('MONDO:0022866', 'Disease'): 2, ('MONDO:0022869', 'Disease'): 2, ('MONDO:0022871', 'Disease'): 2, ('MONDO:0022872', 'Disease'): 2, ('MONDO:0022873', 'Disease'): 2, ('MONDO:0022874', 'Disease'): 2, ('MONDO:0022875', 'Disease'): 2, ('MONDO:0022876', 'Disease'): 2, ('MONDO:0022880', 'Disease'): 2, ('MONDO:0022883', 'Disease'): 2, ('MONDO:0022884', 'Disease'): 2, ('MONDO:0022887', 'Disease'): 2, ('MONDO:0022889', 'Disease'): 2, ('MONDO:0022899', 'Disease'): 2, ('MONDO:0022908', 'Disease'): 2, ('MONDO:0022909', 'Disease'): 2, ('MONDO:0022913', 'Disease'): 2, ('MONDO:0022916', 'Disease'): 2, ('MONDO:0022926', 'Disease'): 2, ('MONDO:0022936', 'Disease'): 2, ('MONDO:0022937', 'Disease'): 2, ('MONDO:0022938', 'Disease'): 2, ('MONDO:0022941', 'Disease'): 2, ('MONDO:0022942', 'Disease'): 2, ('MONDO:0022945', 'Disease'): 2, ('MONDO:0022946', 'Disease'): 2, ('MONDO:0022960', 'Disease'): 2, ('MONDO:0022968', 'Disease'): 2, ('MONDO:0022971', 'Disease'): 2, ('MONDO:0022975', 'Disease'): 2, ('MONDO:0022977', 'Disease'): 2, ('MONDO:0022978', 'Disease'): 2, ('MONDO:0022981', 'Disease'): 2, ('MONDO:0022982', 'Disease'): 2, ('MONDO:0022989', 'Disease'): 2, ('MONDO:0022990', 'Disease'): 2, ('MONDO:0022999', 'Disease'): 2, ('MONDO:0023000', 'Disease'): 2, ('MONDO:0023002', 'Disease'): 2, ('MONDO:0023005', 'Disease'): 2, ('MONDO:0023007', 'Disease'): 2, ('MONDO:0023013', 'Disease'): 2, ('MONDO:0023015', 'Disease'): 2, ('MONDO:0023016', 'Disease'): 2, ('MONDO:0023017', 'Disease'): 2, ('MONDO:0023018', 'Disease'): 2, ('MONDO:0023019', 'Disease'): 2, ('MONDO:0023020', 'Disease'): 2, ('MONDO:0023021', 'Disease'): 2, ('MONDO:0023022', 'Disease'): 2, ('MONDO:0023030', 'Disease'): 2, ('MONDO:0023031', 'Disease'): 2, ('MONDO:0023035', 'Disease'): 2, ('MONDO:0023038', 'Disease'): 2, ('MONDO:0023046', 'Disease'): 2, ('MONDO:0023048', 'Disease'): 2, ('MONDO:0023050', 'Disease'): 2, ('MONDO:0023052', 'Disease'): 2, ('MONDO:0023061', 'Disease'): 2, ('MONDO:0023062', 'Disease'): 2, ('MONDO:0023066', 'Disease'): 2, ('MONDO:0023068', 'Disease'): 2, ('MONDO:0023069', 'Disease'): 2, ('MONDO:0023079', 'Disease'): 2, ('MONDO:0023083', 'Disease'): 2, ('MONDO:0023084', 'Disease'): 2, ('MONDO:0023091', 'Disease'): 2, ('MONDO:0023098', 'Disease'): 2, ('MONDO:0023100', 'Disease'): 2, ('MONDO:0023101', 'Disease'): 2, ('MONDO:0023102', 'Disease'): 2, ('MONDO:0023111', 'Disease'): 2, ('MONDO:0023124', 'Disease'): 2, ('MONDO:0023133', 'Disease'): 2, ('MONDO:0023137', 'Disease'): 2, ('MONDO:0023138', 'Disease'): 2, ('MONDO:0023140', 'Disease'): 2, ('MONDO:0023142', 'Disease'): 2, ('MONDO:0023143', 'Disease'): 2, ('MONDO:0023147', 'Disease'): 2, ('MONDO:0023148', 'Disease'): 2, ('MONDO:0023154', 'Disease'): 2, ('MONDO:0023155', 'Disease'): 2, ('MONDO:0023157', 'Disease'): 2, ('MONDO:0023158', 'Disease'): 2, ('MONDO:0023167', 'Disease'): 2, ('MONDO:0023170', 'Disease'): 2, ('MONDO:0023171', 'Disease'): 2, ('MONDO:0023175', 'Disease'): 2, ('MONDO:0023186', 'Disease'): 2, ('MONDO:0023188', 'Disease'): 2, ('MONDO:0023193', 'Disease'): 2, ('MONDO:0023194', 'Disease'): 2, ('MONDO:0023196', 'Disease'): 2, ('MONDO:0023197', 'Disease'): 2, ('MONDO:0023199', 'Disease'): 2, ('MONDO:0023200', 'Disease'): 2, ('MONDO:0023201', 'Disease'): 2, ('MONDO:0023203', 'Disease'): 2, ('MONDO:0023204', 'Disease'): 2, ('MONDO:0023208', 'Disease'): 2, ('MONDO:0023212', 'Disease'): 2, ('MONDO:0023214', 'Disease'): 2, ('MONDO:0023221', 'Disease'): 2, ('MONDO:0023226', 'Disease'): 2, ('MONDO:0023230', 'Disease'): 2, ('MONDO:0023240', 'Disease'): 2, ('MONDO:0023255', 'Disease'): 2, ('MONDO:0023267', 'Disease'): 2, ('MONDO:0023272', 'Disease'): 2, ('MONDO:0023288', 'Disease'): 2, ('MONDO:0023290', 'Disease'): 2, ('MONDO:0023368', 'Disease'): 2, ('MONDO:0023510', 'Disease'): 2, ('MONDO:0023540', 'Disease'): 2, ('MONDO:0023541', 'Disease'): 2, ('MONDO:0023567', 'Disease'): 2, ('MONDO:0023569', 'Disease'): 2, ('MONDO:0023573', 'Disease'): 2, ('MONDO:0023575', 'Disease'): 2, ('MONDO:0023577', 'Disease'): 2, ('MONDO:0023579', 'Disease'): 2, ('MONDO:0023581', 'Disease'): 2, ('MONDO:0023605', 'Disease'): 2, ('MONDO:0023607', 'Disease'): 2, ('MONDO:0023609', 'Disease'): 2, ('MONDO:0023628', 'Disease'): 2, ('MONDO:0023696', 'Disease'): 2, ('MONDO:0023809', 'Disease'): 2, ('MONDO:0024171', 'Disease'): 2, ('MONDO:0024234', 'Disease'): 2, ('MONDO:0024263', 'Disease'): 2, ('MONDO:0024418', 'Disease'): 2, ('MONDO:0024421', 'Disease'): 2, ('MONDO:0024429', 'Disease'): 2, ('MONDO:0024525', 'Disease'): 2, ('MONDO:0024542', 'Disease'): 2, ('MONDO:0026782', 'Disease'): 2, ('MONDO:0029132', 'Disease'): 2, ('MONDO:0030056', 'Disease'): 2, ('MONDO:0030899', 'Disease'): 2, ('MONDO:0030903', 'Disease'): 2, ('MONDO:0030933', 'Disease'): 2, ('MONDO:0032570', 'Disease'): 2, ('MONDO:0032592', 'Disease'): 2, ('MONDO:0032637', 'Disease'): 2, ('MONDO:0032664', 'Disease'): 2, ('MONDO:0032668', 'Disease'): 2, ('MONDO:0032669', 'Disease'): 2, ('MONDO:0032670', 'Disease'): 2, ('MONDO:0032756', 'Disease'): 2, ('MONDO:0032757', 'Disease'): 2, ('MONDO:0032815', 'Disease'): 2, ('MONDO:0032872', 'Disease'): 2, ('MONDO:0032874', 'Disease'): 2, ('MONDO:0032902', 'Disease'): 2, ('MONDO:0032914', 'Disease'): 2, ('MONDO:0032915', 'Disease'): 2, ('MONDO:0032924', 'Disease'): 2, ('MONDO:0032932', 'Disease'): 2, ('MONDO:0033204', 'Disease'): 2, ('MONDO:0033308', 'Disease'): 2, ('MONDO:0033309', 'Disease'): 2, ('MONDO:0033310', 'Disease'): 2, ('MONDO:0033311', 'Disease'): 2, ('MONDO:0033545', 'Disease'): 2, ('MONDO:0034204', 'Disease'): 2, ('MONDO:0042600', 'Disease'): 2, ('MONDO:0042601', 'Disease'): 2, ('MONDO:0042602', 'Disease'): 2, ('MONDO:0042603', 'Disease'): 2, ('MONDO:0042604', 'Disease'): 2, ('MONDO:0042705', 'Disease'): 2, ('MONDO:0042717', 'Disease'): 2, ('MONDO:0042724', 'Disease'): 2, ('MONDO:0042726', 'Disease'): 2, ('MONDO:0042902', 'Disease'): 2, ('MONDO:0042908', 'Disease'): 2, ('MONDO:0042911', 'Disease'): 2, ('MONDO:0042912', 'Disease'): 2, ('MONDO:0042913', 'Disease'): 2, ('MONDO:0042915', 'Disease'): 2, ('MONDO:0042924', 'Disease'): 2, ('MONDO:0042956', 'Disease'): 2, ('MONDO:0042960', 'Disease'): 2, ('MONDO:0042962', 'Disease'): 2, ('MONDO:0043073', 'Disease'): 2, ('MONDO:0043077', 'Disease'): 2, ('MONDO:0043087', 'Disease'): 2, ('MONDO:0043108', 'Disease'): 2, ('MONDO:0043114', 'Disease'): 2, ('MONDO:0043129', 'Disease'): 2, ('MONDO:0043170', 'Disease'): 2, ('MONDO:0043172', 'Disease'): 2, ('MONDO:0043176', 'Disease'): 2, ('MONDO:0043179', 'Disease'): 2, ('MONDO:0043183', 'Disease'): 2, ('MONDO:0043185', 'Disease'): 2, ('MONDO:0043193', 'Disease'): 2, ('MONDO:0043195', 'Disease'): 2, ('MONDO:0043197', 'Disease'): 2, ('MONDO:0043199', 'Disease'): 2, ('MONDO:0043247', 'Disease'): 2, ('MONDO:0043287', 'Disease'): 2, ('MONDO:0043320', 'Disease'): 2, ('MONDO:0043358', 'Disease'): 2, ('MONDO:0043475', 'Disease'): 2, ('MONDO:0043683', 'Disease'): 2, ('MONDO:0043726', 'Disease'): 2, ('MONDO:0044033', 'Disease'): 2, ('MONDO:0044079', 'Disease'): 2, ('MONDO:0044204', 'Disease'): 2, ('MONDO:0044205', 'Disease'): 2, ('MONDO:0044299', 'Disease'): 2, ('MONDO:0044309', 'Disease'): 2, ('MONDO:0044310', 'Disease'): 2, ('MONDO:0044876', 'Disease'): 2, ('MONDO:0054549', 'Disease'): 2, ('MONDO:0054573', 'Disease'): 2, ('MONDO:0054591', 'Disease'): 2, ('MONDO:0054636', 'Disease'): 2, ('MONDO:0054835', 'Disease'): 2, ('MONDO:0054836', 'Disease'): 2, ('MONDO:0054843', 'Disease'): 2, ('MONDO:0060592', 'Disease'): 2, ('MONDO:0060631', 'Disease'): 2, ('MONDO:0060662', 'Disease'): 2, ('MONDO:0060707', 'Disease'): 2, ('MONDO:0060711', 'Disease'): 2, ('MONDO:0100071', 'Disease'): 2, ('MONDO:0100080', 'Disease'): 2, ('MONDO:0100094', 'Disease'): 2, ('MONDO:0100253', 'Disease'): 2, ('MONDO:0100316', 'Disease'): 2, ('MONDO:0100344', 'Disease'): 2, ('MONDO:0100347', 'Disease'): 2, ('MESH:D003638', 'Symptom'): 2, ('MESH:D010243', 'Symptom'): 2, ('DrugBank:DB00230', 'Compound'): 2, ('DrugBank:DB00381', 'Compound'): 2, ('DrugBank:DB00443', 'Compound'): 2, ('DrugBank:DB00495', 'Compound'): 2, ('DrugBank:DB00571', 'Compound'): 2, ('DrugBank:DB00620', 'Compound'): 2, ('DrugBank:DB00635', 'Compound'): 2, ('DrugBank:DB00709', 'Compound'): 2, ('DrugBank:DB00741', 'Compound'): 2, ('DrugBank:DB00860', 'Compound'): 2, ('DrugBank:DB00959', 'Compound'): 2, ('DrugBank:DB01039', 'Compound'): 2, ('DrugBank:DB01076', 'Compound'): 2, ('DrugBank:DB01222', 'Compound'): 2, ('DrugBank:DB01234', 'Compound'): 2, ('DrugBank:DB01260', 'Compound'): 2, ('DrugBank:DB01380', 'Compound'): 2, ('DrugBank:DB14539', 'Compound'): 2, ('MONDO:0001721', 'Disease'): 2, ('MONDO:0002081', 'Disease'): 2, ('MONDO:0003939', 'Disease'): 2, ('MONDO:0005290', 'Disease'): 2, ('MONDO:0005307', 'Disease'): 2, ('MONDO:0005667', 'Disease'): 2, ('MONDO:0006516', 'Disease'): 2, ('MONDO:0006648', 'Disease'): 2, ('MONDO:0006763', 'Disease'): 2, ('MONDO:0007028', 'Disease'): 2, ('MONDO:0023558', 'Disease'): 2, ('ENTREZ:23765', 'Gene'): 2, ('ENTREZ:30011', 'Gene'): 2, ('ENTREZ:3455', 'Gene'): 2, ('ENTREZ:3459', 'Gene'): 2, ('ENTREZ:3460', 'Gene'): 2, ('ENTREZ:3551', 'Gene'): 2, ('ENTREZ:3665', 'Gene'): 2, ('ENTREZ:537', 'Gene'): 2, ('ENTREZ:5728', 'Gene'): 2, ('ENTREZ:5971', 'Gene'): 2, ('ENTREZ:64919', 'Gene'): 2, ('ENTREZ:6772', 'Gene'): 2, ('ENTREZ:6773', 'Gene'): 2, ('ENTREZ:6868', 'Gene'): 2, ('ENTREZ:8517', 'Gene'): 2, ('ENTREZ:8737', 'Gene'): 2, ('ENTREZ:8915', 'Gene'): 2, ('ENTREZ:915', 'Gene'): 2, ('ENTREZ:916', 'Gene'): 2, ('ENTREZ:919', 'Gene'): 2, ('MONDO:0000425', 'Disease'): 2, ('MONDO:0002211', 'Disease'): 2, ('MONDO:0003778', 'Disease'): 2, ('MONDO:0003780', 'Disease'): 2, ('MONDO:0003832', 'Disease'): 2, ('MONDO:0003847', 'Disease'): 2, ('MONDO:0005046', 'Disease'): 2, ('MONDO:0010389', 'Disease'): 2, ('MONDO:0010627', 'Disease'): 2, ('MONDO:0010954', 'Disease'): 2, ('MONDO:0011096', 'Disease'): 2, ('MONDO:0011888', 'Disease'): 2, ('MONDO:0012383', 'Disease'): 2, ('MONDO:0012987', 'Disease'): 2, ('MONDO:0013287', 'Disease'): 2, ('MONDO:0013288', 'Disease'): 2, ('MONDO:0013289', 'Disease'): 2, ('MONDO:0013290', 'Disease'): 2, ('MONDO:0013599', 'Disease'): 2, ('MONDO:0013779', 'Disease'): 2, ('MONDO:0013956', 'Disease'): 2, ('MONDO:0014083', 'Disease'): 2, ('MONDO:0014840', 'Disease'): 2, ('MONDO:0015131', 'Disease'): 2, ('MONDO:0015279', 'Disease'): 2, ('MONDO:0015703', 'Disease'): 2, ('MONDO:0015977', 'Disease'): 2, ('MONDO:0015979', 'Disease'): 2, ('MONDO:0016462', 'Disease'): 2, ('MONDO:0017900', 'Disease'): 2, ('MONDO:0017901', 'Disease'): 2, ('MONDO:0017902', 'Disease'): 2, ('MONDO:0017905', 'Disease'): 2, ('MONDO:0018042', 'Disease'): 2, ('MONDO:0018338', 'Disease'): 2, ('MONDO:0019146', 'Disease'): 2, ('MONDO:0020530', 'Disease'): 2, ('MONDO:0020590', 'Disease'): 2, ('MONDO:0020729', 'Disease'): 2, ('MONDO:0026767', 'Disease'): 2, ('MONDO:0030971', 'Disease'): 2, ('MONDO:0032782', 'Disease'): 2, ('MONDO:0032848', 'Disease'): 2, ('MONDO:0033551', 'Disease'): 2, ('MONDO:0033554', 'Disease'): 2, ('MONDO:0033555', 'Disease'): 2, ('MONDO:0042982', 'Disease'): 2, ('MONDO:0054697', 'Disease'): 2, ('MONDO:0000022', 'Disease'): 2, ('MONDO:0000111', 'Disease'): 2, ('MONDO:0000115', 'Disease'): 2, ('MONDO:0000137', 'Disease'): 2, ('MONDO:0000166', 'Disease'): 2, ('MONDO:0000171', 'Disease'): 2, ('MONDO:0000172', 'Disease'): 2, ('MONDO:0000173', 'Disease'): 2, ('MONDO:0000200', 'Disease'): 2, ('MONDO:0000355', 'Disease'): 2, ('MONDO:0000389', 'Disease'): 2, ('MONDO:0000448', 'Disease'): 2, ('MONDO:0000509', 'Disease'): 2, ('MONDO:0000694', 'Disease'): 2, ('MONDO:0000723', 'Disease'): 2, ('MONDO:0000724', 'Disease'): 2, ('MONDO:0000904', 'Disease'): 2, ('MONDO:0001098', 'Disease'): 2, ('MONDO:0001158', 'Disease'): 2, ('MONDO:0001296', 'Disease'): 2, ('MONDO:0001734', 'Disease'): 2, ('MONDO:0001942', 'Disease'): 2, ('MONDO:0002009', 'Disease'): 2, ('MONDO:0002016', 'Disease'): 2, ('MONDO:0002050', 'Disease'): 2, ('MONDO:0003265', 'Disease'): 2, ('MONDO:0003303', 'Disease'): 2, ('MONDO:0004587', 'Disease'): 2, ('MONDO:0004588', 'Disease'): 2, ('MONDO:0005071', 'Disease'): 2, ('MONDO:0005090', 'Disease'): 2, ('MONDO:0005259', 'Disease'): 2, ('MONDO:0005371', 'Disease'): 2, ('MONDO:0005383', 'Disease'): 2, ('MONDO:0005391', 'Disease'): 2, ('MONDO:0005451', 'Disease'): 2, ('MONDO:0005469', 'Disease'): 2, ('MONDO:0005562', 'Disease'): 2, ('MONDO:0005579', 'Disease'): 2, ('MONDO:0005618', 'Disease'): 2, ('MONDO:0005712', 'Disease'): 2, ('MONDO:0006037', 'Disease'): 2, ('MONDO:0006823', 'Disease'): 2, ('MONDO:0007039', 'Disease'): 2, ('MONDO:0007045', 'Disease'): 2, ('MONDO:0007085', 'Disease'): 2, ('MONDO:0007113', 'Disease'): 2, ('MONDO:0007167', 'Disease'): 2, ('MONDO:0007168', 'Disease'): 2, ('MONDO:0007187', 'Disease'): 2, ('MONDO:0007188', 'Disease'): 2, ('MONDO:0007200', 'Disease'): 2, ('MONDO:0007245', 'Disease'): 2, ('MONDO:0007265', 'Disease'): 2, ('MONDO:0007273', 'Disease'): 2, ('MONDO:0007316', 'Disease'): 2, ('MONDO:0007344', 'Disease'): 2, ('MONDO:0007354', 'Disease'): 2, ('MONDO:0007365', 'Disease'): 2, ('MONDO:0007366', 'Disease'): 2, ('MONDO:0007387', 'Disease'): 2, ('MONDO:0007440', 'Disease'): 2, ('MONDO:0007450', 'Disease'): 2, ('MONDO:0007487', 'Disease'): 2, ('MONDO:0007614', 'Disease'): 2, ('MONDO:0007617', 'Disease'): 2, ('MONDO:0007626', 'Disease'): 2, ('MONDO:0007679', 'Disease'): 2, ('MONDO:0007716', 'Disease'): 2, ('MONDO:0007753', 'Disease'): 2, ('MONDO:0007837', 'Disease'): 2, ('MONDO:0007839', 'Disease'): 2, ('MONDO:0007843', 'Disease'): 2, ('MONDO:0007903', 'Disease'): 2, ('MONDO:0007967', 'Disease'): 2, ('MONDO:0007972', 'Disease'): 2, ('MONDO:0007974', 'Disease'): 2, ('MONDO:0008029', 'Disease'): 2, ('MONDO:0008038', 'Disease'): 2, ('MONDO:0008055', 'Disease'): 2, ('MONDO:0008056', 'Disease'): 2, ('MONDO:0008062', 'Disease'): 2, ('MONDO:0008075', 'Disease'): 2, ('MONDO:0008097', 'Disease'): 2, ('MONDO:0008106', 'Disease'): 2, ('MONDO:0008114', 'Disease'): 2, ('MONDO:0008137', 'Disease'): 2, ('MONDO:0008179', 'Disease'): 2, ('MONDO:0008187', 'Disease'): 2, ('MONDO:0008192', 'Disease'): 2, ('MONDO:0008197', 'Disease'): 2, ('MONDO:0008222', 'Disease'): 2, ('MONDO:0008267', 'Disease'): 2, ('MONDO:0008318', 'Disease'): 2, ('MONDO:0008337', 'Disease'): 2, ('MONDO:0008375', 'Disease'): 2, ('MONDO:0008414', 'Disease'): 2, ('MONDO:0008426', 'Disease'): 2, ('MONDO:0008434', 'Disease'): 2, ('MONDO:0008467', 'Disease'): 2, ('MONDO:0008525', 'Disease'): 2, ('MONDO:0008612', 'Disease'): 2, ('MONDO:0008654', 'Disease'): 2, ('MONDO:0008656', 'Disease'): 2, ('MONDO:0008684', 'Disease'): 2, ('MONDO:0008708', 'Disease'): 2, ('MONDO:0008714', 'Disease'): 2, ('MONDO:0008754', 'Disease'): 2, ('MONDO:0008756', 'Disease'): 2, ('MONDO:0008795', 'Disease'): 2, ('MONDO:0008796', 'Disease'): 2, ('MONDO:0008816', 'Disease'): 2, ('MONDO:0008885', 'Disease'): 2, ('MONDO:0008893', 'Disease'): 2, ('MONDO:0008894', 'Disease'): 2, ('MONDO:0008898', 'Disease'): 2, ('MONDO:0008899', 'Disease'): 2, ('MONDO:0008929', 'Disease'): 2, ('MONDO:0008940', 'Disease'): 2, ('MONDO:0008941', 'Disease'): 2, ('MONDO:0008952', 'Disease'): 2, ('MONDO:0009003', 'Disease'): 2, ('MONDO:0009012', 'Disease'): 2, ('MONDO:0009022', 'Disease'): 2, ('MONDO:0009033', 'Disease'): 2, ('MONDO:0009036', 'Disease'): 2, ('MONDO:0009041', 'Disease'): 2, ('MONDO:0009063', 'Disease'): 2, ('MONDO:0009072', 'Disease'): 2, ('MONDO:0009073', 'Disease'): 2, ('MONDO:0009075', 'Disease'): 2, ('MONDO:0009124', 'Disease'): 2, ('MONDO:0009166', 'Disease'): 2, ('MONDO:0009168', 'Disease'): 2, ('MONDO:0009263', 'Disease'): 2, ('MONDO:0009316', 'Disease'): 2, ('MONDO:0009359', 'Disease'): 2, ('MONDO:0009365', 'Disease'): 2, ('MONDO:0009378', 'Disease'): 2, ('MONDO:0009404', 'Disease'): 2, ('MONDO:0009405', 'Disease'): 2, ('MONDO:0009426', 'Disease'): 2, ('MONDO:0009444', 'Disease'): 2, ('MONDO:0009452', 'Disease'): 2, ('MONDO:0009477', 'Disease'): 2, ('MONDO:0009495', 'Disease'): 2, ('MONDO:0009554', 'Disease'): 2, ('MONDO:0009564', 'Disease'): 2, ('MONDO:0009620', 'Disease'): 2, ('MONDO:0009625', 'Disease'): 2, ('MONDO:0009626', 'Disease'): 2, ('MONDO:0009627', 'Disease'): 2, ('MONDO:0009642', 'Disease'): 2, ('MONDO:0009648', 'Disease'): 2, ('MONDO:0009675', 'Disease'): 2, ('MONDO:0009676', 'Disease'): 2, ('MONDO:0009677', 'Disease'): 2, ('MONDO:0009679', 'Disease'): 2, ('MONDO:0009681', 'Disease'): 2, ('MONDO:0009683', 'Disease'): 2, ('MONDO:0009696', 'Disease'): 2, ('MONDO:0009710', 'Disease'): 2, ('MONDO:0009715', 'Disease'): 2, ('MONDO:0009727', 'Disease'): 2, ('MONDO:0009762', 'Disease'): 2, ('MONDO:0009770', 'Disease'): 2, ('MONDO:0009777', 'Disease'): 2, ('MONDO:0009793', 'Disease'): 2, ('MONDO:0009794', 'Disease'): 2, ('MONDO:0009795', 'Disease'): 2, ('MONDO:0009875', 'Disease'): 2, ('MONDO:0009910', 'Disease'): 2, ('MONDO:0009927', 'Disease'): 2, ('MONDO:0009952', 'Disease'): 2, ('MONDO:0009974', 'Disease'): 2, ('MONDO:0010021', 'Disease'): 2, ('MONDO:0010069', 'Disease'): 2, ('MONDO:0010092', 'Disease'): 2, ('MONDO:0010159', 'Disease'): 2, ('MONDO:0010176', 'Disease'): 2, ('MONDO:0010190', 'Disease'): 2, ('MONDO:0010270', 'Disease'): 2, ('MONDO:0010277', 'Disease'): 2, ('MONDO:0010283', 'Disease'): 2, ('MONDO:0010285', 'Disease'): 2, ('MONDO:0010286', 'Disease'): 2, ('MONDO:0010302', 'Disease'): 2, ('MONDO:0010306', 'Disease'): 2, ('MONDO:0010319', 'Disease'): 2, ('MONDO:0010336', 'Disease'): 2, ('MONDO:0010348', 'Disease'): 2, ('MONDO:0010355', 'Disease'): 2, ('MONDO:0010370', 'Disease'): 2, ('MONDO:0010398', 'Disease'): 2, ('MONDO:0010402', 'Disease'): 2, ('MONDO:0010407', 'Disease'): 2, ('MONDO:0010409', 'Disease'): 2, ('MONDO:0010417', 'Disease'): 2, ('MONDO:0010427', 'Disease'): 2, ('MONDO:0010428', 'Disease'): 2, ('MONDO:0010460', 'Disease'): 2, ('MONDO:0010461', 'Disease'): 2, ('MONDO:0010465', 'Disease'): 2, ('MONDO:0010466', 'Disease'): 2, ('MONDO:0010471', 'Disease'): 2, ('MONDO:0010483', 'Disease'): 2, ('MONDO:0010498', 'Disease'): 2, ('MONDO:0010499', 'Disease'): 2, ('MONDO:0010500', 'Disease'): 2, ('MONDO:0010501', 'Disease'): 2, ('MONDO:0010531', 'Disease'): 2, ('MONDO:0010535', 'Disease'): 2, ('MONDO:0010574', 'Disease'): 2, ('MONDO:0010621', 'Disease'): 2, ('MONDO:0010633', 'Disease'): 2, ('MONDO:0010648', 'Disease'): 2, ('MONDO:0010658', 'Disease'): 2, ('MONDO:0010661', 'Disease'): 2, ('MONDO:0010664', 'Disease'): 2, ('MONDO:0010682', 'Disease'): 2, ('MONDO:0010702', 'Disease'): 2, ('MONDO:0010729', 'Disease'): 2, ('MONDO:0010826', 'Disease'): 2, ('MONDO:0010831', 'Disease'): 2, ('MONDO:0010843', 'Disease'): 2, ('MONDO:0010851', 'Disease'): 2, ('MONDO:0010865', 'Disease'): 2, ('MONDO:0010886', 'Disease'): 2, ('MONDO:0010897', 'Disease'): 2, ('MONDO:0010910', 'Disease'): 2, ('MONDO:0010941', 'Disease'): 2, ('MONDO:0010943', 'Disease'): 2, ('MONDO:0011011', 'Disease'): 2, ('MONDO:0011028', 'Disease'): 2, ('MONDO:0011045', 'Disease'): 2, ('MONDO:0011049', 'Disease'): 2, ('MONDO:0011059', 'Disease'): 2, ('MONDO:0011070', 'Disease'): 2, ('MONDO:0011121', 'Disease'): 2, ('MONDO:0011140', 'Disease'): 2, ('MONDO:0011146', 'Disease'): 2, ('MONDO:0011170', 'Disease'): 2, ('MONDO:0011181', 'Disease'): 2, ('MONDO:0011184', 'Disease'): 2, ('MONDO:0011213', 'Disease'): 2, ('MONDO:0011246', 'Disease'): 2, ('MONDO:0011266', 'Disease'): 2, ('MONDO:0011280', 'Disease'): 2, ('MONDO:0011294', 'Disease'): 2, ('MONDO:0011295', 'Disease'): 2, ('MONDO:0011298', 'Disease'): 2, ('MONDO:0011307', 'Disease'): 2, ('MONDO:0011336', 'Disease'): 2, ('MONDO:0011337', 'Disease'): 2, ('MONDO:0011391', 'Disease'): 2, ('MONDO:0011416', 'Disease'): 2, ('MONDO:0011418', 'Disease'): 2, ('MONDO:0011423', 'Disease'): 2, ('MONDO:0011442', 'Disease'): 2, ('MONDO:0011461', 'Disease'): 2, ('MONDO:0011479', 'Disease'): 2, ('MONDO:0011498', 'Disease'): 2, ('MONDO:0011537', 'Disease'): 2, ('MONDO:0011544', 'Disease'): 2, ('MONDO:0011552', 'Disease'): 2, ('MONDO:0011593', 'Disease'): 2, ('MONDO:0011640', 'Disease'): 2, ('MONDO:0011662', 'Disease'): 2, ('MONDO:0011688', 'Disease'): 2, ('MONDO:0011689', 'Disease'): 2, ('MONDO:0011710', 'Disease'): 2, ('MONDO:0011711', 'Disease'): 2, ('MONDO:0011722', 'Disease'): 2, ('MONDO:0011747', 'Disease'): 2, ('MONDO:0011780', 'Disease'): 2, ('MONDO:0011782', 'Disease'): 2, ('MONDO:0011787', 'Disease'): 2, ('MONDO:0011789', 'Disease'): 2, ('MONDO:0011810', 'Disease'): 2, ('MONDO:0011866', 'Disease'): 2, ('MONDO:0011876', 'Disease'): 2, ('MONDO:0011904', 'Disease'): 2, ('MONDO:0011918', 'Disease'): 2, ('MONDO:0011924', 'Disease'): 2, ('MONDO:0011929', 'Disease'): 2, ('MONDO:0011948', 'Disease'): 2, ('MONDO:0011960', 'Disease'): 2, ('MONDO:0011968', 'Disease'): 2, ('MONDO:0011975', 'Disease'): 2, ('MONDO:0011990', 'Disease'): 2, ('MONDO:0011995', 'Disease'): 2, ('MONDO:0012000', 'Disease'): 2, ('MONDO:0012015', 'Disease'): 2, ('MONDO:0012034', 'Disease'): 2, ('MONDO:0012048', 'Disease'): 2, ('MONDO:0012049', 'Disease'): 2, ('MONDO:0012050', 'Disease'): 2, ('MONDO:0012054', 'Disease'): 2, ('MONDO:0012095', 'Disease'): 2, ('MONDO:0012100', 'Disease'): 2, ('MONDO:0012127', 'Disease'): 2, ('MONDO:0012138', 'Disease'): 2, ('MONDO:0012143', 'Disease'): 2, ('MONDO:0012146', 'Disease'): 2, ('MONDO:0012149', 'Disease'): 2, ('MONDO:0012150', 'Disease'): 2, ('MONDO:0012151', 'Disease'): 2, ('MONDO:0012152', 'Disease'): 2, ('MONDO:0012168', 'Disease'): 2, ('MONDO:0012179', 'Disease'): 2, ('MONDO:0012192', 'Disease'): 2, ('MONDO:0012193', 'Disease'): 2, ('MONDO:0012233', 'Disease'): 2, ('MONDO:0012248', 'Disease'): 2, ('MONDO:0012252', 'Disease'): 2, ('MONDO:0012262', 'Disease'): 2, ('MONDO:0012290', 'Disease'): 2, ('MONDO:0012302', 'Disease'): 2, ('MONDO:0012309', 'Disease'): 2, ('MONDO:0012319', 'Disease'): 2, ('MONDO:0012346', 'Disease'): 2, ('MONDO:0012384', 'Disease'): 2, ('MONDO:0012399', 'Disease'): 2, ('MONDO:0012438', 'Disease'): 2, ('MONDO:0012454', 'Disease'): 2, ('MONDO:0012455', 'Disease'): 2, ('MONDO:0012484', 'Disease'): 2, ('MONDO:0012508', 'Disease'): 2, ('MONDO:0012521', 'Disease'): 2, ('MONDO:0012555', 'Disease'): 2, ('MONDO:0012574', 'Disease'): 2, ('MONDO:0012642', 'Disease'): 2, ('MONDO:0012652', 'Disease'): 2, ('MONDO:0012683', 'Disease'): 2, ('MONDO:0012685', 'Disease'): 2, ('MONDO:0012686', 'Disease'): 2, ('MONDO:0012699', 'Disease'): 2, ('MONDO:0012721', 'Disease'): 2, ('MONDO:0012735', 'Disease'): 2, ('MONDO:0012759', 'Disease'): 2, ('MONDO:0012774', 'Disease'): 2, ('MONDO:0012794', 'Disease'): 2, ('MONDO:0012846', 'Disease'): 2, ('MONDO:0012862', 'Disease'): 2, ('MONDO:0012863', 'Disease'): 2, ('MONDO:0012864', 'Disease'): 2, ('MONDO:0012869', 'Disease'): 2, ('MONDO:0012877', 'Disease'): 2, ('MONDO:0012879', 'Disease'): 2, ('MONDO:0012881', 'Disease'): 2, ('MONDO:0012882', 'Disease'): 2, ('MONDO:0012890', 'Disease'): 2, ('MONDO:0012891', 'Disease'): 2, ('MONDO:0012904', 'Disease'): 2, ('MONDO:0012910', 'Disease'): 2, ('MONDO:0012917', 'Disease'): 2, ('MONDO:0012946', 'Disease'): 2, ('MONDO:0012947', 'Disease'): 2, ('MONDO:0012948', 'Disease'): 2, ('MONDO:0012960', 'Disease'): 2, ('MONDO:0012965', 'Disease'): 2, ('MONDO:0013035', 'Disease'): 2, ('MONDO:0013058', 'Disease'): 2, ('MONDO:0013068', 'Disease'): 2, ('MONDO:0013076', 'Disease'): 2, ('MONDO:0013089', 'Disease'): 2, ('MONDO:0013090', 'Disease'): 2, ('MONDO:0013098', 'Disease'): 2, ('MONDO:0013099', 'Disease'): 2, ('MONDO:0013135', 'Disease'): 2, ('MONDO:0013161', 'Disease'): 2, ('MONDO:0013162', 'Disease'): 2, ('MONDO:0013169', 'Disease'): 2, ('MONDO:0013182', 'Disease'): 2, ('MONDO:0013189', 'Disease'): 2, ('MONDO:0013199', 'Disease'): 2, ('MONDO:0013208', 'Disease'): 2, ('MONDO:0013224', 'Disease'): 2, ('MONDO:0013245', 'Disease'): 2, ('MONDO:0013256', 'Disease'): 2, ('MONDO:0013266', 'Disease'): 2, ('MONDO:0013297', 'Disease'): 2, ('MONDO:0013298', 'Disease'): 2, ('MONDO:0013336', 'Disease'): 2, ('MONDO:0013390', 'Disease'): 2, ('MONDO:0013394', 'Disease'): 2, ('MONDO:0013424', 'Disease'): 2, ('MONDO:0013438', 'Disease'): 2, ('MONDO:0013440', 'Disease'): 2, ('MONDO:0013448', 'Disease'): 2, ('MONDO:0013465', 'Disease'): 2, ('MONDO:0013470', 'Disease'): 2, ('MONDO:0013490', 'Disease'): 2, ('MONDO:0013498', 'Disease'): 2, ('MONDO:0013506', 'Disease'): 2, ('MONDO:0013509', 'Disease'): 2, ('MONDO:0013526', 'Disease'): 2, ('MONDO:0013541', 'Disease'): 2, ('MONDO:0013563', 'Disease'): 2, ('MONDO:0013581', 'Disease'): 2, ('MONDO:0013585', 'Disease'): 2, ('MONDO:0013602', 'Disease'): 2, ('MONDO:0013646', 'Disease'): 2, ('MONDO:0013652', 'Disease'): 2, ('MONDO:0013655', 'Disease'): 2, ('MONDO:0013656', 'Disease'): 2, ('MONDO:0013657', 'Disease'): 2, ('MONDO:0013658', 'Disease'): 2, ('MONDO:0013668', 'Disease'): 2, ('MONDO:0013696', 'Disease'): 2, ('MONDO:0013805', 'Disease'): 2, ('MONDO:0013819', 'Disease'): 2, ('MONDO:0013820', 'Disease'): 2, ('MONDO:0013821', 'Disease'): 2, ('MONDO:0013847', 'Disease'): 2, ('MONDO:0013853', 'Disease'): 2, ('MONDO:0013864', 'Disease'): 2, ('MONDO:0013903', 'Disease'): 2, ('MONDO:0013990', 'Disease'): 2, ('MONDO:0013993', 'Disease'): 2, ('MONDO:0014088', 'Disease'): 2, ('MONDO:0014092', 'Disease'): 2, ('MONDO:0014109', 'Disease'): 2, ('MONDO:0014112', 'Disease'): 2, ('MONDO:0014113', 'Disease'): 2, ('MONDO:0014114', 'Disease'): 2, ('MONDO:0014116', 'Disease'): 2, ('MONDO:0014129', 'Disease'): 2, ('MONDO:0014131', 'Disease'): 2, ('MONDO:0014142', 'Disease'): 2, ('MONDO:0014144', 'Disease'): 2, ('MONDO:0014165', 'Disease'): 2, ('MONDO:0014170', 'Disease'): 2, ('MONDO:0014171', 'Disease'): 2, ('MONDO:0014184', 'Disease'): 2, ('MONDO:0014240', 'Disease'): 2, ('MONDO:0014242', 'Disease'): 2, ('MONDO:0014250', 'Disease'): 2, ('MONDO:0014298', 'Disease'): 2, ('MONDO:0014337', 'Disease'): 2, ('MONDO:0014341', 'Disease'): 2, ('MONDO:0014349', 'Disease'): 2, ('MONDO:0014351', 'Disease'): 2, ('MONDO:0014357', 'Disease'): 2, ('MONDO:0014370', 'Disease'): 2, ('MONDO:0014376', 'Disease'): 2, ('MONDO:0014413', 'Disease'): 2, ('MONDO:0014474', 'Disease'): 2, ('MONDO:0014482', 'Disease'): 2, ('MONDO:0014485', 'Disease'): 2, ('MONDO:0014486', 'Disease'): 2, ('MONDO:0014507', 'Disease'): 2, ('MONDO:0014517', 'Disease'): 2, ('MONDO:0014521', 'Disease'): 2, ('MONDO:0014529', 'Disease'): 2, ('MONDO:0014538', 'Disease'): 2, ('MONDO:0014541', 'Disease'): 2, ('MONDO:0014545', 'Disease'): 2, ('MONDO:0014580', 'Disease'): 2, ('MONDO:0014599', 'Disease'): 2, ('MONDO:0014609', 'Disease'): 2, ('MONDO:0014617', 'Disease'): 2, ('MONDO:0014624', 'Disease'): 2, ('MONDO:0014643', 'Disease'): 2, ('MONDO:0014646', 'Disease'): 2, ('MONDO:0014654', 'Disease'): 2, ('MONDO:0014677', 'Disease'): 2, ('MONDO:0014678', 'Disease'): 2, ('MONDO:0014685', 'Disease'): 2, ('MONDO:0014699', 'Disease'): 2, ('MONDO:0014708', 'Disease'): 2, ('MONDO:0014757', 'Disease'): 2, ('MONDO:0014782', 'Disease'): 2, ('MONDO:0014787', 'Disease'): 2, ('MONDO:0014788', 'Disease'): 2, ('MONDO:0014805', 'Disease'): 2, ('MONDO:0014814', 'Disease'): 2, ('MONDO:0014824', 'Disease'): 2, ('MONDO:0014838', 'Disease'): 2, ('MONDO:0014842', 'Disease'): 2, ('MONDO:0014855', 'Disease'): 2, ('MONDO:0014858', 'Disease'): 2, ('MONDO:0014874', 'Disease'): 2, ('MONDO:0014881', 'Disease'): 2, ('MONDO:0014900', 'Disease'): 2, ('MONDO:0014903', 'Disease'): 2, ('MONDO:0014918', 'Disease'): 2, ('MONDO:0014932', 'Disease'): 2, ('MONDO:0014936', 'Disease'): 2, ('MONDO:0014944', 'Disease'): 2, ('MONDO:0014966', 'Disease'): 2, ('MONDO:0014977', 'Disease'): 2, ('MONDO:0015012', 'Disease'): 2, ('MONDO:0015028', 'Disease'): 2, ('MONDO:0015151', 'Disease'): 2, ('MONDO:0015152', 'Disease'): 2, ('MONDO:0015198', 'Disease'): 2, ('MONDO:0015199', 'Disease'): 2, ('MONDO:0015280', 'Disease'): 2, ('MONDO:0015324', 'Disease'): 2, ('MONDO:0015350', 'Disease'): 2, ('MONDO:0015375', 'Disease'): 2, ('MONDO:0015421', 'Disease'): 2, ('MONDO:0015422', 'Disease'): 2, ('MONDO:0015431', 'Disease'): 2, ('MONDO:0015436', 'Disease'): 2, ('MONDO:0015452', 'Disease'): 2, ('MONDO:0015458', 'Disease'): 2, ('MONDO:0015541', 'Disease'): 2, ('MONDO:0015542', 'Disease'): 2, ('MONDO:0015547', 'Disease'): 2, ('MONDO:0015601', 'Disease'): 2, ('MONDO:0015609', 'Disease'): 2, ('MONDO:0015637', 'Disease'): 2, ('MONDO:0015642', 'Disease'): 2, ('MONDO:0015656', 'Disease'): 2, ('MONDO:0015723', 'Disease'): 2, ('MONDO:0015745', 'Disease'): 2, ('MONDO:0015751', 'Disease'): 2, ('MONDO:0015752', 'Disease'): 2, ('MONDO:0015802', 'Disease'): 2, ('MONDO:0015914', 'Disease'): 2, ('MONDO:0015953', 'Disease'): 2, ('MONDO:0016022', 'Disease'): 2, ('MONDO:0016027', 'Disease'): 2, ('MONDO:0016033', 'Disease'): 2, ('MONDO:0016056', 'Disease'): 2, ('MONDO:0016107', 'Disease'): 2, ('MONDO:0016108', 'Disease'): 2, ('MONDO:0016109', 'Disease'): 2, ('MONDO:0016139', 'Disease'): 2, ('MONDO:0016210', 'Disease'): 2, ('MONDO:0016215', 'Disease'): 2, ('MONDO:0016256', 'Disease'): 2, ('MONDO:0016290', 'Disease'): 2, ('MONDO:0016334', 'Disease'): 2, ('MONDO:0016349', 'Disease'): 2, ('MONDO:0016396', 'Disease'): 2, ('MONDO:0016397', 'Disease'): 2, ('MONDO:0016401', 'Disease'): 2, ('MONDO:0016405', 'Disease'): 2, ('MONDO:0016459', 'Disease'): 2, ('MONDO:0016512', 'Disease'): 2, ('MONDO:0016589', 'Disease'): 2, ('MONDO:0016596', 'Disease'): 2, ('MONDO:0016759', 'Disease'): 2, ('MONDO:0016971', 'Disease'): 2, ('MONDO:0016981', 'Disease'): 2, ('MONDO:0016995', 'Disease'): 2, ('MONDO:0017089', 'Disease'): 2, ('MONDO:0017090', 'Disease'): 2, ('MONDO:0017283', 'Disease'): 2, ('MONDO:0017284', 'Disease'): 2, ('MONDO:0017317', 'Disease'): 2, ('MONDO:0017398', 'Disease'): 2, ('MONDO:0017404', 'Disease'): 2, ('MONDO:0017405', 'Disease'): 2, ('MONDO:0017580', 'Disease'): 2, ('MONDO:0017615', 'Disease'): 2, ('MONDO:0017616', 'Disease'): 2, ('MONDO:0017663', 'Disease'): 2, ('MONDO:0017780', 'Disease'): 2, ('MONDO:0017786', 'Disease'): 2, ('MONDO:0017792', 'Disease'): 2, ('MONDO:0017805', 'Disease'): 2, ('MONDO:0017806', 'Disease'): 2, ('MONDO:0017811', 'Disease'): 2, ('MONDO:0017813', 'Disease'): 2, ('MONDO:0017824', 'Disease'): 2, ('MONDO:0017867', 'Disease'): 2, ('MONDO:0017868', 'Disease'): 2, ('MONDO:0017892', 'Disease'): 2, ('MONDO:0017928', 'Disease'): 2, ('MONDO:0017987', 'Disease'): 2, ('MONDO:0017995', 'Disease'): 2, ('MONDO:0018027', 'Disease'): 2, ('MONDO:0018028', 'Disease'): 2, ('MONDO:0018030', 'Disease'): 2, ('MONDO:0018045', 'Disease'): 2, ('MONDO:0018091', 'Disease'): 2, ('MONDO:0018123', 'Disease'): 2, ('MONDO:0018126', 'Disease'): 2, ('MONDO:0018160', 'Disease'): 2, ('MONDO:0018204', 'Disease'): 2, ('MONDO:0018205', 'Disease'): 2, ('MONDO:0018207', 'Disease'): 2, ('MONDO:0018214', 'Disease'): 2, ('MONDO:0018248', 'Disease'): 2, ('MONDO:0018257', 'Disease'): 2, ('MONDO:0018276', 'Disease'): 2, ('MONDO:0018341', 'Disease'): 2, ('MONDO:0018428', 'Disease'): 2, ('MONDO:0018429', 'Disease'): 2, ('MONDO:0018474', 'Disease'): 2, ('MONDO:0018493', 'Disease'): 2, ('MONDO:0018564', 'Disease'): 2, ('MONDO:0018632', 'Disease'): 2, ('MONDO:0018633', 'Disease'): 2, ('MONDO:0018655', 'Disease'): 2, ('MONDO:0018681', 'Disease'): 2, ('MONDO:0018710', 'Disease'): 2, ('MONDO:0018725', 'Disease'): 2, ('MONDO:0018763', 'Disease'): 2, ('MONDO:0018810', 'Disease'): 2, ('MONDO:0018828', 'Disease'): 2, ('MONDO:0018838', 'Disease'): 2, ('MONDO:0018852', 'Disease'): 2, ('MONDO:0018875', 'Disease'): 2, ('MONDO:0018953', 'Disease'): 2, ('MONDO:0018975', 'Disease'): 2, ('MONDO:0018981', 'Disease'): 2, ('MONDO:0019002', 'Disease'): 2, ('MONDO:0019053', 'Disease'): 2, ('MONDO:0019058', 'Disease'): 2, ('MONDO:0019078', 'Disease'): 2, ('MONDO:0019181', 'Disease'): 2, ('MONDO:0019207', 'Disease'): 2, ('MONDO:0019213', 'Disease'): 2, ('MONDO:0019253', 'Disease'): 2, ('MONDO:0019341', 'Disease'): 2, ('MONDO:0019388', 'Disease'): 2, ('MONDO:0019420', 'Disease'): 2, ('MONDO:0019421', 'Disease'): 2, ('MONDO:0019422', 'Disease'): 2, ('MONDO:0019423', 'Disease'): 2, ('MONDO:0019497', 'Disease'): 2, ('MONDO:0019502', 'Disease'): 2, ('MONDO:0019525', 'Disease'): 2, ('MONDO:0019766', 'Disease'): 2, ('MONDO:0019769', 'Disease'): 2, ('MONDO:0019784', 'Disease'): 2, ('MONDO:0019864', 'Disease'): 2, ('MONDO:0019928', 'Disease'): 2, ('MONDO:0019929', 'Disease'): 2, ('MONDO:0020074', 'Disease'): 2, ('MONDO:0020127', 'Disease'): 2, ('MONDO:0020132', 'Disease'): 2, ('MONDO:0020135', 'Disease'): 2, ('MONDO:0020229', 'Disease'): 2, ('MONDO:0020238', 'Disease'): 2, ('MONDO:0020256', 'Disease'): 2, ('MONDO:0020341', 'Disease'): 2, ('MONDO:0020469', 'Disease'): 2, ('MONDO:0020495', 'Disease'): 2, ('MONDO:0020497', 'Disease'): 2, ('MONDO:0020508', 'Disease'): 2, ('MONDO:0020509', 'Disease'): 2, ('MONDO:0020510', 'Disease'): 2, ('MONDO:0020627', 'Disease'): 2, ('MONDO:0020630', 'Disease'): 2, ('MONDO:0020631', 'Disease'): 2, ('MONDO:0020632', 'Disease'): 2, ('MONDO:0020751', 'Disease'): 2, ('MONDO:0020762', 'Disease'): 2, ('MONDO:0020768', 'Disease'): 2, ('MONDO:0020789', 'Disease'): 2, ('MONDO:0020793', 'Disease'): 2, ('MONDO:0020847', 'Disease'): 2, ('MONDO:0021061', 'Disease'): 2, ('MONDO:0021083', 'Disease'): 2, ('MONDO:0021107', 'Disease'): 2, ('MONDO:0021272', 'Disease'): 2, ('MONDO:0021944', 'Disease'): 2, ('MONDO:0022020', 'Disease'): 2, ('MONDO:0022410', 'Disease'): 2, ('MONDO:0022557', 'Disease'): 2, ('MONDO:0022715', 'Disease'): 2, ('MONDO:0022716', 'Disease'): 2, ('MONDO:0023224', 'Disease'): 2, ('MONDO:0023571', 'Disease'): 2, ('MONDO:0024237', 'Disease'): 2, ('MONDO:0024526', 'Disease'): 2, ('MONDO:0024530', 'Disease'): 2, ('MONDO:0024555', 'Disease'): 2, ('MONDO:0025193', 'Disease'): 2, ('MONDO:0027407', 'Disease'): 2, ('MONDO:0029133', 'Disease'): 2, ('MONDO:0029136', 'Disease'): 2, ('MONDO:0029140', 'Disease'): 2, ('MONDO:0030014', 'Disease'): 2, ('MONDO:0030034', 'Disease'): 2, ('MONDO:0030044', 'Disease'): 2, ('MONDO:0030061', 'Disease'): 2, ('MONDO:0030134', 'Disease'): 2, ('MONDO:0030502', 'Disease'): 2, ('MONDO:0030840', 'Disease'): 2, ('MONDO:0030841', 'Disease'): 2, ('MONDO:0030843', 'Disease'): 2, ('MONDO:0030864', 'Disease'): 2, ('MONDO:0030908', 'Disease'): 2, ('MONDO:0030910', 'Disease'): 2, ('MONDO:0030911', 'Disease'): 2, ('MONDO:0030912', 'Disease'): 2, ('MONDO:0030913', 'Disease'): 2, ('MONDO:0030914', 'Disease'): 2, ('MONDO:0030916', 'Disease'): 2, ('MONDO:0030917', 'Disease'): 2, ('MONDO:0030918', 'Disease'): 2, ('MONDO:0030919', 'Disease'): 2, ('MONDO:0030920', 'Disease'): 2, ('MONDO:0030922', 'Disease'): 2, ('MONDO:0030936', 'Disease'): 2, ('MONDO:0031219', 'Disease'): 2, ('MONDO:0032578', 'Disease'): 2, ('MONDO:0032588', 'Disease'): 2, ('MONDO:0032594', 'Disease'): 2, ('MONDO:0032643', 'Disease'): 2, ('MONDO:0032691', 'Disease'): 2, ('MONDO:0032692', 'Disease'): 2, ('MONDO:0032693', 'Disease'): 2, ('MONDO:0032702', 'Disease'): 2, ('MONDO:0032767', 'Disease'): 2, ('MONDO:0032771', 'Disease'): 2, ('MONDO:0032777', 'Disease'): 2, ('MONDO:0032791', 'Disease'): 2, ('MONDO:0032824', 'Disease'): 2, ('MONDO:0032831', 'Disease'): 2, ('MONDO:0032854', 'Disease'): 2, ('MONDO:0032866', 'Disease'): 2, ('MONDO:0032912', 'Disease'): 2, ('MONDO:0033005', 'Disease'): 2, ('MONDO:0033007', 'Disease'): 2, ('MONDO:0033008', 'Disease'): 2, ('MONDO:0033009', 'Disease'): 2, ('MONDO:0033045', 'Disease'): 2, ('MONDO:0033211', 'Disease'): 2, ('MONDO:0033312', 'Disease'): 2, ('MONDO:0033375', 'Disease'): 2, ('MONDO:0033492', 'Disease'): 2, ('MONDO:0033557', 'Disease'): 2, ('MONDO:0034022', 'Disease'): 2, ('MONDO:0035133', 'Disease'): 2, ('MONDO:0040500', 'Disease'): 2, ('MONDO:0042499', 'Disease'): 2, ('MONDO:0043007', 'Disease'): 2, ('MONDO:0043071', 'Disease'): 2, ('MONDO:0043099', 'Disease'): 2, ('MONDO:0043135', 'Disease'): 2, ('MONDO:0044621', 'Disease'): 2, ('MONDO:0044641', 'Disease'): 2, ('MONDO:0054669', 'Disease'): 2, ('MONDO:0054701', 'Disease'): 2, ('MONDO:0054770', 'Disease'): 2, ('MONDO:0054831', 'Disease'): 2, ('MONDO:0054837', 'Disease'): 2, ('MONDO:0054844', 'Disease'): 2, ('MONDO:0056797', 'Disease'): 2, ('MONDO:0060627', 'Disease'): 2, ('MONDO:0060724', 'Disease'): 2, ('MONDO:0060760', 'Disease'): 2, ('MONDO:0060763', 'Disease'): 2, ('MONDO:0100034', 'Disease'): 2, ('MONDO:0100081', 'Disease'): 2, ('MONDO:0100138', 'Disease'): 2, ('MONDO:0100144', 'Disease'): 2, ('MONDO:0100148', 'Disease'): 2, ('MONDO:0100172', 'Disease'): 2, ('MONDO:0100214', 'Disease'): 2, ('MONDO:0100215', 'Disease'): 2, ('MONDO:0100220', 'Disease'): 2, ('MONDO:0100247', 'Disease'): 2, ('MONDO:0100284', 'Disease'): 2, ('MONDO:0100309', 'Disease'): 2}\n",
      "Remove node:  ('MONDO:0000001', 'Disease')  with layer:  2\n",
      "Remove node:  ('MONDO:0000181', 'Disease')  with layer:  2\n",
      "Remove node:  ('MONDO:0000507', 'Disease')  with layer:  2\n",
      "Remove node:  ('MONDO:0000508', 'Disease')  with layer:  2\n",
      "Remove node:  ('MONDO:0000849', 'Disease')  with layer:  2\n",
      "Remove node:  ('MONDO:0000909', 'Disease')  with layer:  2\n",
      "Remove node:  ('MONDO:0001083', 'Disease')  with layer:  2\n",
      "Remove node:  ('MONDO:0001332', 'Disease')  with layer:  2\n",
      "Remove node:  ('MONDO:0001382', 'Disease')  with layer:  2\n",
      "Remove node:  ('MONDO:0001558', 'Disease')  with layer:  2\n",
      "Remove node:  ('MONDO:0001586', 'Disease')  with layer:  2\n",
      "Remove node:  ('MONDO:0001631', 'Disease')  with layer:  2\n",
      "Remove node:  ('MONDO:0001823', 'Disease')  with layer:  2\n",
      "Remove node:  ('MONDO:0001858', 'Disease')  with layer:  2\n",
      "Remove node:  ('MONDO:0001881', 'Disease')  with layer:  2\n",
      "Remove node:  ('MONDO:0001956', 'Disease')  with layer:  2\n",
      "Remove node:  ('MONDO:0001979', 'Disease')  with layer:  2\n",
      "Remove node:  ('MONDO:0002010', 'Disease')  with layer:  2\n",
      "Remove node:  ('MONDO:0002341', 'Disease')  with layer:  2\n",
      "Remove node:  ('MONDO:0002442', 'Disease')  with layer:  2\n",
      "Remove node:  ('MONDO:0002687', 'Disease')  with layer:  2\n",
      "Remove node:  ('MONDO:0003157', 'Disease')  with layer:  2\n",
      "Remove node:  ('MONDO:0003754', 'Disease')  with layer:  2\n",
      "Remove node:  ('MONDO:0003962', 'Disease')  with layer:  2\n",
      "Remove node:  ('MONDO:0003963', 'Disease')  with layer:  2\n",
      "Remove node:  ('MONDO:0003965', 'Disease')  with layer:  2\n",
      "Remove node:  ('MONDO:0004001', 'Disease')  with layer:  2\n",
      "Remove node:  ('MONDO:0004731', 'Disease')  with layer:  2\n",
      "Remove node:  ('MONDO:0004771', 'Disease')  with layer:  2\n",
      "Remove node:  ('MONDO:0004914', 'Disease')  with layer:  2\n",
      "Remove node:  ('MONDO:0004933', 'Disease')  with layer:  2\n",
      "Remove node:  ('MONDO:0004955', 'Disease')  with layer:  2\n",
      "Remove node:  ('MONDO:0005021', 'Disease')  with layer:  2\n",
      "Remove node:  ('MONDO:0005052', 'Disease')  with layer:  2\n",
      "Remove node:  ('MONDO:0005200', 'Disease')  with layer:  2\n",
      "Remove node:  ('MONDO:0005377', 'Disease')  with layer:  2\n",
      "Remove node:  ('MONDO:0005542', 'Disease')  with layer:  2\n",
      "Remove node:  ('MONDO:0005546', 'Disease')  with layer:  2\n",
      "Remove node:  ('MONDO:0005567', 'Disease')  with layer:  2\n",
      "Remove node:  ('MONDO:0005632', 'Disease')  with layer:  2\n",
      "Remove node:  ('MONDO:0005663', 'Disease')  with layer:  2\n",
      "Remove node:  ('MONDO:0005693', 'Disease')  with layer:  2\n",
      "Remove node:  ('MONDO:0005817', 'Disease')  with layer:  2\n",
      "Remove node:  ('MONDO:0005862', 'Disease')  with layer:  2\n",
      "Remove node:  ('MONDO:0005907', 'Disease')  with layer:  2\n",
      "Remove node:  ('MONDO:0005942', 'Disease')  with layer:  2\n",
      "Remove node:  ('MONDO:0005979', 'Disease')  with layer:  2\n",
      "Remove node:  ('MONDO:0006015', 'Disease')  with layer:  2\n",
      "Remove node:  ('MONDO:0006018', 'Disease')  with layer:  2\n",
      "Remove node:  ('MONDO:0006502', 'Disease')  with layer:  2\n",
      "Remove node:  ('MONDO:0006520', 'Disease')  with layer:  2\n",
      "Remove node:  ('MONDO:0006580', 'Disease')  with layer:  2\n",
      "Remove node:  ('MONDO:0006650', 'Disease')  with layer:  2\n",
      "Remove node:  ('MONDO:0006687', 'Disease')  with layer:  2\n",
      "Remove node:  ('MONDO:0006733', 'Disease')  with layer:  2\n",
      "Remove node:  ('MONDO:0006740', 'Disease')  with layer:  2\n",
      "Remove node:  ('MONDO:0006755', 'Disease')  with layer:  2\n",
      "Remove node:  ('MONDO:0006827', 'Disease')  with layer:  2\n",
      "Remove node:  ('MONDO:0006965', 'Disease')  with layer:  2\n",
      "Remove node:  ('MONDO:0006983', 'Disease')  with layer:  2\n",
      "Remove node:  ('MONDO:0006994', 'Disease')  with layer:  2\n",
      "Remove node:  ('MONDO:0006995', 'Disease')  with layer:  2\n",
      "Remove node:  ('MONDO:0007036', 'Disease')  with layer:  2\n",
      "Remove node:  ('MONDO:0007110', 'Disease')  with layer:  2\n",
      "Remove node:  ('MONDO:0007140', 'Disease')  with layer:  2\n",
      "Remove node:  ('MONDO:0007147', 'Disease')  with layer:  2\n",
      "Remove node:  ('MONDO:0007174', 'Disease')  with layer:  2\n",
      "Remove node:  ('MONDO:0007203', 'Disease')  with layer:  2\n",
      "Remove node:  ('MONDO:0007204', 'Disease')  with layer:  2\n",
      "Remove node:  ('MONDO:0007215', 'Disease')  with layer:  2\n",
      "Remove node:  ('MONDO:0007216', 'Disease')  with layer:  2\n",
      "Remove node:  ('MONDO:0007217', 'Disease')  with layer:  2\n",
      "Remove node:  ('MONDO:0007218', 'Disease')  with layer:  2\n",
      "Remove node:  ('MONDO:0007219', 'Disease')  with layer:  2\n",
      "Remove node:  ('MONDO:0007220', 'Disease')  with layer:  2\n",
      "Remove node:  ('MONDO:0007221', 'Disease')  with layer:  2\n",
      "Remove node:  ('MONDO:0007222', 'Disease')  with layer:  2\n",
      "Remove node:  ('MONDO:0007223', 'Disease')  with layer:  2\n",
      "Remove node:  ('MONDO:0007226', 'Disease')  with layer:  2\n",
      "Remove node:  ('MONDO:0007269', 'Disease')  with layer:  2\n",
      "Remove node:  ('MONDO:0007295', 'Disease')  with layer:  2\n",
      "Remove node:  ('MONDO:0007321', 'Disease')  with layer:  2\n",
      "Remove node:  ('MONDO:0007333', 'Disease')  with layer:  2\n",
      "Remove node:  ('MONDO:0007340', 'Disease')  with layer:  2\n",
      "Remove node:  ('MONDO:0007432', 'Disease')  with layer:  2\n",
      "Remove node:  ('MONDO:0007473', 'Disease')  with layer:  2\n",
      "Remove node:  ('MONDO:0007539', 'Disease')  with layer:  2\n",
      "Remove node:  ('MONDO:0007542', 'Disease')  with layer:  2\n",
      "Remove node:  ('MONDO:0007550', 'Disease')  with layer:  2\n",
      "Remove node:  ('MONDO:0007551', 'Disease')  with layer:  2\n",
      "Remove node:  ('MONDO:0007554', 'Disease')  with layer:  2\n",
      "Remove node:  ('MONDO:0007555', 'Disease')  with layer:  2\n",
      "Remove node:  ('MONDO:0007603', 'Disease')  with layer:  2\n",
      "Remove node:  ('MONDO:0007631', 'Disease')  with layer:  2\n",
      "Remove node:  ('MONDO:0007635', 'Disease')  with layer:  2\n",
      "Remove node:  ('MONDO:0007646', 'Disease')  with layer:  2\n",
      "Remove node:  ('MONDO:0007661', 'Disease')  with layer:  2\n",
      "Remove node:  ('MONDO:0007686', 'Disease')  with layer:  2\n",
      "Remove node:  ('MONDO:0007710', 'Disease')  with layer:  2\n",
      "Remove node:  ('MONDO:0007711', 'Disease')  with layer:  2\n",
      "Remove node:  ('MONDO:0007732', 'Disease')  with layer:  2\n",
      "Remove node:  ('MONDO:0007745', 'Disease')  with layer:  2\n",
      "Remove node:  ('MONDO:0007800', 'Disease')  with layer:  2\n",
      "Remove node:  ('MONDO:0007838', 'Disease')  with layer:  2\n",
      "Remove node:  ('MONDO:0007842', 'Disease')  with layer:  2\n",
      "Remove node:  ('MONDO:0007863', 'Disease')  with layer:  2\n",
      "Remove node:  ('MONDO:0007864', 'Disease')  with layer:  2\n",
      "Remove node:  ('MONDO:0007880', 'Disease')  with layer:  2\n",
      "Remove node:  ('MONDO:0007969', 'Disease')  with layer:  2\n",
      "Remove node:  ('MONDO:0008178', 'Disease')  with layer:  2\n",
      "Remove node:  ('MONDO:0008201', 'Disease')  with layer:  2\n",
      "Remove node:  ('MONDO:0008287', 'Disease')  with layer:  2\n",
      "Remove node:  ('MONDO:0008310', 'Disease')  with layer:  2\n",
      "Remove node:  ('MONDO:0008323', 'Disease')  with layer:  2\n",
      "Remove node:  ('MONDO:0008327', 'Disease')  with layer:  2\n",
      "Remove node:  ('MONDO:0008487', 'Disease')  with layer:  2\n",
      "Remove node:  ('MONDO:0008491', 'Disease')  with layer:  2\n",
      "Remove node:  ('MONDO:0008585', 'Disease')  with layer:  2\n",
      "Remove node:  ('MONDO:0008636', 'Disease')  with layer:  2\n",
      "Remove node:  ('MONDO:0008650', 'Disease')  with layer:  2\n",
      "Remove node:  ('MONDO:0008675', 'Disease')  with layer:  2\n",
      "Remove node:  ('MONDO:0008736', 'Disease')  with layer:  2\n",
      "Remove node:  ('MONDO:0008745', 'Disease')  with layer:  2\n",
      "Remove node:  ('MONDO:0008746', 'Disease')  with layer:  2\n",
      "Remove node:  ('MONDO:0008747', 'Disease')  with layer:  2\n",
      "Remove node:  ('MONDO:0008748', 'Disease')  with layer:  2\n",
      "Remove node:  ('MONDO:0008758', 'Disease')  with layer:  2\n",
      "Remove node:  ('MONDO:0008852', 'Disease')  with layer:  2\n",
      "Remove node:  ('MONDO:0008904', 'Disease')  with layer:  2\n",
      "Remove node:  ('MONDO:0008944', 'Disease')  with layer:  2\n",
      "Remove node:  ('MONDO:0008953', 'Disease')  with layer:  2\n",
      "Remove node:  ('MONDO:0008954', 'Disease')  with layer:  2\n",
      "Remove node:  ('MONDO:0008972', 'Disease')  with layer:  2\n",
      "Remove node:  ('MONDO:0008973', 'Disease')  with layer:  2\n",
      "Remove node:  ('MONDO:0008995', 'Disease')  with layer:  2\n",
      "Remove node:  ('MONDO:0009044', 'Disease')  with layer:  2\n",
      "Remove node:  ('MONDO:0009067', 'Disease')  with layer:  2\n",
      "Remove node:  ('MONDO:0009099', 'Disease')  with layer:  2\n",
      "Remove node:  ('MONDO:0009112', 'Disease')  with layer:  2\n",
      "Remove node:  ('MONDO:0009130', 'Disease')  with layer:  2\n",
      "Remove node:  ('MONDO:0009133', 'Disease')  with layer:  2\n",
      "Remove node:  ('MONDO:0009156', 'Disease')  with layer:  2\n",
      "Remove node:  ('MONDO:0009181', 'Disease')  with layer:  2\n",
      "Remove node:  ('MONDO:0009192', 'Disease')  with layer:  2\n",
      "Remove node:  ('MONDO:0009217', 'Disease')  with layer:  2\n",
      "Remove node:  ('MONDO:0009228', 'Disease')  with layer:  2\n",
      "Remove node:  ('MONDO:0009276', 'Disease')  with layer:  2\n",
      "Remove node:  ('MONDO:0009350', 'Disease')  with layer:  2\n",
      "Remove node:  ('MONDO:0009380', 'Disease')  with layer:  2\n",
      "Remove node:  ('MONDO:0009393', 'Disease')  with layer:  2\n",
      "Remove node:  ('MONDO:0009411', 'Disease')  with layer:  2\n",
      "Remove node:  ('MONDO:0009424', 'Disease')  with layer:  2\n",
      "Remove node:  ('MONDO:0009433', 'Disease')  with layer:  2\n",
      "Remove node:  ('MONDO:0009484', 'Disease')  with layer:  2\n",
      "Remove node:  ('MONDO:0009504', 'Disease')  with layer:  2\n",
      "Remove node:  ('MONDO:0009509', 'Disease')  with layer:  2\n",
      "Remove node:  ('MONDO:0009517', 'Disease')  with layer:  2\n",
      "Remove node:  ('MONDO:0009624', 'Disease')  with layer:  2\n",
      "Remove node:  ('MONDO:0009634', 'Disease')  with layer:  2\n",
      "Remove node:  ('MONDO:0009636', 'Disease')  with layer:  2\n",
      "Remove node:  ('MONDO:0009659', 'Disease')  with layer:  2\n",
      "Remove node:  ('MONDO:0009660', 'Disease')  with layer:  2\n",
      "Remove node:  ('MONDO:0009661', 'Disease')  with layer:  2\n",
      "Remove node:  ('MONDO:0009662', 'Disease')  with layer:  2\n",
      "Remove node:  ('MONDO:0009664', 'Disease')  with layer:  2\n",
      "Remove node:  ('MONDO:0009668', 'Disease')  with layer:  2\n",
      "Remove node:  ('MONDO:0009689', 'Disease')  with layer:  2\n",
      "Remove node:  ('MONDO:0009690', 'Disease')  with layer:  2\n",
      "Remove node:  ('MONDO:0009728', 'Disease')  with layer:  2\n",
      "Remove node:  ('MONDO:0009806', 'Disease')  with layer:  2\n",
      "Remove node:  ('MONDO:0009809', 'Disease')  with layer:  2\n",
      "Remove node:  ('MONDO:0009833', 'Disease')  with layer:  2\n",
      "Remove node:  ('MONDO:0009838', 'Disease')  with layer:  2\n",
      "Remove node:  ('MONDO:0009874', 'Disease')  with layer:  2\n",
      "Remove node:  ('MONDO:0009904', 'Disease')  with layer:  2\n",
      "Remove node:  ('MONDO:0009926', 'Disease')  with layer:  2\n",
      "Remove node:  ('MONDO:0009959', 'Disease')  with layer:  2\n",
      "Remove node:  ('MONDO:0009965', 'Disease')  with layer:  2\n",
      "Remove node:  ('MONDO:0010001', 'Disease')  with layer:  2\n",
      "Remove node:  ('MONDO:0010012', 'Disease')  with layer:  2\n",
      "Remove node:  ('MONDO:0010030', 'Disease')  with layer:  2\n",
      "Remove node:  ('MONDO:0010080', 'Disease')  with layer:  2\n",
      "Remove node:  ('MONDO:0010121', 'Disease')  with layer:  2\n",
      "Remove node:  ('MONDO:0010198', 'Disease')  with layer:  2\n",
      "Remove node:  ('MONDO:0010217', 'Disease')  with layer:  2\n",
      "Remove node:  ('MONDO:0010297', 'Disease')  with layer:  2\n",
      "Remove node:  ('MONDO:0010316', 'Disease')  with layer:  2\n",
      "Remove node:  ('MONDO:0010318', 'Disease')  with layer:  2\n",
      "Remove node:  ('MONDO:0010366', 'Disease')  with layer:  2\n",
      "Remove node:  ('MONDO:0010382', 'Disease')  with layer:  2\n",
      "Remove node:  ('MONDO:0010431', 'Disease')  with layer:  2\n",
      "Remove node:  ('MONDO:0010503', 'Disease')  with layer:  2\n",
      "Remove node:  ('MONDO:0010542', 'Disease')  with layer:  2\n",
      "Remove node:  ('MONDO:0010568', 'Disease')  with layer:  2\n",
      "Remove node:  ('MONDO:0010590', 'Disease')  with layer:  2\n",
      "Remove node:  ('MONDO:0010674', 'Disease')  with layer:  2\n",
      "Remove node:  ('MONDO:0010790', 'Disease')  with layer:  2\n",
      "Remove node:  ('MONDO:0010814', 'Disease')  with layer:  2\n",
      "Remove node:  ('MONDO:0010821', 'Disease')  with layer:  2\n",
      "Remove node:  ('MONDO:0010823', 'Disease')  with layer:  2\n",
      "Remove node:  ('MONDO:0010879', 'Disease')  with layer:  2\n",
      "Remove node:  ('MONDO:0010901', 'Disease')  with layer:  2\n",
      "Remove node:  ('MONDO:0010930', 'Disease')  with layer:  2\n",
      "Remove node:  ('MONDO:0010951', 'Disease')  with layer:  2\n",
      "Remove node:  ('MONDO:0010997', 'Disease')  with layer:  2\n",
      "Remove node:  ('MONDO:0011001', 'Disease')  with layer:  2\n",
      "Remove node:  ('MONDO:0011003', 'Disease')  with layer:  2\n",
      "Remove node:  ('MONDO:0011052', 'Disease')  with layer:  2\n",
      "Remove node:  ('MONDO:0011088', 'Disease')  with layer:  2\n",
      "Remove node:  ('MONDO:0011093', 'Disease')  with layer:  2\n",
      "Remove node:  ('MONDO:0011094', 'Disease')  with layer:  2\n",
      "Remove node:  ('MONDO:0011095', 'Disease')  with layer:  2\n",
      "Remove node:  ('MONDO:0011101', 'Disease')  with layer:  2\n",
      "Remove node:  ('MONDO:0011110', 'Disease')  with layer:  2\n",
      "Remove node:  ('MONDO:0011147', 'Disease')  with layer:  2\n",
      "Remove node:  ('MONDO:0011178', 'Disease')  with layer:  2\n",
      "Remove node:  ('MONDO:0011190', 'Disease')  with layer:  2\n",
      "Remove node:  ('MONDO:0011203', 'Disease')  with layer:  2\n",
      "Remove node:  ('MONDO:0011242', 'Disease')  with layer:  2\n",
      "Remove node:  ('MONDO:0011281', 'Disease')  with layer:  2\n",
      "Remove node:  ('MONDO:0011283', 'Disease')  with layer:  2\n",
      "Remove node:  ('MONDO:0011377', 'Disease')  with layer:  2\n",
      "Remove node:  ('MONDO:0011400', 'Disease')  with layer:  2\n",
      "Remove node:  ('MONDO:0011403', 'Disease')  with layer:  2\n",
      "Remove node:  ('MONDO:0011425', 'Disease')  with layer:  2\n",
      "Remove node:  ('MONDO:0011441', 'Disease')  with layer:  2\n",
      "Remove node:  ('MONDO:0011456', 'Disease')  with layer:  2\n",
      "Remove node:  ('MONDO:0011482', 'Disease')  with layer:  2\n",
      "Remove node:  ('MONDO:0011541', 'Disease')  with layer:  2\n",
      "Remove node:  ('MONDO:0011567', 'Disease')  with layer:  2\n",
      "Remove node:  ('MONDO:0011600', 'Disease')  with layer:  2\n",
      "Remove node:  ('MONDO:0011636', 'Disease')  with layer:  2\n",
      "Remove node:  ('MONDO:0011669', 'Disease')  with layer:  2\n",
      "Remove node:  ('MONDO:0011683', 'Disease')  with layer:  2\n",
      "Remove node:  ('MONDO:0011686', 'Disease')  with layer:  2\n",
      "Remove node:  ('MONDO:0011690', 'Disease')  with layer:  2\n",
      "Remove node:  ('MONDO:0011702', 'Disease')  with layer:  2\n",
      "Remove node:  ('MONDO:0011712', 'Disease')  with layer:  2\n",
      "Remove node:  ('MONDO:0011718', 'Disease')  with layer:  2\n",
      "Remove node:  ('MONDO:0011725', 'Disease')  with layer:  2\n",
      "Remove node:  ('MONDO:0011749', 'Disease')  with layer:  2\n",
      "Remove node:  ('MONDO:0011752', 'Disease')  with layer:  2\n",
      "Remove node:  ('MONDO:0011757', 'Disease')  with layer:  2\n",
      "Remove node:  ('MONDO:0011758', 'Disease')  with layer:  2\n",
      "Remove node:  ('MONDO:0011759', 'Disease')  with layer:  2\n",
      "Remove node:  ('MONDO:0011760', 'Disease')  with layer:  2\n",
      "Remove node:  ('MONDO:0011822', 'Disease')  with layer:  2\n",
      "Remove node:  ('MONDO:0011840', 'Disease')  with layer:  2\n",
      "Remove node:  ('MONDO:0011849', 'Disease')  with layer:  2\n",
      "Remove node:  ('MONDO:0011869', 'Disease')  with layer:  2\n",
      "Remove node:  ('MONDO:0011885', 'Disease')  with layer:  2\n",
      "Remove node:  ('MONDO:0011959', 'Disease')  with layer:  2\n",
      "Remove node:  ('MONDO:0011963', 'Disease')  with layer:  2\n",
      "Remove node:  ('MONDO:0011997', 'Disease')  with layer:  2\n",
      "Remove node:  ('MONDO:0012062', 'Disease')  with layer:  2\n",
      "Remove node:  ('MONDO:0012078', 'Disease')  with layer:  2\n",
      "Remove node:  ('MONDO:0012081', 'Disease')  with layer:  2\n",
      "Remove node:  ('MONDO:0012085', 'Disease')  with layer:  2\n",
      "Remove node:  ('MONDO:0012087', 'Disease')  with layer:  2\n",
      "Remove node:  ('MONDO:0012088', 'Disease')  with layer:  2\n",
      "Remove node:  ('MONDO:0012105', 'Disease')  with layer:  2\n",
      "Remove node:  ('MONDO:0012157', 'Disease')  with layer:  2\n",
      "Remove node:  ('MONDO:0012212', 'Disease')  with layer:  2\n",
      "Remove node:  ('MONDO:0012217', 'Disease')  with layer:  2\n",
      "Remove node:  ('MONDO:0012275', 'Disease')  with layer:  2\n",
      "Remove node:  ('MONDO:0012278', 'Disease')  with layer:  2\n",
      "Remove node:  ('MONDO:0012285', 'Disease')  with layer:  2\n",
      "Remove node:  ('MONDO:0012362', 'Disease')  with layer:  2\n",
      "Remove node:  ('MONDO:0012364', 'Disease')  with layer:  2\n",
      "Remove node:  ('MONDO:0012427', 'Disease')  with layer:  2\n",
      "Remove node:  ('MONDO:0012430', 'Disease')  with layer:  2\n",
      "Remove node:  ('MONDO:0012432', 'Disease')  with layer:  2\n",
      "Remove node:  ('MONDO:0012518', 'Disease')  with layer:  2\n",
      "Remove node:  ('MONDO:0012529', 'Disease')  with layer:  2\n",
      "Remove node:  ('MONDO:0012539', 'Disease')  with layer:  2\n",
      "Remove node:  ('MONDO:0012571', 'Disease')  with layer:  2\n",
      "Remove node:  ('MONDO:0012576', 'Disease')  with layer:  2\n",
      "Remove node:  ('MONDO:0012590', 'Disease')  with layer:  2\n",
      "Remove node:  ('MONDO:0012658', 'Disease')  with layer:  2\n",
      "Remove node:  ('MONDO:0012667', 'Disease')  with layer:  2\n",
      "Remove node:  ('MONDO:0012680', 'Disease')  with layer:  2\n",
      "Remove node:  ('MONDO:0012694', 'Disease')  with layer:  2\n",
      "Remove node:  ('MONDO:0012704', 'Disease')  with layer:  2\n",
      "Remove node:  ('MONDO:0012720', 'Disease')  with layer:  2\n",
      "Remove node:  ('MONDO:0012728', 'Disease')  with layer:  2\n",
      "Remove node:  ('MONDO:0012736', 'Disease')  with layer:  2\n",
      "Remove node:  ('MONDO:0012737', 'Disease')  with layer:  2\n",
      "Remove node:  ('MONDO:0012738', 'Disease')  with layer:  2\n",
      "Remove node:  ('MONDO:0012742', 'Disease')  with layer:  2\n",
      "Remove node:  ('MONDO:0012743', 'Disease')  with layer:  2\n",
      "Remove node:  ('MONDO:0012744', 'Disease')  with layer:  2\n",
      "Remove node:  ('MONDO:0012745', 'Disease')  with layer:  2\n",
      "Remove node:  ('MONDO:0012746', 'Disease')  with layer:  2\n",
      "Remove node:  ('MONDO:0012748', 'Disease')  with layer:  2\n",
      "Remove node:  ('MONDO:0012791', 'Disease')  with layer:  2\n",
      "Remove node:  ('MONDO:0012792', 'Disease')  with layer:  2\n",
      "Remove node:  ('MONDO:0012808', 'Disease')  with layer:  2\n",
      "Remove node:  ('MONDO:0012844', 'Disease')  with layer:  2\n",
      "Remove node:  ('MONDO:0012849', 'Disease')  with layer:  2\n",
      "Remove node:  ('MONDO:0012855', 'Disease')  with layer:  2\n",
      "Remove node:  ('MONDO:0012906', 'Disease')  with layer:  2\n",
      "Remove node:  ('MONDO:0012918', 'Disease')  with layer:  2\n",
      "Remove node:  ('MONDO:0012924', 'Disease')  with layer:  2\n",
      "Remove node:  ('MONDO:0012925', 'Disease')  with layer:  2\n",
      "Remove node:  ('MONDO:0012937', 'Disease')  with layer:  2\n",
      "Remove node:  ('MONDO:0012938', 'Disease')  with layer:  2\n",
      "Remove node:  ('MONDO:0012939', 'Disease')  with layer:  2\n",
      "Remove node:  ('MONDO:0012978', 'Disease')  with layer:  2\n",
      "Remove node:  ('MONDO:0012979', 'Disease')  with layer:  2\n",
      "Remove node:  ('MONDO:0013015', 'Disease')  with layer:  2\n",
      "Remove node:  ('MONDO:0013030', 'Disease')  with layer:  2\n",
      "Remove node:  ('MONDO:0013038', 'Disease')  with layer:  2\n",
      "Remove node:  ('MONDO:0013062', 'Disease')  with layer:  2\n",
      "Remove node:  ('MONDO:0013145', 'Disease')  with layer:  2\n",
      "Remove node:  ('MONDO:0013146', 'Disease')  with layer:  2\n",
      "Remove node:  ('MONDO:0013147', 'Disease')  with layer:  2\n",
      "Remove node:  ('MONDO:0013148', 'Disease')  with layer:  2\n",
      "Remove node:  ('MONDO:0013150', 'Disease')  with layer:  2\n",
      "Remove node:  ('MONDO:0013168', 'Disease')  with layer:  2\n",
      "Remove node:  ('MONDO:0013174', 'Disease')  with layer:  2\n",
      "Remove node:  ('MONDO:0013188', 'Disease')  with layer:  2\n",
      "Remove node:  ('MONDO:0013198', 'Disease')  with layer:  2\n",
      "Remove node:  ('MONDO:0013211', 'Disease')  with layer:  2\n",
      "Remove node:  ('MONDO:0013216', 'Disease')  with layer:  2\n",
      "Remove node:  ('MONDO:0013217', 'Disease')  with layer:  2\n",
      "Remove node:  ('MONDO:0013244', 'Disease')  with layer:  2\n",
      "Remove node:  ('MONDO:0013247', 'Disease')  with layer:  2\n",
      "Remove node:  ('MONDO:0013261', 'Disease')  with layer:  2\n",
      "Remove node:  ('MONDO:0013262', 'Disease')  with layer:  2\n",
      "Remove node:  ('MONDO:0013279', 'Disease')  with layer:  2\n",
      "Remove node:  ('MONDO:0013282', 'Disease')  with layer:  2\n",
      "Remove node:  ('MONDO:0013302', 'Disease')  with layer:  2\n",
      "Remove node:  ('MONDO:0013339', 'Disease')  with layer:  2\n",
      "Remove node:  ('MONDO:0013350', 'Disease')  with layer:  2\n",
      "Remove node:  ('MONDO:0013367', 'Disease')  with layer:  2\n",
      "Remove node:  ('MONDO:0013370', 'Disease')  with layer:  2\n",
      "Remove node:  ('MONDO:0013371', 'Disease')  with layer:  2\n",
      "Remove node:  ('MONDO:0013372', 'Disease')  with layer:  2\n",
      "Remove node:  ('MONDO:0013373', 'Disease')  with layer:  2\n",
      "Remove node:  ('MONDO:0013434', 'Disease')  with layer:  2\n",
      "Remove node:  ('MONDO:0013435', 'Disease')  with layer:  2\n",
      "Remove node:  ('MONDO:0013442', 'Disease')  with layer:  2\n",
      "Remove node:  ('MONDO:0013444', 'Disease')  with layer:  2\n",
      "Remove node:  ('MONDO:0013479', 'Disease')  with layer:  2\n",
      "Remove node:  ('MONDO:0013525', 'Disease')  with layer:  2\n",
      "Remove node:  ('MONDO:0013555', 'Disease')  with layer:  2\n",
      "Remove node:  ('MONDO:0013556', 'Disease')  with layer:  2\n",
      "Remove node:  ('MONDO:0013557', 'Disease')  with layer:  2\n",
      "Remove node:  ('MONDO:0013558', 'Disease')  with layer:  2\n",
      "Remove node:  ('MONDO:0013559', 'Disease')  with layer:  2\n",
      "Remove node:  ('MONDO:0013560', 'Disease')  with layer:  2\n",
      "Remove node:  ('MONDO:0013606', 'Disease')  with layer:  2\n",
      "Remove node:  ('MONDO:0013608', 'Disease')  with layer:  2\n",
      "Remove node:  ('MONDO:0013620', 'Disease')  with layer:  2\n",
      "Remove node:  ('MONDO:0013718', 'Disease')  with layer:  2\n",
      "Remove node:  ('MONDO:0013745', 'Disease')  with layer:  2\n",
      "Remove node:  ('MONDO:0013752', 'Disease')  with layer:  2\n",
      "Remove node:  ('MONDO:0013763', 'Disease')  with layer:  2\n",
      "Remove node:  ('MONDO:0013764', 'Disease')  with layer:  2\n",
      "Remove node:  ('MONDO:0013824', 'Disease')  with layer:  2\n",
      "Remove node:  ('MONDO:0013848', 'Disease')  with layer:  2\n",
      "Remove node:  ('MONDO:0013854', 'Disease')  with layer:  2\n",
      "Remove node:  ('MONDO:0013883', 'Disease')  with layer:  2\n",
      "Remove node:  ('MONDO:0013896', 'Disease')  with layer:  2\n",
      "Remove node:  ('MONDO:0013897', 'Disease')  with layer:  2\n",
      "Remove node:  ('MONDO:0013916', 'Disease')  with layer:  2\n",
      "Remove node:  ('MONDO:0013917', 'Disease')  with layer:  2\n",
      "Remove node:  ('MONDO:0013927', 'Disease')  with layer:  2\n",
      "Remove node:  ('MONDO:0013930', 'Disease')  with layer:  2\n",
      "Remove node:  ('MONDO:0013931', 'Disease')  with layer:  2\n",
      "Remove node:  ('MONDO:0013932', 'Disease')  with layer:  2\n",
      "Remove node:  ('MONDO:0013933', 'Disease')  with layer:  2\n",
      "Remove node:  ('MONDO:0013936', 'Disease')  with layer:  2\n",
      "Remove node:  ('MONDO:0013937', 'Disease')  with layer:  2\n",
      "Remove node:  ('MONDO:0013938', 'Disease')  with layer:  2\n",
      "Remove node:  ('MONDO:0013939', 'Disease')  with layer:  2\n",
      "Remove node:  ('MONDO:0013940', 'Disease')  with layer:  2\n",
      "Remove node:  ('MONDO:0013942', 'Disease')  with layer:  2\n",
      "Remove node:  ('MONDO:0013943', 'Disease')  with layer:  2\n",
      "Remove node:  ('MONDO:0013945', 'Disease')  with layer:  2\n",
      "Remove node:  ('MONDO:0013948', 'Disease')  with layer:  2\n",
      "Remove node:  ('MONDO:0013949', 'Disease')  with layer:  2\n",
      "Remove node:  ('MONDO:0013950', 'Disease')  with layer:  2\n",
      "Remove node:  ('MONDO:0013951', 'Disease')  with layer:  2\n",
      "Remove node:  ('MONDO:0013952', 'Disease')  with layer:  2\n",
      "Remove node:  ('MONDO:0013964', 'Disease')  with layer:  2\n",
      "Remove node:  ('MONDO:0013967', 'Disease')  with layer:  2\n",
      "Remove node:  ('MONDO:0013979', 'Disease')  with layer:  2\n",
      "Remove node:  ('MONDO:0013994', 'Disease')  with layer:  2\n",
      "Remove node:  ('MONDO:0014030', 'Disease')  with layer:  2\n",
      "Remove node:  ('MONDO:0014032', 'Disease')  with layer:  2\n",
      "Remove node:  ('MONDO:0014039', 'Disease')  with layer:  2\n",
      "Remove node:  ('MONDO:0014042', 'Disease')  with layer:  2\n",
      "Remove node:  ('MONDO:0014052', 'Disease')  with layer:  2\n",
      "Remove node:  ('MONDO:0014070', 'Disease')  with layer:  2\n",
      "Remove node:  ('MONDO:0014073', 'Disease')  with layer:  2\n",
      "Remove node:  ('MONDO:0014095', 'Disease')  with layer:  2\n",
      "Remove node:  ('MONDO:0014100', 'Disease')  with layer:  2\n",
      "Remove node:  ('MONDO:0014104', 'Disease')  with layer:  2\n",
      "Remove node:  ('MONDO:0014123', 'Disease')  with layer:  2\n",
      "Remove node:  ('MONDO:0014127', 'Disease')  with layer:  2\n",
      "Remove node:  ('MONDO:0014152', 'Disease')  with layer:  2\n",
      "Remove node:  ('MONDO:0014158', 'Disease')  with layer:  2\n",
      "Remove node:  ('MONDO:0014163', 'Disease')  with layer:  2\n",
      "Remove node:  ('MONDO:0014175', 'Disease')  with layer:  2\n",
      "Remove node:  ('MONDO:0014192', 'Disease')  with layer:  2\n",
      "Remove node:  ('MONDO:0014193', 'Disease')  with layer:  2\n",
      "Remove node:  ('MONDO:0014198', 'Disease')  with layer:  2\n",
      "Remove node:  ('MONDO:0014202', 'Disease')  with layer:  2\n",
      "Remove node:  ('MONDO:0014203', 'Disease')  with layer:  2\n",
      "Remove node:  ('MONDO:0014211', 'Disease')  with layer:  2\n",
      "Remove node:  ('MONDO:0014215', 'Disease')  with layer:  2\n",
      "Remove node:  ('MONDO:0014216', 'Disease')  with layer:  2\n",
      "Remove node:  ('MONDO:0014245', 'Disease')  with layer:  2\n",
      "Remove node:  ('MONDO:0014247', 'Disease')  with layer:  2\n",
      "Remove node:  ('MONDO:0014275', 'Disease')  with layer:  2\n",
      "Remove node:  ('MONDO:0014288', 'Disease')  with layer:  2\n",
      "Remove node:  ('MONDO:0014297', 'Disease')  with layer:  2\n",
      "Remove node:  ('MONDO:0014369', 'Disease')  with layer:  2\n",
      "Remove node:  ('MONDO:0014374', 'Disease')  with layer:  2\n",
      "Remove node:  ('MONDO:0014378', 'Disease')  with layer:  2\n",
      "Remove node:  ('MONDO:0014394', 'Disease')  with layer:  2\n",
      "Remove node:  ('MONDO:0014396', 'Disease')  with layer:  2\n",
      "Remove node:  ('MONDO:0014465', 'Disease')  with layer:  2\n",
      "Remove node:  ('MONDO:0014468', 'Disease')  with layer:  2\n",
      "Remove node:  ('MONDO:0014516', 'Disease')  with layer:  2\n",
      "Remove node:  ('MONDO:0014528', 'Disease')  with layer:  2\n",
      "Remove node:  ('MONDO:0014537', 'Disease')  with layer:  2\n",
      "Remove node:  ('MONDO:0014542', 'Disease')  with layer:  2\n",
      "Remove node:  ('MONDO:0014543', 'Disease')  with layer:  2\n",
      "Remove node:  ('MONDO:0014548', 'Disease')  with layer:  2\n",
      "Remove node:  ('MONDO:0014550', 'Disease')  with layer:  2\n",
      "Remove node:  ('MONDO:0014573', 'Disease')  with layer:  2\n",
      "Remove node:  ('MONDO:0014578', 'Disease')  with layer:  2\n",
      "Remove node:  ('MONDO:0014581', 'Disease')  with layer:  2\n",
      "Remove node:  ('MONDO:0014582', 'Disease')  with layer:  2\n",
      "Remove node:  ('MONDO:0014583', 'Disease')  with layer:  2\n",
      "Remove node:  ('MONDO:0014584', 'Disease')  with layer:  2\n",
      "Remove node:  ('MONDO:0014585', 'Disease')  with layer:  2\n",
      "Remove node:  ('MONDO:0014586', 'Disease')  with layer:  2\n",
      "Remove node:  ('MONDO:0014587', 'Disease')  with layer:  2\n",
      "Remove node:  ('MONDO:0014588', 'Disease')  with layer:  2\n",
      "Remove node:  ('MONDO:0014590', 'Disease')  with layer:  2\n",
      "Remove node:  ('MONDO:0014592', 'Disease')  with layer:  2\n",
      "Remove node:  ('MONDO:0014621', 'Disease')  with layer:  2\n",
      "Remove node:  ('MONDO:0014657', 'Disease')  with layer:  2\n",
      "Remove node:  ('MONDO:0014661', 'Disease')  with layer:  2\n",
      "Remove node:  ('MONDO:0014664', 'Disease')  with layer:  2\n",
      "Remove node:  ('MONDO:0014724', 'Disease')  with layer:  2\n",
      "Remove node:  ('MONDO:0014743', 'Disease')  with layer:  2\n",
      "Remove node:  ('MONDO:0014745', 'Disease')  with layer:  2\n",
      "Remove node:  ('MONDO:0014750', 'Disease')  with layer:  2\n",
      "Remove node:  ('MONDO:0014770', 'Disease')  with layer:  2\n",
      "Remove node:  ('MONDO:0014771', 'Disease')  with layer:  2\n",
      "Remove node:  ('MONDO:0014798', 'Disease')  with layer:  2\n",
      "Remove node:  ('MONDO:0014885', 'Disease')  with layer:  2\n",
      "Remove node:  ('MONDO:0014888', 'Disease')  with layer:  2\n",
      "Remove node:  ('MONDO:0014909', 'Disease')  with layer:  2\n",
      "Remove node:  ('MONDO:0014910', 'Disease')  with layer:  2\n",
      "Remove node:  ('MONDO:0014927', 'Disease')  with layer:  2\n",
      "Remove node:  ('MONDO:0014928', 'Disease')  with layer:  2\n",
      "Remove node:  ('MONDO:0014939', 'Disease')  with layer:  2\n",
      "Remove node:  ('MONDO:0014983', 'Disease')  with layer:  2\n",
      "Remove node:  ('MONDO:0014997', 'Disease')  with layer:  2\n",
      "Remove node:  ('MONDO:0015084', 'Disease')  with layer:  2\n",
      "Remove node:  ('MONDO:0015150', 'Disease')  with layer:  2\n",
      "Remove node:  ('MONDO:0015201', 'Disease')  with layer:  2\n",
      "Remove node:  ('MONDO:0015203', 'Disease')  with layer:  2\n",
      "Remove node:  ('MONDO:0015208', 'Disease')  with layer:  2\n",
      "Remove node:  ('MONDO:0015210', 'Disease')  with layer:  2\n",
      "Remove node:  ('MONDO:0015212', 'Disease')  with layer:  2\n",
      "Remove node:  ('MONDO:0015216', 'Disease')  with layer:  2\n",
      "Remove node:  ('MONDO:0015217', 'Disease')  with layer:  2\n",
      "Remove node:  ('MONDO:0015218', 'Disease')  with layer:  2\n",
      "Remove node:  ('MONDO:0015221', 'Disease')  with layer:  2\n",
      "Remove node:  ('MONDO:0015222', 'Disease')  with layer:  2\n",
      "Remove node:  ('MONDO:0015228', 'Disease')  with layer:  2\n",
      "Remove node:  ('MONDO:0015230', 'Disease')  with layer:  2\n",
      "Remove node:  ('MONDO:0015231', 'Disease')  with layer:  2\n",
      "Remove node:  ('MONDO:0015246', 'Disease')  with layer:  2\n",
      "Remove node:  ('MONDO:0015253', 'Disease')  with layer:  2\n",
      "Remove node:  ('MONDO:0015263', 'Disease')  with layer:  2\n",
      "Remove node:  ('MONDO:0015311', 'Disease')  with layer:  2\n",
      "Remove node:  ('MONDO:0015338', 'Disease')  with layer:  2\n",
      "Remove node:  ('MONDO:0015347', 'Disease')  with layer:  2\n",
      "Remove node:  ('MONDO:0015397', 'Disease')  with layer:  2\n",
      "Remove node:  ('MONDO:0015461', 'Disease')  with layer:  2\n",
      "Remove node:  ('MONDO:0015518', 'Disease')  with layer:  2\n",
      "Remove node:  ('MONDO:0015540', 'Disease')  with layer:  2\n",
      "Remove node:  ('MONDO:0015550', 'Disease')  with layer:  2\n",
      "Remove node:  ('MONDO:0015551', 'Disease')  with layer:  2\n",
      "Remove node:  ('MONDO:0015587', 'Disease')  with layer:  2\n",
      "Remove node:  ('MONDO:0015620', 'Disease')  with layer:  2\n",
      "Remove node:  ('MONDO:0015660', 'Disease')  with layer:  2\n",
      "Remove node:  ('MONDO:0015663', 'Disease')  with layer:  2\n",
      "Remove node:  ('MONDO:0015691', 'Disease')  with layer:  2\n",
      "Remove node:  ('MONDO:0015762', 'Disease')  with layer:  2\n",
      "Remove node:  ('MONDO:0015775', 'Disease')  with layer:  2\n",
      "Remove node:  ('MONDO:0015776', 'Disease')  with layer:  2\n",
      "Remove node:  ('MONDO:0015778', 'Disease')  with layer:  2\n",
      "Remove node:  ('MONDO:0015846', 'Disease')  with layer:  2\n",
      "Remove node:  ('MONDO:0015892', 'Disease')  with layer:  2\n",
      "Remove node:  ('MONDO:0015895', 'Disease')  with layer:  2\n",
      "Remove node:  ('MONDO:0015905', 'Disease')  with layer:  2\n",
      "Remove node:  ('MONDO:0015912', 'Disease')  with layer:  2\n",
      "Remove node:  ('MONDO:0015943', 'Disease')  with layer:  2\n",
      "Remove node:  ('MONDO:0015947', 'Disease')  with layer:  2\n",
      "Remove node:  ('MONDO:0015987', 'Disease')  with layer:  2\n",
      "Remove node:  ('MONDO:0016008', 'Disease')  with layer:  2\n",
      "Remove node:  ('MONDO:0016010', 'Disease')  with layer:  2\n",
      "Remove node:  ('MONDO:0016011', 'Disease')  with layer:  2\n",
      "Remove node:  ('MONDO:0016017', 'Disease')  with layer:  2\n",
      "Remove node:  ('MONDO:0016025', 'Disease')  with layer:  2\n",
      "Remove node:  ('MONDO:0016030', 'Disease')  with layer:  2\n",
      "Remove node:  ('MONDO:0016085', 'Disease')  with layer:  2\n",
      "Remove node:  ('MONDO:0016120', 'Disease')  with layer:  2\n",
      "Remove node:  ('MONDO:0016218', 'Disease')  with layer:  2\n",
      "Remove node:  ('MONDO:0016244', 'Disease')  with layer:  2\n",
      "Remove node:  ('MONDO:0016315', 'Disease')  with layer:  2\n",
      "Remove node:  ('MONDO:0016316', 'Disease')  with layer:  2\n",
      "Remove node:  ('MONDO:0016329', 'Disease')  with layer:  2\n",
      "Remove node:  ('MONDO:0016394', 'Disease')  with layer:  2\n",
      "Remove node:  ('MONDO:0016422', 'Disease')  with layer:  2\n",
      "Remove node:  ('MONDO:0016423', 'Disease')  with layer:  2\n",
      "Remove node:  ('MONDO:0016456', 'Disease')  with layer:  2\n",
      "Remove node:  ('MONDO:0016463', 'Disease')  with layer:  2\n",
      "Remove node:  ('MONDO:0016532', 'Disease')  with layer:  2\n",
      "Remove node:  ('MONDO:0016565', 'Disease')  with layer:  2\n",
      "Remove node:  ('MONDO:0016575', 'Disease')  with layer:  2\n",
      "Remove node:  ('MONDO:0016620', 'Disease')  with layer:  2\n",
      "Remove node:  ('MONDO:0016818', 'Disease')  with layer:  2\n",
      "Remove node:  ('MONDO:0017118', 'Disease')  with layer:  2\n",
      "Remove node:  ('MONDO:0017119', 'Disease')  with layer:  2\n",
      "Remove node:  ('MONDO:0017171', 'Disease')  with layer:  2\n",
      "Remove node:  ('MONDO:0017172', 'Disease')  with layer:  2\n",
      "Remove node:  ('MONDO:0017195', 'Disease')  with layer:  2\n",
      "Remove node:  ('MONDO:0017215', 'Disease')  with layer:  2\n",
      "Remove node:  ('MONDO:0017262', 'Disease')  with layer:  2\n",
      "Remove node:  ('MONDO:0017263', 'Disease')  with layer:  2\n",
      "Remove node:  ('MONDO:0017278', 'Disease')  with layer:  2\n",
      "Remove node:  ('MONDO:0017286', 'Disease')  with layer:  2\n",
      "Remove node:  ('MONDO:0017288', 'Disease')  with layer:  2\n",
      "Remove node:  ('MONDO:0017290', 'Disease')  with layer:  2\n",
      "Remove node:  ('MONDO:0017364', 'Disease')  with layer:  2\n",
      "Remove node:  ('MONDO:0017372', 'Disease')  with layer:  2\n",
      "Remove node:  ('MONDO:0017409', 'Disease')  with layer:  2\n",
      "Remove node:  ('MONDO:0017435', 'Disease')  with layer:  2\n",
      "Remove node:  ('MONDO:0017610', 'Disease')  with layer:  2\n",
      "Remove node:  ('MONDO:0017879', 'Disease')  with layer:  2\n",
      "Remove node:  ('MONDO:0017991', 'Disease')  with layer:  2\n",
      "Remove node:  ('MONDO:0018034', 'Disease')  with layer:  2\n",
      "Remove node:  ('MONDO:0018066', 'Disease')  with layer:  2\n",
      "Remove node:  ('MONDO:0018092', 'Disease')  with layer:  2\n",
      "Remove node:  ('MONDO:0018135', 'Disease')  with layer:  2\n",
      "Remove node:  ('MONDO:0018158', 'Disease')  with layer:  2\n",
      "Remove node:  ('MONDO:0018229', 'Disease')  with layer:  2\n",
      "Remove node:  ('MONDO:0018264', 'Disease')  with layer:  2\n",
      "Remove node:  ('MONDO:0018609', 'Disease')  with layer:  2\n",
      "Remove node:  ('MONDO:0018677', 'Disease')  with layer:  2\n",
      "Remove node:  ('MONDO:0018690', 'Disease')  with layer:  2\n",
      "Remove node:  ('MONDO:0018747', 'Disease')  with layer:  2\n",
      "Remove node:  ('MONDO:0018772', 'Disease')  with layer:  2\n",
      "Remove node:  ('MONDO:0018800', 'Disease')  with layer:  2\n",
      "Remove node:  ('MONDO:0018804', 'Disease')  with layer:  2\n",
      "Remove node:  ('MONDO:0018895', 'Disease')  with layer:  2\n",
      "Remove node:  ('MONDO:0018901', 'Disease')  with layer:  2\n",
      "Remove node:  ('MONDO:0018910', 'Disease')  with layer:  2\n",
      "Remove node:  ('MONDO:0018912', 'Disease')  with layer:  2\n",
      "Remove node:  ('MONDO:0018927', 'Disease')  with layer:  2\n",
      "Remove node:  ('MONDO:0018937', 'Disease')  with layer:  2\n",
      "Remove node:  ('MONDO:0018938', 'Disease')  with layer:  2\n",
      "Remove node:  ('MONDO:0018940', 'Disease')  with layer:  2\n",
      "Remove node:  ('MONDO:0018954', 'Disease')  with layer:  2\n",
      "Remove node:  ('MONDO:0018983', 'Disease')  with layer:  2\n",
      "Remove node:  ('MONDO:0019005', 'Disease')  with layer:  2\n",
      "Remove node:  ('MONDO:0019037', 'Disease')  with layer:  2\n",
      "Remove node:  ('MONDO:0019066', 'Disease')  with layer:  2\n",
      "Remove node:  ('MONDO:0019103', 'Disease')  with layer:  2\n",
      "Remove node:  ('MONDO:0019104', 'Disease')  with layer:  2\n",
      "Remove node:  ('MONDO:0019234', 'Disease')  with layer:  2\n",
      "Remove node:  ('MONDO:0019249', 'Disease')  with layer:  2\n",
      "Remove node:  ('MONDO:0019276', 'Disease')  with layer:  2\n",
      "Remove node:  ('MONDO:0019282', 'Disease')  with layer:  2\n",
      "Remove node:  ('MONDO:0019285', 'Disease')  with layer:  2\n",
      "Remove node:  ('MONDO:0019287', 'Disease')  with layer:  2\n",
      "Remove node:  ('MONDO:0019302', 'Disease')  with layer:  2\n",
      "Remove node:  ('MONDO:0019312', 'Disease')  with layer:  2\n",
      "Remove node:  ('MONDO:0019339', 'Disease')  with layer:  2\n",
      "Remove node:  ('MONDO:0019369', 'Disease')  with layer:  2\n",
      "Remove node:  ('MONDO:0019390', 'Disease')  with layer:  2\n",
      "Remove node:  ('MONDO:0019508', 'Disease')  with layer:  2\n",
      "Remove node:  ('MONDO:0019520', 'Disease')  with layer:  2\n",
      "Remove node:  ('MONDO:0019563', 'Disease')  with layer:  2\n",
      "Remove node:  ('MONDO:0019589', 'Disease')  with layer:  2\n",
      "Remove node:  ('MONDO:0019618', 'Disease')  with layer:  2\n",
      "Remove node:  ('MONDO:0019676', 'Disease')  with layer:  2\n",
      "Remove node:  ('MONDO:0019677', 'Disease')  with layer:  2\n",
      "Remove node:  ('MONDO:0019678', 'Disease')  with layer:  2\n",
      "Remove node:  ('MONDO:0019679', 'Disease')  with layer:  2\n",
      "Remove node:  ('MONDO:0019701', 'Disease')  with layer:  2\n",
      "Remove node:  ('MONDO:0019718', 'Disease')  with layer:  2\n",
      "Remove node:  ('MONDO:0019735', 'Disease')  with layer:  2\n",
      "Remove node:  ('MONDO:0019745', 'Disease')  with layer:  2\n",
      "Remove node:  ('MONDO:0019746', 'Disease')  with layer:  2\n",
      "Remove node:  ('MONDO:0019751', 'Disease')  with layer:  2\n",
      "Remove node:  ('MONDO:0019790', 'Disease')  with layer:  2\n",
      "Remove node:  ('MONDO:0019825', 'Disease')  with layer:  2\n",
      "Remove node:  ('MONDO:0019828', 'Disease')  with layer:  2\n",
      "Remove node:  ('MONDO:0019943', 'Disease')  with layer:  2\n",
      "Remove node:  ('MONDO:0019944', 'Disease')  with layer:  2\n",
      "Remove node:  ('MONDO:0020023', 'Disease')  with layer:  2\n",
      "Remove node:  ('MONDO:0020066', 'Disease')  with layer:  2\n",
      "Remove node:  ('MONDO:0020145', 'Disease')  with layer:  2\n",
      "Remove node:  ('MONDO:0020157', 'Disease')  with layer:  2\n",
      "Remove node:  ('MONDO:0020165', 'Disease')  with layer:  2\n",
      "Remove node:  ('MONDO:0020208', 'Disease')  with layer:  2\n",
      "Remove node:  ('MONDO:0020210', 'Disease')  with layer:  2\n",
      "Remove node:  ('MONDO:0020211', 'Disease')  with layer:  2\n",
      "Remove node:  ('MONDO:0020215', 'Disease')  with layer:  2\n",
      "Remove node:  ('MONDO:0020225', 'Disease')  with layer:  2\n",
      "Remove node:  ('MONDO:0020240', 'Disease')  with layer:  2\n",
      "Remove node:  ('MONDO:0020275', 'Disease')  with layer:  2\n",
      "Remove node:  ('MONDO:0020291', 'Disease')  with layer:  2\n",
      "Remove node:  ('MONDO:0020404', 'Disease')  with layer:  2\n",
      "Remove node:  ('MONDO:0020435', 'Disease')  with layer:  2\n",
      "Remove node:  ('MONDO:0020491', 'Disease')  with layer:  2\n",
      "Remove node:  ('MONDO:0020521', 'Disease')  with layer:  2\n",
      "Remove node:  ('MONDO:0020522', 'Disease')  with layer:  2\n",
      "Remove node:  ('MONDO:0020572', 'Disease')  with layer:  2\n",
      "Remove node:  ('MONDO:0020607', 'Disease')  with layer:  2\n",
      "Remove node:  ('MONDO:0020701', 'Disease')  with layer:  2\n",
      "Remove node:  ('MONDO:0020854', 'Disease')  with layer:  2\n",
      "Remove node:  ('MONDO:0021004', 'Disease')  with layer:  2\n",
      "Remove node:  ('MONDO:0021020', 'Disease')  with layer:  2\n",
      "Remove node:  ('MONDO:0021058', 'Disease')  with layer:  2\n",
      "Remove node:  ('MONDO:0021073', 'Disease')  with layer:  2\n",
      "Remove node:  ('MONDO:0021670', 'Disease')  with layer:  2\n",
      "Remove node:  ('MONDO:0021752', 'Disease')  with layer:  2\n",
      "Remove node:  ('MONDO:0021761', 'Disease')  with layer:  2\n",
      "Remove node:  ('MONDO:0021829', 'Disease')  with layer:  2\n",
      "Remove node:  ('MONDO:0021836', 'Disease')  with layer:  2\n",
      "Remove node:  ('MONDO:0021849', 'Disease')  with layer:  2\n",
      "Remove node:  ('MONDO:0021895', 'Disease')  with layer:  2\n",
      "Remove node:  ('MONDO:0021905', 'Disease')  with layer:  2\n",
      "Remove node:  ('MONDO:0021915', 'Disease')  with layer:  2\n",
      "Remove node:  ('MONDO:0021918', 'Disease')  with layer:  2\n",
      "Remove node:  ('MONDO:0021921', 'Disease')  with layer:  2\n",
      "Remove node:  ('MONDO:0021962', 'Disease')  with layer:  2\n",
      "Remove node:  ('MONDO:0021964', 'Disease')  with layer:  2\n",
      "Remove node:  ('MONDO:0021966', 'Disease')  with layer:  2\n",
      "Remove node:  ('MONDO:0021969', 'Disease')  with layer:  2\n",
      "Remove node:  ('MONDO:0022011', 'Disease')  with layer:  2\n",
      "Remove node:  ('MONDO:0022013', 'Disease')  with layer:  2\n",
      "Remove node:  ('MONDO:0022018', 'Disease')  with layer:  2\n",
      "Remove node:  ('MONDO:0022070', 'Disease')  with layer:  2\n",
      "Remove node:  ('MONDO:0022071', 'Disease')  with layer:  2\n",
      "Remove node:  ('MONDO:0022089', 'Disease')  with layer:  2\n",
      "Remove node:  ('MONDO:0022140', 'Disease')  with layer:  2\n",
      "Remove node:  ('MONDO:0022220', 'Disease')  with layer:  2\n",
      "Remove node:  ('MONDO:0022308', 'Disease')  with layer:  2\n",
      "Remove node:  ('MONDO:0022316', 'Disease')  with layer:  2\n",
      "Remove node:  ('MONDO:0022337', 'Disease')  with layer:  2\n",
      "Remove node:  ('MONDO:0022357', 'Disease')  with layer:  2\n",
      "Remove node:  ('MONDO:0022380', 'Disease')  with layer:  2\n",
      "Remove node:  ('MONDO:0022398', 'Disease')  with layer:  2\n",
      "Remove node:  ('MONDO:0022401', 'Disease')  with layer:  2\n",
      "Remove node:  ('MONDO:0022402', 'Disease')  with layer:  2\n",
      "Remove node:  ('MONDO:0022403', 'Disease')  with layer:  2\n",
      "Remove node:  ('MONDO:0022413', 'Disease')  with layer:  2\n",
      "Remove node:  ('MONDO:0022414', 'Disease')  with layer:  2\n",
      "Remove node:  ('MONDO:0022417', 'Disease')  with layer:  2\n",
      "Remove node:  ('MONDO:0022425', 'Disease')  with layer:  2\n",
      "Remove node:  ('MONDO:0022428', 'Disease')  with layer:  2\n",
      "Remove node:  ('MONDO:0022435', 'Disease')  with layer:  2\n",
      "Remove node:  ('MONDO:0022456', 'Disease')  with layer:  2\n",
      "Remove node:  ('MONDO:0022457', 'Disease')  with layer:  2\n",
      "Remove node:  ('MONDO:0022458', 'Disease')  with layer:  2\n",
      "Remove node:  ('MONDO:0022461', 'Disease')  with layer:  2\n",
      "Remove node:  ('MONDO:0022462', 'Disease')  with layer:  2\n",
      "Remove node:  ('MONDO:0022465', 'Disease')  with layer:  2\n",
      "Remove node:  ('MONDO:0022470', 'Disease')  with layer:  2\n",
      "Remove node:  ('MONDO:0022471', 'Disease')  with layer:  2\n",
      "Remove node:  ('MONDO:0022496', 'Disease')  with layer:  2\n",
      "Remove node:  ('MONDO:0022500', 'Disease')  with layer:  2\n",
      "Remove node:  ('MONDO:0022504', 'Disease')  with layer:  2\n",
      "Remove node:  ('MONDO:0022509', 'Disease')  with layer:  2\n",
      "Remove node:  ('MONDO:0022510', 'Disease')  with layer:  2\n",
      "Remove node:  ('MONDO:0022513', 'Disease')  with layer:  2\n",
      "Remove node:  ('MONDO:0022545', 'Disease')  with layer:  2\n",
      "Remove node:  ('MONDO:0022546', 'Disease')  with layer:  2\n",
      "Remove node:  ('MONDO:0022551', 'Disease')  with layer:  2\n",
      "Remove node:  ('MONDO:0022553', 'Disease')  with layer:  2\n",
      "Remove node:  ('MONDO:0022555', 'Disease')  with layer:  2\n",
      "Remove node:  ('MONDO:0022556', 'Disease')  with layer:  2\n",
      "Remove node:  ('MONDO:0022568', 'Disease')  with layer:  2\n",
      "Remove node:  ('MONDO:0022575', 'Disease')  with layer:  2\n",
      "Remove node:  ('MONDO:0022576', 'Disease')  with layer:  2\n",
      "Remove node:  ('MONDO:0022577', 'Disease')  with layer:  2\n",
      "Remove node:  ('MONDO:0022580', 'Disease')  with layer:  2\n",
      "Remove node:  ('MONDO:0022587', 'Disease')  with layer:  2\n",
      "Remove node:  ('MONDO:0022598', 'Disease')  with layer:  2\n",
      "Remove node:  ('MONDO:0022599', 'Disease')  with layer:  2\n",
      "Remove node:  ('MONDO:0022602', 'Disease')  with layer:  2\n",
      "Remove node:  ('MONDO:0022603', 'Disease')  with layer:  2\n",
      "Remove node:  ('MONDO:0022605', 'Disease')  with layer:  2\n",
      "Remove node:  ('MONDO:0022608', 'Disease')  with layer:  2\n",
      "Remove node:  ('MONDO:0022610', 'Disease')  with layer:  2\n",
      "Remove node:  ('MONDO:0022612', 'Disease')  with layer:  2\n",
      "Remove node:  ('MONDO:0022613', 'Disease')  with layer:  2\n",
      "Remove node:  ('MONDO:0022615', 'Disease')  with layer:  2\n",
      "Remove node:  ('MONDO:0022633', 'Disease')  with layer:  2\n",
      "Remove node:  ('MONDO:0022634', 'Disease')  with layer:  2\n",
      "Remove node:  ('MONDO:0022639', 'Disease')  with layer:  2\n",
      "Remove node:  ('MONDO:0022644', 'Disease')  with layer:  2\n",
      "Remove node:  ('MONDO:0022645', 'Disease')  with layer:  2\n",
      "Remove node:  ('MONDO:0022646', 'Disease')  with layer:  2\n",
      "Remove node:  ('MONDO:0022647', 'Disease')  with layer:  2\n",
      "Remove node:  ('MONDO:0022648', 'Disease')  with layer:  2\n",
      "Remove node:  ('MONDO:0022650', 'Disease')  with layer:  2\n",
      "Remove node:  ('MONDO:0022654', 'Disease')  with layer:  2\n",
      "Remove node:  ('MONDO:0022655', 'Disease')  with layer:  2\n",
      "Remove node:  ('MONDO:0022656', 'Disease')  with layer:  2\n",
      "Remove node:  ('MONDO:0022662', 'Disease')  with layer:  2\n",
      "Remove node:  ('MONDO:0022666', 'Disease')  with layer:  2\n",
      "Remove node:  ('MONDO:0022675', 'Disease')  with layer:  2\n",
      "Remove node:  ('MONDO:0022682', 'Disease')  with layer:  2\n",
      "Remove node:  ('MONDO:0022685', 'Disease')  with layer:  2\n",
      "Remove node:  ('MONDO:0022691', 'Disease')  with layer:  2\n",
      "Remove node:  ('MONDO:0022693', 'Disease')  with layer:  2\n",
      "Remove node:  ('MONDO:0022694', 'Disease')  with layer:  2\n",
      "Remove node:  ('MONDO:0022712', 'Disease')  with layer:  2\n",
      "Remove node:  ('MONDO:0022723', 'Disease')  with layer:  2\n",
      "Remove node:  ('MONDO:0022733', 'Disease')  with layer:  2\n",
      "Remove node:  ('MONDO:0022734', 'Disease')  with layer:  2\n",
      "Remove node:  ('MONDO:0022739', 'Disease')  with layer:  2\n",
      "Remove node:  ('MONDO:0022740', 'Disease')  with layer:  2\n",
      "Remove node:  ('MONDO:0022761', 'Disease')  with layer:  2\n",
      "Remove node:  ('MONDO:0022765', 'Disease')  with layer:  2\n",
      "Remove node:  ('MONDO:0022769', 'Disease')  with layer:  2\n",
      "Remove node:  ('MONDO:0022770', 'Disease')  with layer:  2\n",
      "Remove node:  ('MONDO:0022771', 'Disease')  with layer:  2\n",
      "Remove node:  ('MONDO:0022775', 'Disease')  with layer:  2\n",
      "Remove node:  ('MONDO:0022776', 'Disease')  with layer:  2\n",
      "Remove node:  ('MONDO:0022777', 'Disease')  with layer:  2\n",
      "Remove node:  ('MONDO:0022778', 'Disease')  with layer:  2\n",
      "Remove node:  ('MONDO:0022779', 'Disease')  with layer:  2\n",
      "Remove node:  ('MONDO:0022780', 'Disease')  with layer:  2\n",
      "Remove node:  ('MONDO:0022781', 'Disease')  with layer:  2\n",
      "Remove node:  ('MONDO:0022782', 'Disease')  with layer:  2\n",
      "Remove node:  ('MONDO:0022785', 'Disease')  with layer:  2\n",
      "Remove node:  ('MONDO:0022786', 'Disease')  with layer:  2\n",
      "Remove node:  ('MONDO:0022787', 'Disease')  with layer:  2\n",
      "Remove node:  ('MONDO:0022790', 'Disease')  with layer:  2\n",
      "Remove node:  ('MONDO:0022791', 'Disease')  with layer:  2\n",
      "Remove node:  ('MONDO:0022798', 'Disease')  with layer:  2\n",
      "Remove node:  ('MONDO:0022800', 'Disease')  with layer:  2\n",
      "Remove node:  ('MONDO:0022802', 'Disease')  with layer:  2\n",
      "Remove node:  ('MONDO:0022803', 'Disease')  with layer:  2\n",
      "Remove node:  ('MONDO:0022804', 'Disease')  with layer:  2\n",
      "Remove node:  ('MONDO:0022805', 'Disease')  with layer:  2\n",
      "Remove node:  ('MONDO:0022809', 'Disease')  with layer:  2\n",
      "Remove node:  ('MONDO:0022810', 'Disease')  with layer:  2\n",
      "Remove node:  ('MONDO:0022812', 'Disease')  with layer:  2\n",
      "Remove node:  ('MONDO:0022815', 'Disease')  with layer:  2\n",
      "Remove node:  ('MONDO:0022817', 'Disease')  with layer:  2\n",
      "Remove node:  ('MONDO:0022818', 'Disease')  with layer:  2\n",
      "Remove node:  ('MONDO:0022819', 'Disease')  with layer:  2\n",
      "Remove node:  ('MONDO:0022820', 'Disease')  with layer:  2\n",
      "Remove node:  ('MONDO:0022821', 'Disease')  with layer:  2\n",
      "Remove node:  ('MONDO:0022822', 'Disease')  with layer:  2\n",
      "Remove node:  ('MONDO:0022823', 'Disease')  with layer:  2\n",
      "Remove node:  ('MONDO:0022824', 'Disease')  with layer:  2\n",
      "Remove node:  ('MONDO:0022825', 'Disease')  with layer:  2\n",
      "Remove node:  ('MONDO:0022831', 'Disease')  with layer:  2\n",
      "Remove node:  ('MONDO:0022832', 'Disease')  with layer:  2\n",
      "Remove node:  ('MONDO:0022843', 'Disease')  with layer:  2\n",
      "Remove node:  ('MONDO:0022849', 'Disease')  with layer:  2\n",
      "Remove node:  ('MONDO:0022851', 'Disease')  with layer:  2\n",
      "Remove node:  ('MONDO:0022854', 'Disease')  with layer:  2\n",
      "Remove node:  ('MONDO:0022855', 'Disease')  with layer:  2\n",
      "Remove node:  ('MONDO:0022858', 'Disease')  with layer:  2\n",
      "Remove node:  ('MONDO:0022862', 'Disease')  with layer:  2\n",
      "Remove node:  ('MONDO:0022863', 'Disease')  with layer:  2\n",
      "Remove node:  ('MONDO:0022865', 'Disease')  with layer:  2\n",
      "Remove node:  ('MONDO:0022866', 'Disease')  with layer:  2\n",
      "Remove node:  ('MONDO:0022869', 'Disease')  with layer:  2\n",
      "Remove node:  ('MONDO:0022871', 'Disease')  with layer:  2\n",
      "Remove node:  ('MONDO:0022872', 'Disease')  with layer:  2\n",
      "Remove node:  ('MONDO:0022873', 'Disease')  with layer:  2\n",
      "Remove node:  ('MONDO:0022874', 'Disease')  with layer:  2\n",
      "Remove node:  ('MONDO:0022875', 'Disease')  with layer:  2\n",
      "Remove node:  ('MONDO:0022876', 'Disease')  with layer:  2\n",
      "Remove node:  ('MONDO:0022880', 'Disease')  with layer:  2\n",
      "Remove node:  ('MONDO:0022883', 'Disease')  with layer:  2\n",
      "Remove node:  ('MONDO:0022884', 'Disease')  with layer:  2\n",
      "Remove node:  ('MONDO:0022887', 'Disease')  with layer:  2\n",
      "Remove node:  ('MONDO:0022889', 'Disease')  with layer:  2\n",
      "Remove node:  ('MONDO:0022899', 'Disease')  with layer:  2\n",
      "Remove node:  ('MONDO:0022908', 'Disease')  with layer:  2\n",
      "Remove node:  ('MONDO:0022909', 'Disease')  with layer:  2\n",
      "Remove node:  ('MONDO:0022913', 'Disease')  with layer:  2\n",
      "Remove node:  ('MONDO:0022916', 'Disease')  with layer:  2\n",
      "Remove node:  ('MONDO:0022926', 'Disease')  with layer:  2\n",
      "Remove node:  ('MONDO:0022936', 'Disease')  with layer:  2\n",
      "Remove node:  ('MONDO:0022937', 'Disease')  with layer:  2\n",
      "Remove node:  ('MONDO:0022938', 'Disease')  with layer:  2\n",
      "Remove node:  ('MONDO:0022941', 'Disease')  with layer:  2\n",
      "Remove node:  ('MONDO:0022942', 'Disease')  with layer:  2\n",
      "Remove node:  ('MONDO:0022945', 'Disease')  with layer:  2\n",
      "Remove node:  ('MONDO:0022946', 'Disease')  with layer:  2\n",
      "Remove node:  ('MONDO:0022960', 'Disease')  with layer:  2\n",
      "Remove node:  ('MONDO:0022968', 'Disease')  with layer:  2\n",
      "Remove node:  ('MONDO:0022971', 'Disease')  with layer:  2\n",
      "Remove node:  ('MONDO:0022975', 'Disease')  with layer:  2\n",
      "Remove node:  ('MONDO:0022977', 'Disease')  with layer:  2\n",
      "Remove node:  ('MONDO:0022978', 'Disease')  with layer:  2\n",
      "Remove node:  ('MONDO:0022981', 'Disease')  with layer:  2\n",
      "Remove node:  ('MONDO:0022982', 'Disease')  with layer:  2\n",
      "Remove node:  ('MONDO:0022989', 'Disease')  with layer:  2\n",
      "Remove node:  ('MONDO:0022990', 'Disease')  with layer:  2\n",
      "Remove node:  ('MONDO:0022999', 'Disease')  with layer:  2\n",
      "Remove node:  ('MONDO:0023000', 'Disease')  with layer:  2\n",
      "Remove node:  ('MONDO:0023002', 'Disease')  with layer:  2\n",
      "Remove node:  ('MONDO:0023005', 'Disease')  with layer:  2\n",
      "Remove node:  ('MONDO:0023007', 'Disease')  with layer:  2\n",
      "Remove node:  ('MONDO:0023013', 'Disease')  with layer:  2\n",
      "Remove node:  ('MONDO:0023015', 'Disease')  with layer:  2\n",
      "Remove node:  ('MONDO:0023016', 'Disease')  with layer:  2\n",
      "Remove node:  ('MONDO:0023017', 'Disease')  with layer:  2\n",
      "Remove node:  ('MONDO:0023018', 'Disease')  with layer:  2\n",
      "Remove node:  ('MONDO:0023019', 'Disease')  with layer:  2\n",
      "Remove node:  ('MONDO:0023020', 'Disease')  with layer:  2\n",
      "Remove node:  ('MONDO:0023021', 'Disease')  with layer:  2\n",
      "Remove node:  ('MONDO:0023022', 'Disease')  with layer:  2\n",
      "Remove node:  ('MONDO:0023030', 'Disease')  with layer:  2\n",
      "Remove node:  ('MONDO:0023031', 'Disease')  with layer:  2\n",
      "Remove node:  ('MONDO:0023035', 'Disease')  with layer:  2\n",
      "Remove node:  ('MONDO:0023038', 'Disease')  with layer:  2\n",
      "Remove node:  ('MONDO:0023046', 'Disease')  with layer:  2\n",
      "Remove node:  ('MONDO:0023048', 'Disease')  with layer:  2\n",
      "Remove node:  ('MONDO:0023050', 'Disease')  with layer:  2\n",
      "Remove node:  ('MONDO:0023052', 'Disease')  with layer:  2\n",
      "Remove node:  ('MONDO:0023061', 'Disease')  with layer:  2\n",
      "Remove node:  ('MONDO:0023062', 'Disease')  with layer:  2\n",
      "Remove node:  ('MONDO:0023066', 'Disease')  with layer:  2\n",
      "Remove node:  ('MONDO:0023068', 'Disease')  with layer:  2\n",
      "Remove node:  ('MONDO:0023069', 'Disease')  with layer:  2\n",
      "Remove node:  ('MONDO:0023079', 'Disease')  with layer:  2\n",
      "Remove node:  ('MONDO:0023083', 'Disease')  with layer:  2\n",
      "Remove node:  ('MONDO:0023084', 'Disease')  with layer:  2\n",
      "Remove node:  ('MONDO:0023091', 'Disease')  with layer:  2\n",
      "Remove node:  ('MONDO:0023098', 'Disease')  with layer:  2\n",
      "Remove node:  ('MONDO:0023100', 'Disease')  with layer:  2\n",
      "Remove node:  ('MONDO:0023101', 'Disease')  with layer:  2\n",
      "Remove node:  ('MONDO:0023102', 'Disease')  with layer:  2\n",
      "Remove node:  ('MONDO:0023111', 'Disease')  with layer:  2\n",
      "Remove node:  ('MONDO:0023124', 'Disease')  with layer:  2\n",
      "Remove node:  ('MONDO:0023133', 'Disease')  with layer:  2\n",
      "Remove node:  ('MONDO:0023137', 'Disease')  with layer:  2\n",
      "Remove node:  ('MONDO:0023138', 'Disease')  with layer:  2\n",
      "Remove node:  ('MONDO:0023140', 'Disease')  with layer:  2\n",
      "Remove node:  ('MONDO:0023142', 'Disease')  with layer:  2\n",
      "Remove node:  ('MONDO:0023143', 'Disease')  with layer:  2\n",
      "Remove node:  ('MONDO:0023147', 'Disease')  with layer:  2\n",
      "Remove node:  ('MONDO:0023148', 'Disease')  with layer:  2\n",
      "Remove node:  ('MONDO:0023154', 'Disease')  with layer:  2\n",
      "Remove node:  ('MONDO:0023155', 'Disease')  with layer:  2\n",
      "Remove node:  ('MONDO:0023157', 'Disease')  with layer:  2\n",
      "Remove node:  ('MONDO:0023158', 'Disease')  with layer:  2\n",
      "Remove node:  ('MONDO:0023167', 'Disease')  with layer:  2\n",
      "Remove node:  ('MONDO:0023170', 'Disease')  with layer:  2\n",
      "Remove node:  ('MONDO:0023171', 'Disease')  with layer:  2\n",
      "Remove node:  ('MONDO:0023175', 'Disease')  with layer:  2\n",
      "Remove node:  ('MONDO:0023186', 'Disease')  with layer:  2\n",
      "Remove node:  ('MONDO:0023188', 'Disease')  with layer:  2\n",
      "Remove node:  ('MONDO:0023193', 'Disease')  with layer:  2\n",
      "Remove node:  ('MONDO:0023194', 'Disease')  with layer:  2\n",
      "Remove node:  ('MONDO:0023196', 'Disease')  with layer:  2\n",
      "Remove node:  ('MONDO:0023197', 'Disease')  with layer:  2\n",
      "Remove node:  ('MONDO:0023199', 'Disease')  with layer:  2\n",
      "Remove node:  ('MONDO:0023200', 'Disease')  with layer:  2\n",
      "Remove node:  ('MONDO:0023201', 'Disease')  with layer:  2\n",
      "Remove node:  ('MONDO:0023203', 'Disease')  with layer:  2\n",
      "Remove node:  ('MONDO:0023204', 'Disease')  with layer:  2\n",
      "Remove node:  ('MONDO:0023208', 'Disease')  with layer:  2\n",
      "Remove node:  ('MONDO:0023212', 'Disease')  with layer:  2\n",
      "Remove node:  ('MONDO:0023214', 'Disease')  with layer:  2\n",
      "Remove node:  ('MONDO:0023221', 'Disease')  with layer:  2\n",
      "Remove node:  ('MONDO:0023226', 'Disease')  with layer:  2\n",
      "Remove node:  ('MONDO:0023230', 'Disease')  with layer:  2\n",
      "Remove node:  ('MONDO:0023240', 'Disease')  with layer:  2\n",
      "Remove node:  ('MONDO:0023255', 'Disease')  with layer:  2\n",
      "Remove node:  ('MONDO:0023267', 'Disease')  with layer:  2\n",
      "Remove node:  ('MONDO:0023272', 'Disease')  with layer:  2\n",
      "Remove node:  ('MONDO:0023288', 'Disease')  with layer:  2\n",
      "Remove node:  ('MONDO:0023290', 'Disease')  with layer:  2\n",
      "Remove node:  ('MONDO:0023368', 'Disease')  with layer:  2\n",
      "Remove node:  ('MONDO:0023510', 'Disease')  with layer:  2\n",
      "Remove node:  ('MONDO:0023540', 'Disease')  with layer:  2\n",
      "Remove node:  ('MONDO:0023541', 'Disease')  with layer:  2\n",
      "Remove node:  ('MONDO:0023567', 'Disease')  with layer:  2\n",
      "Remove node:  ('MONDO:0023569', 'Disease')  with layer:  2\n",
      "Remove node:  ('MONDO:0023573', 'Disease')  with layer:  2\n",
      "Remove node:  ('MONDO:0023575', 'Disease')  with layer:  2\n",
      "Remove node:  ('MONDO:0023577', 'Disease')  with layer:  2\n",
      "Remove node:  ('MONDO:0023579', 'Disease')  with layer:  2\n",
      "Remove node:  ('MONDO:0023581', 'Disease')  with layer:  2\n",
      "Remove node:  ('MONDO:0023605', 'Disease')  with layer:  2\n",
      "Remove node:  ('MONDO:0023607', 'Disease')  with layer:  2\n",
      "Remove node:  ('MONDO:0023609', 'Disease')  with layer:  2\n",
      "Remove node:  ('MONDO:0023628', 'Disease')  with layer:  2\n",
      "Remove node:  ('MONDO:0023696', 'Disease')  with layer:  2\n",
      "Remove node:  ('MONDO:0023809', 'Disease')  with layer:  2\n",
      "Remove node:  ('MONDO:0024171', 'Disease')  with layer:  2\n",
      "Remove node:  ('MONDO:0024234', 'Disease')  with layer:  2\n",
      "Remove node:  ('MONDO:0024263', 'Disease')  with layer:  2\n",
      "Remove node:  ('MONDO:0024418', 'Disease')  with layer:  2\n",
      "Remove node:  ('MONDO:0024421', 'Disease')  with layer:  2\n",
      "Remove node:  ('MONDO:0024429', 'Disease')  with layer:  2\n",
      "Remove node:  ('MONDO:0024525', 'Disease')  with layer:  2\n",
      "Remove node:  ('MONDO:0024542', 'Disease')  with layer:  2\n",
      "Remove node:  ('MONDO:0026782', 'Disease')  with layer:  2\n",
      "Remove node:  ('MONDO:0029132', 'Disease')  with layer:  2\n",
      "Remove node:  ('MONDO:0030056', 'Disease')  with layer:  2\n",
      "Remove node:  ('MONDO:0030899', 'Disease')  with layer:  2\n",
      "Remove node:  ('MONDO:0030903', 'Disease')  with layer:  2\n",
      "Remove node:  ('MONDO:0030933', 'Disease')  with layer:  2\n",
      "Remove node:  ('MONDO:0032570', 'Disease')  with layer:  2\n",
      "Remove node:  ('MONDO:0032592', 'Disease')  with layer:  2\n",
      "Remove node:  ('MONDO:0032637', 'Disease')  with layer:  2\n",
      "Remove node:  ('MONDO:0032664', 'Disease')  with layer:  2\n",
      "Remove node:  ('MONDO:0032668', 'Disease')  with layer:  2\n",
      "Remove node:  ('MONDO:0032669', 'Disease')  with layer:  2\n",
      "Remove node:  ('MONDO:0032670', 'Disease')  with layer:  2\n",
      "Remove node:  ('MONDO:0032756', 'Disease')  with layer:  2\n",
      "Remove node:  ('MONDO:0032757', 'Disease')  with layer:  2\n",
      "Remove node:  ('MONDO:0032815', 'Disease')  with layer:  2\n",
      "Remove node:  ('MONDO:0032872', 'Disease')  with layer:  2\n",
      "Remove node:  ('MONDO:0032874', 'Disease')  with layer:  2\n",
      "Remove node:  ('MONDO:0032902', 'Disease')  with layer:  2\n",
      "Remove node:  ('MONDO:0032914', 'Disease')  with layer:  2\n",
      "Remove node:  ('MONDO:0032915', 'Disease')  with layer:  2\n",
      "Remove node:  ('MONDO:0032924', 'Disease')  with layer:  2\n",
      "Remove node:  ('MONDO:0032932', 'Disease')  with layer:  2\n",
      "Remove node:  ('MONDO:0033204', 'Disease')  with layer:  2\n",
      "Remove node:  ('MONDO:0033308', 'Disease')  with layer:  2\n",
      "Remove node:  ('MONDO:0033309', 'Disease')  with layer:  2\n",
      "Remove node:  ('MONDO:0033310', 'Disease')  with layer:  2\n",
      "Remove node:  ('MONDO:0033311', 'Disease')  with layer:  2\n",
      "Remove node:  ('MONDO:0033545', 'Disease')  with layer:  2\n",
      "Remove node:  ('MONDO:0034204', 'Disease')  with layer:  2\n",
      "Remove node:  ('MONDO:0042600', 'Disease')  with layer:  2\n",
      "Remove node:  ('MONDO:0042601', 'Disease')  with layer:  2\n",
      "Remove node:  ('MONDO:0042602', 'Disease')  with layer:  2\n",
      "Remove node:  ('MONDO:0042603', 'Disease')  with layer:  2\n",
      "Remove node:  ('MONDO:0042604', 'Disease')  with layer:  2\n",
      "Remove node:  ('MONDO:0042705', 'Disease')  with layer:  2\n",
      "Remove node:  ('MONDO:0042717', 'Disease')  with layer:  2\n",
      "Remove node:  ('MONDO:0042724', 'Disease')  with layer:  2\n",
      "Remove node:  ('MONDO:0042726', 'Disease')  with layer:  2\n",
      "Remove node:  ('MONDO:0042902', 'Disease')  with layer:  2\n",
      "Remove node:  ('MONDO:0042908', 'Disease')  with layer:  2\n",
      "Remove node:  ('MONDO:0042911', 'Disease')  with layer:  2\n",
      "Remove node:  ('MONDO:0042912', 'Disease')  with layer:  2\n",
      "Remove node:  ('MONDO:0042913', 'Disease')  with layer:  2\n",
      "Remove node:  ('MONDO:0042915', 'Disease')  with layer:  2\n",
      "Remove node:  ('MONDO:0042924', 'Disease')  with layer:  2\n",
      "Remove node:  ('MONDO:0042956', 'Disease')  with layer:  2\n",
      "Remove node:  ('MONDO:0042960', 'Disease')  with layer:  2\n",
      "Remove node:  ('MONDO:0042962', 'Disease')  with layer:  2\n",
      "Remove node:  ('MONDO:0043073', 'Disease')  with layer:  2\n",
      "Remove node:  ('MONDO:0043077', 'Disease')  with layer:  2\n",
      "Remove node:  ('MONDO:0043087', 'Disease')  with layer:  2\n",
      "Remove node:  ('MONDO:0043108', 'Disease')  with layer:  2\n",
      "Remove node:  ('MONDO:0043114', 'Disease')  with layer:  2\n",
      "Remove node:  ('MONDO:0043129', 'Disease')  with layer:  2\n",
      "Remove node:  ('MONDO:0043170', 'Disease')  with layer:  2\n",
      "Remove node:  ('MONDO:0043172', 'Disease')  with layer:  2\n",
      "Remove node:  ('MONDO:0043176', 'Disease')  with layer:  2\n",
      "Remove node:  ('MONDO:0043179', 'Disease')  with layer:  2\n",
      "Remove node:  ('MONDO:0043183', 'Disease')  with layer:  2\n",
      "Remove node:  ('MONDO:0043185', 'Disease')  with layer:  2\n",
      "Remove node:  ('MONDO:0043193', 'Disease')  with layer:  2\n",
      "Remove node:  ('MONDO:0043195', 'Disease')  with layer:  2\n",
      "Remove node:  ('MONDO:0043197', 'Disease')  with layer:  2\n",
      "Remove node:  ('MONDO:0043199', 'Disease')  with layer:  2\n",
      "Remove node:  ('MONDO:0043247', 'Disease')  with layer:  2\n",
      "Remove node:  ('MONDO:0043287', 'Disease')  with layer:  2\n",
      "Remove node:  ('MONDO:0043320', 'Disease')  with layer:  2\n",
      "Remove node:  ('MONDO:0043358', 'Disease')  with layer:  2\n",
      "Remove node:  ('MONDO:0043475', 'Disease')  with layer:  2\n",
      "Remove node:  ('MONDO:0043683', 'Disease')  with layer:  2\n",
      "Remove node:  ('MONDO:0043726', 'Disease')  with layer:  2\n",
      "Remove node:  ('MONDO:0044033', 'Disease')  with layer:  2\n",
      "Remove node:  ('MONDO:0044079', 'Disease')  with layer:  2\n",
      "Remove node:  ('MONDO:0044204', 'Disease')  with layer:  2\n",
      "Remove node:  ('MONDO:0044205', 'Disease')  with layer:  2\n",
      "Remove node:  ('MONDO:0044299', 'Disease')  with layer:  2\n",
      "Remove node:  ('MONDO:0044309', 'Disease')  with layer:  2\n",
      "Remove node:  ('MONDO:0044310', 'Disease')  with layer:  2\n",
      "Remove node:  ('MONDO:0044876', 'Disease')  with layer:  2\n",
      "Remove node:  ('MONDO:0054549', 'Disease')  with layer:  2\n",
      "Remove node:  ('MONDO:0054573', 'Disease')  with layer:  2\n",
      "Remove node:  ('MONDO:0054591', 'Disease')  with layer:  2\n",
      "Remove node:  ('MONDO:0054636', 'Disease')  with layer:  2\n",
      "Remove node:  ('MONDO:0054835', 'Disease')  with layer:  2\n",
      "Remove node:  ('MONDO:0054836', 'Disease')  with layer:  2\n",
      "Remove node:  ('MONDO:0054843', 'Disease')  with layer:  2\n",
      "Remove node:  ('MONDO:0060592', 'Disease')  with layer:  2\n",
      "Remove node:  ('MONDO:0060631', 'Disease')  with layer:  2\n",
      "Remove node:  ('MONDO:0060662', 'Disease')  with layer:  2\n",
      "Remove node:  ('MONDO:0060707', 'Disease')  with layer:  2\n",
      "Remove node:  ('MONDO:0060711', 'Disease')  with layer:  2\n",
      "Remove node:  ('MONDO:0100071', 'Disease')  with layer:  2\n",
      "Remove node:  ('MONDO:0100080', 'Disease')  with layer:  2\n",
      "Remove node:  ('MONDO:0100094', 'Disease')  with layer:  2\n",
      "Remove node:  ('MONDO:0100253', 'Disease')  with layer:  2\n",
      "Remove node:  ('MONDO:0100316', 'Disease')  with layer:  2\n",
      "Remove node:  ('MONDO:0100344', 'Disease')  with layer:  2\n",
      "Remove node:  ('MONDO:0100347', 'Disease')  with layer:  2\n",
      "Remove node:  ('MONDO:0001721', 'Disease')  with layer:  2\n",
      "Remove node:  ('MONDO:0002081', 'Disease')  with layer:  2\n",
      "Remove node:  ('MONDO:0003939', 'Disease')  with layer:  2\n",
      "Remove node:  ('MONDO:0005290', 'Disease')  with layer:  2\n",
      "Remove node:  ('MONDO:0005307', 'Disease')  with layer:  2\n",
      "Remove node:  ('MONDO:0005667', 'Disease')  with layer:  2\n",
      "Remove node:  ('MONDO:0006516', 'Disease')  with layer:  2\n",
      "Remove node:  ('MONDO:0006648', 'Disease')  with layer:  2\n",
      "Remove node:  ('MONDO:0006763', 'Disease')  with layer:  2\n",
      "Remove node:  ('MONDO:0007028', 'Disease')  with layer:  2\n",
      "Remove node:  ('MONDO:0023558', 'Disease')  with layer:  2\n",
      "Remove node:  ('MONDO:0000425', 'Disease')  with layer:  2\n",
      "Remove node:  ('MONDO:0002211', 'Disease')  with layer:  2\n",
      "Remove node:  ('MONDO:0003778', 'Disease')  with layer:  2\n",
      "Remove node:  ('MONDO:0003780', 'Disease')  with layer:  2\n",
      "Remove node:  ('MONDO:0003832', 'Disease')  with layer:  2\n",
      "Remove node:  ('MONDO:0003847', 'Disease')  with layer:  2\n",
      "Remove node:  ('MONDO:0005046', 'Disease')  with layer:  2\n",
      "Remove node:  ('MONDO:0010389', 'Disease')  with layer:  2\n",
      "Remove node:  ('MONDO:0010627', 'Disease')  with layer:  2\n",
      "Remove node:  ('MONDO:0010954', 'Disease')  with layer:  2\n",
      "Remove node:  ('MONDO:0011096', 'Disease')  with layer:  2\n",
      "Remove node:  ('MONDO:0011888', 'Disease')  with layer:  2\n",
      "Remove node:  ('MONDO:0012383', 'Disease')  with layer:  2\n",
      "Remove node:  ('MONDO:0012987', 'Disease')  with layer:  2\n",
      "Remove node:  ('MONDO:0013287', 'Disease')  with layer:  2\n",
      "Remove node:  ('MONDO:0013288', 'Disease')  with layer:  2\n",
      "Remove node:  ('MONDO:0013289', 'Disease')  with layer:  2\n",
      "Remove node:  ('MONDO:0013290', 'Disease')  with layer:  2\n",
      "Remove node:  ('MONDO:0013599', 'Disease')  with layer:  2\n",
      "Remove node:  ('MONDO:0013779', 'Disease')  with layer:  2\n",
      "Remove node:  ('MONDO:0013956', 'Disease')  with layer:  2\n",
      "Remove node:  ('MONDO:0014083', 'Disease')  with layer:  2\n",
      "Remove node:  ('MONDO:0014840', 'Disease')  with layer:  2\n",
      "Remove node:  ('MONDO:0015131', 'Disease')  with layer:  2\n",
      "Remove node:  ('MONDO:0015279', 'Disease')  with layer:  2\n",
      "Remove node:  ('MONDO:0015703', 'Disease')  with layer:  2\n",
      "Remove node:  ('MONDO:0015977', 'Disease')  with layer:  2\n",
      "Remove node:  ('MONDO:0015979', 'Disease')  with layer:  2\n",
      "Remove node:  ('MONDO:0016462', 'Disease')  with layer:  2\n",
      "Remove node:  ('MONDO:0017900', 'Disease')  with layer:  2\n",
      "Remove node:  ('MONDO:0017901', 'Disease')  with layer:  2\n",
      "Remove node:  ('MONDO:0017902', 'Disease')  with layer:  2\n",
      "Remove node:  ('MONDO:0017905', 'Disease')  with layer:  2\n",
      "Remove node:  ('MONDO:0018042', 'Disease')  with layer:  2\n",
      "Remove node:  ('MONDO:0018338', 'Disease')  with layer:  2\n",
      "Remove node:  ('MONDO:0019146', 'Disease')  with layer:  2\n",
      "Remove node:  ('MONDO:0020530', 'Disease')  with layer:  2\n",
      "Remove node:  ('MONDO:0020590', 'Disease')  with layer:  2\n",
      "Remove node:  ('MONDO:0020729', 'Disease')  with layer:  2\n",
      "Remove node:  ('MONDO:0026767', 'Disease')  with layer:  2\n",
      "Remove node:  ('MONDO:0030971', 'Disease')  with layer:  2\n",
      "Remove node:  ('MONDO:0032782', 'Disease')  with layer:  2\n",
      "Remove node:  ('MONDO:0032848', 'Disease')  with layer:  2\n",
      "Remove node:  ('MONDO:0033551', 'Disease')  with layer:  2\n",
      "Remove node:  ('MONDO:0033554', 'Disease')  with layer:  2\n",
      "Remove node:  ('MONDO:0033555', 'Disease')  with layer:  2\n",
      "Remove node:  ('MONDO:0042982', 'Disease')  with layer:  2\n",
      "Remove node:  ('MONDO:0054697', 'Disease')  with layer:  2\n",
      "Remove node:  ('MONDO:0000022', 'Disease')  with layer:  2\n",
      "Remove node:  ('MONDO:0000111', 'Disease')  with layer:  2\n",
      "Remove node:  ('MONDO:0000115', 'Disease')  with layer:  2\n",
      "Remove node:  ('MONDO:0000137', 'Disease')  with layer:  2\n",
      "Remove node:  ('MONDO:0000166', 'Disease')  with layer:  2\n",
      "Remove node:  ('MONDO:0000171', 'Disease')  with layer:  2\n",
      "Remove node:  ('MONDO:0000172', 'Disease')  with layer:  2\n",
      "Remove node:  ('MONDO:0000173', 'Disease')  with layer:  2\n",
      "Remove node:  ('MONDO:0000200', 'Disease')  with layer:  2\n",
      "Remove node:  ('MONDO:0000355', 'Disease')  with layer:  2\n",
      "Remove node:  ('MONDO:0000389', 'Disease')  with layer:  2\n",
      "Remove node:  ('MONDO:0000448', 'Disease')  with layer:  2\n",
      "Remove node:  ('MONDO:0000509', 'Disease')  with layer:  2\n",
      "Remove node:  ('MONDO:0000694', 'Disease')  with layer:  2\n",
      "Remove node:  ('MONDO:0000723', 'Disease')  with layer:  2\n",
      "Remove node:  ('MONDO:0000724', 'Disease')  with layer:  2\n",
      "Remove node:  ('MONDO:0000904', 'Disease')  with layer:  2\n",
      "Remove node:  ('MONDO:0001098', 'Disease')  with layer:  2\n",
      "Remove node:  ('MONDO:0001158', 'Disease')  with layer:  2\n",
      "Remove node:  ('MONDO:0001296', 'Disease')  with layer:  2\n",
      "Remove node:  ('MONDO:0001734', 'Disease')  with layer:  2\n",
      "Remove node:  ('MONDO:0001942', 'Disease')  with layer:  2\n",
      "Remove node:  ('MONDO:0002009', 'Disease')  with layer:  2\n",
      "Remove node:  ('MONDO:0002016', 'Disease')  with layer:  2\n",
      "Remove node:  ('MONDO:0002050', 'Disease')  with layer:  2\n",
      "Remove node:  ('MONDO:0003265', 'Disease')  with layer:  2\n",
      "Remove node:  ('MONDO:0003303', 'Disease')  with layer:  2\n",
      "Remove node:  ('MONDO:0004587', 'Disease')  with layer:  2\n",
      "Remove node:  ('MONDO:0004588', 'Disease')  with layer:  2\n",
      "Remove node:  ('MONDO:0005071', 'Disease')  with layer:  2\n",
      "Remove node:  ('MONDO:0005090', 'Disease')  with layer:  2\n",
      "Remove node:  ('MONDO:0005259', 'Disease')  with layer:  2\n",
      "Remove node:  ('MONDO:0005371', 'Disease')  with layer:  2\n",
      "Remove node:  ('MONDO:0005383', 'Disease')  with layer:  2\n",
      "Remove node:  ('MONDO:0005391', 'Disease')  with layer:  2\n",
      "Remove node:  ('MONDO:0005451', 'Disease')  with layer:  2\n",
      "Remove node:  ('MONDO:0005469', 'Disease')  with layer:  2\n",
      "Remove node:  ('MONDO:0005562', 'Disease')  with layer:  2\n",
      "Remove node:  ('MONDO:0005579', 'Disease')  with layer:  2\n",
      "Remove node:  ('MONDO:0005618', 'Disease')  with layer:  2\n",
      "Remove node:  ('MONDO:0005712', 'Disease')  with layer:  2\n",
      "Remove node:  ('MONDO:0006037', 'Disease')  with layer:  2\n",
      "Remove node:  ('MONDO:0006823', 'Disease')  with layer:  2\n",
      "Remove node:  ('MONDO:0007039', 'Disease')  with layer:  2\n",
      "Remove node:  ('MONDO:0007045', 'Disease')  with layer:  2\n",
      "Remove node:  ('MONDO:0007085', 'Disease')  with layer:  2\n",
      "Remove node:  ('MONDO:0007113', 'Disease')  with layer:  2\n",
      "Remove node:  ('MONDO:0007167', 'Disease')  with layer:  2\n",
      "Remove node:  ('MONDO:0007168', 'Disease')  with layer:  2\n",
      "Remove node:  ('MONDO:0007187', 'Disease')  with layer:  2\n",
      "Remove node:  ('MONDO:0007188', 'Disease')  with layer:  2\n",
      "Remove node:  ('MONDO:0007200', 'Disease')  with layer:  2\n",
      "Remove node:  ('MONDO:0007245', 'Disease')  with layer:  2\n",
      "Remove node:  ('MONDO:0007265', 'Disease')  with layer:  2\n",
      "Remove node:  ('MONDO:0007273', 'Disease')  with layer:  2\n",
      "Remove node:  ('MONDO:0007316', 'Disease')  with layer:  2\n",
      "Remove node:  ('MONDO:0007344', 'Disease')  with layer:  2\n",
      "Remove node:  ('MONDO:0007354', 'Disease')  with layer:  2\n",
      "Remove node:  ('MONDO:0007365', 'Disease')  with layer:  2\n",
      "Remove node:  ('MONDO:0007366', 'Disease')  with layer:  2\n",
      "Remove node:  ('MONDO:0007387', 'Disease')  with layer:  2\n",
      "Remove node:  ('MONDO:0007440', 'Disease')  with layer:  2\n",
      "Remove node:  ('MONDO:0007450', 'Disease')  with layer:  2\n",
      "Remove node:  ('MONDO:0007487', 'Disease')  with layer:  2\n",
      "Remove node:  ('MONDO:0007614', 'Disease')  with layer:  2\n",
      "Remove node:  ('MONDO:0007617', 'Disease')  with layer:  2\n",
      "Remove node:  ('MONDO:0007626', 'Disease')  with layer:  2\n",
      "Remove node:  ('MONDO:0007679', 'Disease')  with layer:  2\n",
      "Remove node:  ('MONDO:0007716', 'Disease')  with layer:  2\n",
      "Remove node:  ('MONDO:0007753', 'Disease')  with layer:  2\n",
      "Remove node:  ('MONDO:0007837', 'Disease')  with layer:  2\n",
      "Remove node:  ('MONDO:0007839', 'Disease')  with layer:  2\n",
      "Remove node:  ('MONDO:0007843', 'Disease')  with layer:  2\n",
      "Remove node:  ('MONDO:0007903', 'Disease')  with layer:  2\n",
      "Remove node:  ('MONDO:0007967', 'Disease')  with layer:  2\n",
      "Remove node:  ('MONDO:0007972', 'Disease')  with layer:  2\n",
      "Remove node:  ('MONDO:0007974', 'Disease')  with layer:  2\n",
      "Remove node:  ('MONDO:0008029', 'Disease')  with layer:  2\n",
      "Remove node:  ('MONDO:0008038', 'Disease')  with layer:  2\n",
      "Remove node:  ('MONDO:0008055', 'Disease')  with layer:  2\n",
      "Remove node:  ('MONDO:0008056', 'Disease')  with layer:  2\n",
      "Remove node:  ('MONDO:0008062', 'Disease')  with layer:  2\n",
      "Remove node:  ('MONDO:0008075', 'Disease')  with layer:  2\n",
      "Remove node:  ('MONDO:0008097', 'Disease')  with layer:  2\n",
      "Remove node:  ('MONDO:0008106', 'Disease')  with layer:  2\n",
      "Remove node:  ('MONDO:0008114', 'Disease')  with layer:  2\n",
      "Remove node:  ('MONDO:0008137', 'Disease')  with layer:  2\n",
      "Remove node:  ('MONDO:0008179', 'Disease')  with layer:  2\n",
      "Remove node:  ('MONDO:0008187', 'Disease')  with layer:  2\n",
      "Remove node:  ('MONDO:0008192', 'Disease')  with layer:  2\n",
      "Remove node:  ('MONDO:0008197', 'Disease')  with layer:  2\n",
      "Remove node:  ('MONDO:0008222', 'Disease')  with layer:  2\n",
      "Remove node:  ('MONDO:0008267', 'Disease')  with layer:  2\n",
      "Remove node:  ('MONDO:0008318', 'Disease')  with layer:  2\n",
      "Remove node:  ('MONDO:0008337', 'Disease')  with layer:  2\n",
      "Remove node:  ('MONDO:0008375', 'Disease')  with layer:  2\n",
      "Remove node:  ('MONDO:0008414', 'Disease')  with layer:  2\n",
      "Remove node:  ('MONDO:0008426', 'Disease')  with layer:  2\n",
      "Remove node:  ('MONDO:0008434', 'Disease')  with layer:  2\n",
      "Remove node:  ('MONDO:0008467', 'Disease')  with layer:  2\n",
      "Remove node:  ('MONDO:0008525', 'Disease')  with layer:  2\n",
      "Remove node:  ('MONDO:0008612', 'Disease')  with layer:  2\n",
      "Remove node:  ('MONDO:0008654', 'Disease')  with layer:  2\n",
      "Remove node:  ('MONDO:0008656', 'Disease')  with layer:  2\n",
      "Remove node:  ('MONDO:0008684', 'Disease')  with layer:  2\n",
      "Remove node:  ('MONDO:0008708', 'Disease')  with layer:  2\n",
      "Remove node:  ('MONDO:0008714', 'Disease')  with layer:  2\n",
      "Remove node:  ('MONDO:0008754', 'Disease')  with layer:  2\n",
      "Remove node:  ('MONDO:0008756', 'Disease')  with layer:  2\n",
      "Remove node:  ('MONDO:0008795', 'Disease')  with layer:  2\n",
      "Remove node:  ('MONDO:0008796', 'Disease')  with layer:  2\n",
      "Remove node:  ('MONDO:0008816', 'Disease')  with layer:  2\n",
      "Remove node:  ('MONDO:0008885', 'Disease')  with layer:  2\n",
      "Remove node:  ('MONDO:0008893', 'Disease')  with layer:  2\n",
      "Remove node:  ('MONDO:0008894', 'Disease')  with layer:  2\n",
      "Remove node:  ('MONDO:0008898', 'Disease')  with layer:  2\n",
      "Remove node:  ('MONDO:0008899', 'Disease')  with layer:  2\n",
      "Remove node:  ('MONDO:0008929', 'Disease')  with layer:  2\n",
      "Remove node:  ('MONDO:0008940', 'Disease')  with layer:  2\n",
      "Remove node:  ('MONDO:0008941', 'Disease')  with layer:  2\n",
      "Remove node:  ('MONDO:0008952', 'Disease')  with layer:  2\n",
      "Remove node:  ('MONDO:0009003', 'Disease')  with layer:  2\n",
      "Remove node:  ('MONDO:0009012', 'Disease')  with layer:  2\n",
      "Remove node:  ('MONDO:0009022', 'Disease')  with layer:  2\n",
      "Remove node:  ('MONDO:0009033', 'Disease')  with layer:  2\n",
      "Remove node:  ('MONDO:0009036', 'Disease')  with layer:  2\n",
      "Remove node:  ('MONDO:0009041', 'Disease')  with layer:  2\n",
      "Remove node:  ('MONDO:0009063', 'Disease')  with layer:  2\n",
      "Remove node:  ('MONDO:0009072', 'Disease')  with layer:  2\n",
      "Remove node:  ('MONDO:0009073', 'Disease')  with layer:  2\n",
      "Remove node:  ('MONDO:0009075', 'Disease')  with layer:  2\n",
      "Remove node:  ('MONDO:0009124', 'Disease')  with layer:  2\n",
      "Remove node:  ('MONDO:0009166', 'Disease')  with layer:  2\n",
      "Remove node:  ('MONDO:0009168', 'Disease')  with layer:  2\n",
      "Remove node:  ('MONDO:0009263', 'Disease')  with layer:  2\n",
      "Remove node:  ('MONDO:0009316', 'Disease')  with layer:  2\n",
      "Remove node:  ('MONDO:0009359', 'Disease')  with layer:  2\n",
      "Remove node:  ('MONDO:0009365', 'Disease')  with layer:  2\n",
      "Remove node:  ('MONDO:0009378', 'Disease')  with layer:  2\n",
      "Remove node:  ('MONDO:0009404', 'Disease')  with layer:  2\n",
      "Remove node:  ('MONDO:0009405', 'Disease')  with layer:  2\n",
      "Remove node:  ('MONDO:0009426', 'Disease')  with layer:  2\n",
      "Remove node:  ('MONDO:0009444', 'Disease')  with layer:  2\n",
      "Remove node:  ('MONDO:0009452', 'Disease')  with layer:  2\n",
      "Remove node:  ('MONDO:0009477', 'Disease')  with layer:  2\n",
      "Remove node:  ('MONDO:0009495', 'Disease')  with layer:  2\n",
      "Remove node:  ('MONDO:0009554', 'Disease')  with layer:  2\n",
      "Remove node:  ('MONDO:0009564', 'Disease')  with layer:  2\n",
      "Remove node:  ('MONDO:0009620', 'Disease')  with layer:  2\n",
      "Remove node:  ('MONDO:0009625', 'Disease')  with layer:  2\n",
      "Remove node:  ('MONDO:0009626', 'Disease')  with layer:  2\n",
      "Remove node:  ('MONDO:0009627', 'Disease')  with layer:  2\n",
      "Remove node:  ('MONDO:0009642', 'Disease')  with layer:  2\n",
      "Remove node:  ('MONDO:0009648', 'Disease')  with layer:  2\n",
      "Remove node:  ('MONDO:0009675', 'Disease')  with layer:  2\n",
      "Remove node:  ('MONDO:0009676', 'Disease')  with layer:  2\n",
      "Remove node:  ('MONDO:0009677', 'Disease')  with layer:  2\n",
      "Remove node:  ('MONDO:0009679', 'Disease')  with layer:  2\n",
      "Remove node:  ('MONDO:0009681', 'Disease')  with layer:  2\n",
      "Remove node:  ('MONDO:0009683', 'Disease')  with layer:  2\n",
      "Remove node:  ('MONDO:0009696', 'Disease')  with layer:  2\n",
      "Remove node:  ('MONDO:0009710', 'Disease')  with layer:  2\n",
      "Remove node:  ('MONDO:0009715', 'Disease')  with layer:  2\n",
      "Remove node:  ('MONDO:0009727', 'Disease')  with layer:  2\n",
      "Remove node:  ('MONDO:0009762', 'Disease')  with layer:  2\n",
      "Remove node:  ('MONDO:0009770', 'Disease')  with layer:  2\n",
      "Remove node:  ('MONDO:0009777', 'Disease')  with layer:  2\n",
      "Remove node:  ('MONDO:0009793', 'Disease')  with layer:  2\n",
      "Remove node:  ('MONDO:0009794', 'Disease')  with layer:  2\n",
      "Remove node:  ('MONDO:0009795', 'Disease')  with layer:  2\n",
      "Remove node:  ('MONDO:0009875', 'Disease')  with layer:  2\n",
      "Remove node:  ('MONDO:0009910', 'Disease')  with layer:  2\n",
      "Remove node:  ('MONDO:0009927', 'Disease')  with layer:  2\n",
      "Remove node:  ('MONDO:0009952', 'Disease')  with layer:  2\n",
      "Remove node:  ('MONDO:0009974', 'Disease')  with layer:  2\n",
      "Remove node:  ('MONDO:0010021', 'Disease')  with layer:  2\n",
      "Remove node:  ('MONDO:0010069', 'Disease')  with layer:  2\n",
      "Remove node:  ('MONDO:0010092', 'Disease')  with layer:  2\n",
      "Remove node:  ('MONDO:0010159', 'Disease')  with layer:  2\n",
      "Remove node:  ('MONDO:0010176', 'Disease')  with layer:  2\n",
      "Remove node:  ('MONDO:0010190', 'Disease')  with layer:  2\n",
      "Remove node:  ('MONDO:0010270', 'Disease')  with layer:  2\n",
      "Remove node:  ('MONDO:0010277', 'Disease')  with layer:  2\n",
      "Remove node:  ('MONDO:0010283', 'Disease')  with layer:  2\n",
      "Remove node:  ('MONDO:0010285', 'Disease')  with layer:  2\n",
      "Remove node:  ('MONDO:0010286', 'Disease')  with layer:  2\n",
      "Remove node:  ('MONDO:0010302', 'Disease')  with layer:  2\n",
      "Remove node:  ('MONDO:0010306', 'Disease')  with layer:  2\n",
      "Remove node:  ('MONDO:0010319', 'Disease')  with layer:  2\n",
      "Remove node:  ('MONDO:0010336', 'Disease')  with layer:  2\n",
      "Remove node:  ('MONDO:0010348', 'Disease')  with layer:  2\n",
      "Remove node:  ('MONDO:0010355', 'Disease')  with layer:  2\n",
      "Remove node:  ('MONDO:0010370', 'Disease')  with layer:  2\n",
      "Remove node:  ('MONDO:0010398', 'Disease')  with layer:  2\n",
      "Remove node:  ('MONDO:0010402', 'Disease')  with layer:  2\n",
      "Remove node:  ('MONDO:0010407', 'Disease')  with layer:  2\n",
      "Remove node:  ('MONDO:0010409', 'Disease')  with layer:  2\n",
      "Remove node:  ('MONDO:0010417', 'Disease')  with layer:  2\n",
      "Remove node:  ('MONDO:0010427', 'Disease')  with layer:  2\n",
      "Remove node:  ('MONDO:0010428', 'Disease')  with layer:  2\n",
      "Remove node:  ('MONDO:0010460', 'Disease')  with layer:  2\n",
      "Remove node:  ('MONDO:0010461', 'Disease')  with layer:  2\n",
      "Remove node:  ('MONDO:0010465', 'Disease')  with layer:  2\n",
      "Remove node:  ('MONDO:0010466', 'Disease')  with layer:  2\n",
      "Remove node:  ('MONDO:0010471', 'Disease')  with layer:  2\n",
      "Remove node:  ('MONDO:0010483', 'Disease')  with layer:  2\n",
      "Remove node:  ('MONDO:0010498', 'Disease')  with layer:  2\n",
      "Remove node:  ('MONDO:0010499', 'Disease')  with layer:  2\n",
      "Remove node:  ('MONDO:0010500', 'Disease')  with layer:  2\n",
      "Remove node:  ('MONDO:0010501', 'Disease')  with layer:  2\n",
      "Remove node:  ('MONDO:0010531', 'Disease')  with layer:  2\n",
      "Remove node:  ('MONDO:0010535', 'Disease')  with layer:  2\n",
      "Remove node:  ('MONDO:0010574', 'Disease')  with layer:  2\n",
      "Remove node:  ('MONDO:0010621', 'Disease')  with layer:  2\n",
      "Remove node:  ('MONDO:0010633', 'Disease')  with layer:  2\n",
      "Remove node:  ('MONDO:0010648', 'Disease')  with layer:  2\n",
      "Remove node:  ('MONDO:0010658', 'Disease')  with layer:  2\n",
      "Remove node:  ('MONDO:0010661', 'Disease')  with layer:  2\n",
      "Remove node:  ('MONDO:0010664', 'Disease')  with layer:  2\n",
      "Remove node:  ('MONDO:0010682', 'Disease')  with layer:  2\n",
      "Remove node:  ('MONDO:0010702', 'Disease')  with layer:  2\n",
      "Remove node:  ('MONDO:0010729', 'Disease')  with layer:  2\n",
      "Remove node:  ('MONDO:0010826', 'Disease')  with layer:  2\n",
      "Remove node:  ('MONDO:0010831', 'Disease')  with layer:  2\n",
      "Remove node:  ('MONDO:0010843', 'Disease')  with layer:  2\n",
      "Remove node:  ('MONDO:0010851', 'Disease')  with layer:  2\n",
      "Remove node:  ('MONDO:0010865', 'Disease')  with layer:  2\n",
      "Remove node:  ('MONDO:0010886', 'Disease')  with layer:  2\n",
      "Remove node:  ('MONDO:0010897', 'Disease')  with layer:  2\n",
      "Remove node:  ('MONDO:0010910', 'Disease')  with layer:  2\n",
      "Remove node:  ('MONDO:0010941', 'Disease')  with layer:  2\n",
      "Remove node:  ('MONDO:0010943', 'Disease')  with layer:  2\n",
      "Remove node:  ('MONDO:0011011', 'Disease')  with layer:  2\n",
      "Remove node:  ('MONDO:0011028', 'Disease')  with layer:  2\n",
      "Remove node:  ('MONDO:0011045', 'Disease')  with layer:  2\n",
      "Remove node:  ('MONDO:0011049', 'Disease')  with layer:  2\n",
      "Remove node:  ('MONDO:0011059', 'Disease')  with layer:  2\n",
      "Remove node:  ('MONDO:0011070', 'Disease')  with layer:  2\n",
      "Remove node:  ('MONDO:0011121', 'Disease')  with layer:  2\n",
      "Remove node:  ('MONDO:0011140', 'Disease')  with layer:  2\n",
      "Remove node:  ('MONDO:0011146', 'Disease')  with layer:  2\n",
      "Remove node:  ('MONDO:0011170', 'Disease')  with layer:  2\n",
      "Remove node:  ('MONDO:0011181', 'Disease')  with layer:  2\n",
      "Remove node:  ('MONDO:0011184', 'Disease')  with layer:  2\n",
      "Remove node:  ('MONDO:0011213', 'Disease')  with layer:  2\n",
      "Remove node:  ('MONDO:0011246', 'Disease')  with layer:  2\n",
      "Remove node:  ('MONDO:0011266', 'Disease')  with layer:  2\n",
      "Remove node:  ('MONDO:0011280', 'Disease')  with layer:  2\n",
      "Remove node:  ('MONDO:0011294', 'Disease')  with layer:  2\n",
      "Remove node:  ('MONDO:0011295', 'Disease')  with layer:  2\n",
      "Remove node:  ('MONDO:0011298', 'Disease')  with layer:  2\n",
      "Remove node:  ('MONDO:0011307', 'Disease')  with layer:  2\n",
      "Remove node:  ('MONDO:0011336', 'Disease')  with layer:  2\n",
      "Remove node:  ('MONDO:0011337', 'Disease')  with layer:  2\n",
      "Remove node:  ('MONDO:0011391', 'Disease')  with layer:  2\n",
      "Remove node:  ('MONDO:0011416', 'Disease')  with layer:  2\n",
      "Remove node:  ('MONDO:0011418', 'Disease')  with layer:  2\n",
      "Remove node:  ('MONDO:0011423', 'Disease')  with layer:  2\n",
      "Remove node:  ('MONDO:0011442', 'Disease')  with layer:  2\n",
      "Remove node:  ('MONDO:0011461', 'Disease')  with layer:  2\n",
      "Remove node:  ('MONDO:0011479', 'Disease')  with layer:  2\n",
      "Remove node:  ('MONDO:0011498', 'Disease')  with layer:  2\n",
      "Remove node:  ('MONDO:0011537', 'Disease')  with layer:  2\n",
      "Remove node:  ('MONDO:0011544', 'Disease')  with layer:  2\n",
      "Remove node:  ('MONDO:0011552', 'Disease')  with layer:  2\n",
      "Remove node:  ('MONDO:0011593', 'Disease')  with layer:  2\n",
      "Remove node:  ('MONDO:0011640', 'Disease')  with layer:  2\n",
      "Remove node:  ('MONDO:0011662', 'Disease')  with layer:  2\n",
      "Remove node:  ('MONDO:0011688', 'Disease')  with layer:  2\n",
      "Remove node:  ('MONDO:0011689', 'Disease')  with layer:  2\n",
      "Remove node:  ('MONDO:0011710', 'Disease')  with layer:  2\n",
      "Remove node:  ('MONDO:0011711', 'Disease')  with layer:  2\n",
      "Remove node:  ('MONDO:0011722', 'Disease')  with layer:  2\n",
      "Remove node:  ('MONDO:0011747', 'Disease')  with layer:  2\n",
      "Remove node:  ('MONDO:0011780', 'Disease')  with layer:  2\n",
      "Remove node:  ('MONDO:0011782', 'Disease')  with layer:  2\n",
      "Remove node:  ('MONDO:0011787', 'Disease')  with layer:  2\n",
      "Remove node:  ('MONDO:0011789', 'Disease')  with layer:  2\n",
      "Remove node:  ('MONDO:0011810', 'Disease')  with layer:  2\n",
      "Remove node:  ('MONDO:0011866', 'Disease')  with layer:  2\n",
      "Remove node:  ('MONDO:0011876', 'Disease')  with layer:  2\n",
      "Remove node:  ('MONDO:0011904', 'Disease')  with layer:  2\n",
      "Remove node:  ('MONDO:0011918', 'Disease')  with layer:  2\n",
      "Remove node:  ('MONDO:0011924', 'Disease')  with layer:  2\n",
      "Remove node:  ('MONDO:0011929', 'Disease')  with layer:  2\n",
      "Remove node:  ('MONDO:0011948', 'Disease')  with layer:  2\n",
      "Remove node:  ('MONDO:0011960', 'Disease')  with layer:  2\n",
      "Remove node:  ('MONDO:0011968', 'Disease')  with layer:  2\n",
      "Remove node:  ('MONDO:0011975', 'Disease')  with layer:  2\n",
      "Remove node:  ('MONDO:0011990', 'Disease')  with layer:  2\n",
      "Remove node:  ('MONDO:0011995', 'Disease')  with layer:  2\n",
      "Remove node:  ('MONDO:0012000', 'Disease')  with layer:  2\n",
      "Remove node:  ('MONDO:0012015', 'Disease')  with layer:  2\n",
      "Remove node:  ('MONDO:0012034', 'Disease')  with layer:  2\n",
      "Remove node:  ('MONDO:0012048', 'Disease')  with layer:  2\n",
      "Remove node:  ('MONDO:0012049', 'Disease')  with layer:  2\n",
      "Remove node:  ('MONDO:0012050', 'Disease')  with layer:  2\n",
      "Remove node:  ('MONDO:0012054', 'Disease')  with layer:  2\n",
      "Remove node:  ('MONDO:0012095', 'Disease')  with layer:  2\n",
      "Remove node:  ('MONDO:0012100', 'Disease')  with layer:  2\n",
      "Remove node:  ('MONDO:0012127', 'Disease')  with layer:  2\n",
      "Remove node:  ('MONDO:0012138', 'Disease')  with layer:  2\n",
      "Remove node:  ('MONDO:0012143', 'Disease')  with layer:  2\n",
      "Remove node:  ('MONDO:0012146', 'Disease')  with layer:  2\n",
      "Remove node:  ('MONDO:0012149', 'Disease')  with layer:  2\n",
      "Remove node:  ('MONDO:0012150', 'Disease')  with layer:  2\n",
      "Remove node:  ('MONDO:0012151', 'Disease')  with layer:  2\n",
      "Remove node:  ('MONDO:0012152', 'Disease')  with layer:  2\n",
      "Remove node:  ('MONDO:0012168', 'Disease')  with layer:  2\n",
      "Remove node:  ('MONDO:0012179', 'Disease')  with layer:  2\n",
      "Remove node:  ('MONDO:0012192', 'Disease')  with layer:  2\n",
      "Remove node:  ('MONDO:0012193', 'Disease')  with layer:  2\n",
      "Remove node:  ('MONDO:0012233', 'Disease')  with layer:  2\n",
      "Remove node:  ('MONDO:0012248', 'Disease')  with layer:  2\n",
      "Remove node:  ('MONDO:0012252', 'Disease')  with layer:  2\n",
      "Remove node:  ('MONDO:0012262', 'Disease')  with layer:  2\n",
      "Remove node:  ('MONDO:0012290', 'Disease')  with layer:  2\n",
      "Remove node:  ('MONDO:0012302', 'Disease')  with layer:  2\n",
      "Remove node:  ('MONDO:0012309', 'Disease')  with layer:  2\n",
      "Remove node:  ('MONDO:0012319', 'Disease')  with layer:  2\n",
      "Remove node:  ('MONDO:0012346', 'Disease')  with layer:  2\n",
      "Remove node:  ('MONDO:0012384', 'Disease')  with layer:  2\n",
      "Remove node:  ('MONDO:0012399', 'Disease')  with layer:  2\n",
      "Remove node:  ('MONDO:0012438', 'Disease')  with layer:  2\n",
      "Remove node:  ('MONDO:0012454', 'Disease')  with layer:  2\n",
      "Remove node:  ('MONDO:0012455', 'Disease')  with layer:  2\n",
      "Remove node:  ('MONDO:0012484', 'Disease')  with layer:  2\n",
      "Remove node:  ('MONDO:0012508', 'Disease')  with layer:  2\n",
      "Remove node:  ('MONDO:0012521', 'Disease')  with layer:  2\n",
      "Remove node:  ('MONDO:0012555', 'Disease')  with layer:  2\n",
      "Remove node:  ('MONDO:0012574', 'Disease')  with layer:  2\n",
      "Remove node:  ('MONDO:0012642', 'Disease')  with layer:  2\n",
      "Remove node:  ('MONDO:0012652', 'Disease')  with layer:  2\n",
      "Remove node:  ('MONDO:0012683', 'Disease')  with layer:  2\n",
      "Remove node:  ('MONDO:0012685', 'Disease')  with layer:  2\n",
      "Remove node:  ('MONDO:0012686', 'Disease')  with layer:  2\n",
      "Remove node:  ('MONDO:0012699', 'Disease')  with layer:  2\n",
      "Remove node:  ('MONDO:0012721', 'Disease')  with layer:  2\n",
      "Remove node:  ('MONDO:0012735', 'Disease')  with layer:  2\n",
      "Remove node:  ('MONDO:0012759', 'Disease')  with layer:  2\n",
      "Remove node:  ('MONDO:0012774', 'Disease')  with layer:  2\n",
      "Remove node:  ('MONDO:0012794', 'Disease')  with layer:  2\n",
      "Remove node:  ('MONDO:0012846', 'Disease')  with layer:  2\n",
      "Remove node:  ('MONDO:0012862', 'Disease')  with layer:  2\n",
      "Remove node:  ('MONDO:0012863', 'Disease')  with layer:  2\n",
      "Remove node:  ('MONDO:0012864', 'Disease')  with layer:  2\n",
      "Remove node:  ('MONDO:0012869', 'Disease')  with layer:  2\n",
      "Remove node:  ('MONDO:0012877', 'Disease')  with layer:  2\n",
      "Remove node:  ('MONDO:0012879', 'Disease')  with layer:  2\n",
      "Remove node:  ('MONDO:0012881', 'Disease')  with layer:  2\n",
      "Remove node:  ('MONDO:0012882', 'Disease')  with layer:  2\n",
      "Remove node:  ('MONDO:0012890', 'Disease')  with layer:  2\n",
      "Remove node:  ('MONDO:0012891', 'Disease')  with layer:  2\n",
      "Remove node:  ('MONDO:0012904', 'Disease')  with layer:  2\n",
      "Remove node:  ('MONDO:0012910', 'Disease')  with layer:  2\n",
      "Remove node:  ('MONDO:0012917', 'Disease')  with layer:  2\n",
      "Remove node:  ('MONDO:0012946', 'Disease')  with layer:  2\n",
      "Remove node:  ('MONDO:0012947', 'Disease')  with layer:  2\n",
      "Remove node:  ('MONDO:0012948', 'Disease')  with layer:  2\n",
      "Remove node:  ('MONDO:0012960', 'Disease')  with layer:  2\n",
      "Remove node:  ('MONDO:0012965', 'Disease')  with layer:  2\n",
      "Remove node:  ('MONDO:0013035', 'Disease')  with layer:  2\n",
      "Remove node:  ('MONDO:0013058', 'Disease')  with layer:  2\n",
      "Remove node:  ('MONDO:0013068', 'Disease')  with layer:  2\n",
      "Remove node:  ('MONDO:0013076', 'Disease')  with layer:  2\n",
      "Remove node:  ('MONDO:0013089', 'Disease')  with layer:  2\n",
      "Remove node:  ('MONDO:0013090', 'Disease')  with layer:  2\n",
      "Remove node:  ('MONDO:0013098', 'Disease')  with layer:  2\n",
      "Remove node:  ('MONDO:0013099', 'Disease')  with layer:  2\n",
      "Remove node:  ('MONDO:0013135', 'Disease')  with layer:  2\n",
      "Remove node:  ('MONDO:0013161', 'Disease')  with layer:  2\n",
      "Remove node:  ('MONDO:0013162', 'Disease')  with layer:  2\n",
      "Remove node:  ('MONDO:0013169', 'Disease')  with layer:  2\n",
      "Remove node:  ('MONDO:0013182', 'Disease')  with layer:  2\n",
      "Remove node:  ('MONDO:0013189', 'Disease')  with layer:  2\n",
      "Remove node:  ('MONDO:0013199', 'Disease')  with layer:  2\n",
      "Remove node:  ('MONDO:0013208', 'Disease')  with layer:  2\n",
      "Remove node:  ('MONDO:0013224', 'Disease')  with layer:  2\n",
      "Remove node:  ('MONDO:0013245', 'Disease')  with layer:  2\n",
      "Remove node:  ('MONDO:0013256', 'Disease')  with layer:  2\n",
      "Remove node:  ('MONDO:0013266', 'Disease')  with layer:  2\n",
      "Remove node:  ('MONDO:0013297', 'Disease')  with layer:  2\n",
      "Remove node:  ('MONDO:0013298', 'Disease')  with layer:  2\n",
      "Remove node:  ('MONDO:0013336', 'Disease')  with layer:  2\n",
      "Remove node:  ('MONDO:0013390', 'Disease')  with layer:  2\n",
      "Remove node:  ('MONDO:0013394', 'Disease')  with layer:  2\n",
      "Remove node:  ('MONDO:0013424', 'Disease')  with layer:  2\n",
      "Remove node:  ('MONDO:0013438', 'Disease')  with layer:  2\n",
      "Remove node:  ('MONDO:0013440', 'Disease')  with layer:  2\n",
      "Remove node:  ('MONDO:0013448', 'Disease')  with layer:  2\n",
      "Remove node:  ('MONDO:0013465', 'Disease')  with layer:  2\n",
      "Remove node:  ('MONDO:0013470', 'Disease')  with layer:  2\n",
      "Remove node:  ('MONDO:0013490', 'Disease')  with layer:  2\n",
      "Remove node:  ('MONDO:0013498', 'Disease')  with layer:  2\n",
      "Remove node:  ('MONDO:0013506', 'Disease')  with layer:  2\n",
      "Remove node:  ('MONDO:0013509', 'Disease')  with layer:  2\n",
      "Remove node:  ('MONDO:0013526', 'Disease')  with layer:  2\n",
      "Remove node:  ('MONDO:0013541', 'Disease')  with layer:  2\n",
      "Remove node:  ('MONDO:0013563', 'Disease')  with layer:  2\n",
      "Remove node:  ('MONDO:0013581', 'Disease')  with layer:  2\n",
      "Remove node:  ('MONDO:0013585', 'Disease')  with layer:  2\n",
      "Remove node:  ('MONDO:0013602', 'Disease')  with layer:  2\n",
      "Remove node:  ('MONDO:0013646', 'Disease')  with layer:  2\n",
      "Remove node:  ('MONDO:0013652', 'Disease')  with layer:  2\n",
      "Remove node:  ('MONDO:0013655', 'Disease')  with layer:  2\n",
      "Remove node:  ('MONDO:0013656', 'Disease')  with layer:  2\n",
      "Remove node:  ('MONDO:0013657', 'Disease')  with layer:  2\n",
      "Remove node:  ('MONDO:0013658', 'Disease')  with layer:  2\n",
      "Remove node:  ('MONDO:0013668', 'Disease')  with layer:  2\n",
      "Remove node:  ('MONDO:0013696', 'Disease')  with layer:  2\n",
      "Remove node:  ('MONDO:0013805', 'Disease')  with layer:  2\n",
      "Remove node:  ('MONDO:0013819', 'Disease')  with layer:  2\n",
      "Remove node:  ('MONDO:0013820', 'Disease')  with layer:  2\n",
      "Remove node:  ('MONDO:0013821', 'Disease')  with layer:  2\n",
      "Remove node:  ('MONDO:0013847', 'Disease')  with layer:  2\n",
      "Remove node:  ('MONDO:0013853', 'Disease')  with layer:  2\n",
      "Remove node:  ('MONDO:0013864', 'Disease')  with layer:  2\n",
      "Remove node:  ('MONDO:0013903', 'Disease')  with layer:  2\n",
      "Remove node:  ('MONDO:0013990', 'Disease')  with layer:  2\n",
      "Remove node:  ('MONDO:0013993', 'Disease')  with layer:  2\n",
      "Remove node:  ('MONDO:0014088', 'Disease')  with layer:  2\n",
      "Remove node:  ('MONDO:0014092', 'Disease')  with layer:  2\n",
      "Remove node:  ('MONDO:0014109', 'Disease')  with layer:  2\n",
      "Remove node:  ('MONDO:0014112', 'Disease')  with layer:  2\n",
      "Remove node:  ('MONDO:0014113', 'Disease')  with layer:  2\n",
      "Remove node:  ('MONDO:0014114', 'Disease')  with layer:  2\n",
      "Remove node:  ('MONDO:0014116', 'Disease')  with layer:  2\n",
      "Remove node:  ('MONDO:0014129', 'Disease')  with layer:  2\n",
      "Remove node:  ('MONDO:0014131', 'Disease')  with layer:  2\n",
      "Remove node:  ('MONDO:0014142', 'Disease')  with layer:  2\n",
      "Remove node:  ('MONDO:0014144', 'Disease')  with layer:  2\n",
      "Remove node:  ('MONDO:0014165', 'Disease')  with layer:  2\n",
      "Remove node:  ('MONDO:0014170', 'Disease')  with layer:  2\n",
      "Remove node:  ('MONDO:0014171', 'Disease')  with layer:  2\n",
      "Remove node:  ('MONDO:0014184', 'Disease')  with layer:  2\n",
      "Remove node:  ('MONDO:0014240', 'Disease')  with layer:  2\n",
      "Remove node:  ('MONDO:0014242', 'Disease')  with layer:  2\n",
      "Remove node:  ('MONDO:0014250', 'Disease')  with layer:  2\n",
      "Remove node:  ('MONDO:0014298', 'Disease')  with layer:  2\n",
      "Remove node:  ('MONDO:0014337', 'Disease')  with layer:  2\n",
      "Remove node:  ('MONDO:0014341', 'Disease')  with layer:  2\n",
      "Remove node:  ('MONDO:0014349', 'Disease')  with layer:  2\n",
      "Remove node:  ('MONDO:0014351', 'Disease')  with layer:  2\n",
      "Remove node:  ('MONDO:0014357', 'Disease')  with layer:  2\n",
      "Remove node:  ('MONDO:0014370', 'Disease')  with layer:  2\n",
      "Remove node:  ('MONDO:0014376', 'Disease')  with layer:  2\n",
      "Remove node:  ('MONDO:0014413', 'Disease')  with layer:  2\n",
      "Remove node:  ('MONDO:0014474', 'Disease')  with layer:  2\n",
      "Remove node:  ('MONDO:0014482', 'Disease')  with layer:  2\n",
      "Remove node:  ('MONDO:0014485', 'Disease')  with layer:  2\n",
      "Remove node:  ('MONDO:0014486', 'Disease')  with layer:  2\n",
      "Remove node:  ('MONDO:0014507', 'Disease')  with layer:  2\n",
      "Remove node:  ('MONDO:0014517', 'Disease')  with layer:  2\n",
      "Remove node:  ('MONDO:0014521', 'Disease')  with layer:  2\n",
      "Remove node:  ('MONDO:0014529', 'Disease')  with layer:  2\n",
      "Remove node:  ('MONDO:0014538', 'Disease')  with layer:  2\n",
      "Remove node:  ('MONDO:0014541', 'Disease')  with layer:  2\n",
      "Remove node:  ('MONDO:0014545', 'Disease')  with layer:  2\n",
      "Remove node:  ('MONDO:0014580', 'Disease')  with layer:  2\n",
      "Remove node:  ('MONDO:0014599', 'Disease')  with layer:  2\n",
      "Remove node:  ('MONDO:0014609', 'Disease')  with layer:  2\n",
      "Remove node:  ('MONDO:0014617', 'Disease')  with layer:  2\n",
      "Remove node:  ('MONDO:0014624', 'Disease')  with layer:  2\n",
      "Remove node:  ('MONDO:0014643', 'Disease')  with layer:  2\n",
      "Remove node:  ('MONDO:0014646', 'Disease')  with layer:  2\n",
      "Remove node:  ('MONDO:0014654', 'Disease')  with layer:  2\n",
      "Remove node:  ('MONDO:0014677', 'Disease')  with layer:  2\n",
      "Remove node:  ('MONDO:0014678', 'Disease')  with layer:  2\n",
      "Remove node:  ('MONDO:0014685', 'Disease')  with layer:  2\n",
      "Remove node:  ('MONDO:0014699', 'Disease')  with layer:  2\n",
      "Remove node:  ('MONDO:0014708', 'Disease')  with layer:  2\n",
      "Remove node:  ('MONDO:0014757', 'Disease')  with layer:  2\n",
      "Remove node:  ('MONDO:0014782', 'Disease')  with layer:  2\n",
      "Remove node:  ('MONDO:0014787', 'Disease')  with layer:  2\n",
      "Remove node:  ('MONDO:0014788', 'Disease')  with layer:  2\n",
      "Remove node:  ('MONDO:0014805', 'Disease')  with layer:  2\n",
      "Remove node:  ('MONDO:0014814', 'Disease')  with layer:  2\n",
      "Remove node:  ('MONDO:0014824', 'Disease')  with layer:  2\n",
      "Remove node:  ('MONDO:0014838', 'Disease')  with layer:  2\n",
      "Remove node:  ('MONDO:0014842', 'Disease')  with layer:  2\n",
      "Remove node:  ('MONDO:0014855', 'Disease')  with layer:  2\n",
      "Remove node:  ('MONDO:0014858', 'Disease')  with layer:  2\n",
      "Remove node:  ('MONDO:0014874', 'Disease')  with layer:  2\n",
      "Remove node:  ('MONDO:0014881', 'Disease')  with layer:  2\n",
      "Remove node:  ('MONDO:0014900', 'Disease')  with layer:  2\n",
      "Remove node:  ('MONDO:0014903', 'Disease')  with layer:  2\n",
      "Remove node:  ('MONDO:0014918', 'Disease')  with layer:  2\n",
      "Remove node:  ('MONDO:0014932', 'Disease')  with layer:  2\n",
      "Remove node:  ('MONDO:0014936', 'Disease')  with layer:  2\n",
      "Remove node:  ('MONDO:0014944', 'Disease')  with layer:  2\n",
      "Remove node:  ('MONDO:0014966', 'Disease')  with layer:  2\n",
      "Remove node:  ('MONDO:0014977', 'Disease')  with layer:  2\n",
      "Remove node:  ('MONDO:0015012', 'Disease')  with layer:  2\n",
      "Remove node:  ('MONDO:0015028', 'Disease')  with layer:  2\n",
      "Remove node:  ('MONDO:0015151', 'Disease')  with layer:  2\n",
      "Remove node:  ('MONDO:0015152', 'Disease')  with layer:  2\n",
      "Remove node:  ('MONDO:0015198', 'Disease')  with layer:  2\n",
      "Remove node:  ('MONDO:0015199', 'Disease')  with layer:  2\n",
      "Remove node:  ('MONDO:0015280', 'Disease')  with layer:  2\n",
      "Remove node:  ('MONDO:0015324', 'Disease')  with layer:  2\n",
      "Remove node:  ('MONDO:0015350', 'Disease')  with layer:  2\n",
      "Remove node:  ('MONDO:0015375', 'Disease')  with layer:  2\n",
      "Remove node:  ('MONDO:0015421', 'Disease')  with layer:  2\n",
      "Remove node:  ('MONDO:0015422', 'Disease')  with layer:  2\n",
      "Remove node:  ('MONDO:0015431', 'Disease')  with layer:  2\n",
      "Remove node:  ('MONDO:0015436', 'Disease')  with layer:  2\n",
      "Remove node:  ('MONDO:0015452', 'Disease')  with layer:  2\n",
      "Remove node:  ('MONDO:0015458', 'Disease')  with layer:  2\n",
      "Remove node:  ('MONDO:0015541', 'Disease')  with layer:  2\n",
      "Remove node:  ('MONDO:0015542', 'Disease')  with layer:  2\n",
      "Remove node:  ('MONDO:0015547', 'Disease')  with layer:  2\n",
      "Remove node:  ('MONDO:0015601', 'Disease')  with layer:  2\n",
      "Remove node:  ('MONDO:0015609', 'Disease')  with layer:  2\n",
      "Remove node:  ('MONDO:0015637', 'Disease')  with layer:  2\n",
      "Remove node:  ('MONDO:0015642', 'Disease')  with layer:  2\n",
      "Remove node:  ('MONDO:0015656', 'Disease')  with layer:  2\n",
      "Remove node:  ('MONDO:0015723', 'Disease')  with layer:  2\n",
      "Remove node:  ('MONDO:0015745', 'Disease')  with layer:  2\n",
      "Remove node:  ('MONDO:0015751', 'Disease')  with layer:  2\n",
      "Remove node:  ('MONDO:0015752', 'Disease')  with layer:  2\n",
      "Remove node:  ('MONDO:0015802', 'Disease')  with layer:  2\n",
      "Remove node:  ('MONDO:0015914', 'Disease')  with layer:  2\n",
      "Remove node:  ('MONDO:0015953', 'Disease')  with layer:  2\n",
      "Remove node:  ('MONDO:0016022', 'Disease')  with layer:  2\n",
      "Remove node:  ('MONDO:0016027', 'Disease')  with layer:  2\n",
      "Remove node:  ('MONDO:0016033', 'Disease')  with layer:  2\n",
      "Remove node:  ('MONDO:0016056', 'Disease')  with layer:  2\n",
      "Remove node:  ('MONDO:0016107', 'Disease')  with layer:  2\n",
      "Remove node:  ('MONDO:0016108', 'Disease')  with layer:  2\n",
      "Remove node:  ('MONDO:0016109', 'Disease')  with layer:  2\n",
      "Remove node:  ('MONDO:0016139', 'Disease')  with layer:  2\n",
      "Remove node:  ('MONDO:0016210', 'Disease')  with layer:  2\n",
      "Remove node:  ('MONDO:0016215', 'Disease')  with layer:  2\n",
      "Remove node:  ('MONDO:0016256', 'Disease')  with layer:  2\n",
      "Remove node:  ('MONDO:0016290', 'Disease')  with layer:  2\n",
      "Remove node:  ('MONDO:0016334', 'Disease')  with layer:  2\n",
      "Remove node:  ('MONDO:0016349', 'Disease')  with layer:  2\n",
      "Remove node:  ('MONDO:0016396', 'Disease')  with layer:  2\n",
      "Remove node:  ('MONDO:0016397', 'Disease')  with layer:  2\n",
      "Remove node:  ('MONDO:0016401', 'Disease')  with layer:  2\n",
      "Remove node:  ('MONDO:0016405', 'Disease')  with layer:  2\n",
      "Remove node:  ('MONDO:0016459', 'Disease')  with layer:  2\n",
      "Remove node:  ('MONDO:0016512', 'Disease')  with layer:  2\n",
      "Remove node:  ('MONDO:0016589', 'Disease')  with layer:  2\n",
      "Remove node:  ('MONDO:0016596', 'Disease')  with layer:  2\n",
      "Remove node:  ('MONDO:0016759', 'Disease')  with layer:  2\n",
      "Remove node:  ('MONDO:0016971', 'Disease')  with layer:  2\n",
      "Remove node:  ('MONDO:0016981', 'Disease')  with layer:  2\n",
      "Remove node:  ('MONDO:0016995', 'Disease')  with layer:  2\n",
      "Remove node:  ('MONDO:0017089', 'Disease')  with layer:  2\n",
      "Remove node:  ('MONDO:0017090', 'Disease')  with layer:  2\n",
      "Remove node:  ('MONDO:0017283', 'Disease')  with layer:  2\n",
      "Remove node:  ('MONDO:0017284', 'Disease')  with layer:  2\n",
      "Remove node:  ('MONDO:0017317', 'Disease')  with layer:  2\n",
      "Remove node:  ('MONDO:0017398', 'Disease')  with layer:  2\n",
      "Remove node:  ('MONDO:0017404', 'Disease')  with layer:  2\n",
      "Remove node:  ('MONDO:0017405', 'Disease')  with layer:  2\n",
      "Remove node:  ('MONDO:0017580', 'Disease')  with layer:  2\n",
      "Remove node:  ('MONDO:0017615', 'Disease')  with layer:  2\n",
      "Remove node:  ('MONDO:0017616', 'Disease')  with layer:  2\n",
      "Remove node:  ('MONDO:0017663', 'Disease')  with layer:  2\n",
      "Remove node:  ('MONDO:0017780', 'Disease')  with layer:  2\n",
      "Remove node:  ('MONDO:0017786', 'Disease')  with layer:  2\n",
      "Remove node:  ('MONDO:0017792', 'Disease')  with layer:  2\n",
      "Remove node:  ('MONDO:0017805', 'Disease')  with layer:  2\n",
      "Remove node:  ('MONDO:0017806', 'Disease')  with layer:  2\n",
      "Remove node:  ('MONDO:0017811', 'Disease')  with layer:  2\n",
      "Remove node:  ('MONDO:0017813', 'Disease')  with layer:  2\n",
      "Remove node:  ('MONDO:0017824', 'Disease')  with layer:  2\n",
      "Remove node:  ('MONDO:0017867', 'Disease')  with layer:  2\n",
      "Remove node:  ('MONDO:0017868', 'Disease')  with layer:  2\n",
      "Remove node:  ('MONDO:0017892', 'Disease')  with layer:  2\n",
      "Remove node:  ('MONDO:0017928', 'Disease')  with layer:  2\n",
      "Remove node:  ('MONDO:0017987', 'Disease')  with layer:  2\n",
      "Remove node:  ('MONDO:0017995', 'Disease')  with layer:  2\n",
      "Remove node:  ('MONDO:0018027', 'Disease')  with layer:  2\n",
      "Remove node:  ('MONDO:0018028', 'Disease')  with layer:  2\n",
      "Remove node:  ('MONDO:0018030', 'Disease')  with layer:  2\n",
      "Remove node:  ('MONDO:0018045', 'Disease')  with layer:  2\n",
      "Remove node:  ('MONDO:0018091', 'Disease')  with layer:  2\n",
      "Remove node:  ('MONDO:0018123', 'Disease')  with layer:  2\n",
      "Remove node:  ('MONDO:0018126', 'Disease')  with layer:  2\n",
      "Remove node:  ('MONDO:0018160', 'Disease')  with layer:  2\n",
      "Remove node:  ('MONDO:0018204', 'Disease')  with layer:  2\n",
      "Remove node:  ('MONDO:0018205', 'Disease')  with layer:  2\n",
      "Remove node:  ('MONDO:0018207', 'Disease')  with layer:  2\n",
      "Remove node:  ('MONDO:0018214', 'Disease')  with layer:  2\n",
      "Remove node:  ('MONDO:0018248', 'Disease')  with layer:  2\n",
      "Remove node:  ('MONDO:0018257', 'Disease')  with layer:  2\n",
      "Remove node:  ('MONDO:0018276', 'Disease')  with layer:  2\n",
      "Remove node:  ('MONDO:0018341', 'Disease')  with layer:  2\n",
      "Remove node:  ('MONDO:0018428', 'Disease')  with layer:  2\n",
      "Remove node:  ('MONDO:0018429', 'Disease')  with layer:  2\n",
      "Remove node:  ('MONDO:0018474', 'Disease')  with layer:  2\n",
      "Remove node:  ('MONDO:0018493', 'Disease')  with layer:  2\n",
      "Remove node:  ('MONDO:0018564', 'Disease')  with layer:  2\n",
      "Remove node:  ('MONDO:0018632', 'Disease')  with layer:  2\n",
      "Remove node:  ('MONDO:0018633', 'Disease')  with layer:  2\n",
      "Remove node:  ('MONDO:0018655', 'Disease')  with layer:  2\n",
      "Remove node:  ('MONDO:0018681', 'Disease')  with layer:  2\n",
      "Remove node:  ('MONDO:0018710', 'Disease')  with layer:  2\n",
      "Remove node:  ('MONDO:0018725', 'Disease')  with layer:  2\n",
      "Remove node:  ('MONDO:0018763', 'Disease')  with layer:  2\n",
      "Remove node:  ('MONDO:0018810', 'Disease')  with layer:  2\n",
      "Remove node:  ('MONDO:0018828', 'Disease')  with layer:  2\n",
      "Remove node:  ('MONDO:0018838', 'Disease')  with layer:  2\n",
      "Remove node:  ('MONDO:0018852', 'Disease')  with layer:  2\n",
      "Remove node:  ('MONDO:0018875', 'Disease')  with layer:  2\n",
      "Remove node:  ('MONDO:0018953', 'Disease')  with layer:  2\n",
      "Remove node:  ('MONDO:0018975', 'Disease')  with layer:  2\n",
      "Remove node:  ('MONDO:0018981', 'Disease')  with layer:  2\n",
      "Remove node:  ('MONDO:0019002', 'Disease')  with layer:  2\n",
      "Remove node:  ('MONDO:0019053', 'Disease')  with layer:  2\n",
      "Remove node:  ('MONDO:0019058', 'Disease')  with layer:  2\n",
      "Remove node:  ('MONDO:0019078', 'Disease')  with layer:  2\n",
      "Remove node:  ('MONDO:0019181', 'Disease')  with layer:  2\n",
      "Remove node:  ('MONDO:0019207', 'Disease')  with layer:  2\n",
      "Remove node:  ('MONDO:0019213', 'Disease')  with layer:  2\n",
      "Remove node:  ('MONDO:0019253', 'Disease')  with layer:  2\n",
      "Remove node:  ('MONDO:0019341', 'Disease')  with layer:  2\n",
      "Remove node:  ('MONDO:0019388', 'Disease')  with layer:  2\n",
      "Remove node:  ('MONDO:0019420', 'Disease')  with layer:  2\n",
      "Remove node:  ('MONDO:0019421', 'Disease')  with layer:  2\n",
      "Remove node:  ('MONDO:0019422', 'Disease')  with layer:  2\n",
      "Remove node:  ('MONDO:0019423', 'Disease')  with layer:  2\n",
      "Remove node:  ('MONDO:0019497', 'Disease')  with layer:  2\n",
      "Remove node:  ('MONDO:0019502', 'Disease')  with layer:  2\n",
      "Remove node:  ('MONDO:0019525', 'Disease')  with layer:  2\n",
      "Remove node:  ('MONDO:0019766', 'Disease')  with layer:  2\n",
      "Remove node:  ('MONDO:0019769', 'Disease')  with layer:  2\n",
      "Remove node:  ('MONDO:0019784', 'Disease')  with layer:  2\n",
      "Remove node:  ('MONDO:0019864', 'Disease')  with layer:  2\n",
      "Remove node:  ('MONDO:0019928', 'Disease')  with layer:  2\n",
      "Remove node:  ('MONDO:0019929', 'Disease')  with layer:  2\n",
      "Remove node:  ('MONDO:0020074', 'Disease')  with layer:  2\n",
      "Remove node:  ('MONDO:0020127', 'Disease')  with layer:  2\n",
      "Remove node:  ('MONDO:0020132', 'Disease')  with layer:  2\n",
      "Remove node:  ('MONDO:0020135', 'Disease')  with layer:  2\n",
      "Remove node:  ('MONDO:0020229', 'Disease')  with layer:  2\n",
      "Remove node:  ('MONDO:0020238', 'Disease')  with layer:  2\n",
      "Remove node:  ('MONDO:0020256', 'Disease')  with layer:  2\n",
      "Remove node:  ('MONDO:0020341', 'Disease')  with layer:  2\n",
      "Remove node:  ('MONDO:0020469', 'Disease')  with layer:  2\n",
      "Remove node:  ('MONDO:0020495', 'Disease')  with layer:  2\n",
      "Remove node:  ('MONDO:0020497', 'Disease')  with layer:  2\n",
      "Remove node:  ('MONDO:0020508', 'Disease')  with layer:  2\n",
      "Remove node:  ('MONDO:0020509', 'Disease')  with layer:  2\n",
      "Remove node:  ('MONDO:0020510', 'Disease')  with layer:  2\n",
      "Remove node:  ('MONDO:0020627', 'Disease')  with layer:  2\n",
      "Remove node:  ('MONDO:0020630', 'Disease')  with layer:  2\n",
      "Remove node:  ('MONDO:0020631', 'Disease')  with layer:  2\n",
      "Remove node:  ('MONDO:0020632', 'Disease')  with layer:  2\n",
      "Remove node:  ('MONDO:0020751', 'Disease')  with layer:  2\n",
      "Remove node:  ('MONDO:0020762', 'Disease')  with layer:  2\n",
      "Remove node:  ('MONDO:0020768', 'Disease')  with layer:  2\n",
      "Remove node:  ('MONDO:0020789', 'Disease')  with layer:  2\n",
      "Remove node:  ('MONDO:0020793', 'Disease')  with layer:  2\n",
      "Remove node:  ('MONDO:0020847', 'Disease')  with layer:  2\n",
      "Remove node:  ('MONDO:0021061', 'Disease')  with layer:  2\n",
      "Remove node:  ('MONDO:0021083', 'Disease')  with layer:  2\n",
      "Remove node:  ('MONDO:0021107', 'Disease')  with layer:  2\n",
      "Remove node:  ('MONDO:0021272', 'Disease')  with layer:  2\n",
      "Remove node:  ('MONDO:0021944', 'Disease')  with layer:  2\n",
      "Remove node:  ('MONDO:0022020', 'Disease')  with layer:  2\n",
      "Remove node:  ('MONDO:0022410', 'Disease')  with layer:  2\n",
      "Remove node:  ('MONDO:0022557', 'Disease')  with layer:  2\n",
      "Remove node:  ('MONDO:0022715', 'Disease')  with layer:  2\n",
      "Remove node:  ('MONDO:0022716', 'Disease')  with layer:  2\n",
      "Remove node:  ('MONDO:0023224', 'Disease')  with layer:  2\n",
      "Remove node:  ('MONDO:0023571', 'Disease')  with layer:  2\n",
      "Remove node:  ('MONDO:0024237', 'Disease')  with layer:  2\n",
      "Remove node:  ('MONDO:0024526', 'Disease')  with layer:  2\n",
      "Remove node:  ('MONDO:0024530', 'Disease')  with layer:  2\n",
      "Remove node:  ('MONDO:0024555', 'Disease')  with layer:  2\n",
      "Remove node:  ('MONDO:0025193', 'Disease')  with layer:  2\n",
      "Remove node:  ('MONDO:0027407', 'Disease')  with layer:  2\n",
      "Remove node:  ('MONDO:0029133', 'Disease')  with layer:  2\n",
      "Remove node:  ('MONDO:0029136', 'Disease')  with layer:  2\n",
      "Remove node:  ('MONDO:0029140', 'Disease')  with layer:  2\n",
      "Remove node:  ('MONDO:0030014', 'Disease')  with layer:  2\n",
      "Remove node:  ('MONDO:0030034', 'Disease')  with layer:  2\n",
      "Remove node:  ('MONDO:0030044', 'Disease')  with layer:  2\n",
      "Remove node:  ('MONDO:0030061', 'Disease')  with layer:  2\n",
      "Remove node:  ('MONDO:0030134', 'Disease')  with layer:  2\n",
      "Remove node:  ('MONDO:0030502', 'Disease')  with layer:  2\n",
      "Remove node:  ('MONDO:0030840', 'Disease')  with layer:  2\n",
      "Remove node:  ('MONDO:0030841', 'Disease')  with layer:  2\n",
      "Remove node:  ('MONDO:0030843', 'Disease')  with layer:  2\n",
      "Remove node:  ('MONDO:0030864', 'Disease')  with layer:  2\n",
      "Remove node:  ('MONDO:0030908', 'Disease')  with layer:  2\n",
      "Remove node:  ('MONDO:0030910', 'Disease')  with layer:  2\n",
      "Remove node:  ('MONDO:0030911', 'Disease')  with layer:  2\n",
      "Remove node:  ('MONDO:0030912', 'Disease')  with layer:  2\n",
      "Remove node:  ('MONDO:0030913', 'Disease')  with layer:  2\n",
      "Remove node:  ('MONDO:0030914', 'Disease')  with layer:  2\n",
      "Remove node:  ('MONDO:0030916', 'Disease')  with layer:  2\n",
      "Remove node:  ('MONDO:0030917', 'Disease')  with layer:  2\n",
      "Remove node:  ('MONDO:0030918', 'Disease')  with layer:  2\n",
      "Remove node:  ('MONDO:0030919', 'Disease')  with layer:  2\n",
      "Remove node:  ('MONDO:0030920', 'Disease')  with layer:  2\n",
      "Remove node:  ('MONDO:0030922', 'Disease')  with layer:  2\n",
      "Remove node:  ('MONDO:0030936', 'Disease')  with layer:  2\n",
      "Remove node:  ('MONDO:0031219', 'Disease')  with layer:  2\n",
      "Remove node:  ('MONDO:0032578', 'Disease')  with layer:  2\n",
      "Remove node:  ('MONDO:0032588', 'Disease')  with layer:  2\n",
      "Remove node:  ('MONDO:0032594', 'Disease')  with layer:  2\n",
      "Remove node:  ('MONDO:0032643', 'Disease')  with layer:  2\n",
      "Remove node:  ('MONDO:0032691', 'Disease')  with layer:  2\n",
      "Remove node:  ('MONDO:0032692', 'Disease')  with layer:  2\n",
      "Remove node:  ('MONDO:0032693', 'Disease')  with layer:  2\n",
      "Remove node:  ('MONDO:0032702', 'Disease')  with layer:  2\n",
      "Remove node:  ('MONDO:0032767', 'Disease')  with layer:  2\n",
      "Remove node:  ('MONDO:0032771', 'Disease')  with layer:  2\n",
      "Remove node:  ('MONDO:0032777', 'Disease')  with layer:  2\n",
      "Remove node:  ('MONDO:0032791', 'Disease')  with layer:  2\n",
      "Remove node:  ('MONDO:0032824', 'Disease')  with layer:  2\n",
      "Remove node:  ('MONDO:0032831', 'Disease')  with layer:  2\n",
      "Remove node:  ('MONDO:0032854', 'Disease')  with layer:  2\n",
      "Remove node:  ('MONDO:0032866', 'Disease')  with layer:  2\n",
      "Remove node:  ('MONDO:0032912', 'Disease')  with layer:  2\n",
      "Remove node:  ('MONDO:0033005', 'Disease')  with layer:  2\n",
      "Remove node:  ('MONDO:0033007', 'Disease')  with layer:  2\n",
      "Remove node:  ('MONDO:0033008', 'Disease')  with layer:  2\n",
      "Remove node:  ('MONDO:0033009', 'Disease')  with layer:  2\n",
      "Remove node:  ('MONDO:0033045', 'Disease')  with layer:  2\n",
      "Remove node:  ('MONDO:0033211', 'Disease')  with layer:  2\n",
      "Remove node:  ('MONDO:0033312', 'Disease')  with layer:  2\n",
      "Remove node:  ('MONDO:0033375', 'Disease')  with layer:  2\n",
      "Remove node:  ('MONDO:0033492', 'Disease')  with layer:  2\n",
      "Remove node:  ('MONDO:0033557', 'Disease')  with layer:  2\n",
      "Remove node:  ('MONDO:0034022', 'Disease')  with layer:  2\n",
      "Remove node:  ('MONDO:0035133', 'Disease')  with layer:  2\n",
      "Remove node:  ('MONDO:0040500', 'Disease')  with layer:  2\n",
      "Remove node:  ('MONDO:0042499', 'Disease')  with layer:  2\n",
      "Remove node:  ('MONDO:0043007', 'Disease')  with layer:  2\n",
      "Remove node:  ('MONDO:0043071', 'Disease')  with layer:  2\n",
      "Remove node:  ('MONDO:0043099', 'Disease')  with layer:  2\n",
      "Remove node:  ('MONDO:0043135', 'Disease')  with layer:  2\n",
      "Remove node:  ('MONDO:0044621', 'Disease')  with layer:  2\n",
      "Remove node:  ('MONDO:0044641', 'Disease')  with layer:  2\n",
      "Remove node:  ('MONDO:0054669', 'Disease')  with layer:  2\n",
      "Remove node:  ('MONDO:0054701', 'Disease')  with layer:  2\n",
      "Remove node:  ('MONDO:0054770', 'Disease')  with layer:  2\n",
      "Remove node:  ('MONDO:0054831', 'Disease')  with layer:  2\n",
      "Remove node:  ('MONDO:0054837', 'Disease')  with layer:  2\n",
      "Remove node:  ('MONDO:0054844', 'Disease')  with layer:  2\n",
      "Remove node:  ('MONDO:0056797', 'Disease')  with layer:  2\n",
      "Remove node:  ('MONDO:0060627', 'Disease')  with layer:  2\n",
      "Remove node:  ('MONDO:0060724', 'Disease')  with layer:  2\n",
      "Remove node:  ('MONDO:0060760', 'Disease')  with layer:  2\n",
      "Remove node:  ('MONDO:0060763', 'Disease')  with layer:  2\n",
      "Remove node:  ('MONDO:0100034', 'Disease')  with layer:  2\n",
      "Remove node:  ('MONDO:0100081', 'Disease')  with layer:  2\n",
      "Remove node:  ('MONDO:0100138', 'Disease')  with layer:  2\n",
      "Remove node:  ('MONDO:0100144', 'Disease')  with layer:  2\n",
      "Remove node:  ('MONDO:0100148', 'Disease')  with layer:  2\n",
      "Remove node:  ('MONDO:0100172', 'Disease')  with layer:  2\n",
      "Remove node:  ('MONDO:0100214', 'Disease')  with layer:  2\n",
      "Remove node:  ('MONDO:0100215', 'Disease')  with layer:  2\n",
      "Remove node:  ('MONDO:0100220', 'Disease')  with layer:  2\n",
      "Remove node:  ('MONDO:0100247', 'Disease')  with layer:  2\n",
      "Remove node:  ('MONDO:0100284', 'Disease')  with layer:  2\n",
      "Remove node:  ('MONDO:0100309', 'Disease')  with layer:  2\n"
     ]
    }
   ],
   "source": [
    "print(subgraph_nodes)\n",
    "# Iterate through the nodes and create a list of nodes to remove\n",
    "# Prompt: How to remove all nodes which are disease type and are greater than a specific layer in a path?\n",
    "nodes_to_remove = []\n",
    "for node, layer in subgraph_nodes.items():\n",
    "    if G.nodes[node][\"node_type\"] in types_to_remove and layer > which_layer_to_remove:\n",
    "        print(\"Remove node: \", node, \" with layer: \", layer)\n",
    "        nodes_to_remove.append(node)\n",
    "\n",
    "G_copy = G.copy()\n",
    "# Remove the nodes from the graph\n",
    "G_copy.remove_nodes_from(nodes_to_remove)\n",
    "\n",
    "# Extract the subgraph from the original graph\n",
    "subgraph = G_copy.subgraph(subgraph_nodes.keys())\n",
    "\n",
    "# Create a list to store the paths in the desired format\n",
    "formatted_paths = []\n",
    "\n",
    "# Iterate through the edges in the subgraph and store them\n",
    "for edge in subgraph.edges(data=True):\n",
    "    source_node = edge[0]\n",
    "    target_node = edge[1]\n",
    "    relation_type = edge[2]['relation']\n",
    "    source_name = edge[2]['source_name']\n",
    "    target_name = edge[2]['target_name']\n",
    "\n",
    "    formatted_paths.append((source_node[0], source_node[1], relation_type, target_node[0], target_node[1], source_name, target_name))\n",
    "\n",
    "# Create a DataFrame from the formatted paths\n",
    "formatted_df = pd.DataFrame(formatted_paths, columns=['source_id', 'source_type', 'relation_type', 'target_id', 'target_type', 'source_name', 'target_name'])"
   ]
  },
  {
   "cell_type": "markdown",
   "metadata": {},
   "source": [
    "#### Save the DataFrame to a CSV file"
   ]
  },
  {
   "cell_type": "code",
   "execution_count": 54,
   "metadata": {},
   "outputs": [],
   "source": [
    "pathdir = os.path.join(rootdir, 'models/biomedgps/paths')\n",
    "if not os.path.exists(pathdir):\n",
    "    os.makedirs(pathdir)\n",
    "\n",
    "# Extract the first character of each type and join them to create a string\n",
    "allowd_types_str = ''.join([x[0] for x in allowd_types])\n",
    "prefix = f'{start_node[0].replace(\":\", \"_\").lower()}_{max_length}_{allowd_types_str.lower()}'\n",
    "pathfile = os.path.join(pathdir, f'{prefix}_subgraph.tsv')\n",
    "formatted_df.to_csv(pathfile, index=False, sep='\\t')"
   ]
  },
  {
   "cell_type": "markdown",
   "metadata": {},
   "source": [
    "#### Convert the df to a file which is compatible with cytoscape"
   ]
  },
  {
   "cell_type": "markdown",
   "metadata": {},
   "source": [
    "Prompt: I have a data frame which contains seven columns: 'source_id', 'source_type', 'source_name', 'target_id', 'target_type', 'target_name', 'relation_type', how to convert the data frame into a xgmml file."
   ]
  },
  {
   "cell_type": "code",
   "execution_count": 56,
   "metadata": {},
   "outputs": [],
   "source": [
    "nodes_df = formatted_df[['source_id', 'source_name', 'source_type']].rename(\n",
    "    columns={'source_id': 'id', 'source_name': 'name', 'source_type': 'type'}\n",
    ")\n",
    "nodes_df = pd.concat([nodes_df, formatted_df[['target_id', 'target_name', 'target_type']].rename(\n",
    "    columns={'target_id': 'id', 'target_name': 'name', 'target_type': 'type'}\n",
    ")], axis=0)\n",
    "nodes_df = nodes_df.drop_duplicates(subset=['id', 'type'])\n",
    "\n",
    "edges_df = formatted_df[['source_id', 'target_id', 'relation_type']].rename(\n",
    "    columns={'source_id': 'source', 'target_id': 'target', 'relation_type': 'label'}\n",
    ")\n",
    "\n",
    "# Create an XGMML template with additional attributes\n",
    "xgmml_template = '''<?xml version=\"1.0\" encoding=\"UTF-8\" standalone=\"yes\"?>\n",
    "<!DOCTYPE graph PUBLIC \"-//John Punin//DTD graph description//EN\" \"http://www.cs.rpi.edu/~puninj/XGMML/xgmml.dtd\">\n",
    "<graph label=\"Knowledge Graph\" directed=\"1\">\n",
    "  {nodes}\n",
    "  {edges}\n",
    "</graph>\n",
    "'''\n",
    "\n",
    "# Create node and edge elements with additional attributes\n",
    "node_lst = [\n",
    "    f'''\n",
    "    <node id=\"{id}\" label=\"{name}\">\n",
    "        <att name=\"id\" type=\"string\" value=\"{id}\" />\n",
    "        <att name=\"name\" type=\"string\" value=\"{name}\" />\n",
    "        <att name=\"type\" type=\"string\" value=\"{type}\" />\n",
    "        <att name=\"node_shape\" type=\"string\" value=\"ellipse\" />\n",
    "        <att name=\"node_color\" type=\"string\" value=\"{node_type_colors[type]}\" />\n",
    "    </node>\n",
    "    '''\n",
    "    for id, name, type in zip(nodes_df['id'], nodes_df['name'], nodes_df['type'])\n",
    "]\n",
    "nodes = '\\n'.join(node_lst)\n",
    "\n",
    "edge_lst = [\n",
    "    f'''\n",
    "    <edge source=\"{source}\" target=\"{target}\" label=\"{label}\" cy:directed=\"1\">\n",
    "        <att name=\"relation_type\" type=\"string\" value=\"{label}\" />\n",
    "        <att name=\"shared name\" value=\"{label}\" type=\"string\"\n",
    "        cy:type=\"String\" />\n",
    "        <att name=\"shared interaction\" value=\"\" type=\"string\" cy:type=\"String\" />\n",
    "        <att name=\"name\" value=\"{label}\" type=\"string\" cy:type=\"String\" />\n",
    "        <att name=\"selected\" value=\"0\" type=\"boolean\" cy:type=\"Boolean\" />\n",
    "        <att name=\"interaction\" value=\"\" type=\"string\" cy:type=\"String\" />\n",
    "        <att name=\"relation_type\" value=\"{label}\" type=\"string\"\n",
    "        cy:type=\"String\" />\n",
    "    </edge>\n",
    "    '''\n",
    "    for source, target, label in zip(edges_df['source'], edges_df['target'], edges_df['label'])\n",
    "]\n",
    "edges = '\\n'.join(edge_lst)\n",
    "\n",
    "# Populate the XGMML template\n",
    "xgmml_content = xgmml_template.format(nodes=nodes, edges=edges)\n",
    "\n",
    "# Save XGMML content to a file\n",
    "xgmml_file = os.path.join(pathdir, f'{prefix}_network.xgmml')\n",
    "with open(xgmml_file, 'w') as f:\n",
    "    f.write(xgmml_content)"
   ]
  }
 ],
 "metadata": {
  "kernelspec": {
   "display_name": "Python 3 (ipykernel)",
   "language": "python",
   "name": "python3"
  },
  "language_info": {
   "codemirror_mode": {
    "name": "ipython",
    "version": 3
   },
   "file_extension": ".py",
   "mimetype": "text/x-python",
   "name": "python",
   "nbconvert_exporter": "python",
   "pygments_lexer": "ipython3",
   "version": "3.10.12"
  },
  "orig_nbformat": 4
 },
 "nbformat": 4,
 "nbformat_minor": 2
}
