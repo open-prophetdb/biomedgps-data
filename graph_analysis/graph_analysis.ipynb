{
 "cells": [
  {
   "cell_type": "markdown",
   "metadata": {},
   "source": [
    "## Dependencies"
   ]
  },
  {
   "cell_type": "code",
   "execution_count": null,
   "metadata": {},
   "outputs": [],
   "source": [
    "import os\n",
    "import sys\n",
    "\n",
    "rootdir = os.path.abspath(\"..\")\n",
    "sys.path.append(os.path.join(rootdir, \"lib\"))\n",
    "\n",
    "from graph import (\n",
    "    get_num_nodes,\n",
    "    get_num_edges,\n",
    "    get_num_subgraphs,\n",
    "    create_graph,\n",
    "    get_subgraph,\n",
    ")"
   ]
  },
  {
   "cell_type": "markdown",
   "metadata": {},
   "source": [
    "## Build a undirected graph from the data"
   ]
  },
  {
   "cell_type": "code",
   "execution_count": null,
   "metadata": {},
   "outputs": [],
   "source": [
    "import os\n",
    "\n",
    "dataset_name = \"drkg-hsdn-custom-subset\"\n",
    "rootdir = os.path.abspath(os.path.join(os.getcwd(), \"..\"))\n",
    "models_dir = os.path.join(rootdir, \"models\")\n",
    "datadir = os.path.join(models_dir, dataset_name, \"data\")\n",
    "\n",
    "relation_file = os.path.join(datadir, \"relations.tsv\")\n",
    "entitie_file = os.path.join(rootdir, \"..\", \"graph_data\", \"entities.tsv\")\n",
    "\n",
    "G = create_graph(relation_file, entity_file=entitie_file, directed=False, allow_multiple_edges=True)\n",
    "directed_G = create_graph(relation_file, entity_file=entitie_file, directed=True, allow_multiple_edges=True)"
   ]
  },
  {
   "cell_type": "markdown",
   "metadata": {},
   "source": [
    "## How many nodes, edges, and subgraphs are there in the graph?"
   ]
  },
  {
   "cell_type": "code",
   "execution_count": null,
   "metadata": {},
   "outputs": [],
   "source": [
    "get_num_nodes(G), get_num_edges(G), get_num_subgraphs(G)"
   ]
  },
  {
   "cell_type": "code",
   "execution_count": null,
   "metadata": {},
   "outputs": [],
   "source": [
    "get_num_nodes(directed_G), get_num_edges(directed_G), get_num_subgraphs(directed_G)"
   ]
  },
  {
   "cell_type": "markdown",
   "metadata": {},
   "source": [
    "## How many nodes and edges are related to a subgraph which starts with our target node?"
   ]
  },
  {
   "cell_type": "code",
   "execution_count": 11,
   "metadata": {},
   "outputs": [
    {
     "name": "stdout",
     "output_type": "stream",
     "text": [
      "(6015458, 6) (4538859, 7)\n"
     ]
    }
   ],
   "source": [
    "disease = (\"MESH:D015673\", \"Disease\")\n",
    "\n",
    "subgraph = get_subgraph(G, start_node=disease)\n",
    "\n",
    "get_num_nodes(subgraph), get_num_edges(subgraph)"
   ]
  }
 ],
 "metadata": {
  "kernelspec": {
   "display_name": "Python 3 (ipykernel)",
   "language": "python",
   "name": "python3"
  },
  "language_info": {
   "codemirror_mode": {
    "name": "ipython",
    "version": 3
   },
   "file_extension": ".py",
   "mimetype": "text/x-python",
   "name": "python",
   "nbconvert_exporter": "python",
   "pygments_lexer": "ipython3",
   "version": "3.10.12"
  },
  "orig_nbformat": 4
 },
 "nbformat": 4,
 "nbformat_minor": 2
}
