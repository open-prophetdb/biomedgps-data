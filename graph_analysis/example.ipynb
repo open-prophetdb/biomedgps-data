{
 "cells": [
  {
   "cell_type": "markdown",
   "metadata": {},
   "source": [
    "### KEGG"
   ]
  },
  {
   "cell_type": "code",
   "execution_count": null,
   "metadata": {},
   "outputs": [],
   "source": [
    "import io\n",
    "\n",
    "# Import Biopython modules to interact with KEGG\n",
    "from Bio import SeqIO\n",
    "from Bio.KEGG import REST\n",
    "from Bio.KEGG.KGML import KGML_parser\n",
    "import pandas as pd"
   ]
  },
  {
   "cell_type": "code",
   "execution_count": null,
   "metadata": {},
   "outputs": [],
   "source": [
    "def to_df(result):\n",
    "    return pd.read_table(io.StringIO(result), header=None)"
   ]
  },
  {
   "cell_type": "code",
   "execution_count": null,
   "metadata": {},
   "outputs": [],
   "source": [
    "# Get all entries in the PATHWAY database for K. setae as a dataframe\n",
    "result = REST.kegg_list(\"pathway\", \"hsa\").read()\n",
    "df = to_df(result)"
   ]
  },
  {
   "cell_type": "code",
   "execution_count": null,
   "metadata": {},
   "outputs": [],
   "source": [
    "df.shape"
   ]
  },
  {
   "cell_type": "code",
   "execution_count": null,
   "metadata": {},
   "outputs": [],
   "source": [
    "result = REST.kegg_get(\"hsa01521\").read()\n",
    "result"
   ]
  },
  {
   "cell_type": "code",
   "execution_count": null,
   "metadata": {},
   "outputs": [],
   "source": [
    "# Split the content into lines\n",
    "lines = result.split('\\n')\n",
    "\n",
    "print(lines)\n",
    "\n",
    "# Initialize variables to store extracted information\n",
    "entry = \"\"\n",
    "name = \"\"\n",
    "description = \"\"\n",
    "references = []\n",
    "\n",
    "def get_value(line):\n",
    "    items = line.split()\n",
    "    if len(items) >= 2:\n",
    "        return \" \".join(items[1:])\n",
    "    else:\n",
    "        return \"\"\n",
    "\n",
    "# Iterate through the lines to extract the fields\n",
    "for line in lines:\n",
    "    if line.startswith(\"ENTRY\"):\n",
    "        entry = get_value(line)\n",
    "    elif line.startswith(\"NAME\"):\n",
    "        name = get_value(line)\n",
    "    elif line.startswith(\"DESCRIPTION\"):\n",
    "        description = get_value(line)\n",
    "    elif line.startswith(\"REFERENCE\"):\n",
    "        references.append(get_value(line))\n",
    "        \n",
    "\n",
    "# Print the extracted information\n",
    "print(\"ENTRY:\", entry)\n",
    "print(\"NAME:\", name)\n",
    "print(\"DESCRIPTION:\", description)\n",
    "print(\"REFERENCES:\", references)"
   ]
  },
  {
   "cell_type": "markdown",
   "metadata": {},
   "source": [
    "### Embeddings"
   ]
  },
  {
   "cell_type": "code",
   "execution_count": null,
   "metadata": {},
   "outputs": [],
   "source": [
    "from transformers import AutoModel, AutoTokenizer\n",
    "from sklearn.decomposition import PCA\n",
    "import torch\n",
    "\n",
    "# Load pre-trained BERT model and tokenizer\n",
    "# model_name = \"dmis-lab/biobert-large-cased-v1.1-squad\"\n",
    "model_name = \"/Users/jy006/Downloads/RoBERTa-large-PM-M3-Voc/RoBERTa-large-PM-M3-Voc-hf\"\n",
    "tokenizer = AutoTokenizer.from_pretrained(model_name)\n",
    "model = AutoModel.from_pretrained(model_name)\n",
    "\n",
    "\n",
    "def gen_embeddings(text, n_dims=768):\n",
    "    # Tokenize the text\n",
    "    tokens = tokenizer.tokenize(text)\n",
    "    input_ids = tokenizer.convert_tokens_to_ids(tokens)\n",
    "\n",
    "    # Get contextual embeddings\n",
    "    with torch.no_grad():\n",
    "        inputs = torch.tensor(input_ids).unsqueeze(0)  # Add batch dimension\n",
    "        outputs = model(inputs)\n",
    "        entity_embeddings = outputs.last_hidden_state.mean(dim=1)  # Mean pooling for entity-level embeddings\n",
    "\n",
    "    # Assuming you have 'entity_embeddings' with shape (num_entities, 768)\n",
    "    # where num_entities is the number of entities and 768 is the original embedding dimension\n",
    "\n",
    "    # Create a PCA object with the desired number of components (400)\n",
    "    # pca = PCA(n_components=n_dims)\n",
    "\n",
    "    # Fit the PCA model to your entity embeddings\n",
    "    # reduced_embeddings = pca.fit_transform(entity_embeddings)\n",
    "\n",
    "    # reduced_embeddings now contains the embeddings with reduced dimensionality (400)\n",
    "    # return reduced_embeddings\n",
    "    return entity_embeddings[0]\n",
    "\n",
    "def get_similarity(embedding1, embedding2):\n",
    "    return embedding1.dot(embedding2) / (torch.norm(embedding1) * torch.norm(embedding2))\n",
    "\n",
    "def get_similarities(embedding, embeddings):\n",
    "    return [get_similarity(embedding, embedding2) for embedding2 in embeddings]"
   ]
  },
  {
   "cell_type": "code",
   "execution_count": null,
   "metadata": {},
   "outputs": [],
   "source": [
    "diseases = [\"long COVID-19\", \"Hypotension, Orthostatic\", \"Postural Orthostatic Tachycardia Syndrome\", \"Lung Cancer\", \"Inflamation\", \"fever\", \"headache\", \"chronic fatigue\", \"Diarrhea\", \"TP53\", \"EGFR\", \"Naltrexone\", \"Rubbish\", \"fracture\", \"Brain Injury\"]\n",
    "\n",
    "disease_embeddings = [gen_embeddings(disease) for disease in diseases]"
   ]
  },
  {
   "cell_type": "code",
   "execution_count": null,
   "metadata": {},
   "outputs": [],
   "source": [
    "mecfs_embedding = gen_embeddings(\"myalgic encephalomyelitis/chronic fatigue syndrome\")"
   ]
  },
  {
   "cell_type": "code",
   "execution_count": null,
   "metadata": {},
   "outputs": [],
   "source": [
    "# Get the similarity scores for all diseases and sort them in descending order\n",
    "scores = get_similarities(mecfs_embedding, disease_embeddings)\n",
    "scores = [(diseases[i], scores[i]) for i in range(len(diseases))]\n",
    "scores.sort(key=lambda x: x[1], reverse=True)\n",
    "\n",
    "scores"
   ]
  },
  {
   "cell_type": "markdown",
   "metadata": {},
   "source": [
    "### Statistics"
   ]
  },
  {
   "cell_type": "code",
   "execution_count": 2,
   "metadata": {},
   "outputs": [],
   "source": [
    "import pandas as pd\n",
    "\n",
    "hdsn = pd.read_csv(\"./graph_data/formatted_relations/hsdn/raw_hsdn.tsv\", sep=\"\\t\")\n",
    "hdsn[\"resource\"] = \"CuratedKG\"\n",
    "drkg = pd.read_csv(\"./graph_data/formatted_relations/drkg/raw_drkg.tsv\", sep=\"\\t\")\n",
    "custom = pd.read_csv(\"/Users/jy006/Downloads/publications.txt\", sep=\"\\t\")\n",
    "custom[\"resource\"] = \"CuratedKG\"\n",
    "malacards = pd.read_csv(\"/Users/jy006/Downloads/malacards.txt\", sep=\"\\t\")\n",
    "malacards[\"resource\"] = \"CuratedKG\""
   ]
  },
  {
   "cell_type": "markdown",
   "metadata": {},
   "source": [
    "#### DRKG"
   ]
  },
  {
   "cell_type": "code",
   "execution_count": 13,
   "metadata": {},
   "outputs": [
    {
     "name": "stdout",
     "output_type": "stream",
     "text": [
      "             label  count\n",
      "               Tax    215\n",
      "PharmacologicClass    345\n",
      "           Anatomy    400\n",
      "           Symptom    415\n",
      " CellularComponent   1391\n",
      "           Pathway   1822\n",
      " MolecularFunction   2884\n",
      "               Atc   4048\n",
      "           Disease   5103\n",
      "        SideEffect   5701\n",
      " BiologicalProcess  11381\n",
      "          Compound  24313\n",
      "              Gene  39220\n"
     ]
    },
    {
     "data": {
      "application/vnd.plotly.v1+json": {
       "config": {
        "plotlyServerURL": "https://plot.ly"
       },
       "data": [
        {
         "alignmentgroup": "True",
         "hovertemplate": "label=%{x}<br>count=%{y}<extra></extra>",
         "legendgroup": "",
         "marker": {
          "color": "#636efa",
          "pattern": {
           "shape": ""
          }
         },
         "name": "",
         "offsetgroup": "",
         "orientation": "v",
         "showlegend": false,
         "textposition": "outside",
         "texttemplate": "%{value:.2s}",
         "type": "bar",
         "x": [
          "Tax",
          "PharmacologicClass",
          "Anatomy",
          "Symptom",
          "CellularComponent",
          "Pathway",
          "MolecularFunction",
          "Atc",
          "Disease",
          "SideEffect",
          "BiologicalProcess",
          "Compound",
          "Gene"
         ],
         "xaxis": "x",
         "y": [
          215,
          345,
          400,
          415,
          1391,
          1822,
          2884,
          4048,
          5103,
          5701,
          11381,
          24313,
          39220
         ],
         "yaxis": "y"
        }
       ],
       "layout": {
        "barmode": "relative",
        "legend": {
         "tracegroupgap": 0
        },
        "template": {
         "data": {
          "bar": [
           {
            "error_x": {
             "color": "#2a3f5f"
            },
            "error_y": {
             "color": "#2a3f5f"
            },
            "marker": {
             "line": {
              "color": "#E5ECF6",
              "width": 0.5
             },
             "pattern": {
              "fillmode": "overlay",
              "size": 10,
              "solidity": 0.2
             }
            },
            "type": "bar"
           }
          ],
          "barpolar": [
           {
            "marker": {
             "line": {
              "color": "#E5ECF6",
              "width": 0.5
             },
             "pattern": {
              "fillmode": "overlay",
              "size": 10,
              "solidity": 0.2
             }
            },
            "type": "barpolar"
           }
          ],
          "carpet": [
           {
            "aaxis": {
             "endlinecolor": "#2a3f5f",
             "gridcolor": "white",
             "linecolor": "white",
             "minorgridcolor": "white",
             "startlinecolor": "#2a3f5f"
            },
            "baxis": {
             "endlinecolor": "#2a3f5f",
             "gridcolor": "white",
             "linecolor": "white",
             "minorgridcolor": "white",
             "startlinecolor": "#2a3f5f"
            },
            "type": "carpet"
           }
          ],
          "choropleth": [
           {
            "colorbar": {
             "outlinewidth": 0,
             "ticks": ""
            },
            "type": "choropleth"
           }
          ],
          "contour": [
           {
            "colorbar": {
             "outlinewidth": 0,
             "ticks": ""
            },
            "colorscale": [
             [
              0,
              "#0d0887"
             ],
             [
              0.1111111111111111,
              "#46039f"
             ],
             [
              0.2222222222222222,
              "#7201a8"
             ],
             [
              0.3333333333333333,
              "#9c179e"
             ],
             [
              0.4444444444444444,
              "#bd3786"
             ],
             [
              0.5555555555555556,
              "#d8576b"
             ],
             [
              0.6666666666666666,
              "#ed7953"
             ],
             [
              0.7777777777777778,
              "#fb9f3a"
             ],
             [
              0.8888888888888888,
              "#fdca26"
             ],
             [
              1,
              "#f0f921"
             ]
            ],
            "type": "contour"
           }
          ],
          "contourcarpet": [
           {
            "colorbar": {
             "outlinewidth": 0,
             "ticks": ""
            },
            "type": "contourcarpet"
           }
          ],
          "heatmap": [
           {
            "colorbar": {
             "outlinewidth": 0,
             "ticks": ""
            },
            "colorscale": [
             [
              0,
              "#0d0887"
             ],
             [
              0.1111111111111111,
              "#46039f"
             ],
             [
              0.2222222222222222,
              "#7201a8"
             ],
             [
              0.3333333333333333,
              "#9c179e"
             ],
             [
              0.4444444444444444,
              "#bd3786"
             ],
             [
              0.5555555555555556,
              "#d8576b"
             ],
             [
              0.6666666666666666,
              "#ed7953"
             ],
             [
              0.7777777777777778,
              "#fb9f3a"
             ],
             [
              0.8888888888888888,
              "#fdca26"
             ],
             [
              1,
              "#f0f921"
             ]
            ],
            "type": "heatmap"
           }
          ],
          "heatmapgl": [
           {
            "colorbar": {
             "outlinewidth": 0,
             "ticks": ""
            },
            "colorscale": [
             [
              0,
              "#0d0887"
             ],
             [
              0.1111111111111111,
              "#46039f"
             ],
             [
              0.2222222222222222,
              "#7201a8"
             ],
             [
              0.3333333333333333,
              "#9c179e"
             ],
             [
              0.4444444444444444,
              "#bd3786"
             ],
             [
              0.5555555555555556,
              "#d8576b"
             ],
             [
              0.6666666666666666,
              "#ed7953"
             ],
             [
              0.7777777777777778,
              "#fb9f3a"
             ],
             [
              0.8888888888888888,
              "#fdca26"
             ],
             [
              1,
              "#f0f921"
             ]
            ],
            "type": "heatmapgl"
           }
          ],
          "histogram": [
           {
            "marker": {
             "pattern": {
              "fillmode": "overlay",
              "size": 10,
              "solidity": 0.2
             }
            },
            "type": "histogram"
           }
          ],
          "histogram2d": [
           {
            "colorbar": {
             "outlinewidth": 0,
             "ticks": ""
            },
            "colorscale": [
             [
              0,
              "#0d0887"
             ],
             [
              0.1111111111111111,
              "#46039f"
             ],
             [
              0.2222222222222222,
              "#7201a8"
             ],
             [
              0.3333333333333333,
              "#9c179e"
             ],
             [
              0.4444444444444444,
              "#bd3786"
             ],
             [
              0.5555555555555556,
              "#d8576b"
             ],
             [
              0.6666666666666666,
              "#ed7953"
             ],
             [
              0.7777777777777778,
              "#fb9f3a"
             ],
             [
              0.8888888888888888,
              "#fdca26"
             ],
             [
              1,
              "#f0f921"
             ]
            ],
            "type": "histogram2d"
           }
          ],
          "histogram2dcontour": [
           {
            "colorbar": {
             "outlinewidth": 0,
             "ticks": ""
            },
            "colorscale": [
             [
              0,
              "#0d0887"
             ],
             [
              0.1111111111111111,
              "#46039f"
             ],
             [
              0.2222222222222222,
              "#7201a8"
             ],
             [
              0.3333333333333333,
              "#9c179e"
             ],
             [
              0.4444444444444444,
              "#bd3786"
             ],
             [
              0.5555555555555556,
              "#d8576b"
             ],
             [
              0.6666666666666666,
              "#ed7953"
             ],
             [
              0.7777777777777778,
              "#fb9f3a"
             ],
             [
              0.8888888888888888,
              "#fdca26"
             ],
             [
              1,
              "#f0f921"
             ]
            ],
            "type": "histogram2dcontour"
           }
          ],
          "mesh3d": [
           {
            "colorbar": {
             "outlinewidth": 0,
             "ticks": ""
            },
            "type": "mesh3d"
           }
          ],
          "parcoords": [
           {
            "line": {
             "colorbar": {
              "outlinewidth": 0,
              "ticks": ""
             }
            },
            "type": "parcoords"
           }
          ],
          "pie": [
           {
            "automargin": true,
            "type": "pie"
           }
          ],
          "scatter": [
           {
            "fillpattern": {
             "fillmode": "overlay",
             "size": 10,
             "solidity": 0.2
            },
            "type": "scatter"
           }
          ],
          "scatter3d": [
           {
            "line": {
             "colorbar": {
              "outlinewidth": 0,
              "ticks": ""
             }
            },
            "marker": {
             "colorbar": {
              "outlinewidth": 0,
              "ticks": ""
             }
            },
            "type": "scatter3d"
           }
          ],
          "scattercarpet": [
           {
            "marker": {
             "colorbar": {
              "outlinewidth": 0,
              "ticks": ""
             }
            },
            "type": "scattercarpet"
           }
          ],
          "scattergeo": [
           {
            "marker": {
             "colorbar": {
              "outlinewidth": 0,
              "ticks": ""
             }
            },
            "type": "scattergeo"
           }
          ],
          "scattergl": [
           {
            "marker": {
             "colorbar": {
              "outlinewidth": 0,
              "ticks": ""
             }
            },
            "type": "scattergl"
           }
          ],
          "scattermapbox": [
           {
            "marker": {
             "colorbar": {
              "outlinewidth": 0,
              "ticks": ""
             }
            },
            "type": "scattermapbox"
           }
          ],
          "scatterpolar": [
           {
            "marker": {
             "colorbar": {
              "outlinewidth": 0,
              "ticks": ""
             }
            },
            "type": "scatterpolar"
           }
          ],
          "scatterpolargl": [
           {
            "marker": {
             "colorbar": {
              "outlinewidth": 0,
              "ticks": ""
             }
            },
            "type": "scatterpolargl"
           }
          ],
          "scatterternary": [
           {
            "marker": {
             "colorbar": {
              "outlinewidth": 0,
              "ticks": ""
             }
            },
            "type": "scatterternary"
           }
          ],
          "surface": [
           {
            "colorbar": {
             "outlinewidth": 0,
             "ticks": ""
            },
            "colorscale": [
             [
              0,
              "#0d0887"
             ],
             [
              0.1111111111111111,
              "#46039f"
             ],
             [
              0.2222222222222222,
              "#7201a8"
             ],
             [
              0.3333333333333333,
              "#9c179e"
             ],
             [
              0.4444444444444444,
              "#bd3786"
             ],
             [
              0.5555555555555556,
              "#d8576b"
             ],
             [
              0.6666666666666666,
              "#ed7953"
             ],
             [
              0.7777777777777778,
              "#fb9f3a"
             ],
             [
              0.8888888888888888,
              "#fdca26"
             ],
             [
              1,
              "#f0f921"
             ]
            ],
            "type": "surface"
           }
          ],
          "table": [
           {
            "cells": {
             "fill": {
              "color": "#EBF0F8"
             },
             "line": {
              "color": "white"
             }
            },
            "header": {
             "fill": {
              "color": "#C8D4E3"
             },
             "line": {
              "color": "white"
             }
            },
            "type": "table"
           }
          ]
         },
         "layout": {
          "annotationdefaults": {
           "arrowcolor": "#2a3f5f",
           "arrowhead": 0,
           "arrowwidth": 1
          },
          "autotypenumbers": "strict",
          "coloraxis": {
           "colorbar": {
            "outlinewidth": 0,
            "ticks": ""
           }
          },
          "colorscale": {
           "diverging": [
            [
             0,
             "#8e0152"
            ],
            [
             0.1,
             "#c51b7d"
            ],
            [
             0.2,
             "#de77ae"
            ],
            [
             0.3,
             "#f1b6da"
            ],
            [
             0.4,
             "#fde0ef"
            ],
            [
             0.5,
             "#f7f7f7"
            ],
            [
             0.6,
             "#e6f5d0"
            ],
            [
             0.7,
             "#b8e186"
            ],
            [
             0.8,
             "#7fbc41"
            ],
            [
             0.9,
             "#4d9221"
            ],
            [
             1,
             "#276419"
            ]
           ],
           "sequential": [
            [
             0,
             "#0d0887"
            ],
            [
             0.1111111111111111,
             "#46039f"
            ],
            [
             0.2222222222222222,
             "#7201a8"
            ],
            [
             0.3333333333333333,
             "#9c179e"
            ],
            [
             0.4444444444444444,
             "#bd3786"
            ],
            [
             0.5555555555555556,
             "#d8576b"
            ],
            [
             0.6666666666666666,
             "#ed7953"
            ],
            [
             0.7777777777777778,
             "#fb9f3a"
            ],
            [
             0.8888888888888888,
             "#fdca26"
            ],
            [
             1,
             "#f0f921"
            ]
           ],
           "sequentialminus": [
            [
             0,
             "#0d0887"
            ],
            [
             0.1111111111111111,
             "#46039f"
            ],
            [
             0.2222222222222222,
             "#7201a8"
            ],
            [
             0.3333333333333333,
             "#9c179e"
            ],
            [
             0.4444444444444444,
             "#bd3786"
            ],
            [
             0.5555555555555556,
             "#d8576b"
            ],
            [
             0.6666666666666666,
             "#ed7953"
            ],
            [
             0.7777777777777778,
             "#fb9f3a"
            ],
            [
             0.8888888888888888,
             "#fdca26"
            ],
            [
             1,
             "#f0f921"
            ]
           ]
          },
          "colorway": [
           "#636efa",
           "#EF553B",
           "#00cc96",
           "#ab63fa",
           "#FFA15A",
           "#19d3f3",
           "#FF6692",
           "#B6E880",
           "#FF97FF",
           "#FECB52"
          ],
          "font": {
           "color": "#2a3f5f"
          },
          "geo": {
           "bgcolor": "white",
           "lakecolor": "white",
           "landcolor": "#E5ECF6",
           "showlakes": true,
           "showland": true,
           "subunitcolor": "white"
          },
          "hoverlabel": {
           "align": "left"
          },
          "hovermode": "closest",
          "mapbox": {
           "style": "light"
          },
          "paper_bgcolor": "white",
          "plot_bgcolor": "#E5ECF6",
          "polar": {
           "angularaxis": {
            "gridcolor": "white",
            "linecolor": "white",
            "ticks": ""
           },
           "bgcolor": "#E5ECF6",
           "radialaxis": {
            "gridcolor": "white",
            "linecolor": "white",
            "ticks": ""
           }
          },
          "scene": {
           "xaxis": {
            "backgroundcolor": "#E5ECF6",
            "gridcolor": "white",
            "gridwidth": 2,
            "linecolor": "white",
            "showbackground": true,
            "ticks": "",
            "zerolinecolor": "white"
           },
           "yaxis": {
            "backgroundcolor": "#E5ECF6",
            "gridcolor": "white",
            "gridwidth": 2,
            "linecolor": "white",
            "showbackground": true,
            "ticks": "",
            "zerolinecolor": "white"
           },
           "zaxis": {
            "backgroundcolor": "#E5ECF6",
            "gridcolor": "white",
            "gridwidth": 2,
            "linecolor": "white",
            "showbackground": true,
            "ticks": "",
            "zerolinecolor": "white"
           }
          },
          "shapedefaults": {
           "line": {
            "color": "#2a3f5f"
           }
          },
          "ternary": {
           "aaxis": {
            "gridcolor": "white",
            "linecolor": "white",
            "ticks": ""
           },
           "baxis": {
            "gridcolor": "white",
            "linecolor": "white",
            "ticks": ""
           },
           "bgcolor": "#E5ECF6",
           "caxis": {
            "gridcolor": "white",
            "linecolor": "white",
            "ticks": ""
           }
          },
          "title": {
           "x": 0.05
          },
          "xaxis": {
           "automargin": true,
           "gridcolor": "white",
           "linecolor": "white",
           "ticks": "",
           "title": {
            "standoff": 15
           },
           "zerolinecolor": "white",
           "zerolinewidth": 2
          },
          "yaxis": {
           "automargin": true,
           "gridcolor": "white",
           "linecolor": "white",
           "ticks": "",
           "title": {
            "standoff": 15
           },
           "zerolinecolor": "white",
           "zerolinewidth": 2
          }
         }
        },
        "title": {
         "text": "Distribution of entities [DRKG]"
        },
        "xaxis": {
         "anchor": "y",
         "domain": [
          0,
          1
         ],
         "title": {
          "text": "label"
         }
        },
        "yaxis": {
         "anchor": "x",
         "domain": [
          0,
          1
         ],
         "title": {
          "text": "count"
         }
        }
       }
      }
     },
     "metadata": {},
     "output_type": "display_data"
    }
   ],
   "source": [
    "# DRKG\n",
    "s_drkg_df = drkg[[\"source_id\", \"source_type\"]]\n",
    "s_drkg_df.columns = [\"id\", \"label\"]\n",
    "t_drkg_df = drkg[[\"target_id\", \"target_type\"]]\n",
    "t_drkg_df.columns = [\"id\", \"label\"]\n",
    "\n",
    "drkg_df = pd.concat([s_drkg_df, t_drkg_df]).drop_duplicates().reset_index(drop=True)\n",
    "drkg_grouped_df = drkg_df.groupby([\"label\"]).size().reset_index(name=\"count\")\n",
    "drkg_grouped_df = drkg_grouped_df.sort_values(by=[\"count\"], ascending=True)\n",
    "\n",
    "print(drkg_grouped_df.to_string(index=False))\n",
    "\n",
    "# use plotly to plot the distribution of relations, but don't include the \"Total\" row and ignore the count less than 10\n",
    "import plotly.express as px\n",
    "\n",
    "import plotly.io as pio\n",
    "pio.renderers.default = 'vscode'\n",
    "\n",
    "fig = px.bar(drkg_grouped_df, x=\"label\", y=\"count\", title=\"Distribution of entities [DRKG]\")\n",
    "fig.update_traces(texttemplate='%{value:.2s}', textposition='outside')"
   ]
  },
  {
   "cell_type": "code",
   "execution_count": 4,
   "metadata": {},
   "outputs": [
    {
     "name": "stdout",
     "output_type": "stream",
     "text": [
      "              source_target resource   count  total_count\n",
      "               Disease_Gene   bioarx     461        84756\n",
      "            Disease_Disease Hetionet     543      2250197\n",
      "Compound_PharmacologicClass Hetionet    1029      2250197\n",
      "           Compound_Disease Hetionet    1145      2250197\n",
      "              Compound_Gene   INTACT    1805       256151\n",
      "            Disease_Symptom Hetionet    3357      2250197\n",
      "            Anatomy_Disease Hetionet    3602      2250197\n",
      "           Compound_Disease DRUGBANK    4968      1424790\n",
      "          Compound_Compound Hetionet    6486      2250197\n",
      "                   Gene_Tax     GNBR   14663       335369\n",
      "               Atc_Compound DRUGBANK   15750      1424790\n",
      "              Compound_Gene DRUGBANK   24801      1424790\n",
      "              Compound_Gene   bioarx   25666        84756\n",
      "              Compound_Gene    DGIDB   26290        26290\n",
      "               Disease_Gene Hetionet   27977      2250197\n",
      "              Compound_Gene Hetionet   51429      2250197\n",
      "                  Gene_Gene   bioarx   58629        84756\n",
      "                  Gene_Gene     GNBR   66722       335369\n",
      "     CellularComponent_Gene Hetionet   73566      2250197\n",
      "           Compound_Disease     GNBR   77782       335369\n",
      "              Compound_Gene     GNBR   80803       335369\n",
      "               Gene_Pathway Hetionet   84372      2250197\n",
      "               Disease_Gene     GNBR   95399       335369\n",
      "     Gene_MolecularFunction Hetionet   97222      2250197\n",
      "        Compound_SideEffect Hetionet  138944      2250197\n",
      "                  Gene_Gene   INTACT  254346       256151\n",
      "                  Gene_Gene Hetionet  474526      2250197\n",
      "     BiologicalProcess_Gene Hetionet  559504      2250197\n",
      "               Anatomy_Gene Hetionet  726495      2250197\n",
      "          Compound_Compound DRUGBANK 1379271      1424790\n",
      "                  Gene_Gene   STRING 1496708      1496708\n"
     ]
    }
   ],
   "source": [
    "# Generate a new column with the source and target types and don't care about the order\n",
    "drkg[\"source_target\"] = drkg.apply(lambda row: row[\"source_type\"] + \"_\" + row[\"target_type\"] if row[\"source_type\"] < row[\"target_type\"] else row[\"target_type\"] + \"_\" + row[\"source_type\"], axis=1)\n",
    "\n",
    "drkg_relations_grouped_df = drkg.groupby([\"source_target\", \"resource\"]).size().reset_index(name=\"count\")\n",
    "drkg_relations_grouped_df[\"total_count\"] = drkg_relations_grouped_df.groupby([\"resource\"])[\"count\"].transform(\"sum\")\n",
    "\n",
    "drkg_relations_grouped_df = drkg_relations_grouped_df.sort_values(by=[\"count\"], ascending=True)\n",
    "\n",
    "print(drkg_relations_grouped_df.to_string(index=False))"
   ]
  },
  {
   "cell_type": "code",
   "execution_count": 5,
   "metadata": {},
   "outputs": [
    {
     "data": {
      "application/vnd.plotly.v1+json": {
       "config": {
        "plotlyServerURL": "https://plot.ly"
       },
       "data": [
        {
         "alignmentgroup": "True",
         "hovertemplate": "resource=bioarx<br>source_target=%{x}<br>count=%{y}<extra></extra>",
         "legendgroup": "bioarx",
         "marker": {
          "color": "#EF553B",
          "pattern": {
           "shape": ""
          }
         },
         "name": "bioarx",
         "offsetgroup": "bioarx",
         "orientation": "v",
         "showlegend": true,
         "textposition": "auto",
         "type": "bar",
         "x": [
          "Disease_Gene",
          "Compound_Gene",
          "Gene_Gene"
         ],
         "xaxis": "x",
         "y": [
          461,
          25666,
          58629
         ],
         "yaxis": "y"
        },
        {
         "alignmentgroup": "True",
         "hovertemplate": "resource=Hetionet<br>source_target=%{x}<br>count=%{y}<extra></extra>",
         "legendgroup": "Hetionet",
         "marker": {
          "color": "#00cc96",
          "pattern": {
           "shape": ""
          }
         },
         "name": "Hetionet",
         "offsetgroup": "Hetionet",
         "orientation": "v",
         "showlegend": true,
         "textposition": "auto",
         "type": "bar",
         "x": [
          "Disease_Disease",
          "Compound_Disease",
          "Disease_Symptom",
          "Compound_Compound",
          "Disease_Gene",
          "Compound_Gene",
          "Gene_Pathway",
          "Gene_Gene"
         ],
         "xaxis": "x",
         "y": [
          543,
          1145,
          3357,
          6486,
          27977,
          51429,
          84372,
          474526
         ],
         "yaxis": "y"
        },
        {
         "alignmentgroup": "True",
         "hovertemplate": "resource=INTACT<br>source_target=%{x}<br>count=%{y}<extra></extra>",
         "legendgroup": "INTACT",
         "marker": {
          "color": "#ab63fa",
          "pattern": {
           "shape": ""
          }
         },
         "name": "INTACT",
         "offsetgroup": "INTACT",
         "orientation": "v",
         "showlegend": true,
         "textposition": "auto",
         "type": "bar",
         "x": [
          "Compound_Gene",
          "Gene_Gene"
         ],
         "xaxis": "x",
         "y": [
          1805,
          254346
         ],
         "yaxis": "y"
        },
        {
         "alignmentgroup": "True",
         "hovertemplate": "resource=DRUGBANK<br>source_target=%{x}<br>count=%{y}<extra></extra>",
         "legendgroup": "DRUGBANK",
         "marker": {
          "color": "#FFA15A",
          "pattern": {
           "shape": ""
          }
         },
         "name": "DRUGBANK",
         "offsetgroup": "DRUGBANK",
         "orientation": "v",
         "showlegend": true,
         "textposition": "auto",
         "type": "bar",
         "x": [
          "Compound_Disease",
          "Compound_Gene",
          "Compound_Compound"
         ],
         "xaxis": "x",
         "y": [
          4968,
          24801,
          1379271
         ],
         "yaxis": "y"
        },
        {
         "alignmentgroup": "True",
         "hovertemplate": "resource=DGIDB<br>source_target=%{x}<br>count=%{y}<extra></extra>",
         "legendgroup": "DGIDB",
         "marker": {
          "color": "#19d3f3",
          "pattern": {
           "shape": ""
          }
         },
         "name": "DGIDB",
         "offsetgroup": "DGIDB",
         "orientation": "v",
         "showlegend": true,
         "textposition": "auto",
         "type": "bar",
         "x": [
          "Compound_Gene"
         ],
         "xaxis": "x",
         "y": [
          26290
         ],
         "yaxis": "y"
        },
        {
         "alignmentgroup": "True",
         "hovertemplate": "resource=GNBR<br>source_target=%{x}<br>count=%{y}<extra></extra>",
         "legendgroup": "GNBR",
         "marker": {
          "color": "#FF6692",
          "pattern": {
           "shape": ""
          }
         },
         "name": "GNBR",
         "offsetgroup": "GNBR",
         "orientation": "v",
         "showlegend": true,
         "textposition": "auto",
         "type": "bar",
         "x": [
          "Gene_Gene",
          "Compound_Disease",
          "Compound_Gene",
          "Disease_Gene"
         ],
         "xaxis": "x",
         "y": [
          66722,
          77782,
          80803,
          95399
         ],
         "yaxis": "y"
        },
        {
         "alignmentgroup": "True",
         "hovertemplate": "resource=STRING<br>source_target=%{x}<br>count=%{y}<extra></extra>",
         "legendgroup": "STRING",
         "marker": {
          "color": "#B6E880",
          "pattern": {
           "shape": ""
          }
         },
         "name": "STRING",
         "offsetgroup": "STRING",
         "orientation": "v",
         "showlegend": true,
         "textposition": "auto",
         "type": "bar",
         "x": [
          "Gene_Gene"
         ],
         "xaxis": "x",
         "y": [
          1496708
         ],
         "yaxis": "y"
        }
       ],
       "layout": {
        "barmode": "relative",
        "legend": {
         "title": {
          "text": "resource"
         },
         "tracegroupgap": 0
        },
        "template": {
         "data": {
          "bar": [
           {
            "error_x": {
             "color": "#2a3f5f"
            },
            "error_y": {
             "color": "#2a3f5f"
            },
            "marker": {
             "line": {
              "color": "#E5ECF6",
              "width": 0.5
             },
             "pattern": {
              "fillmode": "overlay",
              "size": 10,
              "solidity": 0.2
             }
            },
            "type": "bar"
           }
          ],
          "barpolar": [
           {
            "marker": {
             "line": {
              "color": "#E5ECF6",
              "width": 0.5
             },
             "pattern": {
              "fillmode": "overlay",
              "size": 10,
              "solidity": 0.2
             }
            },
            "type": "barpolar"
           }
          ],
          "carpet": [
           {
            "aaxis": {
             "endlinecolor": "#2a3f5f",
             "gridcolor": "white",
             "linecolor": "white",
             "minorgridcolor": "white",
             "startlinecolor": "#2a3f5f"
            },
            "baxis": {
             "endlinecolor": "#2a3f5f",
             "gridcolor": "white",
             "linecolor": "white",
             "minorgridcolor": "white",
             "startlinecolor": "#2a3f5f"
            },
            "type": "carpet"
           }
          ],
          "choropleth": [
           {
            "colorbar": {
             "outlinewidth": 0,
             "ticks": ""
            },
            "type": "choropleth"
           }
          ],
          "contour": [
           {
            "colorbar": {
             "outlinewidth": 0,
             "ticks": ""
            },
            "colorscale": [
             [
              0,
              "#0d0887"
             ],
             [
              0.1111111111111111,
              "#46039f"
             ],
             [
              0.2222222222222222,
              "#7201a8"
             ],
             [
              0.3333333333333333,
              "#9c179e"
             ],
             [
              0.4444444444444444,
              "#bd3786"
             ],
             [
              0.5555555555555556,
              "#d8576b"
             ],
             [
              0.6666666666666666,
              "#ed7953"
             ],
             [
              0.7777777777777778,
              "#fb9f3a"
             ],
             [
              0.8888888888888888,
              "#fdca26"
             ],
             [
              1,
              "#f0f921"
             ]
            ],
            "type": "contour"
           }
          ],
          "contourcarpet": [
           {
            "colorbar": {
             "outlinewidth": 0,
             "ticks": ""
            },
            "type": "contourcarpet"
           }
          ],
          "heatmap": [
           {
            "colorbar": {
             "outlinewidth": 0,
             "ticks": ""
            },
            "colorscale": [
             [
              0,
              "#0d0887"
             ],
             [
              0.1111111111111111,
              "#46039f"
             ],
             [
              0.2222222222222222,
              "#7201a8"
             ],
             [
              0.3333333333333333,
              "#9c179e"
             ],
             [
              0.4444444444444444,
              "#bd3786"
             ],
             [
              0.5555555555555556,
              "#d8576b"
             ],
             [
              0.6666666666666666,
              "#ed7953"
             ],
             [
              0.7777777777777778,
              "#fb9f3a"
             ],
             [
              0.8888888888888888,
              "#fdca26"
             ],
             [
              1,
              "#f0f921"
             ]
            ],
            "type": "heatmap"
           }
          ],
          "heatmapgl": [
           {
            "colorbar": {
             "outlinewidth": 0,
             "ticks": ""
            },
            "colorscale": [
             [
              0,
              "#0d0887"
             ],
             [
              0.1111111111111111,
              "#46039f"
             ],
             [
              0.2222222222222222,
              "#7201a8"
             ],
             [
              0.3333333333333333,
              "#9c179e"
             ],
             [
              0.4444444444444444,
              "#bd3786"
             ],
             [
              0.5555555555555556,
              "#d8576b"
             ],
             [
              0.6666666666666666,
              "#ed7953"
             ],
             [
              0.7777777777777778,
              "#fb9f3a"
             ],
             [
              0.8888888888888888,
              "#fdca26"
             ],
             [
              1,
              "#f0f921"
             ]
            ],
            "type": "heatmapgl"
           }
          ],
          "histogram": [
           {
            "marker": {
             "pattern": {
              "fillmode": "overlay",
              "size": 10,
              "solidity": 0.2
             }
            },
            "type": "histogram"
           }
          ],
          "histogram2d": [
           {
            "colorbar": {
             "outlinewidth": 0,
             "ticks": ""
            },
            "colorscale": [
             [
              0,
              "#0d0887"
             ],
             [
              0.1111111111111111,
              "#46039f"
             ],
             [
              0.2222222222222222,
              "#7201a8"
             ],
             [
              0.3333333333333333,
              "#9c179e"
             ],
             [
              0.4444444444444444,
              "#bd3786"
             ],
             [
              0.5555555555555556,
              "#d8576b"
             ],
             [
              0.6666666666666666,
              "#ed7953"
             ],
             [
              0.7777777777777778,
              "#fb9f3a"
             ],
             [
              0.8888888888888888,
              "#fdca26"
             ],
             [
              1,
              "#f0f921"
             ]
            ],
            "type": "histogram2d"
           }
          ],
          "histogram2dcontour": [
           {
            "colorbar": {
             "outlinewidth": 0,
             "ticks": ""
            },
            "colorscale": [
             [
              0,
              "#0d0887"
             ],
             [
              0.1111111111111111,
              "#46039f"
             ],
             [
              0.2222222222222222,
              "#7201a8"
             ],
             [
              0.3333333333333333,
              "#9c179e"
             ],
             [
              0.4444444444444444,
              "#bd3786"
             ],
             [
              0.5555555555555556,
              "#d8576b"
             ],
             [
              0.6666666666666666,
              "#ed7953"
             ],
             [
              0.7777777777777778,
              "#fb9f3a"
             ],
             [
              0.8888888888888888,
              "#fdca26"
             ],
             [
              1,
              "#f0f921"
             ]
            ],
            "type": "histogram2dcontour"
           }
          ],
          "mesh3d": [
           {
            "colorbar": {
             "outlinewidth": 0,
             "ticks": ""
            },
            "type": "mesh3d"
           }
          ],
          "parcoords": [
           {
            "line": {
             "colorbar": {
              "outlinewidth": 0,
              "ticks": ""
             }
            },
            "type": "parcoords"
           }
          ],
          "pie": [
           {
            "automargin": true,
            "type": "pie"
           }
          ],
          "scatter": [
           {
            "fillpattern": {
             "fillmode": "overlay",
             "size": 10,
             "solidity": 0.2
            },
            "type": "scatter"
           }
          ],
          "scatter3d": [
           {
            "line": {
             "colorbar": {
              "outlinewidth": 0,
              "ticks": ""
             }
            },
            "marker": {
             "colorbar": {
              "outlinewidth": 0,
              "ticks": ""
             }
            },
            "type": "scatter3d"
           }
          ],
          "scattercarpet": [
           {
            "marker": {
             "colorbar": {
              "outlinewidth": 0,
              "ticks": ""
             }
            },
            "type": "scattercarpet"
           }
          ],
          "scattergeo": [
           {
            "marker": {
             "colorbar": {
              "outlinewidth": 0,
              "ticks": ""
             }
            },
            "type": "scattergeo"
           }
          ],
          "scattergl": [
           {
            "marker": {
             "colorbar": {
              "outlinewidth": 0,
              "ticks": ""
             }
            },
            "type": "scattergl"
           }
          ],
          "scattermapbox": [
           {
            "marker": {
             "colorbar": {
              "outlinewidth": 0,
              "ticks": ""
             }
            },
            "type": "scattermapbox"
           }
          ],
          "scatterpolar": [
           {
            "marker": {
             "colorbar": {
              "outlinewidth": 0,
              "ticks": ""
             }
            },
            "type": "scatterpolar"
           }
          ],
          "scatterpolargl": [
           {
            "marker": {
             "colorbar": {
              "outlinewidth": 0,
              "ticks": ""
             }
            },
            "type": "scatterpolargl"
           }
          ],
          "scatterternary": [
           {
            "marker": {
             "colorbar": {
              "outlinewidth": 0,
              "ticks": ""
             }
            },
            "type": "scatterternary"
           }
          ],
          "surface": [
           {
            "colorbar": {
             "outlinewidth": 0,
             "ticks": ""
            },
            "colorscale": [
             [
              0,
              "#0d0887"
             ],
             [
              0.1111111111111111,
              "#46039f"
             ],
             [
              0.2222222222222222,
              "#7201a8"
             ],
             [
              0.3333333333333333,
              "#9c179e"
             ],
             [
              0.4444444444444444,
              "#bd3786"
             ],
             [
              0.5555555555555556,
              "#d8576b"
             ],
             [
              0.6666666666666666,
              "#ed7953"
             ],
             [
              0.7777777777777778,
              "#fb9f3a"
             ],
             [
              0.8888888888888888,
              "#fdca26"
             ],
             [
              1,
              "#f0f921"
             ]
            ],
            "type": "surface"
           }
          ],
          "table": [
           {
            "cells": {
             "fill": {
              "color": "#EBF0F8"
             },
             "line": {
              "color": "white"
             }
            },
            "header": {
             "fill": {
              "color": "#C8D4E3"
             },
             "line": {
              "color": "white"
             }
            },
            "type": "table"
           }
          ]
         },
         "layout": {
          "annotationdefaults": {
           "arrowcolor": "#2a3f5f",
           "arrowhead": 0,
           "arrowwidth": 1
          },
          "autotypenumbers": "strict",
          "coloraxis": {
           "colorbar": {
            "outlinewidth": 0,
            "ticks": ""
           }
          },
          "colorscale": {
           "diverging": [
            [
             0,
             "#8e0152"
            ],
            [
             0.1,
             "#c51b7d"
            ],
            [
             0.2,
             "#de77ae"
            ],
            [
             0.3,
             "#f1b6da"
            ],
            [
             0.4,
             "#fde0ef"
            ],
            [
             0.5,
             "#f7f7f7"
            ],
            [
             0.6,
             "#e6f5d0"
            ],
            [
             0.7,
             "#b8e186"
            ],
            [
             0.8,
             "#7fbc41"
            ],
            [
             0.9,
             "#4d9221"
            ],
            [
             1,
             "#276419"
            ]
           ],
           "sequential": [
            [
             0,
             "#0d0887"
            ],
            [
             0.1111111111111111,
             "#46039f"
            ],
            [
             0.2222222222222222,
             "#7201a8"
            ],
            [
             0.3333333333333333,
             "#9c179e"
            ],
            [
             0.4444444444444444,
             "#bd3786"
            ],
            [
             0.5555555555555556,
             "#d8576b"
            ],
            [
             0.6666666666666666,
             "#ed7953"
            ],
            [
             0.7777777777777778,
             "#fb9f3a"
            ],
            [
             0.8888888888888888,
             "#fdca26"
            ],
            [
             1,
             "#f0f921"
            ]
           ],
           "sequentialminus": [
            [
             0,
             "#0d0887"
            ],
            [
             0.1111111111111111,
             "#46039f"
            ],
            [
             0.2222222222222222,
             "#7201a8"
            ],
            [
             0.3333333333333333,
             "#9c179e"
            ],
            [
             0.4444444444444444,
             "#bd3786"
            ],
            [
             0.5555555555555556,
             "#d8576b"
            ],
            [
             0.6666666666666666,
             "#ed7953"
            ],
            [
             0.7777777777777778,
             "#fb9f3a"
            ],
            [
             0.8888888888888888,
             "#fdca26"
            ],
            [
             1,
             "#f0f921"
            ]
           ]
          },
          "colorway": [
           "#636efa",
           "#EF553B",
           "#00cc96",
           "#ab63fa",
           "#FFA15A",
           "#19d3f3",
           "#FF6692",
           "#B6E880",
           "#FF97FF",
           "#FECB52"
          ],
          "font": {
           "color": "#2a3f5f"
          },
          "geo": {
           "bgcolor": "white",
           "lakecolor": "white",
           "landcolor": "#E5ECF6",
           "showlakes": true,
           "showland": true,
           "subunitcolor": "white"
          },
          "hoverlabel": {
           "align": "left"
          },
          "hovermode": "closest",
          "mapbox": {
           "style": "light"
          },
          "paper_bgcolor": "white",
          "plot_bgcolor": "#E5ECF6",
          "polar": {
           "angularaxis": {
            "gridcolor": "white",
            "linecolor": "white",
            "ticks": ""
           },
           "bgcolor": "#E5ECF6",
           "radialaxis": {
            "gridcolor": "white",
            "linecolor": "white",
            "ticks": ""
           }
          },
          "scene": {
           "xaxis": {
            "backgroundcolor": "#E5ECF6",
            "gridcolor": "white",
            "gridwidth": 2,
            "linecolor": "white",
            "showbackground": true,
            "ticks": "",
            "zerolinecolor": "white"
           },
           "yaxis": {
            "backgroundcolor": "#E5ECF6",
            "gridcolor": "white",
            "gridwidth": 2,
            "linecolor": "white",
            "showbackground": true,
            "ticks": "",
            "zerolinecolor": "white"
           },
           "zaxis": {
            "backgroundcolor": "#E5ECF6",
            "gridcolor": "white",
            "gridwidth": 2,
            "linecolor": "white",
            "showbackground": true,
            "ticks": "",
            "zerolinecolor": "white"
           }
          },
          "shapedefaults": {
           "line": {
            "color": "#2a3f5f"
           }
          },
          "ternary": {
           "aaxis": {
            "gridcolor": "white",
            "linecolor": "white",
            "ticks": ""
           },
           "baxis": {
            "gridcolor": "white",
            "linecolor": "white",
            "ticks": ""
           },
           "bgcolor": "#E5ECF6",
           "caxis": {
            "gridcolor": "white",
            "linecolor": "white",
            "ticks": ""
           }
          },
          "title": {
           "x": 0.05
          },
          "xaxis": {
           "automargin": true,
           "gridcolor": "white",
           "linecolor": "white",
           "ticks": "",
           "title": {
            "standoff": 15
           },
           "zerolinecolor": "white",
           "zerolinewidth": 2
          },
          "yaxis": {
           "automargin": true,
           "gridcolor": "white",
           "linecolor": "white",
           "ticks": "",
           "title": {
            "standoff": 15
           },
           "zerolinecolor": "white",
           "zerolinewidth": 2
          }
         }
        },
        "title": {
         "text": "Distribution of relations [DRKG]"
        },
        "xaxis": {
         "anchor": "y",
         "categoryarray": [
          "Compound_Compound",
          "Compound_Disease",
          "Compound_Gene",
          "Disease_Disease",
          "Disease_Gene",
          "Disease_Symptom",
          "Gene_Gene",
          "Gene_Pathway",
          "Pathway_Pathway"
         ],
         "categoryorder": "array",
         "domain": [
          0,
          1
         ],
         "title": {
          "text": "source_target"
         }
        },
        "yaxis": {
         "anchor": "x",
         "domain": [
          0,
          1
         ],
         "title": {
          "text": "count"
         }
        }
       }
      }
     },
     "metadata": {},
     "output_type": "display_data"
    }
   ],
   "source": [
    "# use plotly to plot the distribution of relations, but don't include the \"Total\" row and ignore the count less than 10\n",
    "import plotly.express as px\n",
    "\n",
    "import plotly.io as pio\n",
    "pio.renderers.default = 'vscode'\n",
    "\n",
    "color_map = {\n",
    "    \"CuratedKG\": \"#636efa\",\n",
    "    \"bioarx\": \"#EF553B\",\n",
    "    \"Hetionet\": \"#00cc96\",\n",
    "    \"INTACT\": \"#ab63fa\",\n",
    "    \"DRUGBANK\": \"#FFA15A\",\n",
    "    \"DGIDB\": \"#19d3f3\",\n",
    "    \"GNBR\": \"#FF6692\",\n",
    "    \"STRING\": \"#B6E880\"\n",
    "}\n",
    "\n",
    "drkg_relations_grouped_df = drkg_relations_grouped_df.sort_values(by=[\"count\"], ascending=True)\n",
    "\n",
    "kept_relations = [\"Compound_Compound\", \"Compound_Disease\", \"Compound_Gene\", \"Disease_Disease\", \"Disease_Gene\", \"Disease_Symptom\", \"Gene_Gene\", \"Gene_Pathway\", \"Pathway_Pathway\"]\n",
    "\n",
    "drkg_relations_grouped_df = drkg_relations_grouped_df[drkg_relations_grouped_df[\"source_target\"].isin(kept_relations)]\n",
    "\n",
    "fig = px.bar(drkg_relations_grouped_df, x=\"source_target\", y=\"count\", title=\"Distribution of relations [DRKG]\", color=\"resource\", color_discrete_map=color_map)\n",
    "# Order the x axis by the label of the relations\n",
    "fig.update_xaxes(categoryorder=\"array\", categoryarray=kept_relations)\n",
    "# fig.update_traces(texttemplate='%{value:.2s}', textposition='inside')\n",
    "fig.show()"
   ]
  },
  {
   "cell_type": "markdown",
   "metadata": {},
   "source": [
    "#### CustomKG"
   ]
  },
  {
   "cell_type": "code",
   "execution_count": 15,
   "metadata": {},
   "outputs": [
    {
     "name": "stdout",
     "output_type": "stream",
     "text": [
      "             label  count\n",
      "           Microbe      1\n",
      "           Protein      1\n",
      "        Metabolite     13\n",
      "               Tax    215\n",
      "PharmacologicClass    346\n",
      "           Anatomy    411\n",
      "           Symptom    466\n",
      " CellularComponent   1395\n",
      "           Pathway   1856\n",
      " MolecularFunction   2886\n",
      "               Atc   4048\n",
      "        SideEffect   5701\n",
      "           Disease   6208\n",
      " BiologicalProcess  11397\n",
      "          Compound  24337\n",
      "              Gene  39222\n"
     ]
    }
   ],
   "source": [
    "s_entity = pd.concat([hdsn[[\"source_id\", \"source_type\"]], drkg[[\"source_id\", \"source_type\"]], custom[[\"source_id\", \"source_type\"]], malacards[[\"source_id\", \"source_type\"]]])\n",
    "s_entity = s_entity.rename(columns={\"source_id\": \"id\", \"source_type\": \"label\"})\n",
    "t_entity = pd.concat([hdsn[[\"target_id\", \"target_type\"]], drkg[[\"target_id\", \"target_type\"]], custom[[\"target_id\", \"target_type\"]], malacards[[\"target_id\", \"target_type\"]]])\n",
    "t_entity = t_entity.rename(columns={\"target_id\": \"id\", \"target_type\": \"label\"})\n",
    "\n",
    "entity = pd.concat([pd.DataFrame(s_entity), pd.DataFrame(t_entity)])\n",
    "entity = entity.drop_duplicates()\n",
    "entity_grouped_df = entity.groupby([\"label\"]).size().reset_index(name=\"count\")\n",
    "\n",
    "# total = entity_grouped_df[\"count\"].sum()\n",
    "\n",
    "# Add total number of entities as a new row\n",
    "# entity_grouped_df.loc[len(entity_grouped_df)] = [\"Total\", total]\n",
    "entity_grouped_df = entity_grouped_df.sort_values(by=[\"count\"], ascending=True)\n",
    "\n",
    "print(entity_grouped_df.to_string(index=False))"
   ]
  },
  {
   "cell_type": "code",
   "execution_count": 7,
   "metadata": {},
   "outputs": [
    {
     "data": {
      "application/vnd.plotly.v1+json": {
       "config": {
        "plotlyServerURL": "https://plot.ly"
       },
       "data": [
        {
         "alignmentgroup": "True",
         "hovertemplate": "label=%{x}<br>count=%{y}<extra></extra>",
         "legendgroup": "",
         "marker": {
          "color": "#636efa",
          "pattern": {
           "shape": ""
          }
         },
         "name": "",
         "offsetgroup": "",
         "orientation": "v",
         "showlegend": false,
         "textposition": "outside",
         "texttemplate": "%{value:.2s}",
         "type": "bar",
         "x": [
          "Tax",
          "PharmacologicClass",
          "Anatomy",
          "Symptom",
          "CellularComponent",
          "Pathway",
          "MolecularFunction",
          "Atc",
          "SideEffect",
          "Disease",
          "BiologicalProcess",
          "Compound",
          "Gene"
         ],
         "xaxis": "x",
         "y": [
          215,
          346,
          411,
          466,
          1395,
          1856,
          2886,
          4048,
          5701,
          6208,
          11397,
          24337,
          39222
         ],
         "yaxis": "y"
        }
       ],
       "layout": {
        "barmode": "relative",
        "legend": {
         "tracegroupgap": 0
        },
        "template": {
         "data": {
          "bar": [
           {
            "error_x": {
             "color": "#2a3f5f"
            },
            "error_y": {
             "color": "#2a3f5f"
            },
            "marker": {
             "line": {
              "color": "#E5ECF6",
              "width": 0.5
             },
             "pattern": {
              "fillmode": "overlay",
              "size": 10,
              "solidity": 0.2
             }
            },
            "type": "bar"
           }
          ],
          "barpolar": [
           {
            "marker": {
             "line": {
              "color": "#E5ECF6",
              "width": 0.5
             },
             "pattern": {
              "fillmode": "overlay",
              "size": 10,
              "solidity": 0.2
             }
            },
            "type": "barpolar"
           }
          ],
          "carpet": [
           {
            "aaxis": {
             "endlinecolor": "#2a3f5f",
             "gridcolor": "white",
             "linecolor": "white",
             "minorgridcolor": "white",
             "startlinecolor": "#2a3f5f"
            },
            "baxis": {
             "endlinecolor": "#2a3f5f",
             "gridcolor": "white",
             "linecolor": "white",
             "minorgridcolor": "white",
             "startlinecolor": "#2a3f5f"
            },
            "type": "carpet"
           }
          ],
          "choropleth": [
           {
            "colorbar": {
             "outlinewidth": 0,
             "ticks": ""
            },
            "type": "choropleth"
           }
          ],
          "contour": [
           {
            "colorbar": {
             "outlinewidth": 0,
             "ticks": ""
            },
            "colorscale": [
             [
              0,
              "#0d0887"
             ],
             [
              0.1111111111111111,
              "#46039f"
             ],
             [
              0.2222222222222222,
              "#7201a8"
             ],
             [
              0.3333333333333333,
              "#9c179e"
             ],
             [
              0.4444444444444444,
              "#bd3786"
             ],
             [
              0.5555555555555556,
              "#d8576b"
             ],
             [
              0.6666666666666666,
              "#ed7953"
             ],
             [
              0.7777777777777778,
              "#fb9f3a"
             ],
             [
              0.8888888888888888,
              "#fdca26"
             ],
             [
              1,
              "#f0f921"
             ]
            ],
            "type": "contour"
           }
          ],
          "contourcarpet": [
           {
            "colorbar": {
             "outlinewidth": 0,
             "ticks": ""
            },
            "type": "contourcarpet"
           }
          ],
          "heatmap": [
           {
            "colorbar": {
             "outlinewidth": 0,
             "ticks": ""
            },
            "colorscale": [
             [
              0,
              "#0d0887"
             ],
             [
              0.1111111111111111,
              "#46039f"
             ],
             [
              0.2222222222222222,
              "#7201a8"
             ],
             [
              0.3333333333333333,
              "#9c179e"
             ],
             [
              0.4444444444444444,
              "#bd3786"
             ],
             [
              0.5555555555555556,
              "#d8576b"
             ],
             [
              0.6666666666666666,
              "#ed7953"
             ],
             [
              0.7777777777777778,
              "#fb9f3a"
             ],
             [
              0.8888888888888888,
              "#fdca26"
             ],
             [
              1,
              "#f0f921"
             ]
            ],
            "type": "heatmap"
           }
          ],
          "heatmapgl": [
           {
            "colorbar": {
             "outlinewidth": 0,
             "ticks": ""
            },
            "colorscale": [
             [
              0,
              "#0d0887"
             ],
             [
              0.1111111111111111,
              "#46039f"
             ],
             [
              0.2222222222222222,
              "#7201a8"
             ],
             [
              0.3333333333333333,
              "#9c179e"
             ],
             [
              0.4444444444444444,
              "#bd3786"
             ],
             [
              0.5555555555555556,
              "#d8576b"
             ],
             [
              0.6666666666666666,
              "#ed7953"
             ],
             [
              0.7777777777777778,
              "#fb9f3a"
             ],
             [
              0.8888888888888888,
              "#fdca26"
             ],
             [
              1,
              "#f0f921"
             ]
            ],
            "type": "heatmapgl"
           }
          ],
          "histogram": [
           {
            "marker": {
             "pattern": {
              "fillmode": "overlay",
              "size": 10,
              "solidity": 0.2
             }
            },
            "type": "histogram"
           }
          ],
          "histogram2d": [
           {
            "colorbar": {
             "outlinewidth": 0,
             "ticks": ""
            },
            "colorscale": [
             [
              0,
              "#0d0887"
             ],
             [
              0.1111111111111111,
              "#46039f"
             ],
             [
              0.2222222222222222,
              "#7201a8"
             ],
             [
              0.3333333333333333,
              "#9c179e"
             ],
             [
              0.4444444444444444,
              "#bd3786"
             ],
             [
              0.5555555555555556,
              "#d8576b"
             ],
             [
              0.6666666666666666,
              "#ed7953"
             ],
             [
              0.7777777777777778,
              "#fb9f3a"
             ],
             [
              0.8888888888888888,
              "#fdca26"
             ],
             [
              1,
              "#f0f921"
             ]
            ],
            "type": "histogram2d"
           }
          ],
          "histogram2dcontour": [
           {
            "colorbar": {
             "outlinewidth": 0,
             "ticks": ""
            },
            "colorscale": [
             [
              0,
              "#0d0887"
             ],
             [
              0.1111111111111111,
              "#46039f"
             ],
             [
              0.2222222222222222,
              "#7201a8"
             ],
             [
              0.3333333333333333,
              "#9c179e"
             ],
             [
              0.4444444444444444,
              "#bd3786"
             ],
             [
              0.5555555555555556,
              "#d8576b"
             ],
             [
              0.6666666666666666,
              "#ed7953"
             ],
             [
              0.7777777777777778,
              "#fb9f3a"
             ],
             [
              0.8888888888888888,
              "#fdca26"
             ],
             [
              1,
              "#f0f921"
             ]
            ],
            "type": "histogram2dcontour"
           }
          ],
          "mesh3d": [
           {
            "colorbar": {
             "outlinewidth": 0,
             "ticks": ""
            },
            "type": "mesh3d"
           }
          ],
          "parcoords": [
           {
            "line": {
             "colorbar": {
              "outlinewidth": 0,
              "ticks": ""
             }
            },
            "type": "parcoords"
           }
          ],
          "pie": [
           {
            "automargin": true,
            "type": "pie"
           }
          ],
          "scatter": [
           {
            "fillpattern": {
             "fillmode": "overlay",
             "size": 10,
             "solidity": 0.2
            },
            "type": "scatter"
           }
          ],
          "scatter3d": [
           {
            "line": {
             "colorbar": {
              "outlinewidth": 0,
              "ticks": ""
             }
            },
            "marker": {
             "colorbar": {
              "outlinewidth": 0,
              "ticks": ""
             }
            },
            "type": "scatter3d"
           }
          ],
          "scattercarpet": [
           {
            "marker": {
             "colorbar": {
              "outlinewidth": 0,
              "ticks": ""
             }
            },
            "type": "scattercarpet"
           }
          ],
          "scattergeo": [
           {
            "marker": {
             "colorbar": {
              "outlinewidth": 0,
              "ticks": ""
             }
            },
            "type": "scattergeo"
           }
          ],
          "scattergl": [
           {
            "marker": {
             "colorbar": {
              "outlinewidth": 0,
              "ticks": ""
             }
            },
            "type": "scattergl"
           }
          ],
          "scattermapbox": [
           {
            "marker": {
             "colorbar": {
              "outlinewidth": 0,
              "ticks": ""
             }
            },
            "type": "scattermapbox"
           }
          ],
          "scatterpolar": [
           {
            "marker": {
             "colorbar": {
              "outlinewidth": 0,
              "ticks": ""
             }
            },
            "type": "scatterpolar"
           }
          ],
          "scatterpolargl": [
           {
            "marker": {
             "colorbar": {
              "outlinewidth": 0,
              "ticks": ""
             }
            },
            "type": "scatterpolargl"
           }
          ],
          "scatterternary": [
           {
            "marker": {
             "colorbar": {
              "outlinewidth": 0,
              "ticks": ""
             }
            },
            "type": "scatterternary"
           }
          ],
          "surface": [
           {
            "colorbar": {
             "outlinewidth": 0,
             "ticks": ""
            },
            "colorscale": [
             [
              0,
              "#0d0887"
             ],
             [
              0.1111111111111111,
              "#46039f"
             ],
             [
              0.2222222222222222,
              "#7201a8"
             ],
             [
              0.3333333333333333,
              "#9c179e"
             ],
             [
              0.4444444444444444,
              "#bd3786"
             ],
             [
              0.5555555555555556,
              "#d8576b"
             ],
             [
              0.6666666666666666,
              "#ed7953"
             ],
             [
              0.7777777777777778,
              "#fb9f3a"
             ],
             [
              0.8888888888888888,
              "#fdca26"
             ],
             [
              1,
              "#f0f921"
             ]
            ],
            "type": "surface"
           }
          ],
          "table": [
           {
            "cells": {
             "fill": {
              "color": "#EBF0F8"
             },
             "line": {
              "color": "white"
             }
            },
            "header": {
             "fill": {
              "color": "#C8D4E3"
             },
             "line": {
              "color": "white"
             }
            },
            "type": "table"
           }
          ]
         },
         "layout": {
          "annotationdefaults": {
           "arrowcolor": "#2a3f5f",
           "arrowhead": 0,
           "arrowwidth": 1
          },
          "autotypenumbers": "strict",
          "coloraxis": {
           "colorbar": {
            "outlinewidth": 0,
            "ticks": ""
           }
          },
          "colorscale": {
           "diverging": [
            [
             0,
             "#8e0152"
            ],
            [
             0.1,
             "#c51b7d"
            ],
            [
             0.2,
             "#de77ae"
            ],
            [
             0.3,
             "#f1b6da"
            ],
            [
             0.4,
             "#fde0ef"
            ],
            [
             0.5,
             "#f7f7f7"
            ],
            [
             0.6,
             "#e6f5d0"
            ],
            [
             0.7,
             "#b8e186"
            ],
            [
             0.8,
             "#7fbc41"
            ],
            [
             0.9,
             "#4d9221"
            ],
            [
             1,
             "#276419"
            ]
           ],
           "sequential": [
            [
             0,
             "#0d0887"
            ],
            [
             0.1111111111111111,
             "#46039f"
            ],
            [
             0.2222222222222222,
             "#7201a8"
            ],
            [
             0.3333333333333333,
             "#9c179e"
            ],
            [
             0.4444444444444444,
             "#bd3786"
            ],
            [
             0.5555555555555556,
             "#d8576b"
            ],
            [
             0.6666666666666666,
             "#ed7953"
            ],
            [
             0.7777777777777778,
             "#fb9f3a"
            ],
            [
             0.8888888888888888,
             "#fdca26"
            ],
            [
             1,
             "#f0f921"
            ]
           ],
           "sequentialminus": [
            [
             0,
             "#0d0887"
            ],
            [
             0.1111111111111111,
             "#46039f"
            ],
            [
             0.2222222222222222,
             "#7201a8"
            ],
            [
             0.3333333333333333,
             "#9c179e"
            ],
            [
             0.4444444444444444,
             "#bd3786"
            ],
            [
             0.5555555555555556,
             "#d8576b"
            ],
            [
             0.6666666666666666,
             "#ed7953"
            ],
            [
             0.7777777777777778,
             "#fb9f3a"
            ],
            [
             0.8888888888888888,
             "#fdca26"
            ],
            [
             1,
             "#f0f921"
            ]
           ]
          },
          "colorway": [
           "#636efa",
           "#EF553B",
           "#00cc96",
           "#ab63fa",
           "#FFA15A",
           "#19d3f3",
           "#FF6692",
           "#B6E880",
           "#FF97FF",
           "#FECB52"
          ],
          "font": {
           "color": "#2a3f5f"
          },
          "geo": {
           "bgcolor": "white",
           "lakecolor": "white",
           "landcolor": "#E5ECF6",
           "showlakes": true,
           "showland": true,
           "subunitcolor": "white"
          },
          "hoverlabel": {
           "align": "left"
          },
          "hovermode": "closest",
          "mapbox": {
           "style": "light"
          },
          "paper_bgcolor": "white",
          "plot_bgcolor": "#E5ECF6",
          "polar": {
           "angularaxis": {
            "gridcolor": "white",
            "linecolor": "white",
            "ticks": ""
           },
           "bgcolor": "#E5ECF6",
           "radialaxis": {
            "gridcolor": "white",
            "linecolor": "white",
            "ticks": ""
           }
          },
          "scene": {
           "xaxis": {
            "backgroundcolor": "#E5ECF6",
            "gridcolor": "white",
            "gridwidth": 2,
            "linecolor": "white",
            "showbackground": true,
            "ticks": "",
            "zerolinecolor": "white"
           },
           "yaxis": {
            "backgroundcolor": "#E5ECF6",
            "gridcolor": "white",
            "gridwidth": 2,
            "linecolor": "white",
            "showbackground": true,
            "ticks": "",
            "zerolinecolor": "white"
           },
           "zaxis": {
            "backgroundcolor": "#E5ECF6",
            "gridcolor": "white",
            "gridwidth": 2,
            "linecolor": "white",
            "showbackground": true,
            "ticks": "",
            "zerolinecolor": "white"
           }
          },
          "shapedefaults": {
           "line": {
            "color": "#2a3f5f"
           }
          },
          "ternary": {
           "aaxis": {
            "gridcolor": "white",
            "linecolor": "white",
            "ticks": ""
           },
           "baxis": {
            "gridcolor": "white",
            "linecolor": "white",
            "ticks": ""
           },
           "bgcolor": "#E5ECF6",
           "caxis": {
            "gridcolor": "white",
            "linecolor": "white",
            "ticks": ""
           }
          },
          "title": {
           "x": 0.05
          },
          "xaxis": {
           "automargin": true,
           "gridcolor": "white",
           "linecolor": "white",
           "ticks": "",
           "title": {
            "standoff": 15
           },
           "zerolinecolor": "white",
           "zerolinewidth": 2
          },
          "yaxis": {
           "automargin": true,
           "gridcolor": "white",
           "linecolor": "white",
           "ticks": "",
           "title": {
            "standoff": 15
           },
           "zerolinecolor": "white",
           "zerolinewidth": 2
          }
         }
        },
        "title": {
         "text": "Distribution of entities [CustomKG]"
        },
        "xaxis": {
         "anchor": "y",
         "domain": [
          0,
          1
         ],
         "title": {
          "text": "label"
         }
        },
        "yaxis": {
         "anchor": "x",
         "domain": [
          0,
          1
         ],
         "title": {
          "text": "count"
         }
        }
       }
      }
     },
     "metadata": {},
     "output_type": "display_data"
    }
   ],
   "source": [
    "# use plotly to plot the distribution of relations, but don't include the \"Total\" row and ignore the count less than 10\n",
    "import plotly.express as px\n",
    "\n",
    "import plotly.io as pio\n",
    "pio.renderers.default = 'vscode'\n",
    "\n",
    "fig = px.bar(entity_grouped_df[1:-1][entity_grouped_df[1:-1][\"count\"] > 100], x=\"label\", y=\"count\", title=\"Distribution of entities [CustomKG]\")\n",
    "fig.update_traces(texttemplate='%{value:.2s}', textposition='outside')"
   ]
  },
  {
   "cell_type": "code",
   "execution_count": 8,
   "metadata": {},
   "outputs": [
    {
     "name": "stdout",
     "output_type": "stream",
     "text": [
      "                      source_target  resource   count\n",
      "                       Gene_Pathway CuratedKG       1\n",
      "                   Anatomy_Compound CuratedKG       1\n",
      "          MolecularFunction_Symptom CuratedKG       1\n",
      "                    Pathway_Symptom CuratedKG       1\n",
      "                       Anatomy_Gene CuratedKG       1\n",
      "                    Microbe_Pathway CuratedKG       1\n",
      "          BiologicalProcess_Protein CuratedKG       1\n",
      "                 Metabolite_Symptom CuratedKG       1\n",
      "                   Compound_Symptom CuratedKG       1\n",
      "         Disease_PharmacologicClass CuratedKG       1\n",
      "          BiologicalProcess_Pathway CuratedKG       2\n",
      "                    Protein_Symptom CuratedKG       2\n",
      "                   Compound_Pathway CuratedKG       2\n",
      "                    Disease_Protein CuratedKG       2\n",
      "                   Compound_Microbe CuratedKG       2\n",
      "                          Gene_Gene CuratedKG       3\n",
      "                 Metabolite_Pathway CuratedKG       3\n",
      "                    Microbe_Microbe CuratedKG       3\n",
      "                    Microbe_Symptom CuratedKG       3\n",
      "          Anatomy_BiologicalProcess CuratedKG       3\n",
      "                    Anatomy_Symptom CuratedKG       3\n",
      "                   Compound_Protein CuratedKG       4\n",
      "BiologicalProcess_BiologicalProcess CuratedKG       4\n",
      "                       Gene_Microbe CuratedKG       4\n",
      "                  Compound_Compound CuratedKG       4\n",
      "       BiologicalProcess_Metabolite CuratedKG       4\n",
      "          CellularComponent_Disease CuratedKG       4\n",
      "          Disease_MolecularFunction CuratedKG       5\n",
      "                       Gene_Symptom CuratedKG       7\n",
      "             BiologicalProcess_Gene CuratedKG       7\n",
      "         BiologicalProcess_Compound CuratedKG       8\n",
      "          BiologicalProcess_Symptom CuratedKG      11\n",
      "                    Disease_Microbe CuratedKG      12\n",
      "                 Disease_Metabolite CuratedKG      16\n",
      "                    Anatomy_Disease CuratedKG      25\n",
      "                      Compound_Gene CuratedKG      30\n",
      "                    Disease_Pathway CuratedKG      37\n",
      "          BiologicalProcess_Disease CuratedKG      63\n",
      "                    Disease_Disease CuratedKG     105\n",
      "                   Compound_Disease CuratedKG     177\n",
      "                       Disease_Gene CuratedKG     212\n",
      "                       Disease_Gene    bioarx     458\n",
      "                    Disease_Disease  Hetionet     543\n",
      "        Compound_PharmacologicClass  Hetionet    1029\n",
      "                   Compound_Disease  Hetionet    1145\n",
      "                      Compound_Gene    INTACT    1805\n",
      "                    Disease_Symptom  Hetionet    3357\n",
      "                    Anatomy_Disease  Hetionet    3602\n",
      "                   Compound_Disease  DRUGBANK    4968\n",
      "                  Compound_Compound  Hetionet    6486\n",
      "                           Gene_Tax      GNBR   14663\n",
      "                       Atc_Compound  DRUGBANK   15750\n",
      "                      Compound_Gene  DRUGBANK   24801\n",
      "                      Compound_Gene    bioarx   25666\n",
      "                      Compound_Gene     DGIDB   26290\n",
      "                       Disease_Gene  Hetionet   27977\n",
      "                      Compound_Gene  Hetionet   51429\n",
      "                          Gene_Gene    bioarx   58629\n",
      "                          Gene_Gene      GNBR   66722\n",
      "             CellularComponent_Gene  Hetionet   73566\n",
      "                   Compound_Disease      GNBR   77782\n",
      "                      Compound_Gene      GNBR   80803\n",
      "                       Gene_Pathway  Hetionet   84372\n",
      "                       Disease_Gene      GNBR   95399\n",
      "             Gene_MolecularFunction  Hetionet   97222\n",
      "                Compound_SideEffect  Hetionet  138944\n",
      "                    Disease_Symptom CuratedKG  140719\n",
      "                          Gene_Gene    INTACT  254346\n",
      "                          Gene_Gene  Hetionet  474526\n",
      "             BiologicalProcess_Gene  Hetionet  559504\n",
      "                       Anatomy_Gene  Hetionet  726495\n",
      "                  Compound_Compound  DRUGBANK 1379271\n",
      "                          Gene_Gene    STRING 1496708\n"
     ]
    }
   ],
   "source": [
    "relations = pd.concat([hdsn, drkg, custom, malacards])\n",
    "relations = relations.drop_duplicates()\n",
    "\n",
    "# Generate a new column with the source and target types and don't care about the order\n",
    "relations[\"source_target\"] = relations.apply(lambda row: row[\"source_type\"] + \"_\" + row[\"target_type\"] if row[\"source_type\"] < row[\"target_type\"] else row[\"target_type\"] + \"_\" + row[\"source_type\"], axis=1)\n",
    "\n",
    "relations_grouped_df = relations.groupby([\"source_target\", \"resource\"]).size().reset_index(name=\"count\")\n",
    "relations_grouped_df = relations_grouped_df.sort_values(by=[\"count\"], ascending=True)\n",
    "\n",
    "print(relations_grouped_df.to_string(index=False))"
   ]
  },
  {
   "cell_type": "code",
   "execution_count": 9,
   "metadata": {},
   "outputs": [
    {
     "data": {
      "application/vnd.plotly.v1+json": {
       "config": {
        "plotlyServerURL": "https://plot.ly"
       },
       "data": [
        {
         "alignmentgroup": "True",
         "hovertemplate": "resource=CuratedKG<br>source_target=%{x}<br>count=%{y}<extra></extra>",
         "legendgroup": "CuratedKG",
         "marker": {
          "color": "#636efa",
          "pattern": {
           "shape": ""
          }
         },
         "name": "CuratedKG",
         "offsetgroup": "CuratedKG",
         "orientation": "v",
         "showlegend": true,
         "textposition": "auto",
         "type": "bar",
         "x": [
          "Gene_Pathway",
          "Gene_Gene",
          "Compound_Compound",
          "Compound_Gene",
          "Disease_Disease",
          "Compound_Disease",
          "Disease_Gene",
          "Disease_Symptom"
         ],
         "xaxis": "x",
         "y": [
          1,
          3,
          4,
          30,
          105,
          177,
          212,
          140719
         ],
         "yaxis": "y"
        },
        {
         "alignmentgroup": "True",
         "hovertemplate": "resource=bioarx<br>source_target=%{x}<br>count=%{y}<extra></extra>",
         "legendgroup": "bioarx",
         "marker": {
          "color": "#EF553B",
          "pattern": {
           "shape": ""
          }
         },
         "name": "bioarx",
         "offsetgroup": "bioarx",
         "orientation": "v",
         "showlegend": true,
         "textposition": "auto",
         "type": "bar",
         "x": [
          "Disease_Gene",
          "Compound_Gene",
          "Gene_Gene"
         ],
         "xaxis": "x",
         "y": [
          458,
          25666,
          58629
         ],
         "yaxis": "y"
        },
        {
         "alignmentgroup": "True",
         "hovertemplate": "resource=Hetionet<br>source_target=%{x}<br>count=%{y}<extra></extra>",
         "legendgroup": "Hetionet",
         "marker": {
          "color": "#00cc96",
          "pattern": {
           "shape": ""
          }
         },
         "name": "Hetionet",
         "offsetgroup": "Hetionet",
         "orientation": "v",
         "showlegend": true,
         "textposition": "auto",
         "type": "bar",
         "x": [
          "Disease_Disease",
          "Compound_Disease",
          "Disease_Symptom",
          "Compound_Compound",
          "Disease_Gene",
          "Compound_Gene",
          "Gene_Pathway",
          "Gene_Gene"
         ],
         "xaxis": "x",
         "y": [
          543,
          1145,
          3357,
          6486,
          27977,
          51429,
          84372,
          474526
         ],
         "yaxis": "y"
        },
        {
         "alignmentgroup": "True",
         "hovertemplate": "resource=INTACT<br>source_target=%{x}<br>count=%{y}<extra></extra>",
         "legendgroup": "INTACT",
         "marker": {
          "color": "#ab63fa",
          "pattern": {
           "shape": ""
          }
         },
         "name": "INTACT",
         "offsetgroup": "INTACT",
         "orientation": "v",
         "showlegend": true,
         "textposition": "auto",
         "type": "bar",
         "x": [
          "Compound_Gene",
          "Gene_Gene"
         ],
         "xaxis": "x",
         "y": [
          1805,
          254346
         ],
         "yaxis": "y"
        },
        {
         "alignmentgroup": "True",
         "hovertemplate": "resource=DRUGBANK<br>source_target=%{x}<br>count=%{y}<extra></extra>",
         "legendgroup": "DRUGBANK",
         "marker": {
          "color": "#FFA15A",
          "pattern": {
           "shape": ""
          }
         },
         "name": "DRUGBANK",
         "offsetgroup": "DRUGBANK",
         "orientation": "v",
         "showlegend": true,
         "textposition": "auto",
         "type": "bar",
         "x": [
          "Compound_Disease",
          "Compound_Gene",
          "Compound_Compound"
         ],
         "xaxis": "x",
         "y": [
          4968,
          24801,
          1379271
         ],
         "yaxis": "y"
        },
        {
         "alignmentgroup": "True",
         "hovertemplate": "resource=DGIDB<br>source_target=%{x}<br>count=%{y}<extra></extra>",
         "legendgroup": "DGIDB",
         "marker": {
          "color": "#19d3f3",
          "pattern": {
           "shape": ""
          }
         },
         "name": "DGIDB",
         "offsetgroup": "DGIDB",
         "orientation": "v",
         "showlegend": true,
         "textposition": "auto",
         "type": "bar",
         "x": [
          "Compound_Gene"
         ],
         "xaxis": "x",
         "y": [
          26290
         ],
         "yaxis": "y"
        },
        {
         "alignmentgroup": "True",
         "hovertemplate": "resource=GNBR<br>source_target=%{x}<br>count=%{y}<extra></extra>",
         "legendgroup": "GNBR",
         "marker": {
          "color": "#FF6692",
          "pattern": {
           "shape": ""
          }
         },
         "name": "GNBR",
         "offsetgroup": "GNBR",
         "orientation": "v",
         "showlegend": true,
         "textposition": "auto",
         "type": "bar",
         "x": [
          "Gene_Gene",
          "Compound_Disease",
          "Compound_Gene",
          "Disease_Gene"
         ],
         "xaxis": "x",
         "y": [
          66722,
          77782,
          80803,
          95399
         ],
         "yaxis": "y"
        },
        {
         "alignmentgroup": "True",
         "hovertemplate": "resource=STRING<br>source_target=%{x}<br>count=%{y}<extra></extra>",
         "legendgroup": "STRING",
         "marker": {
          "color": "#B6E880",
          "pattern": {
           "shape": ""
          }
         },
         "name": "STRING",
         "offsetgroup": "STRING",
         "orientation": "v",
         "showlegend": true,
         "textposition": "auto",
         "type": "bar",
         "x": [
          "Gene_Gene"
         ],
         "xaxis": "x",
         "y": [
          1496708
         ],
         "yaxis": "y"
        }
       ],
       "layout": {
        "barmode": "relative",
        "legend": {
         "title": {
          "text": "resource"
         },
         "tracegroupgap": 0
        },
        "template": {
         "data": {
          "bar": [
           {
            "error_x": {
             "color": "#2a3f5f"
            },
            "error_y": {
             "color": "#2a3f5f"
            },
            "marker": {
             "line": {
              "color": "#E5ECF6",
              "width": 0.5
             },
             "pattern": {
              "fillmode": "overlay",
              "size": 10,
              "solidity": 0.2
             }
            },
            "type": "bar"
           }
          ],
          "barpolar": [
           {
            "marker": {
             "line": {
              "color": "#E5ECF6",
              "width": 0.5
             },
             "pattern": {
              "fillmode": "overlay",
              "size": 10,
              "solidity": 0.2
             }
            },
            "type": "barpolar"
           }
          ],
          "carpet": [
           {
            "aaxis": {
             "endlinecolor": "#2a3f5f",
             "gridcolor": "white",
             "linecolor": "white",
             "minorgridcolor": "white",
             "startlinecolor": "#2a3f5f"
            },
            "baxis": {
             "endlinecolor": "#2a3f5f",
             "gridcolor": "white",
             "linecolor": "white",
             "minorgridcolor": "white",
             "startlinecolor": "#2a3f5f"
            },
            "type": "carpet"
           }
          ],
          "choropleth": [
           {
            "colorbar": {
             "outlinewidth": 0,
             "ticks": ""
            },
            "type": "choropleth"
           }
          ],
          "contour": [
           {
            "colorbar": {
             "outlinewidth": 0,
             "ticks": ""
            },
            "colorscale": [
             [
              0,
              "#0d0887"
             ],
             [
              0.1111111111111111,
              "#46039f"
             ],
             [
              0.2222222222222222,
              "#7201a8"
             ],
             [
              0.3333333333333333,
              "#9c179e"
             ],
             [
              0.4444444444444444,
              "#bd3786"
             ],
             [
              0.5555555555555556,
              "#d8576b"
             ],
             [
              0.6666666666666666,
              "#ed7953"
             ],
             [
              0.7777777777777778,
              "#fb9f3a"
             ],
             [
              0.8888888888888888,
              "#fdca26"
             ],
             [
              1,
              "#f0f921"
             ]
            ],
            "type": "contour"
           }
          ],
          "contourcarpet": [
           {
            "colorbar": {
             "outlinewidth": 0,
             "ticks": ""
            },
            "type": "contourcarpet"
           }
          ],
          "heatmap": [
           {
            "colorbar": {
             "outlinewidth": 0,
             "ticks": ""
            },
            "colorscale": [
             [
              0,
              "#0d0887"
             ],
             [
              0.1111111111111111,
              "#46039f"
             ],
             [
              0.2222222222222222,
              "#7201a8"
             ],
             [
              0.3333333333333333,
              "#9c179e"
             ],
             [
              0.4444444444444444,
              "#bd3786"
             ],
             [
              0.5555555555555556,
              "#d8576b"
             ],
             [
              0.6666666666666666,
              "#ed7953"
             ],
             [
              0.7777777777777778,
              "#fb9f3a"
             ],
             [
              0.8888888888888888,
              "#fdca26"
             ],
             [
              1,
              "#f0f921"
             ]
            ],
            "type": "heatmap"
           }
          ],
          "heatmapgl": [
           {
            "colorbar": {
             "outlinewidth": 0,
             "ticks": ""
            },
            "colorscale": [
             [
              0,
              "#0d0887"
             ],
             [
              0.1111111111111111,
              "#46039f"
             ],
             [
              0.2222222222222222,
              "#7201a8"
             ],
             [
              0.3333333333333333,
              "#9c179e"
             ],
             [
              0.4444444444444444,
              "#bd3786"
             ],
             [
              0.5555555555555556,
              "#d8576b"
             ],
             [
              0.6666666666666666,
              "#ed7953"
             ],
             [
              0.7777777777777778,
              "#fb9f3a"
             ],
             [
              0.8888888888888888,
              "#fdca26"
             ],
             [
              1,
              "#f0f921"
             ]
            ],
            "type": "heatmapgl"
           }
          ],
          "histogram": [
           {
            "marker": {
             "pattern": {
              "fillmode": "overlay",
              "size": 10,
              "solidity": 0.2
             }
            },
            "type": "histogram"
           }
          ],
          "histogram2d": [
           {
            "colorbar": {
             "outlinewidth": 0,
             "ticks": ""
            },
            "colorscale": [
             [
              0,
              "#0d0887"
             ],
             [
              0.1111111111111111,
              "#46039f"
             ],
             [
              0.2222222222222222,
              "#7201a8"
             ],
             [
              0.3333333333333333,
              "#9c179e"
             ],
             [
              0.4444444444444444,
              "#bd3786"
             ],
             [
              0.5555555555555556,
              "#d8576b"
             ],
             [
              0.6666666666666666,
              "#ed7953"
             ],
             [
              0.7777777777777778,
              "#fb9f3a"
             ],
             [
              0.8888888888888888,
              "#fdca26"
             ],
             [
              1,
              "#f0f921"
             ]
            ],
            "type": "histogram2d"
           }
          ],
          "histogram2dcontour": [
           {
            "colorbar": {
             "outlinewidth": 0,
             "ticks": ""
            },
            "colorscale": [
             [
              0,
              "#0d0887"
             ],
             [
              0.1111111111111111,
              "#46039f"
             ],
             [
              0.2222222222222222,
              "#7201a8"
             ],
             [
              0.3333333333333333,
              "#9c179e"
             ],
             [
              0.4444444444444444,
              "#bd3786"
             ],
             [
              0.5555555555555556,
              "#d8576b"
             ],
             [
              0.6666666666666666,
              "#ed7953"
             ],
             [
              0.7777777777777778,
              "#fb9f3a"
             ],
             [
              0.8888888888888888,
              "#fdca26"
             ],
             [
              1,
              "#f0f921"
             ]
            ],
            "type": "histogram2dcontour"
           }
          ],
          "mesh3d": [
           {
            "colorbar": {
             "outlinewidth": 0,
             "ticks": ""
            },
            "type": "mesh3d"
           }
          ],
          "parcoords": [
           {
            "line": {
             "colorbar": {
              "outlinewidth": 0,
              "ticks": ""
             }
            },
            "type": "parcoords"
           }
          ],
          "pie": [
           {
            "automargin": true,
            "type": "pie"
           }
          ],
          "scatter": [
           {
            "fillpattern": {
             "fillmode": "overlay",
             "size": 10,
             "solidity": 0.2
            },
            "type": "scatter"
           }
          ],
          "scatter3d": [
           {
            "line": {
             "colorbar": {
              "outlinewidth": 0,
              "ticks": ""
             }
            },
            "marker": {
             "colorbar": {
              "outlinewidth": 0,
              "ticks": ""
             }
            },
            "type": "scatter3d"
           }
          ],
          "scattercarpet": [
           {
            "marker": {
             "colorbar": {
              "outlinewidth": 0,
              "ticks": ""
             }
            },
            "type": "scattercarpet"
           }
          ],
          "scattergeo": [
           {
            "marker": {
             "colorbar": {
              "outlinewidth": 0,
              "ticks": ""
             }
            },
            "type": "scattergeo"
           }
          ],
          "scattergl": [
           {
            "marker": {
             "colorbar": {
              "outlinewidth": 0,
              "ticks": ""
             }
            },
            "type": "scattergl"
           }
          ],
          "scattermapbox": [
           {
            "marker": {
             "colorbar": {
              "outlinewidth": 0,
              "ticks": ""
             }
            },
            "type": "scattermapbox"
           }
          ],
          "scatterpolar": [
           {
            "marker": {
             "colorbar": {
              "outlinewidth": 0,
              "ticks": ""
             }
            },
            "type": "scatterpolar"
           }
          ],
          "scatterpolargl": [
           {
            "marker": {
             "colorbar": {
              "outlinewidth": 0,
              "ticks": ""
             }
            },
            "type": "scatterpolargl"
           }
          ],
          "scatterternary": [
           {
            "marker": {
             "colorbar": {
              "outlinewidth": 0,
              "ticks": ""
             }
            },
            "type": "scatterternary"
           }
          ],
          "surface": [
           {
            "colorbar": {
             "outlinewidth": 0,
             "ticks": ""
            },
            "colorscale": [
             [
              0,
              "#0d0887"
             ],
             [
              0.1111111111111111,
              "#46039f"
             ],
             [
              0.2222222222222222,
              "#7201a8"
             ],
             [
              0.3333333333333333,
              "#9c179e"
             ],
             [
              0.4444444444444444,
              "#bd3786"
             ],
             [
              0.5555555555555556,
              "#d8576b"
             ],
             [
              0.6666666666666666,
              "#ed7953"
             ],
             [
              0.7777777777777778,
              "#fb9f3a"
             ],
             [
              0.8888888888888888,
              "#fdca26"
             ],
             [
              1,
              "#f0f921"
             ]
            ],
            "type": "surface"
           }
          ],
          "table": [
           {
            "cells": {
             "fill": {
              "color": "#EBF0F8"
             },
             "line": {
              "color": "white"
             }
            },
            "header": {
             "fill": {
              "color": "#C8D4E3"
             },
             "line": {
              "color": "white"
             }
            },
            "type": "table"
           }
          ]
         },
         "layout": {
          "annotationdefaults": {
           "arrowcolor": "#2a3f5f",
           "arrowhead": 0,
           "arrowwidth": 1
          },
          "autotypenumbers": "strict",
          "coloraxis": {
           "colorbar": {
            "outlinewidth": 0,
            "ticks": ""
           }
          },
          "colorscale": {
           "diverging": [
            [
             0,
             "#8e0152"
            ],
            [
             0.1,
             "#c51b7d"
            ],
            [
             0.2,
             "#de77ae"
            ],
            [
             0.3,
             "#f1b6da"
            ],
            [
             0.4,
             "#fde0ef"
            ],
            [
             0.5,
             "#f7f7f7"
            ],
            [
             0.6,
             "#e6f5d0"
            ],
            [
             0.7,
             "#b8e186"
            ],
            [
             0.8,
             "#7fbc41"
            ],
            [
             0.9,
             "#4d9221"
            ],
            [
             1,
             "#276419"
            ]
           ],
           "sequential": [
            [
             0,
             "#0d0887"
            ],
            [
             0.1111111111111111,
             "#46039f"
            ],
            [
             0.2222222222222222,
             "#7201a8"
            ],
            [
             0.3333333333333333,
             "#9c179e"
            ],
            [
             0.4444444444444444,
             "#bd3786"
            ],
            [
             0.5555555555555556,
             "#d8576b"
            ],
            [
             0.6666666666666666,
             "#ed7953"
            ],
            [
             0.7777777777777778,
             "#fb9f3a"
            ],
            [
             0.8888888888888888,
             "#fdca26"
            ],
            [
             1,
             "#f0f921"
            ]
           ],
           "sequentialminus": [
            [
             0,
             "#0d0887"
            ],
            [
             0.1111111111111111,
             "#46039f"
            ],
            [
             0.2222222222222222,
             "#7201a8"
            ],
            [
             0.3333333333333333,
             "#9c179e"
            ],
            [
             0.4444444444444444,
             "#bd3786"
            ],
            [
             0.5555555555555556,
             "#d8576b"
            ],
            [
             0.6666666666666666,
             "#ed7953"
            ],
            [
             0.7777777777777778,
             "#fb9f3a"
            ],
            [
             0.8888888888888888,
             "#fdca26"
            ],
            [
             1,
             "#f0f921"
            ]
           ]
          },
          "colorway": [
           "#636efa",
           "#EF553B",
           "#00cc96",
           "#ab63fa",
           "#FFA15A",
           "#19d3f3",
           "#FF6692",
           "#B6E880",
           "#FF97FF",
           "#FECB52"
          ],
          "font": {
           "color": "#2a3f5f"
          },
          "geo": {
           "bgcolor": "white",
           "lakecolor": "white",
           "landcolor": "#E5ECF6",
           "showlakes": true,
           "showland": true,
           "subunitcolor": "white"
          },
          "hoverlabel": {
           "align": "left"
          },
          "hovermode": "closest",
          "mapbox": {
           "style": "light"
          },
          "paper_bgcolor": "white",
          "plot_bgcolor": "#E5ECF6",
          "polar": {
           "angularaxis": {
            "gridcolor": "white",
            "linecolor": "white",
            "ticks": ""
           },
           "bgcolor": "#E5ECF6",
           "radialaxis": {
            "gridcolor": "white",
            "linecolor": "white",
            "ticks": ""
           }
          },
          "scene": {
           "xaxis": {
            "backgroundcolor": "#E5ECF6",
            "gridcolor": "white",
            "gridwidth": 2,
            "linecolor": "white",
            "showbackground": true,
            "ticks": "",
            "zerolinecolor": "white"
           },
           "yaxis": {
            "backgroundcolor": "#E5ECF6",
            "gridcolor": "white",
            "gridwidth": 2,
            "linecolor": "white",
            "showbackground": true,
            "ticks": "",
            "zerolinecolor": "white"
           },
           "zaxis": {
            "backgroundcolor": "#E5ECF6",
            "gridcolor": "white",
            "gridwidth": 2,
            "linecolor": "white",
            "showbackground": true,
            "ticks": "",
            "zerolinecolor": "white"
           }
          },
          "shapedefaults": {
           "line": {
            "color": "#2a3f5f"
           }
          },
          "ternary": {
           "aaxis": {
            "gridcolor": "white",
            "linecolor": "white",
            "ticks": ""
           },
           "baxis": {
            "gridcolor": "white",
            "linecolor": "white",
            "ticks": ""
           },
           "bgcolor": "#E5ECF6",
           "caxis": {
            "gridcolor": "white",
            "linecolor": "white",
            "ticks": ""
           }
          },
          "title": {
           "x": 0.05
          },
          "xaxis": {
           "automargin": true,
           "gridcolor": "white",
           "linecolor": "white",
           "ticks": "",
           "title": {
            "standoff": 15
           },
           "zerolinecolor": "white",
           "zerolinewidth": 2
          },
          "yaxis": {
           "automargin": true,
           "gridcolor": "white",
           "linecolor": "white",
           "ticks": "",
           "title": {
            "standoff": 15
           },
           "zerolinecolor": "white",
           "zerolinewidth": 2
          }
         }
        },
        "title": {
         "text": "Distribution of relations [CustomKG]"
        },
        "xaxis": {
         "anchor": "y",
         "categoryarray": [
          "Compound_Compound",
          "Compound_Disease",
          "Compound_Gene",
          "Disease_Disease",
          "Disease_Gene",
          "Disease_Symptom",
          "Gene_Gene",
          "Gene_Pathway",
          "Pathway_Pathway"
         ],
         "categoryorder": "array",
         "domain": [
          0,
          1
         ],
         "title": {
          "text": "source_target"
         }
        },
        "yaxis": {
         "anchor": "x",
         "domain": [
          0,
          1
         ],
         "title": {
          "text": "count"
         }
        }
       }
      }
     },
     "metadata": {},
     "output_type": "display_data"
    },
    {
     "name": "stdout",
     "output_type": "stream",
     "text": [
      "(Bar({\n",
      "    'alignmentgroup': 'True',\n",
      "    'hovertemplate': 'resource=CuratedKG<br>source_target=%{x}<br>count=%{y}<extra></extra>',\n",
      "    'legendgroup': 'CuratedKG',\n",
      "    'marker': {'color': '#636efa', 'pattern': {'shape': ''}},\n",
      "    'name': 'CuratedKG',\n",
      "    'offsetgroup': 'CuratedKG',\n",
      "    'orientation': 'v',\n",
      "    'showlegend': True,\n",
      "    'textposition': 'auto',\n",
      "    'x': array(['Gene_Pathway', 'Gene_Gene', 'Compound_Compound', 'Compound_Gene',\n",
      "                'Disease_Disease', 'Compound_Disease', 'Disease_Gene',\n",
      "                'Disease_Symptom'], dtype=object),\n",
      "    'xaxis': 'x',\n",
      "    'y': array([     1,      3,      4,     30,    105,    177,    212, 140719]),\n",
      "    'yaxis': 'y'\n",
      "}), Bar({\n",
      "    'alignmentgroup': 'True',\n",
      "    'hovertemplate': 'resource=bioarx<br>source_target=%{x}<br>count=%{y}<extra></extra>',\n",
      "    'legendgroup': 'bioarx',\n",
      "    'marker': {'color': '#EF553B', 'pattern': {'shape': ''}},\n",
      "    'name': 'bioarx',\n",
      "    'offsetgroup': 'bioarx',\n",
      "    'orientation': 'v',\n",
      "    'showlegend': True,\n",
      "    'textposition': 'auto',\n",
      "    'x': array(['Disease_Gene', 'Compound_Gene', 'Gene_Gene'], dtype=object),\n",
      "    'xaxis': 'x',\n",
      "    'y': array([  458, 25666, 58629]),\n",
      "    'yaxis': 'y'\n",
      "}), Bar({\n",
      "    'alignmentgroup': 'True',\n",
      "    'hovertemplate': 'resource=Hetionet<br>source_target=%{x}<br>count=%{y}<extra></extra>',\n",
      "    'legendgroup': 'Hetionet',\n",
      "    'marker': {'color': '#00cc96', 'pattern': {'shape': ''}},\n",
      "    'name': 'Hetionet',\n",
      "    'offsetgroup': 'Hetionet',\n",
      "    'orientation': 'v',\n",
      "    'showlegend': True,\n",
      "    'textposition': 'auto',\n",
      "    'x': array(['Disease_Disease', 'Compound_Disease', 'Disease_Symptom',\n",
      "                'Compound_Compound', 'Disease_Gene', 'Compound_Gene', 'Gene_Pathway',\n",
      "                'Gene_Gene'], dtype=object),\n",
      "    'xaxis': 'x',\n",
      "    'y': array([   543,   1145,   3357,   6486,  27977,  51429,  84372, 474526]),\n",
      "    'yaxis': 'y'\n",
      "}), Bar({\n",
      "    'alignmentgroup': 'True',\n",
      "    'hovertemplate': 'resource=INTACT<br>source_target=%{x}<br>count=%{y}<extra></extra>',\n",
      "    'legendgroup': 'INTACT',\n",
      "    'marker': {'color': '#ab63fa', 'pattern': {'shape': ''}},\n",
      "    'name': 'INTACT',\n",
      "    'offsetgroup': 'INTACT',\n",
      "    'orientation': 'v',\n",
      "    'showlegend': True,\n",
      "    'textposition': 'auto',\n",
      "    'x': array(['Compound_Gene', 'Gene_Gene'], dtype=object),\n",
      "    'xaxis': 'x',\n",
      "    'y': array([  1805, 254346]),\n",
      "    'yaxis': 'y'\n",
      "}), Bar({\n",
      "    'alignmentgroup': 'True',\n",
      "    'hovertemplate': 'resource=DRUGBANK<br>source_target=%{x}<br>count=%{y}<extra></extra>',\n",
      "    'legendgroup': 'DRUGBANK',\n",
      "    'marker': {'color': '#FFA15A', 'pattern': {'shape': ''}},\n",
      "    'name': 'DRUGBANK',\n",
      "    'offsetgroup': 'DRUGBANK',\n",
      "    'orientation': 'v',\n",
      "    'showlegend': True,\n",
      "    'textposition': 'auto',\n",
      "    'x': array(['Compound_Disease', 'Compound_Gene', 'Compound_Compound'], dtype=object),\n",
      "    'xaxis': 'x',\n",
      "    'y': array([   4968,   24801, 1379271]),\n",
      "    'yaxis': 'y'\n",
      "}), Bar({\n",
      "    'alignmentgroup': 'True',\n",
      "    'hovertemplate': 'resource=DGIDB<br>source_target=%{x}<br>count=%{y}<extra></extra>',\n",
      "    'legendgroup': 'DGIDB',\n",
      "    'marker': {'color': '#19d3f3', 'pattern': {'shape': ''}},\n",
      "    'name': 'DGIDB',\n",
      "    'offsetgroup': 'DGIDB',\n",
      "    'orientation': 'v',\n",
      "    'showlegend': True,\n",
      "    'textposition': 'auto',\n",
      "    'x': array(['Compound_Gene'], dtype=object),\n",
      "    'xaxis': 'x',\n",
      "    'y': array([26290]),\n",
      "    'yaxis': 'y'\n",
      "}), Bar({\n",
      "    'alignmentgroup': 'True',\n",
      "    'hovertemplate': 'resource=GNBR<br>source_target=%{x}<br>count=%{y}<extra></extra>',\n",
      "    'legendgroup': 'GNBR',\n",
      "    'marker': {'color': '#FF6692', 'pattern': {'shape': ''}},\n",
      "    'name': 'GNBR',\n",
      "    'offsetgroup': 'GNBR',\n",
      "    'orientation': 'v',\n",
      "    'showlegend': True,\n",
      "    'textposition': 'auto',\n",
      "    'x': array(['Gene_Gene', 'Compound_Disease', 'Compound_Gene', 'Disease_Gene'],\n",
      "               dtype=object),\n",
      "    'xaxis': 'x',\n",
      "    'y': array([66722, 77782, 80803, 95399]),\n",
      "    'yaxis': 'y'\n",
      "}), Bar({\n",
      "    'alignmentgroup': 'True',\n",
      "    'hovertemplate': 'resource=STRING<br>source_target=%{x}<br>count=%{y}<extra></extra>',\n",
      "    'legendgroup': 'STRING',\n",
      "    'marker': {'color': '#B6E880', 'pattern': {'shape': ''}},\n",
      "    'name': 'STRING',\n",
      "    'offsetgroup': 'STRING',\n",
      "    'orientation': 'v',\n",
      "    'showlegend': True,\n",
      "    'textposition': 'auto',\n",
      "    'x': array(['Gene_Gene'], dtype=object),\n",
      "    'xaxis': 'x',\n",
      "    'y': array([1496708]),\n",
      "    'yaxis': 'y'\n",
      "}))\n"
     ]
    }
   ],
   "source": [
    "# use plotly to plot the distribution of relations, but don't include the \"Total\" row and ignore the count less than 10\n",
    "import plotly.express as px\n",
    "\n",
    "import plotly.io as pio\n",
    "pio.renderers.default = 'vscode'\n",
    "\n",
    "kept_relations = [\"Compound_Compound\", \"Compound_Disease\", \"Compound_Gene\", \"Disease_Disease\", \"Disease_Gene\", \"Disease_Symptom\", \"Gene_Gene\", \"Gene_Pathway\", \"Pathway_Pathway\"]\n",
    "\n",
    "color_map = {\n",
    "    \"CuratedKG\": \"#636efa\",\n",
    "    \"bioarx\": \"#EF553B\",\n",
    "    \"Hetionet\": \"#00cc96\",\n",
    "    \"INTACT\": \"#ab63fa\",\n",
    "    \"DRUGBANK\": \"#FFA15A\",\n",
    "    \"DGIDB\": \"#19d3f3\",\n",
    "    \"GNBR\": \"#FF6692\",\n",
    "    \"STRING\": \"#B6E880\"\n",
    "}\n",
    "\n",
    "relations_grouped_df = relations_grouped_df[relations_grouped_df[\"source_target\"].isin(kept_relations)]\n",
    "\n",
    "fig = px.bar(relations_grouped_df, x=\"source_target\", y=\"count\", title=\"Distribution of relations [CustomKG]\", color=\"resource\", color_discrete_map=color_map)\n",
    "# Order the x axis by the label of the relations\n",
    "fig.update_xaxes(categoryorder=\"array\", categoryarray=kept_relations)\n",
    "# fig.update_traces(texttemplate='%{value:.2s}', textposition='inside')\n",
    "fig.show()\n",
    "\n",
    "# Extract the colors assigned to the bars\n",
    "bar_colors = fig.data\n",
    "\n",
    "# Output the colors\n",
    "print(bar_colors)"
   ]
  },
  {
   "cell_type": "code",
   "execution_count": 16,
   "metadata": {},
   "outputs": [
    {
     "data": {
      "application/vnd.plotly.v1+json": {
       "config": {
        "plotlyServerURL": "https://plot.ly"
       },
       "data": [
        {
         "alignmentgroup": "True",
         "hovertemplate": "source=CustomKG<br>label=%{x}<br>count=%{y}<extra></extra>",
         "legendgroup": "CustomKG",
         "marker": {
          "color": "#636efa",
          "pattern": {
           "shape": ""
          }
         },
         "name": "CustomKG",
         "offsetgroup": "CustomKG",
         "orientation": "v",
         "showlegend": true,
         "textposition": "outside",
         "texttemplate": "%{value:.2s}",
         "type": "bar",
         "x": [
          "Microbe",
          "Protein",
          "Metabolite",
          "Tax",
          "PharmacologicClass",
          "Anatomy",
          "Symptom",
          "CellularComponent",
          "Pathway",
          "MolecularFunction",
          "Atc",
          "SideEffect",
          "Disease",
          "BiologicalProcess",
          "Compound",
          "Gene"
         ],
         "xaxis": "x",
         "y": [
          1,
          1,
          13,
          215,
          346,
          411,
          466,
          1395,
          1856,
          2886,
          4048,
          5701,
          6208,
          11397,
          24337,
          39222
         ],
         "yaxis": "y"
        },
        {
         "alignmentgroup": "True",
         "hovertemplate": "source=DRKG<br>label=%{x}<br>count=%{y}<extra></extra>",
         "legendgroup": "DRKG",
         "marker": {
          "color": "#EF553B",
          "pattern": {
           "shape": ""
          }
         },
         "name": "DRKG",
         "offsetgroup": "DRKG",
         "orientation": "v",
         "showlegend": true,
         "textposition": "outside",
         "texttemplate": "%{value:.2s}",
         "type": "bar",
         "x": [
          "Tax",
          "PharmacologicClass",
          "Anatomy",
          "Symptom",
          "CellularComponent",
          "Pathway",
          "MolecularFunction",
          "Atc",
          "Disease",
          "SideEffect",
          "BiologicalProcess",
          "Compound",
          "Gene"
         ],
         "xaxis": "x",
         "y": [
          215,
          345,
          400,
          415,
          1391,
          1822,
          2884,
          4048,
          5103,
          5701,
          11381,
          24313,
          39220
         ],
         "yaxis": "y"
        }
       ],
       "layout": {
        "barmode": "group",
        "legend": {
         "title": {
          "text": "source"
         },
         "tracegroupgap": 0
        },
        "template": {
         "data": {
          "bar": [
           {
            "error_x": {
             "color": "#2a3f5f"
            },
            "error_y": {
             "color": "#2a3f5f"
            },
            "marker": {
             "line": {
              "color": "#E5ECF6",
              "width": 0.5
             },
             "pattern": {
              "fillmode": "overlay",
              "size": 10,
              "solidity": 0.2
             }
            },
            "type": "bar"
           }
          ],
          "barpolar": [
           {
            "marker": {
             "line": {
              "color": "#E5ECF6",
              "width": 0.5
             },
             "pattern": {
              "fillmode": "overlay",
              "size": 10,
              "solidity": 0.2
             }
            },
            "type": "barpolar"
           }
          ],
          "carpet": [
           {
            "aaxis": {
             "endlinecolor": "#2a3f5f",
             "gridcolor": "white",
             "linecolor": "white",
             "minorgridcolor": "white",
             "startlinecolor": "#2a3f5f"
            },
            "baxis": {
             "endlinecolor": "#2a3f5f",
             "gridcolor": "white",
             "linecolor": "white",
             "minorgridcolor": "white",
             "startlinecolor": "#2a3f5f"
            },
            "type": "carpet"
           }
          ],
          "choropleth": [
           {
            "colorbar": {
             "outlinewidth": 0,
             "ticks": ""
            },
            "type": "choropleth"
           }
          ],
          "contour": [
           {
            "colorbar": {
             "outlinewidth": 0,
             "ticks": ""
            },
            "colorscale": [
             [
              0,
              "#0d0887"
             ],
             [
              0.1111111111111111,
              "#46039f"
             ],
             [
              0.2222222222222222,
              "#7201a8"
             ],
             [
              0.3333333333333333,
              "#9c179e"
             ],
             [
              0.4444444444444444,
              "#bd3786"
             ],
             [
              0.5555555555555556,
              "#d8576b"
             ],
             [
              0.6666666666666666,
              "#ed7953"
             ],
             [
              0.7777777777777778,
              "#fb9f3a"
             ],
             [
              0.8888888888888888,
              "#fdca26"
             ],
             [
              1,
              "#f0f921"
             ]
            ],
            "type": "contour"
           }
          ],
          "contourcarpet": [
           {
            "colorbar": {
             "outlinewidth": 0,
             "ticks": ""
            },
            "type": "contourcarpet"
           }
          ],
          "heatmap": [
           {
            "colorbar": {
             "outlinewidth": 0,
             "ticks": ""
            },
            "colorscale": [
             [
              0,
              "#0d0887"
             ],
             [
              0.1111111111111111,
              "#46039f"
             ],
             [
              0.2222222222222222,
              "#7201a8"
             ],
             [
              0.3333333333333333,
              "#9c179e"
             ],
             [
              0.4444444444444444,
              "#bd3786"
             ],
             [
              0.5555555555555556,
              "#d8576b"
             ],
             [
              0.6666666666666666,
              "#ed7953"
             ],
             [
              0.7777777777777778,
              "#fb9f3a"
             ],
             [
              0.8888888888888888,
              "#fdca26"
             ],
             [
              1,
              "#f0f921"
             ]
            ],
            "type": "heatmap"
           }
          ],
          "heatmapgl": [
           {
            "colorbar": {
             "outlinewidth": 0,
             "ticks": ""
            },
            "colorscale": [
             [
              0,
              "#0d0887"
             ],
             [
              0.1111111111111111,
              "#46039f"
             ],
             [
              0.2222222222222222,
              "#7201a8"
             ],
             [
              0.3333333333333333,
              "#9c179e"
             ],
             [
              0.4444444444444444,
              "#bd3786"
             ],
             [
              0.5555555555555556,
              "#d8576b"
             ],
             [
              0.6666666666666666,
              "#ed7953"
             ],
             [
              0.7777777777777778,
              "#fb9f3a"
             ],
             [
              0.8888888888888888,
              "#fdca26"
             ],
             [
              1,
              "#f0f921"
             ]
            ],
            "type": "heatmapgl"
           }
          ],
          "histogram": [
           {
            "marker": {
             "pattern": {
              "fillmode": "overlay",
              "size": 10,
              "solidity": 0.2
             }
            },
            "type": "histogram"
           }
          ],
          "histogram2d": [
           {
            "colorbar": {
             "outlinewidth": 0,
             "ticks": ""
            },
            "colorscale": [
             [
              0,
              "#0d0887"
             ],
             [
              0.1111111111111111,
              "#46039f"
             ],
             [
              0.2222222222222222,
              "#7201a8"
             ],
             [
              0.3333333333333333,
              "#9c179e"
             ],
             [
              0.4444444444444444,
              "#bd3786"
             ],
             [
              0.5555555555555556,
              "#d8576b"
             ],
             [
              0.6666666666666666,
              "#ed7953"
             ],
             [
              0.7777777777777778,
              "#fb9f3a"
             ],
             [
              0.8888888888888888,
              "#fdca26"
             ],
             [
              1,
              "#f0f921"
             ]
            ],
            "type": "histogram2d"
           }
          ],
          "histogram2dcontour": [
           {
            "colorbar": {
             "outlinewidth": 0,
             "ticks": ""
            },
            "colorscale": [
             [
              0,
              "#0d0887"
             ],
             [
              0.1111111111111111,
              "#46039f"
             ],
             [
              0.2222222222222222,
              "#7201a8"
             ],
             [
              0.3333333333333333,
              "#9c179e"
             ],
             [
              0.4444444444444444,
              "#bd3786"
             ],
             [
              0.5555555555555556,
              "#d8576b"
             ],
             [
              0.6666666666666666,
              "#ed7953"
             ],
             [
              0.7777777777777778,
              "#fb9f3a"
             ],
             [
              0.8888888888888888,
              "#fdca26"
             ],
             [
              1,
              "#f0f921"
             ]
            ],
            "type": "histogram2dcontour"
           }
          ],
          "mesh3d": [
           {
            "colorbar": {
             "outlinewidth": 0,
             "ticks": ""
            },
            "type": "mesh3d"
           }
          ],
          "parcoords": [
           {
            "line": {
             "colorbar": {
              "outlinewidth": 0,
              "ticks": ""
             }
            },
            "type": "parcoords"
           }
          ],
          "pie": [
           {
            "automargin": true,
            "type": "pie"
           }
          ],
          "scatter": [
           {
            "fillpattern": {
             "fillmode": "overlay",
             "size": 10,
             "solidity": 0.2
            },
            "type": "scatter"
           }
          ],
          "scatter3d": [
           {
            "line": {
             "colorbar": {
              "outlinewidth": 0,
              "ticks": ""
             }
            },
            "marker": {
             "colorbar": {
              "outlinewidth": 0,
              "ticks": ""
             }
            },
            "type": "scatter3d"
           }
          ],
          "scattercarpet": [
           {
            "marker": {
             "colorbar": {
              "outlinewidth": 0,
              "ticks": ""
             }
            },
            "type": "scattercarpet"
           }
          ],
          "scattergeo": [
           {
            "marker": {
             "colorbar": {
              "outlinewidth": 0,
              "ticks": ""
             }
            },
            "type": "scattergeo"
           }
          ],
          "scattergl": [
           {
            "marker": {
             "colorbar": {
              "outlinewidth": 0,
              "ticks": ""
             }
            },
            "type": "scattergl"
           }
          ],
          "scattermapbox": [
           {
            "marker": {
             "colorbar": {
              "outlinewidth": 0,
              "ticks": ""
             }
            },
            "type": "scattermapbox"
           }
          ],
          "scatterpolar": [
           {
            "marker": {
             "colorbar": {
              "outlinewidth": 0,
              "ticks": ""
             }
            },
            "type": "scatterpolar"
           }
          ],
          "scatterpolargl": [
           {
            "marker": {
             "colorbar": {
              "outlinewidth": 0,
              "ticks": ""
             }
            },
            "type": "scatterpolargl"
           }
          ],
          "scatterternary": [
           {
            "marker": {
             "colorbar": {
              "outlinewidth": 0,
              "ticks": ""
             }
            },
            "type": "scatterternary"
           }
          ],
          "surface": [
           {
            "colorbar": {
             "outlinewidth": 0,
             "ticks": ""
            },
            "colorscale": [
             [
              0,
              "#0d0887"
             ],
             [
              0.1111111111111111,
              "#46039f"
             ],
             [
              0.2222222222222222,
              "#7201a8"
             ],
             [
              0.3333333333333333,
              "#9c179e"
             ],
             [
              0.4444444444444444,
              "#bd3786"
             ],
             [
              0.5555555555555556,
              "#d8576b"
             ],
             [
              0.6666666666666666,
              "#ed7953"
             ],
             [
              0.7777777777777778,
              "#fb9f3a"
             ],
             [
              0.8888888888888888,
              "#fdca26"
             ],
             [
              1,
              "#f0f921"
             ]
            ],
            "type": "surface"
           }
          ],
          "table": [
           {
            "cells": {
             "fill": {
              "color": "#EBF0F8"
             },
             "line": {
              "color": "white"
             }
            },
            "header": {
             "fill": {
              "color": "#C8D4E3"
             },
             "line": {
              "color": "white"
             }
            },
            "type": "table"
           }
          ]
         },
         "layout": {
          "annotationdefaults": {
           "arrowcolor": "#2a3f5f",
           "arrowhead": 0,
           "arrowwidth": 1
          },
          "autotypenumbers": "strict",
          "coloraxis": {
           "colorbar": {
            "outlinewidth": 0,
            "ticks": ""
           }
          },
          "colorscale": {
           "diverging": [
            [
             0,
             "#8e0152"
            ],
            [
             0.1,
             "#c51b7d"
            ],
            [
             0.2,
             "#de77ae"
            ],
            [
             0.3,
             "#f1b6da"
            ],
            [
             0.4,
             "#fde0ef"
            ],
            [
             0.5,
             "#f7f7f7"
            ],
            [
             0.6,
             "#e6f5d0"
            ],
            [
             0.7,
             "#b8e186"
            ],
            [
             0.8,
             "#7fbc41"
            ],
            [
             0.9,
             "#4d9221"
            ],
            [
             1,
             "#276419"
            ]
           ],
           "sequential": [
            [
             0,
             "#0d0887"
            ],
            [
             0.1111111111111111,
             "#46039f"
            ],
            [
             0.2222222222222222,
             "#7201a8"
            ],
            [
             0.3333333333333333,
             "#9c179e"
            ],
            [
             0.4444444444444444,
             "#bd3786"
            ],
            [
             0.5555555555555556,
             "#d8576b"
            ],
            [
             0.6666666666666666,
             "#ed7953"
            ],
            [
             0.7777777777777778,
             "#fb9f3a"
            ],
            [
             0.8888888888888888,
             "#fdca26"
            ],
            [
             1,
             "#f0f921"
            ]
           ],
           "sequentialminus": [
            [
             0,
             "#0d0887"
            ],
            [
             0.1111111111111111,
             "#46039f"
            ],
            [
             0.2222222222222222,
             "#7201a8"
            ],
            [
             0.3333333333333333,
             "#9c179e"
            ],
            [
             0.4444444444444444,
             "#bd3786"
            ],
            [
             0.5555555555555556,
             "#d8576b"
            ],
            [
             0.6666666666666666,
             "#ed7953"
            ],
            [
             0.7777777777777778,
             "#fb9f3a"
            ],
            [
             0.8888888888888888,
             "#fdca26"
            ],
            [
             1,
             "#f0f921"
            ]
           ]
          },
          "colorway": [
           "#636efa",
           "#EF553B",
           "#00cc96",
           "#ab63fa",
           "#FFA15A",
           "#19d3f3",
           "#FF6692",
           "#B6E880",
           "#FF97FF",
           "#FECB52"
          ],
          "font": {
           "color": "#2a3f5f"
          },
          "geo": {
           "bgcolor": "white",
           "lakecolor": "white",
           "landcolor": "#E5ECF6",
           "showlakes": true,
           "showland": true,
           "subunitcolor": "white"
          },
          "hoverlabel": {
           "align": "left"
          },
          "hovermode": "closest",
          "mapbox": {
           "style": "light"
          },
          "paper_bgcolor": "white",
          "plot_bgcolor": "#E5ECF6",
          "polar": {
           "angularaxis": {
            "gridcolor": "white",
            "linecolor": "white",
            "ticks": ""
           },
           "bgcolor": "#E5ECF6",
           "radialaxis": {
            "gridcolor": "white",
            "linecolor": "white",
            "ticks": ""
           }
          },
          "scene": {
           "xaxis": {
            "backgroundcolor": "#E5ECF6",
            "gridcolor": "white",
            "gridwidth": 2,
            "linecolor": "white",
            "showbackground": true,
            "ticks": "",
            "zerolinecolor": "white"
           },
           "yaxis": {
            "backgroundcolor": "#E5ECF6",
            "gridcolor": "white",
            "gridwidth": 2,
            "linecolor": "white",
            "showbackground": true,
            "ticks": "",
            "zerolinecolor": "white"
           },
           "zaxis": {
            "backgroundcolor": "#E5ECF6",
            "gridcolor": "white",
            "gridwidth": 2,
            "linecolor": "white",
            "showbackground": true,
            "ticks": "",
            "zerolinecolor": "white"
           }
          },
          "shapedefaults": {
           "line": {
            "color": "#2a3f5f"
           }
          },
          "ternary": {
           "aaxis": {
            "gridcolor": "white",
            "linecolor": "white",
            "ticks": ""
           },
           "baxis": {
            "gridcolor": "white",
            "linecolor": "white",
            "ticks": ""
           },
           "bgcolor": "#E5ECF6",
           "caxis": {
            "gridcolor": "white",
            "linecolor": "white",
            "ticks": ""
           }
          },
          "title": {
           "x": 0.05
          },
          "xaxis": {
           "automargin": true,
           "gridcolor": "white",
           "linecolor": "white",
           "ticks": "",
           "title": {
            "standoff": 15
           },
           "zerolinecolor": "white",
           "zerolinewidth": 2
          },
          "yaxis": {
           "automargin": true,
           "gridcolor": "white",
           "linecolor": "white",
           "ticks": "",
           "title": {
            "standoff": 15
           },
           "zerolinecolor": "white",
           "zerolinewidth": 2
          }
         }
        },
        "title": {
         "text": "Distribution of entities"
        },
        "xaxis": {
         "anchor": "y",
         "domain": [
          0,
          1
         ],
         "title": {
          "text": "label"
         }
        },
        "yaxis": {
         "anchor": "x",
         "domain": [
          0,
          1
         ],
         "title": {
          "text": "count"
         }
        }
       }
      }
     },
     "metadata": {},
     "output_type": "display_data"
    }
   ],
   "source": [
    "# Merge entity_grouped_df and drkg_grouped_df and add a new column to indicate the source\n",
    "entity_grouped_df[\"source\"] = \"CustomKG\"\n",
    "# Remove the \"Total\" row\n",
    "drkg_grouped_df[\"source\"] = \"DRKG\"\n",
    "\n",
    "# Concatenate the two dataframes\n",
    "merged_df = pd.concat([entity_grouped_df, drkg_grouped_df])\n",
    "\n",
    "# Plot the distribution of entities\n",
    "fig = px.bar(merged_df, x=\"label\", y=\"count\", title=\"Distribution of entities\", color=\"source\", barmode=\"group\")\n",
    "fig.update_traces(texttemplate='%{value:.2s}', textposition='outside')\n",
    "fig.show()"
   ]
  },
  {
   "cell_type": "code",
   "execution_count": 1,
   "metadata": {},
   "outputs": [],
   "source": [
    "def check_relation_exists(row, relations_df):\n",
    "    source_type, source_id = row[\"source\"].split(\"::\")\n",
    "    target_type, target_id = row[\"target\"].split(\"::\")\n",
    "    option1 = (source_id, source_type, target_id, target_type) in relations_df.index\n",
    "\n",
    "    target_type, target_id = row[\"source\"].split(\"::\")\n",
    "    source_type, source_id = row[\"target\"].split(\"::\")\n",
    "    option2 = (source_id, source_type, target_id, target_type) in relations_df.index\n",
    "    return option1 or option2"
   ]
  },
  {
   "cell_type": "code",
   "execution_count": 3,
   "metadata": {},
   "outputs": [],
   "source": [
    "import pandas as pd\n",
    "\n",
    "def merge_scores_with_entities_relations(\n",
    "    scores: pd.DataFrame,\n",
    "    entities: pd.DataFrame,\n",
    "    relations: pd.DataFrame,\n",
    "    target: str = \"head\",\n",
    ") -> pd.DataFrame:\n",
    "    \"\"\"Merge the topkpd with the entities and relations dataframes\n",
    "\n",
    "    Args:\n",
    "        scores (pd.DataFrame): The scores dataframe, which have four columns: head, rel, tail, score\n",
    "        entities (pd.DataFrame): The entities dataframe\n",
    "        relations (pd.DataFrame): The relations dataframe\n",
    "\n",
    "    Returns:\n",
    "        pd.DataFrame: The merged dataframe\n",
    "    \"\"\"\n",
    "    # Join the topkpd with the entity dataframe\n",
    "    df = entities.copy()\n",
    "    relations_df = relations.copy()\n",
    "\n",
    "    scores = scores.rename(\n",
    "        columns={\"head\": \"source\", \"tail\": \"target\", \"rel\": \"relation\"}\n",
    "    )\n",
    "\n",
    "    column_name = \"source\" if target == \"head\" else \"target\"\n",
    "\n",
    "    df[\"node_id\"] = entities[\"label\"] + \"::\" + entities[\"id\"]\n",
    "    merged = scores.merge(df, left_on=column_name, right_on=\"node_id\")\n",
    "\n",
    "    relations_df.set_index(\n",
    "        [\"source_id\", \"source_type\", \"target_id\", \"target_type\"], inplace=True\n",
    "    )\n",
    "\n",
    "    # Apply the function with axis=1 to check if the relationship exists\n",
    "    merged[\"status\"] = merged.apply(check_relation_exists, args=(relations_df,), axis=1)\n",
    "    return merged"
   ]
  },
  {
   "cell_type": "code",
   "execution_count": 5,
   "metadata": {},
   "outputs": [],
   "source": [
    "import os\n",
    "\n",
    "rootdir = os.getcwd()\n",
    "entity_file = os.path.join(rootdir, \"graph_data/entities.tsv\")\n",
    "entities = pd.read_csv(entity_file, sep=\"\\t\", dtype=str)\n",
    "\n",
    "relations_df = pd.read_csv(\n",
    "    os.path.join(\n",
    "        rootdir,\n",
    "        \"datasets/drkg+hsdn+custom+malacards/raw_relations.tsv\",\n",
    "    ),\n",
    "    sep=\"\\t\",\n",
    "    dtype=str,\n",
    ")"
   ]
  },
  {
   "cell_type": "code",
   "execution_count": 6,
   "metadata": {},
   "outputs": [
    {
     "name": "stderr",
     "output_type": "stream",
     "text": [
      "/var/folders/4s/d4nr1sg91ps1k3qz00h28w_r0000gp/T/ipykernel_37000/3245453446.py:4: PerformanceWarning: indexing past lexsort depth may impact performance.\n",
      "  option1 = (source_id, source_type, target_id, target_type) in relations_df.index\n",
      "/var/folders/4s/d4nr1sg91ps1k3qz00h28w_r0000gp/T/ipykernel_37000/3245453446.py:8: PerformanceWarning: indexing past lexsort depth may impact performance.\n",
      "  option2 = (source_id, source_type, target_id, target_type) in relations_df.index\n"
     ]
    }
   ],
   "source": [
    "mecfs_scores = pd.read_csv(\n",
    "    \"/Users/jy006/Downloads/mecfs_scores_1000.tsv\", sep=\"\\t\", dtype=str\n",
    ")\n",
    "\n",
    "# Merge scores with entities, scores have four columns: head, rel, tail, score\n",
    "mecfs_scores_with_entities = merge_scores_with_entities_relations(\n",
    "    mecfs_scores, entities, relations_df, target=\"head\"\n",
    ")\n",
    "\n",
    "mecfs_scores_with_entities.to_csv(\n",
    "    \"/Users/jy006/Downloads/mecfs_scores_with_entities.tsv\", sep=\"\\t\", index=False\n",
    ")"
   ]
  },
  {
   "cell_type": "code",
   "execution_count": 7,
   "metadata": {},
   "outputs": [],
   "source": [
    "import numpy as np\n",
    "import pandas as pd\n",
    "\n",
    "# 模拟数据：假设有5个实体和3种关系\n",
    "num_entities = 5\n",
    "num_relations = 3\n",
    "embedding_dim = 10  # 嵌入维度\n",
    "\n",
    "# 随机生成实体和关系的嵌入\n",
    "np.random.seed(0)\n",
    "entity_embeddings = np.random.rand(num_entities, embedding_dim)\n",
    "relation_embeddings = np.random.rand(num_relations, embedding_dim)\n",
    "\n",
    "# 模拟的三元组数据集\n",
    "# 假设我们关注的目标节点是实体0，我们将考虑所有以实体0为尾实体的三元组\n",
    "target_entity = 0\n",
    "triplets = [\n",
    "    (\"entity_%s\" % h, \"relation_%s\" % r, \"entity_%s\" % target_entity)\n",
    "    for h in range(num_entities)\n",
    "    for r in range(num_relations)\n",
    "]\n",
    "\n",
    "# Save to dataframe\n",
    "\n",
    "triplets_df = pd.DataFrame(triplets)\n",
    "triplets_df.to_csv(\n",
    "    \"/Users/jy006/Downloads/biomedgps/triplets.tsv\", sep=\"\\t\", index=False, header=False\n",
    ")\n",
    "\n",
    "entity_embeddings_df = pd.DataFrame(entity_embeddings)\n",
    "entity_embeddings_df[\"embedding\"] = entity_embeddings_df.apply(\n",
    "    lambda row: \"|\".join([str(x) for x in row.values]), axis=1\n",
    ")\n",
    "entity_embeddings_df[\"id\"] = [\"entity_%s\" % i for i in entity_embeddings_df.index.to_list()]\n",
    "entity_embeddings_df = entity_embeddings_df[[\"id\", \"embedding\"]]\n",
    "entity_embeddings_df.to_csv(\n",
    "    \"/Users/jy006/Downloads/biomedgps/entity_embeddings.tsv\", sep=\"\\t\", index=False\n",
    ")\n",
    "\n",
    "relation_embeddings_df = pd.DataFrame(relation_embeddings)\n",
    "relation_embeddings_df[\"embedding\"] = relation_embeddings_df.apply(\n",
    "    lambda row: \"|\".join([str(x) for x in row.values]), axis=1\n",
    ")\n",
    "relation_embeddings_df[\"id\"] = [\"relation_%s\" % i for i in relation_embeddings_df.index.to_list()]\n",
    "relation_embeddings_df = relation_embeddings_df[[\"id\", \"embedding\"]]\n",
    "relation_embeddings_df.to_csv(\n",
    "    \"/Users/jy006/Downloads/biomedgps/relation_embeddings.tsv\", sep=\"\\t\", index=False\n",
    ")"
   ]
  },
  {
   "cell_type": "markdown",
   "metadata": {},
   "source": [
    "### Annotation"
   ]
  },
  {
   "cell_type": "code",
   "execution_count": 2,
   "metadata": {},
   "outputs": [],
   "source": [
    "import os\n",
    "import pandas as pd\n",
    "\n",
    "rootdir = os.getcwd()\n",
    "entity_file = os.path.join(rootdir, \"graph_data/entities.tsv\")\n",
    "entities = pd.read_csv(entity_file, sep=\"\\t\", dtype=str)\n",
    "\n",
    "formatted_drkg = pd.read_csv(\n",
    "    os.path.join(\n",
    "        rootdir,\n",
    "        \"datasets/rawdata/drkg/formatted_drkg.tsv\",\n",
    "    ),\n",
    "    sep=\"\\t\",\n",
    "    dtype=str,\n",
    ")\n",
    "\n",
    "formatted_custom_mecfs = pd.read_csv(\n",
    "    os.path.join(\n",
    "        rootdir,\n",
    "        \"datasets/custom/formatted_custom_mecfs.tsv\",\n",
    "    ),\n",
    "    sep=\"\\t\",\n",
    "    dtype=str,\n",
    ")\n",
    "\n",
    "formatted_hsdn = pd.read_csv(\n",
    "    os.path.join(\n",
    "        rootdir,\n",
    "        \"datasets/custom/formatted_hsdn.tsv\",\n",
    "    ),\n",
    "    sep=\"\\t\",\n",
    "    dtype=str,\n",
    ")\n",
    "\n",
    "formatted_malacards = pd.read_csv(\n",
    "    os.path.join(\n",
    "        rootdir,\n",
    "        \"datasets/custom/formatted_malacards.tsv\",\n",
    "    ),\n",
    "    sep=\"\\t\",\n",
    "    dtype=str,\n",
    ")\n",
    "\n",
    "relations_df = pd.concat(\n",
    "    [formatted_drkg, formatted_custom_mecfs, formatted_hsdn, formatted_malacards]\n",
    ")\n",
    "\n",
    "relations_df = relations_df[[\n",
    "    \"relation_type\", \"resource\", \"pmids\", \"key_sentence\",\n",
    "    \"source_id\", \"source_type\",\t\"target_id\", \"target_type\"\n",
    "]]"
   ]
  },
  {
   "cell_type": "code",
   "execution_count": 3,
   "metadata": {},
   "outputs": [],
   "source": [
    "# Annotate relations_df with the entities dataframe\n",
    "entities = entities[['id', 'label', 'name', 'description']]\n",
    "relations_df = relations_df.merge(entities, left_on=[\"source_id\", \"source_type\"], right_on=[\"id\", \"label\"])\n",
    "relations_df = relations_df.rename(columns={\"name\": \"source_name\", \"description\": \"source_description\"})\n",
    "relations_df = relations_df.drop(columns=[\"id\", \"label\"])\n",
    "relations_df = relations_df.merge(entities, left_on=[\"target_id\", \"target_type\"], right_on=[\"id\", \"label\"])\n",
    "relations_df = relations_df.rename(columns={\"name\": \"target_name\", \"description\": \"target_description\"})\n",
    "relations_df = relations_df.drop(columns=[\"id\", \"label\"])\n",
    "\n",
    "# Save to file\n",
    "relations_df.to_csv(\n",
    "    \"/Users/jy006/Documents/Code/BioMedGPS/biomedgps-data/graph_data/knowledge_graph_annotated.tsv\", sep=\"\\t\", index=False\n",
    ")"
   ]
  },
  {
   "cell_type": "code",
   "execution_count": null,
   "metadata": {},
   "outputs": [],
   "source": [
    "relations_df = relations_df.drop(columns=[\"source_description\", \"target_description\"])\n",
    "# Save to file\n",
    "relations_df.to_csv(\n",
    "    \"/Users/jy006/Documents/Code/BioMedGPS/biomedgps-data/graph_data/knowledge_graph.tsv\",\n",
    "    sep=\"\\t\",\n",
    "    index=False,\n",
    ")"
   ]
  }
 ],
 "metadata": {
  "kernelspec": {
   "display_name": "network-medicine",
   "language": "python",
   "name": "python3"
  },
  "language_info": {
   "codemirror_mode": {
    "name": "ipython",
    "version": 3
   },
   "file_extension": ".py",
   "mimetype": "text/x-python",
   "name": "python",
   "nbconvert_exporter": "python",
   "pygments_lexer": "ipython3",
   "version": "3.11.5"
  },
  "orig_nbformat": 4
 },
 "nbformat": 4,
 "nbformat_minor": 2
}
