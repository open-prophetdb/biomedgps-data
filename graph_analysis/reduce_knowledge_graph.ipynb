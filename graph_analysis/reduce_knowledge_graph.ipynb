{
 "cells": [
  {
   "cell_type": "code",
   "execution_count": 10,
   "metadata": {},
   "outputs": [],
   "source": [
    "relation_file = \"/Users/jy006/Downloads/Test/customdb/formatted_customdb.tsv\"\n",
    "entity_file = (\n",
    "    \"/Users/jy006/Documents/Code/BioMedGPS/biomedgps-data/graph_data/entities.tsv\"\n",
    ")"
   ]
  },
  {
   "cell_type": "code",
   "execution_count": 11,
   "metadata": {},
   "outputs": [],
   "source": [
    "import pandas as pd\n",
    "\n",
    "relations = pd.read_csv(relation_file, sep='\\t', low_memory=False)\n",
    "relations[\"source\"] = relations[\"source_type\"] + \"::\" + relations[\"source_id\"]\n",
    "relations[\"target\"] = relations[\"target_type\"] + \"::\" + relations[\"target_id\"]"
   ]
  },
  {
   "cell_type": "code",
   "execution_count": 12,
   "metadata": {},
   "outputs": [],
   "source": [
    "# Remove all Drug:Drug relations\n",
    "ddi_removed_relations = relations[\n",
    "    ~relations[\"relation_type\"].str.contains(\n",
    "        \"DRUGBANK::ddi-interactor-in::Compound:Compound\"\n",
    "    )\n",
    "]"
   ]
  },
  {
   "cell_type": "code",
   "execution_count": 13,
   "metadata": {},
   "outputs": [
    {
     "data": {
      "text/plain": [
       "(4426121, 15)"
      ]
     },
     "execution_count": 13,
     "metadata": {},
     "output_type": "execute_result"
    }
   ],
   "source": [
    "ddi_removed_relations.shape"
   ]
  },
  {
   "cell_type": "code",
   "execution_count": 14,
   "metadata": {},
   "outputs": [],
   "source": [
    "ddi_removed_relations[[\"source\", \"formatted_relation_type\", \"target\"]].to_csv(\"/Users/jy006/Downloads/Test/customdb/formatted_customdb_no_ddi_simple.tsv\", sep='\\t', index=False, header=False)"
   ]
  },
  {
   "cell_type": "code",
   "execution_count": 6,
   "metadata": {},
   "outputs": [],
   "source": [
    "import os\n",
    "import sys\n",
    "\n",
    "libdir = os.path.join(os.path.dirname(os.getcwd()), \"lib\")\n",
    "sys.path.append(libdir)\n",
    "\n",
    "from graph import (\n",
    "    get_num_nodes,\n",
    "    get_num_edges,\n",
    "    get_num_subgraphs,\n",
    "    create_graph,\n",
    "    get_subgraph,\n",
    ")"
   ]
  },
  {
   "cell_type": "code",
   "execution_count": 9,
   "metadata": {},
   "outputs": [],
   "source": [
    "G = create_graph(\n",
    "    relation_file,\n",
    "    entity_file=entity_file,\n",
    "    directed=False,\n",
    "    allow_multiple_edges=True,\n",
    ")\n",
    "directed_G = create_graph(\n",
    "    relation_file, entity_file=entity_file, directed=True, allow_multiple_edges=True\n",
    ")"
   ]
  }
 ],
 "metadata": {
  "kernelspec": {
   "display_name": "biomedgps-data",
   "language": "python",
   "name": "python3"
  },
  "language_info": {
   "codemirror_mode": {
    "name": "ipython",
    "version": 3
   },
   "file_extension": ".py",
   "mimetype": "text/x-python",
   "name": "python",
   "nbconvert_exporter": "python",
   "pygments_lexer": "ipython3",
   "version": "3.10.13"
  }
 },
 "nbformat": 4,
 "nbformat_minor": 2
}
